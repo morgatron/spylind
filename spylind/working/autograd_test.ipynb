{
 "cells": [
  {
   "cell_type": "code",
   "execution_count": 1,
   "metadata": {},
   "outputs": [
    {
     "ename": "ModuleNotFoundError",
     "evalue": "No module named 'torchdiffeq'",
     "output_type": "error",
     "traceback": [
      "\u001b[0;31m---------------------------------------------------------------------------\u001b[0m",
      "\u001b[0;31mModuleNotFoundError\u001b[0m                       Traceback (most recent call last)",
      "\u001b[0;32m<ipython-input-1-f039b439b1fd>\u001b[0m in \u001b[0;36m<module>\u001b[0;34m\u001b[0m\n\u001b[1;32m      3\u001b[0m \u001b[0;31m#from autograd import jacobian\u001b[0m\u001b[0;34m\u001b[0m\u001b[0;34m\u001b[0m\u001b[0;34m\u001b[0m\u001b[0m\n\u001b[1;32m      4\u001b[0m \u001b[0;31m#from autograd.builtins import tuple\u001b[0m\u001b[0;34m\u001b[0m\u001b[0;34m\u001b[0m\u001b[0;34m\u001b[0m\u001b[0m\n\u001b[0;32m----> 5\u001b[0;31m \u001b[0;32mfrom\u001b[0m \u001b[0mtorchdiffeq\u001b[0m \u001b[0;32mimport\u001b[0m \u001b[0modeint\u001b[0m\u001b[0;34m,\u001b[0m \u001b[0modeint_adjoint\u001b[0m\u001b[0;34m\u001b[0m\u001b[0;34m\u001b[0m\u001b[0m\n\u001b[0m\u001b[1;32m      6\u001b[0m \u001b[0;32mfrom\u001b[0m \u001b[0mtorch\u001b[0m \u001b[0;32mimport\u001b[0m \u001b[0mnn\u001b[0m\u001b[0;34m\u001b[0m\u001b[0;34m\u001b[0m\u001b[0m\n\u001b[1;32m      7\u001b[0m \u001b[0;32mimport\u001b[0m \u001b[0mnumpy\u001b[0m \u001b[0;32mas\u001b[0m \u001b[0mnp\u001b[0m\u001b[0;34m\u001b[0m\u001b[0;34m\u001b[0m\u001b[0m\n",
      "\u001b[0;31mModuleNotFoundError\u001b[0m: No module named 'torchdiffeq'"
     ]
    }
   ],
   "source": [
    "#import autograd.numpy as np\n",
    "#from autograd.scipy.integrate import odeint\n",
    "#from autograd import jacobian\n",
    "#from autograd.builtins import tuple\n",
    "from torchdiffeq import odeint, odeint_adjoint\n",
    "from torch import nn\n",
    "import numpy as np\n",
    "import torch as tch\n",
    "\n",
    "#odeint(func, y0, t)\n",
    "import matplotlib.pyplot as plt\n",
    "\n",
    "#Ca0 = tch.tensor(1.0)\n",
    "#k1 = k_1 = tch.tensor(3.0, dtype=t.float64)\n",
    "#odeint(func, y0, t)\n",
    "#tspan = tch.from_numpy(np.linspace(0, 0.5, 50))\n",
    "tspan = tch.linspace(0, 0.5, 50, requires_grad=True)\n",
    "\n",
    "\n",
    "def f(t,z):\n",
    "    z0,z1,z2 = tch.unbind(z)\n",
    "#    return tch.stack((z[0]**2 - z[1], z[1]**1, z[2]**1-z[1]) )\n",
    "    return tch.stack((z0**2 - z1, z1**1, z2**1-z1) )\n",
    "\n",
    "\n",
    "class Lambda(nn.Module):\n",
    "    #def forward(self, t, y):\n",
    "        #return torch.mm(y**3, true_A)\n",
    "    def forward(self, t,z):\n",
    "        return tch.sin(z)\n",
    "        #z0,z1,z2 = tch.unbind(z)\n",
    "        #return tch.stack((z[0]**2 - z[1], z[1]**1, z[2]**1-z[1]) )\n",
    "\n",
    "def C(z0):\n",
    "    #z0 = t.tensor(z0, dtype=t.float64, requires_grad=True )\n",
    "    \n",
    "    #sol = odeint(f, z0, tspan)\n",
    "\n",
    "    return sol\n",
    "z0 =[1.,2.,3.0]\n",
    "z0 = tch.tensor(z0, dtype=t.float64 , requires_grad=True)\n",
    "#ol = C( z0)\n",
    "sol = odeint_adjoint(Lambda(), z0, tspan)\n",
    "#sol = odeint(f, z0, tspan)\n"
   ]
  },
  {
   "cell_type": "code",
   "execution_count": 141,
   "metadata": {},
   "outputs": [],
   "source": [
    "loss = tch.sum(sol[-1])\n",
    "loss.backward(tch.ones(loss.shape) )\n",
    "loss.grad"
   ]
  },
  {
   "cell_type": "code",
   "execution_count": 144,
   "metadata": {},
   "outputs": [],
   "source": [
    "sol.backward(tch.ones(sol.shape))\n",
    "sol.grad"
   ]
  },
  {
   "cell_type": "code",
   "execution_count": 129,
   "metadata": {},
   "outputs": [],
   "source": [
    "sol.grad."
   ]
  },
  {
   "cell_type": "code",
   "execution_count": 137,
   "metadata": {},
   "outputs": [
    {
     "data": {
      "image/png": "[encoded data removed]",
      "text/plain": [
       "<Figure size 432x288 with 1 Axes>"
      ]
     },
     "metadata": {
      "needs_background": "light"
     },
     "output_type": "display_data"
    }
   ],
   "source": [
    "plt.plot(tspan.detach().numpy(), sol.detach().numpy() )\n",
    "#plt.xlim([tspan.min(), tspan.max()])\n",
    "plt.xlabel('t')\n",
    "plt.ylabel('C');"
   ]
  },
  {
   "cell_type": "code",
   "execution_count": 92,
   "metadata": {},
   "outputs": [],
   "source": [
    "#sol[-1].backward(z0)\n"
   ]
  },
  {
   "cell_type": "code",
   "execution_count": 93,
   "metadata": {},
   "outputs": [
    {
     "ename": "AttributeError",
     "evalue": "'NoneType' object has no attribute 'data'",
     "output_type": "error",
     "traceback": [
      "\u001b[1;31m---------------------------------------------------------------------------\u001b[0m",
      "\u001b[1;31mAttributeError\u001b[0m                            Traceback (most recent call last)",
      "\u001b[1;32m<ipython-input-93-15ce08a89098>\u001b[0m in \u001b[0;36m<module>\u001b[1;34m\u001b[0m\n\u001b[1;32m----> 1\u001b[1;33m \u001b[0mloss\u001b[0m\u001b[1;33m.\u001b[0m\u001b[0mgrad\u001b[0m\u001b[1;33m.\u001b[0m\u001b[0mdata\u001b[0m\u001b[1;33m\u001b[0m\u001b[1;33m\u001b[0m\u001b[0m\n\u001b[0m",
      "\u001b[1;31mAttributeError\u001b[0m: 'NoneType' object has no attribute 'data'"
     ]
    }
   ],
   "source": [
    "L.backward(torch.ones(L.shape))"
   ]
  },
  {
   "cell_type": "code",
   "execution_count": 38,
   "metadata": {},
   "outputs": [
    {
     "data": {
      "text/plain": [
       "\u001b[1;31mSignature:\u001b[0m \u001b[0modeint\u001b[0m\u001b[1;33m(\u001b[0m\u001b[0mfunc\u001b[0m\u001b[1;33m,\u001b[0m \u001b[0my0\u001b[0m\u001b[1;33m,\u001b[0m \u001b[0mt\u001b[0m\u001b[1;33m,\u001b[0m \u001b[0mrtol\u001b[0m\u001b[1;33m=\u001b[0m\u001b[1;36m1e-07\u001b[0m\u001b[1;33m,\u001b[0m \u001b[0matol\u001b[0m\u001b[1;33m=\u001b[0m\u001b[1;36m1e-09\u001b[0m\u001b[1;33m,\u001b[0m \u001b[0mmethod\u001b[0m\u001b[1;33m=\u001b[0m\u001b[1;32mNone\u001b[0m\u001b[1;33m,\u001b[0m \u001b[0moptions\u001b[0m\u001b[1;33m=\u001b[0m\u001b[1;32mNone\u001b[0m\u001b[1;33m)\u001b[0m\u001b[1;33m\u001b[0m\u001b[1;33m\u001b[0m\u001b[0m\n",
       "\u001b[1;31mDocstring:\u001b[0m\n",
       "Integrate a system of ordinary differential equations.\n",
       "\n",
       "Solves the initial value problem for a non-stiff system of first order ODEs:\n",
       "    ```\n",
       "    dy/dt = func(t, y), y(t[0]) = y0\n",
       "    ```\n",
       "where y is a Tensor of any shape.\n",
       "\n",
       "Output dtypes and numerical precision are based on the dtypes of the inputs `y0`.\n",
       "\n",
       "Args:\n",
       "    func: Function that maps a Tensor holding the state `y` and a scalar Tensor\n",
       "        `t` into a Tensor of state derivatives with respect to time.\n",
       "    y0: N-D Tensor giving starting value of `y` at time point `t[0]`. May\n",
       "        have any floating point or complex dtype.\n",
       "    t: 1-D Tensor holding a sequence of time points for which to solve for\n",
       "        `y`. The initial time point should be the first element of this sequence,\n",
       "        and each time must be larger than the previous time. May have any floating\n",
       "        point dtype. Converted to a Tensor with float64 dtype.\n",
       "    rtol: optional float64 Tensor specifying an upper bound on relative error,\n",
       "        per element of `y`.\n",
       "    atol: optional float64 Tensor specifying an upper bound on absolute error,\n",
       "        per element of `y`.\n",
       "    method: optional string indicating the integration method to use.\n",
       "    options: optional dict of configuring options for the indicated integration\n",
       "        method. Can only be provided if a `method` is explicitly set.\n",
       "    name: Optional name for this operation.\n",
       "\n",
       "Returns:\n",
       "    y: Tensor, where the first dimension corresponds to different\n",
       "        time points. Contains the solved value of y for each desired time point in\n",
       "        `t`, with the initial value `y0` being the first element along the first\n",
       "        dimension.\n",
       "\n",
       "Raises:\n",
       "    ValueError: if an invalid `method` is provided.\n",
       "    TypeError: if `options` is supplied without `method`, or if `t` or `y0` has\n",
       "        an invalid dtype.\n",
       "\u001b[1;31mFile:\u001b[0m      c:\\users\\morgan\\anaconda3\\envs\\pymbe_py37\\lib\\site-packages\\torchdiffeq\\_impl\\odeint.py\n",
       "\u001b[1;31mType:\u001b[0m      function\n"
      ]
     },
     "metadata": {},
     "output_type": "display_data"
    }
   ],
   "source": [
    "odeint?"
   ]
  },
  {
   "cell_type": "code",
   "execution_count": 106,
   "metadata": {},
   "outputs": [
    {
     "data": {
      "text/plain": [
       "<torch.autograd.function.OdeintAdjointMethodBackward at 0x16553256c88>"
      ]
     },
     "execution_count": 106,
     "metadata": {},
     "output_type": "execute_result"
    }
   ],
   "source": [
    "sol.grad_fn"
   ]
  },
  {
   "cell_type": "code",
   "execution_count": 8,
   "metadata": {},
   "outputs": [
    {
     "data": {
      "text/plain": [
       "tensor(5)"
      ]
     },
     "execution_count": 8,
     "metadata": {},
     "output_type": "execute_result"
    }
   ],
   "source": [
    "t.tensor(5)"
   ]
  },
  {
   "cell_type": "code",
   "execution_count": 2,
   "metadata": {},
   "outputs": [
    {
     "name": "stdout",
     "output_type": "stream",
     "text": [
      "Elapsed time = 23.8 seconds\n"
     ]
    },
    {
     "data": {
      "image/png": "[encoded data removed]",
      "text/plain": [
       "<Figure size 432x288 with 1 Axes>"
      ]
     },
     "metadata": {
      "needs_background": "light"
     },
     "output_type": "display_data"
    }
   ],
   "source": [
    "import time\n",
    "t0 = time.time()\n",
    "dCdk = jacobian(C, 0)\n",
    "\n",
    "\n",
    "k_sensitivity = dCdk(np.array([k1, k_1]))\n",
    "\n",
    "k1_sensitivity = k_sensitivity[:, 0, 0]\n",
    "k_1_sensitivity = k_sensitivity[:, 0, 1]\n",
    "\n",
    "plt.plot(tspan, np.abs(k1_sensitivity), label='dC/dk1')\n",
    "plt.plot(tspan, np.abs(k_1_sensitivity), label='dC/dk_1')\n",
    "plt.legend(loc='best')\n",
    "plt.xlabel('t')\n",
    "plt.ylabel('sensitivity')\n",
    "print(f'Elapsed time = {time.time() - t0:1.1f} seconds')"
   ]
  },
  {
   "cell_type": "code",
   "execution_count": 4,
   "metadata": {},
   "outputs": [
    {
     "ename": "ModuleNotFoundError",
     "evalue": "No module named 'jaxlib'",
     "output_type": "error",
     "traceback": [
      "\u001b[1;31m---------------------------------------------------------------------------\u001b[0m",
      "\u001b[1;31mModuleNotFoundError\u001b[0m                       Traceback (most recent call last)",
      "\u001b[1;32m<ipython-input-4-cb15c4215ef7>\u001b[0m in \u001b[0;36m<module>\u001b[1;34m\u001b[0m\n\u001b[1;32m----> 1\u001b[1;33m \u001b[1;32mimport\u001b[0m \u001b[0mjax\u001b[0m\u001b[1;33m\u001b[0m\u001b[1;33m\u001b[0m\u001b[0m\n\u001b[0m",
      "\u001b[1;32m~\\Anaconda3\\envs\\pymbe\\lib\\site-packages\\jax\\__init__.py\u001b[0m in \u001b[0;36m<module>\u001b[1;34m\u001b[0m\n\u001b[0;32m     17\u001b[0m \u001b[1;33m\u001b[0m\u001b[0m\n\u001b[0;32m     18\u001b[0m \u001b[1;32mfrom\u001b[0m \u001b[0mjax\u001b[0m\u001b[1;33m.\u001b[0m\u001b[0mversion\u001b[0m \u001b[1;32mimport\u001b[0m \u001b[0m__version__\u001b[0m\u001b[1;33m\u001b[0m\u001b[1;33m\u001b[0m\u001b[0m\n\u001b[1;32m---> 19\u001b[1;33m \u001b[1;32mfrom\u001b[0m \u001b[0mjax\u001b[0m\u001b[1;33m.\u001b[0m\u001b[0mapi\u001b[0m \u001b[1;32mimport\u001b[0m \u001b[1;33m*\u001b[0m\u001b[1;33m\u001b[0m\u001b[1;33m\u001b[0m\u001b[0m\n\u001b[0m\u001b[0;32m     20\u001b[0m \u001b[1;32mfrom\u001b[0m \u001b[0mjax\u001b[0m \u001b[1;32mimport\u001b[0m \u001b[0mnn\u001b[0m\u001b[1;33m\u001b[0m\u001b[1;33m\u001b[0m\u001b[0m\n\u001b[0;32m     21\u001b[0m \u001b[1;32mfrom\u001b[0m \u001b[0mjax\u001b[0m \u001b[1;32mimport\u001b[0m \u001b[0mrandom\u001b[0m\u001b[1;33m\u001b[0m\u001b[1;33m\u001b[0m\u001b[0m\n",
      "\u001b[1;32m~\\Anaconda3\\envs\\pymbe\\lib\\site-packages\\jax\\api.py\u001b[0m in \u001b[0;36m<module>\u001b[1;34m\u001b[0m\n\u001b[0;32m     36\u001b[0m \u001b[1;32mfrom\u001b[0m \u001b[0mcontextlib\u001b[0m \u001b[1;32mimport\u001b[0m \u001b[0mcontextmanager\u001b[0m\u001b[1;33m\u001b[0m\u001b[1;33m\u001b[0m\u001b[0m\n\u001b[0;32m     37\u001b[0m \u001b[1;33m\u001b[0m\u001b[0m\n\u001b[1;32m---> 38\u001b[1;33m \u001b[1;32mfrom\u001b[0m \u001b[1;33m.\u001b[0m \u001b[1;32mimport\u001b[0m \u001b[0mcore\u001b[0m\u001b[1;33m\u001b[0m\u001b[1;33m\u001b[0m\u001b[0m\n\u001b[0m\u001b[0;32m     39\u001b[0m \u001b[1;32mfrom\u001b[0m \u001b[1;33m.\u001b[0m \u001b[1;32mimport\u001b[0m \u001b[0mlinear_util\u001b[0m \u001b[1;32mas\u001b[0m \u001b[0mlu\u001b[0m\u001b[1;33m\u001b[0m\u001b[1;33m\u001b[0m\u001b[0m\n\u001b[0;32m     40\u001b[0m \u001b[1;32mfrom\u001b[0m \u001b[1;33m.\u001b[0m \u001b[1;32mimport\u001b[0m \u001b[0mad_util\u001b[0m\u001b[1;33m\u001b[0m\u001b[1;33m\u001b[0m\u001b[0m\n",
      "\u001b[1;32m~\\Anaconda3\\envs\\pymbe\\lib\\site-packages\\jax\\core.py\u001b[0m in \u001b[0;36m<module>\u001b[1;34m\u001b[0m\n\u001b[0;32m     28\u001b[0m \u001b[1;32mimport\u001b[0m \u001b[0mnumpy\u001b[0m \u001b[1;32mas\u001b[0m \u001b[0monp\u001b[0m\u001b[1;33m\u001b[0m\u001b[1;33m\u001b[0m\u001b[0m\n\u001b[0;32m     29\u001b[0m \u001b[1;33m\u001b[0m\u001b[0m\n\u001b[1;32m---> 30\u001b[1;33m \u001b[1;32mfrom\u001b[0m \u001b[1;33m.\u001b[0m \u001b[1;32mimport\u001b[0m \u001b[0mdtypes\u001b[0m\u001b[1;33m\u001b[0m\u001b[1;33m\u001b[0m\u001b[0m\n\u001b[0m\u001b[0;32m     31\u001b[0m \u001b[1;32mfrom\u001b[0m \u001b[1;33m.\u001b[0m\u001b[0mconfig\u001b[0m \u001b[1;32mimport\u001b[0m \u001b[0mFLAGS\u001b[0m\u001b[1;33m\u001b[0m\u001b[1;33m\u001b[0m\u001b[0m\n\u001b[0;32m     32\u001b[0m \u001b[1;32mfrom\u001b[0m \u001b[1;33m.\u001b[0m \u001b[1;32mimport\u001b[0m \u001b[0mlinear_util\u001b[0m \u001b[1;32mas\u001b[0m \u001b[0mlu\u001b[0m\u001b[1;33m\u001b[0m\u001b[1;33m\u001b[0m\u001b[0m\n",
      "\u001b[1;32m~\\Anaconda3\\envs\\pymbe\\lib\\site-packages\\jax\\dtypes.py\u001b[0m in \u001b[0;36m<module>\u001b[1;34m\u001b[0m\n\u001b[0;32m     29\u001b[0m \u001b[1;32mfrom\u001b[0m \u001b[1;33m.\u001b[0m \u001b[1;32mimport\u001b[0m \u001b[0mutil\u001b[0m\u001b[1;33m\u001b[0m\u001b[1;33m\u001b[0m\u001b[0m\n\u001b[0;32m     30\u001b[0m \u001b[1;32mfrom\u001b[0m \u001b[1;33m.\u001b[0m\u001b[0mconfig\u001b[0m \u001b[1;32mimport\u001b[0m \u001b[0mflags\u001b[0m\u001b[1;33m\u001b[0m\u001b[1;33m\u001b[0m\u001b[0m\n\u001b[1;32m---> 31\u001b[1;33m \u001b[1;32mfrom\u001b[0m \u001b[1;33m.\u001b[0m\u001b[0mlib\u001b[0m \u001b[1;32mimport\u001b[0m \u001b[0mxla_client\u001b[0m\u001b[1;33m\u001b[0m\u001b[1;33m\u001b[0m\u001b[0m\n\u001b[0m\u001b[0;32m     32\u001b[0m \u001b[1;33m\u001b[0m\u001b[0m\n\u001b[0;32m     33\u001b[0m \u001b[0mFLAGS\u001b[0m \u001b[1;33m=\u001b[0m \u001b[0mflags\u001b[0m\u001b[1;33m.\u001b[0m\u001b[0mFLAGS\u001b[0m\u001b[1;33m\u001b[0m\u001b[1;33m\u001b[0m\u001b[0m\n",
      "\u001b[1;32m~\\Anaconda3\\envs\\pymbe\\lib\\site-packages\\jax\\lib\\__init__.py\u001b[0m in \u001b[0;36m<module>\u001b[1;34m\u001b[0m\n\u001b[0;32m     16\u001b[0m \u001b[1;31m# checking on import.\u001b[0m\u001b[1;33m\u001b[0m\u001b[1;33m\u001b[0m\u001b[1;33m\u001b[0m\u001b[0m\n\u001b[0;32m     17\u001b[0m \u001b[1;33m\u001b[0m\u001b[0m\n\u001b[1;32m---> 18\u001b[1;33m \u001b[1;32mimport\u001b[0m \u001b[0mjaxlib\u001b[0m\u001b[1;33m\u001b[0m\u001b[1;33m\u001b[0m\u001b[0m\n\u001b[0m\u001b[0;32m     19\u001b[0m \u001b[1;33m\u001b[0m\u001b[0m\n\u001b[0;32m     20\u001b[0m \u001b[0m_minimum_jaxlib_version\u001b[0m \u001b[1;33m=\u001b[0m \u001b[1;33m(\u001b[0m\u001b[1;36m0\u001b[0m\u001b[1;33m,\u001b[0m \u001b[1;36m1\u001b[0m\u001b[1;33m,\u001b[0m \u001b[1;36m45\u001b[0m\u001b[1;33m)\u001b[0m\u001b[1;33m\u001b[0m\u001b[1;33m\u001b[0m\u001b[0m\n",
      "\u001b[1;31mModuleNotFoundError\u001b[0m: No module named 'jaxlib'"
     ]
    }
   ],
   "source": [
    "import jax"
   ]
  },
  {
   "cell_type": "code",
   "execution_count": 76,
   "metadata": {},
   "outputs": [
    {
     "name": "stdout",
     "output_type": "stream",
     "text": [
      "tensor(3.)\n"
     ]
    }
   ],
   "source": [
    "import torch\n",
    "# Creating the graph\n",
    "x = torch.tensor(1.0, requires_grad = True)\n",
    "z = x ** 3\n",
    "z.backward() #Computes the gradient \n",
    "print(x.grad.data) #Prints '3' which is dz/dx "
   ]
  },
  {
   "cell_type": "markdown",
   "metadata": {},
   "source": [
    "# TF\n",
    "test differentiating an ODE solves using \"tfdiffeq\"."
   ]
  },
  {
   "cell_type": "code",
   "execution_count": 10,
   "metadata": {},
   "outputs": [
    {
     "name": "stderr",
     "output_type": "stream",
     "text": [
      "[autoreload of spylind.spyIVP failed: Traceback (most recent call last):\n",
      "  File \"/home/morgan/anaconda3/envs/spylind/lib/python3.8/site-packages/IPython/extensions/autoreload.py\", line 245, in check\n",
      "    superreload(m, reload, self.old_objects)\n",
      "  File \"/home/morgan/anaconda3/envs/spylind/lib/python3.8/site-packages/IPython/extensions/autoreload.py\", line 410, in superreload\n",
      "    update_generic(old_obj, new_obj)\n",
      "  File \"/home/morgan/anaconda3/envs/spylind/lib/python3.8/site-packages/IPython/extensions/autoreload.py\", line 347, in update_generic\n",
      "    update(a, b)\n",
      "  File \"/home/morgan/anaconda3/envs/spylind/lib/python3.8/site-packages/IPython/extensions/autoreload.py\", line 302, in update_class\n",
      "    if update_generic(old_obj, new_obj): continue\n",
      "  File \"/home/morgan/anaconda3/envs/spylind/lib/python3.8/site-packages/IPython/extensions/autoreload.py\", line 347, in update_generic\n",
      "    update(a, b)\n",
      "  File \"/home/morgan/anaconda3/envs/spylind/lib/python3.8/site-packages/IPython/extensions/autoreload.py\", line 266, in update_function\n",
      "    setattr(old, name, getattr(new, name))\n",
      "ValueError: __init__() requires a code object with 0 free vars, not 1\n",
      "]\n"
     ]
    }
   ],
   "source": [
    "import tfdiffeq as td\n",
    "\n",
    "from tfdiffeq import odeint\n",
    "#from tfdiffeq import cast_double\n",
    "import tensorflow as tf\n",
    "tf.keras.backend.set_floatx('float64') # Presumably can get more speed, especially on a GPU, \n",
    "#if we used float32\n",
    "import numpy as np\n",
    "import pylab as pl\n",
    "#import torch as tch\n",
    "\n",
    "#odeint(func, y0, t)\n",
    "import matplotlib.pyplot as plt\n",
    "\n",
    "@tf.function\n",
    "def f(t, z, pars): # The actual function, dz_dt\n",
    "    # y now reprents the a vector of [u, v]\n",
    "    #u, v = y[0], y[1]\n",
    "    \n",
    "    #self.val.assign_add( 1)\n",
    "    return z**2*pars* tf.exp(-z/10)\n",
    "    #z0,z1,z2 = z\n",
    "    #z0_dt = z[0]**2 - z[1]\n",
    "    #z1_dt = pars[0]*tf.abs(t-pars[1])**2*z[1]**1\n",
    "    #z2_dt = z[2]**1-z[1]\n",
    "    #du_dt = v\n",
    "    #dv_dt = 5 * v - 6 * u\n",
    "    #return tf.stack([z0_dt, z1_dt, z2_dt])\n",
    "\n",
    "class Lambda(tf.keras.Model):\n",
    "    \n",
    "    def __init__(self, pars,f): #pars are parameters to the ode\n",
    "        self.pars=pars\n",
    "        self.Nevals = tf.Variable(0)#tf.convert_to_tensor(0, dtype=tf.int64)\n",
    "        self.f = tf.function(f)\n",
    "        super().__init__()\n",
    "    \n",
    "    @tf.function\n",
    "    def call(self, t, z):\n",
    "        self.Nevals.assign_add(1)\n",
    "        return self.f(t,z,self.pars)\n",
    "        #self.val.assign_add( 1)\n",
    "        #return z**2*self.pars* tf.exp(-z/10)*t\n",
    "        \n",
    "#     def call(self, t, z): # The actual function, dz_dt\n",
    "#         #return f(t,z, self.pars)\n",
    "#         # y now reprents the a vector of [u, v]\n",
    "#         #u, v = y[0], y[1]\n",
    "#         #z0,z1,z2 = z\n",
    "#         z0_dt = z[0]**2 - z[1] \n",
    "#         z1_dt = self.pars[0]*tf.abs(t-self.pars[1])**2*z[1]**1\n",
    "#         z2_dt = z[2]**1-z[1]\n",
    "#         #du_dt = v\n",
    "#         #dv_dt = 5 * v - 6 * u\n",
    "#         self.val.assign_add( 1)\n",
    "#         return tf.stack([z0_dt, z1_dt, z2_dt])\n",
    "    \n",
    "    #return tf.stack([du_dt, dv_dt])  # vector of shape [2]\n"
   ]
  },
  {
   "cell_type": "code",
   "execution_count": 16,
   "metadata": {},
   "outputs": [
    {
     "name": "stdout",
     "output_type": "stream",
     "text": [
      "CPU times: user 688 ms, sys: 3 ms, total: 691 ms\n",
      "Wall time: 715 ms\n"
     ]
    }
   ],
   "source": [
    "with tf.device(\"/cpu:0\"):\n",
    "    tspan = tf.linspace(0.0, 5.0, 400)\n",
    "    z0 = tf.linspace(0,2,1000) # initial values\n",
    "    z0 = tf.convert_to_tensor(z0, dtype=tf.float64)\n",
    "    p0 = tf.linspace(-4, 4,1000) #parameters for the ODE\n",
    "    p0 = tf.convert_to_tensor(p0, dtype=tf.float64)\n",
    "    ode = Lambda(p0, f)\n",
    "    #tspan =td.cast_double(tspan)\n",
    "    #ol = C( z0)\n",
    "    %time sol = odeint(ode, z0, tspan, method='dopri5')\n",
    "    #sol = odeint(f, z0, tspan)\n",
    "    #L = tf.reduce_sum(sol[-1])"
   ]
  },
  {
   "cell_type": "code",
   "execution_count": 3,
   "metadata": {},
   "outputs": [
    {
     "ename": "TypeError",
     "evalue": "__init__() missing 1 required positional argument: 'f'",
     "output_type": "error",
     "traceback": [
      "\u001b[0;31m---------------------------------------------------------------------------\u001b[0m",
      "\u001b[0;31mTypeError\u001b[0m                                 Traceback (most recent call last)",
      "\u001b[0;32m<ipython-input-3-d4f43672c95d>\u001b[0m in \u001b[0;36m<module>\u001b[0;34m\u001b[0m\n\u001b[1;32m      2\u001b[0m     \u001b[0;32mwith\u001b[0m \u001b[0mtf\u001b[0m\u001b[0;34m.\u001b[0m\u001b[0mGradientTape\u001b[0m\u001b[0;34m(\u001b[0m\u001b[0;34m)\u001b[0m \u001b[0;32mas\u001b[0m \u001b[0mg\u001b[0m\u001b[0;34m:\u001b[0m\u001b[0;34m\u001b[0m\u001b[0;34m\u001b[0m\u001b[0m\n\u001b[1;32m      3\u001b[0m         \u001b[0mg\u001b[0m\u001b[0;34m.\u001b[0m\u001b[0mwatch\u001b[0m\u001b[0;34m(\u001b[0m\u001b[0mp0\u001b[0m\u001b[0;34m)\u001b[0m\u001b[0;34m\u001b[0m\u001b[0;34m\u001b[0m\u001b[0m\n\u001b[0;32m----> 4\u001b[0;31m         \u001b[0mode\u001b[0m \u001b[0;34m=\u001b[0m \u001b[0mLambda\u001b[0m\u001b[0;34m(\u001b[0m\u001b[0mp0\u001b[0m\u001b[0;34m)\u001b[0m\u001b[0;34m\u001b[0m\u001b[0;34m\u001b[0m\u001b[0m\n\u001b[0m\u001b[1;32m      5\u001b[0m \u001b[0;34m\u001b[0m\u001b[0m\n\u001b[1;32m      6\u001b[0m         \u001b[0;31m#g.watch(z0)\u001b[0m\u001b[0;34m\u001b[0m\u001b[0;34m\u001b[0m\u001b[0;34m\u001b[0m\u001b[0m\n",
      "\u001b[0;31mTypeError\u001b[0m: __init__() missing 1 required positional argument: 'f'"
     ]
    }
   ],
   "source": [
    "\n",
    "    \n",
    "with tf.device(\"/cpu:0\"):\n",
    "    with tf.GradientTape() as g:\n",
    "        g.watch(p0)\n",
    "        ode = Lambda(p0)\n",
    "\n",
    "        #g.watch(z0)\n",
    "        \n",
    "        #tspan = tf.linspace(0.0, 2, 1000)\n",
    "        #tspan =td.cast_double(tspan)\n",
    "        #ol = C( z0)\n",
    "        %time sol = odeint(ode, z0, tspan, method='adams')\n",
    "        #sol = odeint(f, z0, tspan)\n",
    "        L = tf.reduce_sum(sol[-1])\n"
   ]
  },
  {
   "cell_type": "code",
   "execution_count": null,
   "metadata": {},
   "outputs": [],
   "source": [
    "ode.val"
   ]
  },
  {
   "cell_type": "code",
   "execution_count": 79,
   "metadata": {},
   "outputs": [
    {
     "data": {
      "text/plain": [
       "<tf.Tensor: shape=(), dtype=float64, numpy=37932.76585269482>"
      ]
     },
     "execution_count": 79,
     "metadata": {},
     "output_type": "execute_result"
    }
   ],
   "source": [
    "L"
   ]
  },
  {
   "cell_type": "code",
   "execution_count": 82,
   "metadata": {},
   "outputs": [
    {
     "name": "stdout",
     "output_type": "stream",
     "text": [
      "CPU times: user 2.67 s, sys: 64.8 ms, total: 2.73 s\n",
      "Wall time: 2.51 s\n"
     ]
    }
   ],
   "source": [
    "%time dsol_dz = g.gradient(L, p0)"
   ]
  },
  {
   "cell_type": "code",
   "execution_count": 80,
   "metadata": {},
   "outputs": [
    {
     "data": {
      "text/plain": [
       "[<matplotlib.lines.Line2D at 0x7f3cc3e47b00>,\n",
       " <matplotlib.lines.Line2D at 0x7f3cc3e47c18>,\n",
       " <matplotlib.lines.Line2D at 0x7f3cc3e47d68>,\n",
       " <matplotlib.lines.Line2D at 0x7f3cc3e47eb8>,\n",
       " <matplotlib.lines.Line2D at 0x7f3cc3e47fd0>,\n",
       " <matplotlib.lines.Line2D at 0x7f3cc3e4f198>,\n",
       " <matplotlib.lines.Line2D at 0x7f3cc3e4f2e8>,\n",
       " <matplotlib.lines.Line2D at 0x7f3cc3e4f438>,\n",
       " <matplotlib.lines.Line2D at 0x7f3cc3e4f588>,\n",
       " <matplotlib.lines.Line2D at 0x7f3cc3e4f6d8>,\n",
       " <matplotlib.lines.Line2D at 0x7f3cd8d28780>,\n",
       " <matplotlib.lines.Line2D at 0x7f3cc3e4f940>,\n",
       " <matplotlib.lines.Line2D at 0x7f3cc3e4fa90>,\n",
       " <matplotlib.lines.Line2D at 0x7f3cc3e4fbe0>,\n",
       " <matplotlib.lines.Line2D at 0x7f3cc3e4fd30>,\n",
       " <matplotlib.lines.Line2D at 0x7f3cc3e4fe80>,\n",
       " <matplotlib.lines.Line2D at 0x7f3cc3e4ffd0>,\n",
       " <matplotlib.lines.Line2D at 0x7f3cc3e54160>,\n",
       " <matplotlib.lines.Line2D at 0x7f3cc3e542b0>,\n",
       " <matplotlib.lines.Line2D at 0x7f3cc3e54400>,\n",
       " <matplotlib.lines.Line2D at 0x7f3cc3e54550>,\n",
       " <matplotlib.lines.Line2D at 0x7f3cc3e546a0>,\n",
       " <matplotlib.lines.Line2D at 0x7f3cc3e547f0>,\n",
       " <matplotlib.lines.Line2D at 0x7f3cc3e54940>,\n",
       " <matplotlib.lines.Line2D at 0x7f3cc3e54a90>,\n",
       " <matplotlib.lines.Line2D at 0x7f3cc3e54be0>,\n",
       " <matplotlib.lines.Line2D at 0x7f3cc3e54d30>,\n",
       " <matplotlib.lines.Line2D at 0x7f3cc3e54e80>,\n",
       " <matplotlib.lines.Line2D at 0x7f3cc3e54fd0>,\n",
       " <matplotlib.lines.Line2D at 0x7f3cc3e58160>,\n",
       " <matplotlib.lines.Line2D at 0x7f3cc3e582b0>,\n",
       " <matplotlib.lines.Line2D at 0x7f3cc3e58400>,\n",
       " <matplotlib.lines.Line2D at 0x7f3cc3e58550>,\n",
       " <matplotlib.lines.Line2D at 0x7f3cc3e586a0>]"
      ]
     },
     "execution_count": 80,
     "metadata": {},
     "output_type": "execute_result"
    },
    {
     "data": {
      "image/png": "[encoded data removed]",
      "text/plain": [
       "<Figure size 432x288 with 1 Axes>"
      ]
     },
     "metadata": {
      "needs_background": "light"
     },
     "output_type": "display_data"
    }
   ],
   "source": [
    "pl.plot(sol[:,::30])"
   ]
  },
  {
   "cell_type": "code",
   "execution_count": 76,
   "metadata": {},
   "outputs": [
    {
     "data": {
      "text/plain": [
       "[<matplotlib.lines.Line2D at 0x7f3d34649a90>,\n",
       " <matplotlib.lines.Line2D at 0x7f3d34649898>,\n",
       " <matplotlib.lines.Line2D at 0x7f3d34649e80>,\n",
       " <matplotlib.lines.Line2D at 0x7f3d346497f0>,\n",
       " <matplotlib.lines.Line2D at 0x7f3d441c37b8>,\n",
       " <matplotlib.lines.Line2D at 0x7f3d441c35c0>,\n",
       " <matplotlib.lines.Line2D at 0x7f3d441c3748>,\n",
       " <matplotlib.lines.Line2D at 0x7f3d441c38d0>,\n",
       " <matplotlib.lines.Line2D at 0x7f3d343b7e48>,\n",
       " <matplotlib.lines.Line2D at 0x7f3d344dce48>,\n",
       " <matplotlib.lines.Line2D at 0x7f3cd88bf400>,\n",
       " <matplotlib.lines.Line2D at 0x7f3d344dcc88>,\n",
       " <matplotlib.lines.Line2D at 0x7f3d341b34e0>,\n",
       " <matplotlib.lines.Line2D at 0x7f3d341b3fd0>,\n",
       " <matplotlib.lines.Line2D at 0x7f3d341b3240>,\n",
       " <matplotlib.lines.Line2D at 0x7f3d341b3da0>,\n",
       " <matplotlib.lines.Line2D at 0x7f3d341b3940>,\n",
       " <matplotlib.lines.Line2D at 0x7f3d341b3358>,\n",
       " <matplotlib.lines.Line2D at 0x7f3d341b39e8>,\n",
       " <matplotlib.lines.Line2D at 0x7f3d341b3898>,\n",
       " <matplotlib.lines.Line2D at 0x7f3d341b3748>,\n",
       " <matplotlib.lines.Line2D at 0x7f3d341b36a0>,\n",
       " <matplotlib.lines.Line2D at 0x7f3d341b3438>,\n",
       " <matplotlib.lines.Line2D at 0x7f3d341b3470>,\n",
       " <matplotlib.lines.Line2D at 0x7f3d34217a58>,\n",
       " <matplotlib.lines.Line2D at 0x7f3d342175f8>,\n",
       " <matplotlib.lines.Line2D at 0x7f3d34217ef0>,\n",
       " <matplotlib.lines.Line2D at 0x7f3d34217358>,\n",
       " <matplotlib.lines.Line2D at 0x7f3d34217160>,\n",
       " <matplotlib.lines.Line2D at 0x7f3d34217f60>,\n",
       " <matplotlib.lines.Line2D at 0x7f3d34217fd0>,\n",
       " <matplotlib.lines.Line2D at 0x7f3d34217d68>,\n",
       " <matplotlib.lines.Line2D at 0x7f3d34217be0>,\n",
       " <matplotlib.lines.Line2D at 0x7f3d342177b8>]"
      ]
     },
     "execution_count": 76,
     "metadata": {},
     "output_type": "execute_result"
    },
    {
     "data": {
      "image/png": "[encoded data removed]",
      "text/plain": [
       "<Figure size 432x288 with 1 Axes>"
      ]
     },
     "metadata": {
      "needs_background": "light"
     },
     "output_type": "display_data"
    }
   ],
   "source": [
    "pl.plot(sol[:,::30])"
   ]
  },
  {
   "cell_type": "code",
   "execution_count": 69,
   "metadata": {},
   "outputs": [],
   "source": [
    "#pl.plot(sol)"
   ]
  },
  {
   "cell_type": "code",
   "execution_count": 83,
   "metadata": {},
   "outputs": [
    {
     "data": {
      "text/plain": [
       "<tf.Tensor: shape=(1000,), dtype=float64, numpy=\n",
       "array([ 0.00000000e+00,  7.34075084e+03,  8.58407524e+04,  3.30432847e+05,\n",
       "        8.18119238e+05,  1.60137469e+06,  2.71170689e+06,  4.16399596e+06,\n",
       "        5.95996869e+06,  8.09075296e+06,  1.05387291e+07,  1.32788861e+07,\n",
       "        1.62798363e+07,  1.95045950e+07,  2.29111975e+07,  2.64532001e+07,\n",
       "        3.00801001e+07,  3.37376967e+07,  3.73684074e+07,  4.09115525e+07,\n",
       "        4.43036147e+07,  4.74784791e+07,  5.03676588e+07,  5.29005076e+07,\n",
       "        5.50044235e+07,  5.66050436e+07,  5.76264322e+07,  5.79912625e+07,\n",
       "        5.76209939e+07,  5.64360431e+07,  5.43559521e+07,  5.12995517e+07,\n",
       "        4.71851212e+07,  4.19305447e+07,  3.54534637e+07,  2.76714270e+07,\n",
       "        1.85020363e+07,  7.86309018e+06, -4.32727653e+06, -1.81504553e+07,\n",
       "       -3.36872300e+07, -5.10176461e+07, -7.02208823e+07, -9.13751251e+07,\n",
       "       -1.14557448e+08, -1.39843691e+08, -1.67308346e+08, -1.97024440e+08,\n",
       "       -2.29063429e+08, -2.63495089e+08, -3.00387412e+08, -3.39806502e+08,\n",
       "       -3.81816483e+08, -4.26479393e+08, -4.73855104e+08, -5.24001223e+08,\n",
       "       -5.76973011e+08, -6.32823293e+08, -6.91602388e+08, -7.53358021e+08,\n",
       "       -8.18135253e+08, -8.85976413e+08, -9.56921019e+08, -1.03100572e+09,\n",
       "       -1.10826425e+09, -1.18872731e+09, -1.27242261e+09, -1.35937469e+09,\n",
       "       -1.44960500e+09, -1.54313174e+09, -1.63996989e+09, -1.74013114e+09,\n",
       "       -1.84362384e+09, -1.95045298e+09, -2.06062018e+09, -2.17412359e+09,\n",
       "       -2.29095793e+09, -2.41111445e+09, -2.53458086e+09, -2.66134139e+09,\n",
       "       -2.79137673e+09, -2.92466399e+09, -3.06117676e+09, -3.20088502e+09,\n",
       "       -3.34375523e+09, -3.48975020e+09, -3.63882925e+09, -3.79094806e+09,\n",
       "       -3.94605878e+09, -4.10410999e+09, -4.26504672e+09, -4.42881046e+09,\n",
       "       -4.59533920e+09, -4.76456740e+09, -4.93642608e+09, -5.11084278e+09,\n",
       "       -5.28774158e+09, -5.46704326e+09, -5.64866509e+09, -5.83252110e+09,\n",
       "       -6.01852196e+09, -6.20657519e+09, -6.39658486e+09, -6.58845207e+09,\n",
       "       -6.78207466e+09, -6.97734746e+09, -7.17416216e+09, -7.37240755e+09,\n",
       "       -7.57196933e+09, -7.77273055e+09, -7.97457111e+09, -8.17736851e+09,\n",
       "       -8.38099712e+09, -8.58532908e+09, -8.79023359e+09, -8.99557754e+09,\n",
       "       -9.20122521e+09, -9.40703869e+09, -9.61287755e+09, -9.81859925e+09,\n",
       "       -1.00240589e+10, -1.02291099e+10, -1.04336032e+10, -1.06373881e+10,\n",
       "       -1.08403118e+10, -1.10422196e+10, -1.12429559e+10, -1.14423627e+10,\n",
       "       -1.16402804e+10, -1.18365488e+10, -1.20310053e+10, -1.22234864e+10,\n",
       "       -1.24138283e+10, -1.26018647e+10, -1.27874290e+10, -1.29703535e+10,\n",
       "       -1.31504703e+10, -1.33276098e+10, -1.35016024e+10, -1.36722779e+10,\n",
       "       -1.38394659e+10, -1.40029944e+10, -1.41626926e+10, -1.43183892e+10,\n",
       "       -1.44699121e+10, -1.46170905e+10, -1.47597526e+10, -1.48977269e+10,\n",
       "       -1.50308433e+10, -1.51589313e+10, -1.52818208e+10, -1.53993424e+10,\n",
       "       -1.55113283e+10, -1.56176104e+10, -1.57180220e+10, -1.58123976e+10,\n",
       "       -1.59005725e+10, -1.59823829e+10, -1.60576672e+10, -1.61262655e+10,\n",
       "       -1.61880169e+10, -1.62427659e+10, -1.62903554e+10, -1.63306318e+10,\n",
       "       -1.63634431e+10, -1.63886395e+10, -1.64060719e+10, -1.64155962e+10,\n",
       "       -1.64170674e+10, -1.64103453e+10, -1.63952900e+10, -1.63717668e+10,\n",
       "       -1.63396409e+10, -1.62987815e+10, -1.62490627e+10, -1.61903575e+10,\n",
       "       -1.61225435e+10, -1.60455027e+10, -1.59591194e+10, -1.58632802e+10,\n",
       "       -1.57578756e+10, -1.56428008e+10, -1.55179534e+10, -1.53832334e+10,\n",
       "       -1.52385450e+10, -1.50837990e+10, -1.49189059e+10, -1.47437822e+10,\n",
       "       -1.45583471e+10, -1.43625274e+10, -1.41562476e+10, -1.39394415e+10,\n",
       "       -1.37120451e+10, -1.34739996e+10, -1.32252490e+10, -1.29657425e+10,\n",
       "       -1.26954335e+10, -1.24142808e+10, -1.21222477e+10, -1.18193002e+10,\n",
       "       -1.15054104e+10, -1.11805539e+10, -1.08447131e+10, -1.04978721e+10,\n",
       "       -1.01400239e+10, -9.77116237e+09, -9.39128978e+09, -9.00040890e+09,\n",
       "       -8.59853162e+09, -8.18567206e+09, -7.76184998e+09, -7.32709317e+09,\n",
       "       -6.88142806e+09, -6.42489438e+09, -5.95752800e+09, -5.47937563e+09,\n",
       "       -4.99048906e+09, -4.49092502e+09, -3.98073973e+09, -3.46000171e+09,\n",
       "       -2.92878328e+09, -2.38715986e+09, -1.83520992e+09, -1.27302590e+09,\n",
       "       -7.00691744e+08, -1.18308544e+08,  4.74020640e+08,  1.07618958e+09,\n",
       "        1.68809238e+09,  2.30960197e+09,  2.94060370e+09,  3.58096690e+09,\n",
       "        4.23056235e+09,  4.88924880e+09,  5.55688854e+09,  6.23333027e+09,\n",
       "        6.91842619e+09,  7.61201642e+09,  8.31394035e+09,  9.02403270e+09,\n",
       "        9.74211805e+09,  1.04680279e+10,  1.12015764e+10,  1.19425796e+10,\n",
       "        1.26908499e+10,  1.34461896e+10,  1.42084031e+10,  1.49772856e+10,\n",
       "        1.57526335e+10,  1.65342302e+10,  1.73218677e+10,  1.81153143e+10,\n",
       "        1.89143557e+10,  1.97187674e+10,  2.05283100e+10,  2.13427449e+10,\n",
       "        2.21618408e+10,  2.29853584e+10,  2.38130405e+10,  2.46446441e+10,\n",
       "        2.54799137e+10,  2.63185917e+10,  2.71604197e+10,  2.80051337e+10,\n",
       "        2.88524768e+10,  2.97021665e+10,  3.05539375e+10,  3.14075117e+10,\n",
       "        3.22626187e+10,  3.31189732e+10,  3.39762950e+10,  3.48343036e+10,\n",
       "        3.56927035e+10,  3.65512131e+10,  3.74095387e+10,  3.82673917e+10,\n",
       "        3.91244802e+10,  3.99804910e+10,  4.08351456e+10,  4.16881398e+10,\n",
       "        4.25391698e+10,  4.33879378e+10,  4.42341420e+10,  4.50774774e+10,\n",
       "        4.59176366e+10,  4.67543193e+10,  4.75872285e+10,  4.84160388e+10,\n",
       "        4.92404634e+10,  5.00601886e+10,  5.08749053e+10,  5.16843120e+10,\n",
       "        5.24881038e+10,  5.32859752e+10,  5.40776218e+10,  5.48627344e+10,\n",
       "        5.56410168e+10,  5.64121672e+10,  5.71758780e+10,  5.79318557e+10,\n",
       "        5.86797969e+10,  5.94194113e+10,  6.01503964e+10,  6.08724650e+10,\n",
       "        6.15853236e+10,  6.22886821e+10,  6.29822479e+10,  6.36657514e+10,\n",
       "        6.43388927e+10,  6.50014067e+10,  6.56530085e+10,  6.62934206e+10,\n",
       "        6.69223839e+10,  6.75396191e+10,  6.81448688e+10,  6.87378711e+10,\n",
       "        6.93183661e+10,  6.98861068e+10,  7.04408336e+10,  7.09823091e+10,\n",
       "        7.15102853e+10,  7.20245341e+10,  7.25248144e+10,  7.30109032e+10,\n",
       "        7.34825751e+10,  7.39396127e+10,  7.43818037e+10,  7.48089364e+10,\n",
       "        7.52208064e+10,  7.56172224e+10,  7.59979884e+10,  7.63629150e+10,\n",
       "        7.67118293e+10,  7.70445464e+10,  7.73609035e+10,  7.76607351e+10,\n",
       "        7.79438881e+10,  7.82102088e+10,  7.84595526e+10,  7.86917841e+10,\n",
       "        7.89067739e+10,  7.91043942e+10,  7.92845331e+10,  7.94470763e+10,\n",
       "        7.95919198e+10,  7.97189764e+10,  7.98281460e+10,  7.99193580e+10,\n",
       "        7.99925335e+10,  8.00476055e+10,  8.00845181e+10,  8.01032195e+10,\n",
       "        8.01036683e+10,  8.00858323e+10,  8.00496825e+10,  7.99951934e+10,\n",
       "        7.99223631e+10,  7.98311913e+10,  7.97216742e+10,  7.95938366e+10,\n",
       "        7.94476904e+10,  7.92832755e+10,  7.91006263e+10,  7.88997937e+10,\n",
       "        7.86808314e+10,  7.84438120e+10,  7.81888012e+10,  7.79158841e+10,\n",
       "        7.76251529e+10,  7.73167103e+10,  7.69906611e+10,  7.66471282e+10,\n",
       "        7.62862317e+10,  7.59081114e+10,  7.55129088e+10,  7.51007815e+10,\n",
       "        7.46718854e+10,  7.42263982e+10,  7.37644922e+10,  7.32863623e+10,\n",
       "        7.27922017e+10,  7.22822154e+10,  7.17566199e+10,  7.12156389e+10,\n",
       "        7.06595044e+10,  7.00884539e+10,  6.95027385e+10,  6.89026142e+10,\n",
       "        6.82883497e+10,  6.76602171e+10,  6.70184974e+10,  6.63634835e+10,\n",
       "        6.56954717e+10,  6.50147719e+10,  6.43216967e+10,  6.36165699e+10,\n",
       "        6.28997191e+10,  6.21714835e+10,  6.14322089e+10,  6.06822460e+10,\n",
       "        5.99219552e+10,  5.91517051e+10,  5.83718657e+10,  5.75828204e+10,\n",
       "        5.67849548e+10,  5.59786628e+10,  5.51643431e+10,  5.43424030e+10,\n",
       "        5.35132528e+10,  5.26773090e+10,  5.18349970e+10,  5.09867434e+10,\n",
       "        5.01329812e+10,  4.92741471e+10,  4.84106856e+10,  4.75430417e+10,\n",
       "        4.66716678e+10,  4.57970179e+10,  4.49195511e+10,  4.40397276e+10,\n",
       "        4.31580114e+10,  4.22748723e+10,  4.13907789e+10,  4.05062015e+10,\n",
       "        3.96216159e+10,  3.87374956e+10,  3.78543172e+10,  3.69725579e+10,\n",
       "        3.60926947e+10,  3.52152052e+10,  3.43405658e+10,  3.34692534e+10,\n",
       "        3.26017431e+10,  3.17385087e+10,  3.08800214e+10,  3.00267506e+10,\n",
       "        2.91791638e+10,  2.83377234e+10,  2.75028891e+10,  2.66751169e+10,\n",
       "        2.58548572e+10,  2.50425555e+10,  2.42386521e+10,  2.34435809e+10,\n",
       "        2.26577686e+10,  2.18816357e+10,  2.11155940e+10,  2.03600472e+10,\n",
       "        1.96153904e+10,  1.88820090e+10,  1.81602780e+10,  1.74505622e+10,\n",
       "        1.67532146e+10,  1.60685766e+10,  1.53969767e+10,  1.47387301e+10,\n",
       "        1.40941383e+10,  1.34634875e+10,  1.28470493e+10,  1.22450785e+10,\n",
       "        1.16578136e+10,  1.10854749e+10,  1.05282649e+10,  9.98636666e+09,\n",
       "        9.45994328e+09,  8.94913705e+09,  8.45406877e+09,  7.97483671e+09,\n",
       "        7.51151584e+09,  7.06415701e+09,  6.63278578e+09,  6.21740196e+09,\n",
       "        5.81797816e+09,  5.43445926e+09,  5.06676125e+09,  4.71477024e+09,\n",
       "        4.37834152e+09,  4.05729844e+09,  3.75143156e+09,  3.46049731e+09,\n",
       "        3.18421718e+09,  2.92227642e+09,  2.67432300e+09,  2.43996648e+09,\n",
       "        2.21877685e+09,  2.01028327e+09,  1.81397294e+09,  1.62928984e+09,\n",
       "        1.45563349e+09,  1.29235767e+09,  1.13876911e+09,  9.94126190e+08,\n",
       "        8.57637606e+08,  7.28460965e+08,  6.05701421e+08,  4.88410247e+08,\n",
       "        3.75583394e+08,  2.66160023e+08,  1.59021008e+08,  5.29874172e+07,\n",
       "       -5.31810401e+07, -1.60787585e+08, -2.71199977e+08, -3.85852144e+08,\n",
       "       -5.06245845e+08, -6.33952362e+08, -7.70614221e+08, -9.17946940e+08,\n",
       "       -1.07774082e+09, -1.25186274e+09, -1.44225804e+09, -1.65095236e+09,\n",
       "       -1.88005356e+09, -2.13175370e+09, -2.40833095e+09, -2.71215172e+09,\n",
       "       -3.04567258e+09, -3.41144241e+09, -3.81210454e+09, -4.25039888e+09,\n",
       "       -4.72916416e+09, -5.25134011e+09, -5.81996978e+09, -6.43820178e+09,\n",
       "       -7.10929287e+09, -7.83660996e+09, -8.62363308e+09, -9.47395736e+09,\n",
       "       -1.03912959e+10, -1.13794822e+10, -1.24424725e+10, -1.35843495e+10,\n",
       "       -1.48093235e+10, -1.61217366e+10, -1.75260651e+10, -1.90269211e+10,\n",
       "       -2.06290577e+10, -2.23373697e+10, -2.41568997e+10, -2.60928356e+10,\n",
       "       -2.81505215e+10, -3.03354536e+10, -3.26532879e+10, -3.51098422e+10,\n",
       "       -3.77110989e+10, -4.04632092e+10, -4.33724960e+10, -4.64454598e+10,\n",
       "       -4.96887767e+10, -5.31093090e+10, -5.67141038e+10, -6.05103988e+10,\n",
       "       -6.45056279e+10, -6.87074225e+10, -7.31236138e+10, -7.77622448e+10,\n",
       "       -8.26315627e+10, -8.77400371e+10, -9.30963473e+10, -9.87094085e+10,\n",
       "       -1.04588355e+11, -1.10742562e+11, -1.17181628e+11, -1.23915408e+11,\n",
       "       -1.30953996e+11, -1.38307754e+11, -1.45987268e+11, -1.54003428e+11,\n",
       "       -1.62367360e+11, -1.71090487e+11, -1.80184476e+11, -1.89661323e+11,\n",
       "       -1.99533277e+11, -2.09812897e+11, -2.20513052e+11, -2.31646907e+11,\n",
       "       -2.43227944e+11, -2.55269957e+11, -2.67787076e+11, -2.80793764e+11,\n",
       "       -2.94304836e+11, -3.08335420e+11, -3.22901016e+11, -3.38017512e+11,\n",
       "       -3.53701096e+11, -3.69968403e+11, -3.86836409e+11, -4.04322481e+11,\n",
       "       -4.22444408e+11, -4.41220337e+11, -4.60668908e+11, -4.80809121e+11,\n",
       "       -5.01660407e+11, -5.23242684e+11, -5.45576246e+11, -5.68681901e+11,\n",
       "       -5.92580935e+11, -6.17295082e+11, -6.42846535e+11, -6.69257999e+11,\n",
       "       -6.96552747e+11, -7.24754489e+11, -7.53887508e+11, -7.83976568e+11,\n",
       "       -8.15047054e+11, -8.47124884e+11, -8.80236515e+11, -9.14409010e+11,\n",
       "       -9.49670055e+11, -9.86047918e+11, -1.02357145e+12, -1.06227019e+12,\n",
       "       -1.10217428e+12, -1.14331459e+12, -1.18572259e+12, -1.22943038e+12,\n",
       "       -1.27447096e+12, -1.32087787e+12, -1.36868548e+12, -1.41792877e+12,\n",
       "       -1.46864373e+12, -1.52086674e+12, -1.57463546e+12, -1.62998795e+12,\n",
       "       -1.68696315e+12, -1.74560117e+12, -1.80594272e+12, -1.86802932e+12,\n",
       "       -1.93190359e+12, -1.99760894e+12, -2.06518979e+12, -2.13469153e+12,\n",
       "       -2.20616042e+12, -2.27964383e+12, -2.35519017e+12, -2.43284878e+12,\n",
       "       -2.51267016e+12, -2.59470577e+12, -2.67900867e+12, -2.76563220e+12,\n",
       "       -2.85463169e+12, -2.94606322e+12, -3.03998412e+12, -3.13645324e+12,\n",
       "       -3.23553044e+12, -3.33727674e+12, -3.44175493e+12, -3.54902873e+12,\n",
       "       -3.65916382e+12, -3.77222650e+12, -3.88828559e+12, -4.00740999e+12,\n",
       "       -4.12967146e+12, -4.25514274e+12, -4.38389782e+12, -4.51601342e+12,\n",
       "       -4.65156624e+12, -4.79063644e+12, -4.93330484e+12, -5.07965427e+12,\n",
       "       -5.22976942e+12, -5.38373759e+12, -5.54164623e+12, -5.70358660e+12,\n",
       "       -5.86965084e+12, -6.03993392e+12, -6.21453214e+12, -6.39354439e+12,\n",
       "       -6.57707157e+12, -6.76521722e+12, -6.95808711e+12, -7.15578891e+12,\n",
       "       -7.35843271e+12, -7.56613208e+12, -7.77900235e+12, -7.99716121e+12,\n",
       "       -8.22072963e+12, -8.44983095e+12, -8.68459141e+12, -8.92514074e+12,\n",
       "       -9.17161013e+12, -9.42413522e+12, -9.68285371e+12, -9.94790692e+12,\n",
       "       -1.02194394e+13, -1.04975988e+13, -1.07825366e+13, -1.10744062e+13,\n",
       "       -1.13733672e+13, -1.16795824e+13, -1.19932144e+13, -1.23144370e+13,\n",
       "       -1.26434200e+13, -1.29803440e+13, -1.33253899e+13, -1.36787442e+13,\n",
       "       -1.40405985e+13, -1.44111477e+13, -1.47905920e+13, -1.51791373e+13,\n",
       "       -1.55769911e+13, -1.59843700e+13, -1.64014913e+13, -1.68285812e+13,\n",
       "       -1.72658662e+13, -1.77135841e+13, -1.81719719e+13, -1.86412772e+13,\n",
       "       -1.91217488e+13, -1.96136464e+13, -2.01172338e+13, -2.06327803e+13,\n",
       "       -2.11605655e+13, -2.17008722e+13, -2.22539937e+13, -2.28202315e+13,\n",
       "       -2.33998927e+13, -2.39932932e+13, -2.46007530e+13, -2.52226061e+13,\n",
       "       -2.58591895e+13, -2.65108509e+13, -2.71779398e+13, -2.78608223e+13,\n",
       "       -2.85598666e+13, -2.92754518e+13, -3.00079655e+13, -3.07578075e+13,\n",
       "       -3.15253833e+13, -3.23111154e+13, -3.31154311e+13, -3.39387767e+13,\n",
       "       -3.47816032e+13, -3.56443800e+13, -3.65275838e+13, -3.74317096e+13,\n",
       "       -3.83572589e+13, -3.93047514e+13, -4.02747102e+13, -4.12676855e+13,\n",
       "       -4.22842249e+13, -4.33248972e+13, -4.43902909e+13, -4.54809980e+13,\n",
       "       -4.65976277e+13, -4.77408029e+13, -4.89111713e+13, -5.01093846e+13,\n",
       "       -5.13361165e+13, -5.25920615e+13, -5.38779261e+13, -5.51944353e+13,\n",
       "       -5.65423358e+13, -5.79224009e+13, -5.93354061e+13, -6.07821629e+13,\n",
       "       -6.22634994e+13, -6.37802714e+13, -6.53333422e+13, -6.69236255e+13,\n",
       "       -6.85520296e+13, -7.02195140e+13, -7.19270379e+13, -7.36756108e+13,\n",
       "       -7.54662583e+13, -7.73000297e+13, -7.91780027e+13, -8.11012895e+13,\n",
       "       -8.30710217e+13, -8.50883506e+13, -8.71544885e+13, -8.92706361e+13,\n",
       "       -9.14380432e+13, -9.36580081e+13, -9.59318422e+13, -9.82608768e+13,\n",
       "       -1.00646496e+14, -1.03090135e+14, -1.05593238e+14, -1.08157306e+14,\n",
       "       -1.10783868e+14, -1.13474503e+14, -1.16230839e+14, -1.19054548e+14,\n",
       "       -1.21947324e+14, -1.24910948e+14, -1.27947209e+14, -1.31057979e+14,\n",
       "       -1.34245151e+14, -1.37510686e+14, -1.40856594e+14, -1.44284917e+14,\n",
       "       -1.47797788e+14, -1.51397349e+14, -1.55085840e+14, -1.58865510e+14,\n",
       "       -1.62738715e+14, -1.66707829e+14, -1.70775322e+14, -1.74943694e+14,\n",
       "       -1.79215549e+14, -1.83593504e+14, -1.88080312e+14, -1.92678740e+14,\n",
       "       -1.97391694e+14, -2.02222096e+14, -2.07172974e+14, -2.12247448e+14,\n",
       "       -2.17448714e+14, -2.22780062e+14, -2.28244876e+14, -2.33846609e+14,\n",
       "       -2.39588822e+14, -2.45475206e+14, -2.51509495e+14, -2.57695578e+14,\n",
       "       -2.64037426e+14, -2.70539112e+14, -2.77204833e+14, -2.84038888e+14,\n",
       "       -2.91045696e+14, -2.98229767e+14, -3.05595724e+14, -3.13148335e+14,\n",
       "       -3.20892414e+14, -3.28832909e+14, -3.36974848e+14, -3.45323367e+14,\n",
       "       -3.53883708e+14, -3.62661182e+14, -3.71661170e+14, -3.80889160e+14,\n",
       "       -3.90350745e+14, -4.00051600e+14, -4.09997537e+14, -4.20194439e+14,\n",
       "       -4.30648372e+14, -4.41365511e+14, -4.52352313e+14, -4.63615329e+14,\n",
       "       -4.75161385e+14, -4.86997579e+14, -4.99131305e+14, -5.11570220e+14,\n",
       "       -5.24322326e+14, -5.37395989e+14, -5.50799948e+14, -5.64543237e+14,\n",
       "       -5.78635381e+14, -5.93086117e+14, -6.07905572e+14, -6.23104284e+14,\n",
       "       -6.38693015e+14, -6.54682761e+14, -6.71084817e+14, -6.87910607e+14,\n",
       "       -7.05171852e+14, -7.22880258e+14, -7.41047761e+14, -7.59686315e+14,\n",
       "       -7.78807974e+14, -7.98424833e+14, -8.18549183e+14, -8.39193182e+14,\n",
       "       -8.60369261e+14, -8.82089959e+14, -9.04367868e+14, -9.27215885e+14,\n",
       "       -9.50647257e+14, -9.74675209e+14, -9.99313633e+14, -1.02457658e+15,\n",
       "       -1.05047871e+15, -1.07703502e+15, -1.10426108e+15, -1.13217295e+15,\n",
       "       -1.16078741e+15, -1.19012155e+15, -1.22019336e+15, -1.25102112e+15,\n",
       "       -1.28262406e+15, -1.31502180e+15, -1.34823464e+15, -1.38228348e+15,\n",
       "       -1.41718987e+15, -1.45297593e+15, -1.48966448e+15, -1.52727873e+15,\n",
       "       -1.56584269e+15, -1.60538086e+15, -1.64591841e+15, -1.68748116e+15,\n",
       "       -1.73009540e+15, -1.77378808e+15, -1.81858692e+15, -1.86452000e+15,\n",
       "       -1.91161624e+15, -1.95990488e+15, -2.00941613e+15, -2.06018045e+15,\n",
       "       -2.11222918e+15, -2.16559393e+15, -2.22030714e+15, -2.27640167e+15,\n",
       "       -2.33391105e+15, -2.39286917e+15, -2.45331063e+15, -2.51527051e+15,\n",
       "       -2.57878443e+15, -2.64388868e+15, -2.71062014e+15, -2.77901622e+15,\n",
       "       -2.84911519e+15, -2.92095583e+15, -2.99457799e+15, -3.07002211e+15,\n",
       "       -3.14732971e+15, -3.22654330e+15, -3.30770632e+15, -3.39086348e+15,\n",
       "       -3.47606066e+15, -3.56334502e+15, -3.65276504e+15, -3.74437084e+15,\n",
       "       -3.83821352e+15, -3.93434618e+15, -4.03282334e+15, -4.13370101e+15,\n",
       "       -4.23703675e+15, -4.34288995e+15, -4.45132162e+15, -4.56239412e+15,\n",
       "       -4.67617178e+15, -4.79272035e+15, -4.91210701e+15, -5.03440105e+15,\n",
       "       -5.15967247e+15, -5.28799358e+15, -5.41943773e+15, -5.55408006e+15,\n",
       "       -5.69199689e+15, -5.83326616e+15, -5.97796735e+15, -6.12618132e+15,\n",
       "       -6.27799025e+15, -6.43347816e+15, -6.59273015e+15, -6.75583291e+15,\n",
       "       -6.92287508e+15, -7.09394607e+15, -7.26913780e+15, -7.44854298e+15,\n",
       "       -7.63225638e+15, -7.82037441e+15, -8.01299527e+15, -8.21021861e+15,\n",
       "       -8.41214644e+15, -8.61888193e+15, -8.83053079e+15, -9.04720022e+15,\n",
       "       -9.26899960e+15, -9.49604039e+15, -9.72843624e+15, -9.96630293e+15,\n",
       "       -1.02097581e+16, -1.04589223e+16, -1.07139181e+16, -1.09748705e+16,\n",
       "       -1.12419069e+16, -1.15151575e+16, -1.17947549e+16, -1.20808344e+16,\n",
       "       -1.23735341e+16, -1.26729944e+16, -1.29793590e+16, -1.32927734e+16,\n",
       "       -1.36133873e+16, -1.39413519e+16, -1.42768214e+16, -1.46199527e+16,\n",
       "       -1.49709057e+16, -1.53298424e+16, -1.56969275e+16, -1.60723279e+16,\n",
       "       -1.64562137e+16, -1.68487566e+16, -1.72501310e+16, -1.76605137e+16,\n",
       "       -1.80800838e+16, -1.85090231e+16, -1.89475158e+16, -1.93957492e+16,\n",
       "       -1.98539125e+16, -2.03221996e+16, -2.08008074e+16, -2.12899362e+16,\n",
       "       -2.17897919e+16, -2.23005837e+16, -2.28225282e+16, -4.40866780e+15])>"
      ]
     },
     "execution_count": 83,
     "metadata": {},
     "output_type": "execute_result"
    }
   ],
   "source": [
    "dsol_dz"
   ]
  },
  {
   "cell_type": "code",
   "execution_count": 17,
   "metadata": {},
   "outputs": [
    {
     "data": {
      "text/plain": [
       "<tf.Tensor: shape=(3,), dtype=float64, numpy=array([0.21025278, 2.09066148, 3.77962996])>"
      ]
     },
     "execution_count": 17,
     "metadata": {},
     "output_type": "execute_result"
    }
   ],
   "source": [
    "sol[-1]"
   ]
  },
  {
   "cell_type": "code",
   "execution_count": 4,
   "metadata": {},
   "outputs": [],
   "source": [
    "x = tf.constant(3.0)\n",
    "with tf.GradientTape() as g:\n",
    "  g.watch(x)\n",
    "  y = x * x\n",
    "dy_dx = g.gradient(y, x) # Will compute to 6.0"
   ]
  },
  {
   "cell_type": "code",
   "execution_count": 5,
   "metadata": {},
   "outputs": [
    {
     "data": {
      "text/plain": [
       "<tf.Tensor: shape=(10, 3), dtype=float64, numpy=\n",
       "array([[1.        , 2.        , 3.1       ],\n",
       "       [0.94080566, 2.01698345, 3.1623503 ],\n",
       "       [0.87416031, 2.03199163, 3.22734861],\n",
       "       [0.79990744, 2.04511868, 3.29525646],\n",
       "       [0.71805308, 2.05646788, 3.36634463],\n",
       "       [0.62880523, 2.06615045, 3.44089327],\n",
       "       [0.53259905, 2.07428458, 3.51919197],\n",
       "       [0.43011572, 2.0809944 , 3.60153989],\n",
       "       [0.32228107, 2.08640896, 3.68824615],\n",
       "       [0.21025278, 2.09066148, 3.77962996]])>"
      ]
     },
     "execution_count": 5,
     "metadata": {},
     "output_type": "execute_result"
    }
   ],
   "source": [
    "sol"
   ]
  },
  {
   "cell_type": "code",
   "execution_count": 135,
   "metadata": {},
   "outputs": [
    {
     "name": "stdout",
     "output_type": "stream",
     "text": [
      "None\n"
     ]
    },
    {
     "data": {
      "text/plain": [
       "<tf.Tensor: shape=(), dtype=complex128, numpy=(-1+3j)>"
      ]
     },
     "execution_count": 135,
     "metadata": {},
     "output_type": "execute_result"
    }
   ],
   "source": [
    "@tf.function\n",
    "def f(a):\n",
    "    return tf.constant(1j)*a\n",
    "\n",
    "def tf_realify(tf_func):\n",
    "    tf.print(tf_func.function_spec.input_signature)\n",
    "    @tf.function\n",
    "    def f_wrapped(a,b):\n",
    "        return tf_func(tf.cast(a, tf.complex128)+1j*tf.cast(b, tf.complex128) )\n",
    "    return f_wrapped\n",
    "\n",
    "f2=tf_realify(f)\n",
    "f2(3,1)"
   ]
  },
  {
   "cell_type": "code",
   "execution_count": 143,
   "metadata": {},
   "outputs": [
    {
     "name": "stdout",
     "output_type": "stream",
     "text": [
      "The slowest run took 4.76 times longer than the fastest. This could mean that an intermediate result is being cached.\n",
      "10000 loops, best of 3: 146 µs per loop\n"
     ]
    }
   ],
   "source": [
    "a, b = tf.constant(3, dtype=tf.float64), tf.constant(1, dtype=tf.float64)\n",
    "%timeit f2(a,b)"
   ]
  },
  {
   "cell_type": "code",
   "execution_count": 145,
   "metadata": {},
   "outputs": [
    {
     "name": "stdout",
     "output_type": "stream",
     "text": [
      "The slowest run took 4.39 times longer than the fastest. This could mean that an intermediate result is being cached.\n",
      "10000 loops, best of 3: 134 µs per loop\n"
     ]
    }
   ],
   "source": [
    "c = tf.constant(1+1j, dtype=tf.complex128)\n",
    "%timeit f(c)"
   ]
  },
  {
   "cell_type": "code",
   "execution_count": 121,
   "metadata": {},
   "outputs": [
    {
     "data": {
      "text/plain": [
       "<tf.Tensor: shape=(), dtype=complex128, numpy=1j>"
      ]
     },
     "execution_count": 121,
     "metadata": {},
     "output_type": "execute_result"
    }
   ],
   "source": [
    "tf.constant(1j)"
   ]
  },
  {
   "cell_type": "code",
   "execution_count": 108,
   "metadata": {},
   "outputs": [],
   "source": [
    "cf=f.get_concrete_function(0.5,z0, p0)"
   ]
  },
  {
   "cell_type": "code",
   "execution_count": 110,
   "metadata": {},
   "outputs": [
    {
     "data": {
      "text/plain": [
       "[<tf.Tensor 'z:0' shape=(1000,) dtype=float64>,\n",
       " <tf.Tensor 'pars:0' shape=(1000,) dtype=float64>]"
      ]
     },
     "execution_count": 110,
     "metadata": {},
     "output_type": "execute_result"
    }
   ],
   "source": [
    "cf."
   ]
  },
  {
   "cell_type": "code",
   "execution_count": 112,
   "metadata": {},
   "outputs": [],
   "source": [
    "f.function_spec.input_signature"
   ]
  },
  {
   "cell_type": "code",
   "execution_count": 113,
   "metadata": {},
   "outputs": [
    {
     "data": {
      "text/plain": [
       "((0.5,\n",
       "  TensorSpec(shape=(1000,), dtype=tf.float64, name='z'),\n",
       "  TensorSpec(shape=(1000,), dtype=tf.float64, name='pars')),\n",
       " {})"
      ]
     },
     "execution_count": 113,
     "metadata": {},
     "output_type": "execute_result"
    }
   ],
   "source": [
    "cf.structured_input_signature"
   ]
  },
  {
   "cell_type": "code",
   "execution_count": 148,
   "metadata": {},
   "outputs": [],
   "source": [
    "@tf.function\n",
    "def f1(a,b,c):\n",
    "    return a+b+c\n",
    "@tf.function\n",
    "def f2(a,b,c):\n",
    "    return a+b\n",
    "@tf.function\n",
    "def f3(a,b,c):\n",
    "    return a\n",
    "\n",
    "fL = [f1,f2,f3]"
   ]
  },
  {
   "cell_type": "code",
   "execution_count": 165,
   "metadata": {},
   "outputs": [
    {
     "data": {
      "text/plain": [
       "<tf.Tensor: shape=(3,), dtype=float32, numpy=array([7.5, 4. , 1.5], dtype=float32)>"
      ]
     },
     "execution_count": 165,
     "metadata": {},
     "output_type": "execute_result"
    }
   ],
   "source": [
    "def get_wrapped(fL):\n",
    "    @tf.function(experimental_compile=True)\n",
    "    def f_c(p):\n",
    "        return tf.stack([f(a,b,c) for f in fL])\n",
    "    return f_c\n",
    "\n",
    "f_c = get_wrapped(fL)\n",
    "f_c(1.5,2.5,3.5)"
   ]
  },
  {
   "cell_type": "code",
   "execution_count": 167,
   "metadata": {},
   "outputs": [
    {
     "name": "stdout",
     "output_type": "stream",
     "text": [
      "The slowest run took 6.29 times longer than the fastest. This could mean that an intermediate result is being cached.\n",
      "10000 loops, best of 3: 159 µs per loop\n"
     ]
    }
   ],
   "source": [
    "%timeit f_c(1.5,2.5,3.5)"
   ]
  },
  {
   "cell_type": "code",
   "execution_count": 18,
   "metadata": {},
   "outputs": [],
   "source": [
    "@tf.function\n",
    "def f(a,b,c):\n",
    "    return (a+b+c)\n",
    "\n",
    "@tf.function\n",
    "def tf_unpack(vals):\n",
    "    #for k in range(100):\n",
    "    #    f(*tf.unstack(vals))\n",
    "    return f(*tf.unstack(vals))\n",
    "   "
   ]
  },
  {
   "cell_type": "code",
   "execution_count": 19,
   "metadata": {},
   "outputs": [
    {
     "name": "stdout",
     "output_type": "stream",
     "text": [
      "The slowest run took 477.05 times longer than the fastest. This could mean that an intermediate result is being cached.\n",
      "10000 loops, best of 3: 139 µs per loop\n"
     ]
    }
   ],
   "source": [
    "vals = tf.convert_to_tensor(np.arange(3)*0.5)\n"
   ]
  },
  {
   "cell_type": "code",
   "execution_count": 23,
   "metadata": {},
   "outputs": [
    {
     "name": "stdout",
     "output_type": "stream",
     "text": [
      "The slowest run took 6.06 times longer than the fastest. This could mean that an intermediate result is being cached.\n",
      "10000 loops, best of 3: 138 µs per loop\n"
     ]
    }
   ],
   "source": [
    "%timeit tf_unpack(vals)"
   ]
  },
  {
   "cell_type": "code",
   "execution_count": 24,
   "metadata": {},
   "outputs": [],
   "source": [
    "fp = lambda vals:tf.math.real(tf_unpack(vals)) \n",
    "fp = tf.function(fp)"
   ]
  },
  {
   "cell_type": "code",
   "execution_count": 26,
   "metadata": {},
   "outputs": [
    {
     "name": "stdout",
     "output_type": "stream",
     "text": [
      "The slowest run took 8.05 times longer than the fastest. This could mean that an intermediate result is being cached.\n",
      "10000 loops, best of 3: 138 µs per loop\n"
     ]
    }
   ],
   "source": [
    "%timeit fp(vals)"
   ]
  },
  {
   "cell_type": "code",
   "execution_count": 7,
   "metadata": {},
   "outputs": [],
   "source": [
    "T=tf.convert_to_tensor(1 + 0.5j)"
   ]
  },
  {
   "cell_type": "code",
   "execution_count": 8,
   "metadata": {},
   "outputs": [
    {
     "data": {
      "text/plain": [
       "<tf.Tensor: shape=(), dtype=float64, numpy=1.0>"
      ]
     },
     "execution_count": 8,
     "metadata": {},
     "output_type": "execute_result"
    }
   ],
   "source": [
    "tf.math.real(T)"
   ]
  },
  {
   "cell_type": "markdown",
   "metadata": {},
   "source": [
    "# Testing pyIVP and tensorflow"
   ]
  },
  {
   "cell_type": "code",
   "execution_count": 2,
   "metadata": {},
   "outputs": [
    {
     "name": "stdout",
     "output_type": "stream",
     "text": [
      "Munch({'tSym': t, 'dimSyms': [], 'prop_state_syms': [x, y, v_x, v_y], 'stationary_state_syms': [], 'driving_syms': [], 'state_dep_syms': []})\n",
      "state dependent functions should have signature [t, x, y, v_x, v_y]\n",
      "CPU times: user 5.8 s, sys: 102 ms, total: 5.9 s\n",
      "Wall time: 7.15 s\n"
     ]
    },
    {
     "ename": "AttributeError",
     "evalue": "'tensorflow.python.framework.ops.EagerTensor' object has no attribute 'real'",
     "output_type": "error",
     "traceback": [
      "\u001b[0;31m---------------------------------------------------------------------------\u001b[0m",
      "\u001b[0;31mAttributeError\u001b[0m                            Traceback (most recent call last)",
      "\u001b[0;32m<ipython-input-2-f6e7de75a237>\u001b[0m in \u001b[0;36m<module>\u001b[0;34m\u001b[0m\n\u001b[1;32m     18\u001b[0m \u001b[0;34m\u001b[0m\u001b[0m\n\u001b[1;32m     19\u001b[0m \u001b[0msm\u001b[0m\u001b[0;34m.\u001b[0m\u001b[0mode\u001b[0m\u001b[0;34m\u001b[0m\u001b[0;34m\u001b[0m\u001b[0m\n\u001b[0;32m---> 20\u001b[0;31m \u001b[0mplot\u001b[0m\u001b[0;34m(\u001b[0m\u001b[0mtSteps\u001b[0m\u001b[0;34m,\u001b[0m \u001b[0marr\u001b[0m\u001b[0;34m.\u001b[0m\u001b[0mreal\u001b[0m\u001b[0;34m)\u001b[0m\u001b[0;34m\u001b[0m\u001b[0;34m\u001b[0m\u001b[0m\n\u001b[0m\u001b[1;32m     21\u001b[0m \u001b[0mxlabel\u001b[0m\u001b[0;34m(\u001b[0m\u001b[0;34m't'\u001b[0m\u001b[0;34m)\u001b[0m\u001b[0;34m\u001b[0m\u001b[0;34m\u001b[0m\u001b[0m\n\u001b[1;32m     22\u001b[0m \u001b[0mlegend\u001b[0m\u001b[0;34m(\u001b[0m\u001b[0mdy_dtD\u001b[0m\u001b[0;34m.\u001b[0m\u001b[0mkeys\u001b[0m\u001b[0;34m(\u001b[0m\u001b[0;34m)\u001b[0m\u001b[0;34m)\u001b[0m\u001b[0;34m\u001b[0m\u001b[0;34m\u001b[0m\u001b[0m\n",
      "\u001b[0;31mAttributeError\u001b[0m: 'tensorflow.python.framework.ops.EagerTensor' object has no attribute 'real'"
     ]
    }
   ],
   "source": [
    "%load_ext autoreload\n",
    "%autoreload 2\n",
    "import tensorflow as tf\n",
    "import sympy as sm\n",
    "from spylind import spyIVP as so\n",
    "from pylab import *\n",
    "xS, yS, vxS, vyS = sm.symbols(\"x, y, v_x, v_y\", real=True)\n",
    "g= -10.0\n",
    "dy_dtD = {xS:vxS, \n",
    "       yS:vyS,\n",
    "       vxS:0,\n",
    "       vyS:g }\n",
    "ode_s = so.ODESolver(dy_dtD,  dims={}, backend='tensorflow', default_dtype=np.float64)\n",
    "ode_s.set_initial_conditions({xS:0,yS:0,vxS:10,vyS:10}) \n",
    "ode_s.setup()\n",
    "tSteps = np.linspace(0,1,10000)\n",
    "%time arr =ode_s.integrate(tSteps, 1.0)\n",
    "\n",
    "sm.ode\n",
    "plot(tSteps, arr.real)\n",
    "xlabel('t')\n",
    "legend(dy_dtD.keys())"
   ]
  },
  {
   "cell_type": "code",
   "execution_count": 4,
   "metadata": {},
   "outputs": [
    {
     "name": "stdout",
     "output_type": "stream",
     "text": [
      "Munch({'tSym': t, 'dimSyms': [z], 'prop_state_syms': [x, y, v_x, v_y], 'stationary_state_syms': [], 'driving_syms': [], 'state_dep_syms': [z]})\n",
      "state dependent functions should have signature [t, z, x, y, v_x, v_y]\n",
      "Not integrating first step (it's just the initial state)\n",
      "CPU times: user 242 ms, sys: 149 ms, total: 391 ms\n",
      "Wall time: 259 ms\n"
     ]
    }
   ],
   "source": [
    "import tensorflow as tf\n",
    "xS, yS, vxS, vyS = sm.symbols(\"x, y, v_x, v_y\", real=True)\n",
    "zS = sm.symbols(\"z\", real=True)\n",
    "g= tf.constant(-10.0, dtype='float64')\n",
    "dy_dtD = {xS:vxS, \n",
    "       yS:vyS ,\n",
    "       vxS:0 +zS,\n",
    "       vyS: g  }\n",
    "\n",
    "ode_s = so.ODESolver(dy_dtD,  dims={zS:linspace(-2,2,10000)}, backend='numpy', default_dtype='float64')\n",
    "ode_s.set_initial_conditions({xS:0,yS:0,vxS:10,vyS:10}) \n",
    "ode_s.setup(bForceStateDimensions=True)\n",
    "tSteps = linspace(0,200,4)\n",
    "%time arr =ode_s.integrate(tSteps, 1.0)\n",
    "if 0:\n",
    "    plot(tSteps, arr[:,:,0].real)\n",
    "    xlabel('t')\n",
    "    legend(dy_dtD.keys())\n",
    "    figure()\n",
    "    plot(tSteps, arr[:,:,-1].real)\n",
    "    xlabel('t')\n",
    "    legend(dy_dtD.keys())\n",
    "    figure()\n",
    "    imshow(arr[:,1,:].real, aspect='auto')"
   ]
  },
  {
   "cell_type": "code",
   "execution_count": 5,
   "metadata": {},
   "outputs": [
    {
     "data": {
      "text/plain": [
       "[<matplotlib.lines.Line2D at 0x772094404be0>,\n",
       " <matplotlib.lines.Line2D at 0x7720944041c0>,\n",
       " <matplotlib.lines.Line2D at 0x772094404d60>,\n",
       " <matplotlib.lines.Line2D at 0x7720944046d0>]"
      ]
     },
     "execution_count": 5,
     "metadata": {},
     "output_type": "execute_result"
    },
    {
     "data": {
      "image/png": "[encoded data removed]",
      "text/plain": [
       "<Figure size 460.8x316.8 with 1 Axes>"
      ]
     },
     "metadata": {
      "needs_background": "light"
     },
     "output_type": "display_data"
    }
   ],
   "source": [
    "plot(arr[:,:,5])\n",
    "plot(arr[:,:,9])"
   ]
  },
  {
   "cell_type": "code",
   "execution_count": 6,
   "metadata": {},
   "outputs": [],
   "source": [
    "xRef =tf.linspace(0,1,1000)\n",
    "yRef = tf.sin(5*pi*xRef)"
   ]
  },
  {
   "cell_type": "code",
   "execution_count": 7,
   "metadata": {},
   "outputs": [],
   "source": [
    "def tf_interpolator(xOrig, yOrig):\n",
    "    xOrig = tf.convert_to_tensor(xOrig, dtype=tf.float64)\n",
    "    yOrig = tf.convert_to_tensor(yOrig, dtype=tf.float64)\n",
    "    N = xOrig.shape[0]\n",
    "    dx = xOrig[1]-xOrig[0]\n",
    "    x0 = xOrig[0]\n",
    "    xMax = xOrig[-1]\n",
    "    zero = tf.constant(0, dtype=tf.float64)\n",
    "    #@tf.function(experimental_compile=True)\n",
    "    def f(x):\n",
    "        #pdb.set_trace()\n",
    "        #ind = tf.math.floormod((x-x0), dx)\n",
    "        \n",
    "        if x>=xMax or x<x0:\n",
    "            return zero#tf.constant(0., dtype=tf.float64);\n",
    "        else:\n",
    "            ind = tf.math.floordiv(x-x0, dx)\n",
    "            remainder = x- ind*dx\n",
    "            ind=tf.cast(ind, tf.int64)\n",
    "\n",
    "            return (1.-remainder)*yOrig[ind] + remainder*yOrig[ind+1]\n",
    "    return f\n",
    "\n",
    "intpF = tf.function(tf_interpolator(xRef, yRef))\n",
    "f = tf.function(intpF, experimental_compile=True)"
   ]
  },
  {
   "cell_type": "code",
   "execution_count": 8,
   "metadata": {},
   "outputs": [],
   "source": [
    "xOut =linspace(-0.01, 1.01, 1000)\n",
    "yOut = np.array([intpF(val) for val in xOut])\n",
    "    "
   ]
  },
  {
   "cell_type": "code",
   "execution_count": 9,
   "metadata": {},
   "outputs": [],
   "source": [
    "#randL =np.random.normal(size=10000)\n",
    "f = tf.function(lambda x: x**2)\n",
    "f = intpF\n",
    "randL = tf.random.uniform(minval=0.01, maxval=0.9, shape=(10000,), dtype=tf.float64 )\n",
    "randL2 = tf.random.uniform(minval=0.01, maxval=0.9, shape=(10000,), dtype=tf.float64 )\n",
    "randL3 = tf.random.uniform(minval=0.01, maxval=0.9, shape=(10000,), dtype=tf.float64 )\n",
    "\n",
    "\n",
    "def test(randL):\n",
    "    for val in randL:\n",
    "        a = f(val)\n",
    "t= tf.function(test, experimental_compile=True)\n"
   ]
  },
  {
   "cell_type": "code",
   "execution_count": 182,
   "metadata": {},
   "outputs": [
    {
     "name": "stdout",
     "output_type": "stream",
     "text": [
      "426 µs ± 49.8 µs per loop (mean ± std. dev. of 7 runs, 1000 loops each)\n"
     ]
    }
   ],
   "source": [
    "%timeit intpF(tf.random.uniform(minval=-0.01, maxval=1.01, dtype=tf.float64, shape=[]))"
   ]
  },
  {
   "cell_type": "code",
   "execution_count": null,
   "metadata": {},
   "outputs": [],
   "source": [
    "tf.timeit tf.random.unifi"
   ]
  },
  {
   "cell_type": "code",
   "execution_count": 100,
   "metadata": {},
   "outputs": [
    {
     "ename": "InvalidArgumentError",
     "evalue": "Argument 0 to function '__inference_f_1488041' must be a compile-time constant, but unable to resolve argument value to a constant.\n\t [[{{node while}}]] [Op:__inference_test_1488155]",
     "output_type": "error",
     "traceback": [
      "\u001b[0;31m---------------------------------------------------------------------------\u001b[0m",
      "\u001b[0;31mInvalidArgumentError\u001b[0m                      Traceback (most recent call last)",
      "\u001b[0;32m<timed eval>\u001b[0m in \u001b[0;36m<module>\u001b[0;34m\u001b[0m\n",
      "\u001b[0;32m~/anaconda3/envs/spylind/lib/python3.8/site-packages/tensorflow/python/eager/def_function.py\u001b[0m in \u001b[0;36m__call__\u001b[0;34m(self, *args, **kwds)\u001b[0m\n\u001b[1;32m    773\u001b[0m         \u001b[0;32mtry\u001b[0m\u001b[0;34m:\u001b[0m\u001b[0;34m\u001b[0m\u001b[0;34m\u001b[0m\u001b[0m\n\u001b[1;32m    774\u001b[0m           \u001b[0mxla_context\u001b[0m\u001b[0;34m.\u001b[0m\u001b[0mEnter\u001b[0m\u001b[0;34m(\u001b[0m\u001b[0;34m)\u001b[0m\u001b[0;34m\u001b[0m\u001b[0;34m\u001b[0m\u001b[0m\n\u001b[0;32m--> 775\u001b[0;31m           \u001b[0mresult\u001b[0m \u001b[0;34m=\u001b[0m \u001b[0mself\u001b[0m\u001b[0;34m.\u001b[0m\u001b[0m_call\u001b[0m\u001b[0;34m(\u001b[0m\u001b[0;34m*\u001b[0m\u001b[0margs\u001b[0m\u001b[0;34m,\u001b[0m \u001b[0;34m**\u001b[0m\u001b[0mkwds\u001b[0m\u001b[0;34m)\u001b[0m\u001b[0;34m\u001b[0m\u001b[0;34m\u001b[0m\u001b[0m\n\u001b[0m\u001b[1;32m    776\u001b[0m         \u001b[0;32mfinally\u001b[0m\u001b[0;34m:\u001b[0m\u001b[0;34m\u001b[0m\u001b[0;34m\u001b[0m\u001b[0m\n\u001b[1;32m    777\u001b[0m           \u001b[0mxla_context\u001b[0m\u001b[0;34m.\u001b[0m\u001b[0mExit\u001b[0m\u001b[0;34m(\u001b[0m\u001b[0;34m)\u001b[0m\u001b[0;34m\u001b[0m\u001b[0;34m\u001b[0m\u001b[0m\n",
      "\u001b[0;32m~/anaconda3/envs/spylind/lib/python3.8/site-packages/tensorflow/python/eager/def_function.py\u001b[0m in \u001b[0;36m_call\u001b[0;34m(self, *args, **kwds)\u001b[0m\n\u001b[1;32m    844\u001b[0m               *args, **kwds)\n\u001b[1;32m    845\u001b[0m       \u001b[0;31m# If we did not create any variables the trace we have is good enough.\u001b[0m\u001b[0;34m\u001b[0m\u001b[0;34m\u001b[0m\u001b[0;34m\u001b[0m\u001b[0m\n\u001b[0;32m--> 846\u001b[0;31m       \u001b[0;32mreturn\u001b[0m \u001b[0mself\u001b[0m\u001b[0;34m.\u001b[0m\u001b[0m_concrete_stateful_fn\u001b[0m\u001b[0;34m.\u001b[0m\u001b[0m_filtered_call\u001b[0m\u001b[0;34m(\u001b[0m\u001b[0mcanon_args\u001b[0m\u001b[0;34m,\u001b[0m \u001b[0mcanon_kwds\u001b[0m\u001b[0;34m)\u001b[0m  \u001b[0;31m# pylint: disable=protected-access\u001b[0m\u001b[0;34m\u001b[0m\u001b[0;34m\u001b[0m\u001b[0m\n\u001b[0m\u001b[1;32m    847\u001b[0m \u001b[0;34m\u001b[0m\u001b[0m\n\u001b[1;32m    848\u001b[0m     \u001b[0;32mdef\u001b[0m \u001b[0mfn_with_cond\u001b[0m\u001b[0;34m(\u001b[0m\u001b[0;34m*\u001b[0m\u001b[0minner_args\u001b[0m\u001b[0;34m,\u001b[0m \u001b[0;34m**\u001b[0m\u001b[0minner_kwds\u001b[0m\u001b[0;34m)\u001b[0m\u001b[0;34m:\u001b[0m\u001b[0;34m\u001b[0m\u001b[0;34m\u001b[0m\u001b[0m\n",
      "\u001b[0;32m~/anaconda3/envs/spylind/lib/python3.8/site-packages/tensorflow/python/eager/function.py\u001b[0m in \u001b[0;36m_filtered_call\u001b[0;34m(self, args, kwargs, cancellation_manager)\u001b[0m\n\u001b[1;32m   1841\u001b[0m       \u001b[0;31m`\u001b[0m\u001b[0margs\u001b[0m\u001b[0;31m`\u001b[0m \u001b[0;32mand\u001b[0m\u001b[0;31m \u001b[0m\u001b[0;31m`\u001b[0m\u001b[0mkwargs\u001b[0m\u001b[0;31m`\u001b[0m\u001b[0;34m.\u001b[0m\u001b[0;34m\u001b[0m\u001b[0;34m\u001b[0m\u001b[0m\n\u001b[1;32m   1842\u001b[0m     \"\"\"\n\u001b[0;32m-> 1843\u001b[0;31m     return self._call_flat(\n\u001b[0m\u001b[1;32m   1844\u001b[0m         [t for t in nest.flatten((args, kwargs), expand_composites=True)\n\u001b[1;32m   1845\u001b[0m          if isinstance(t, (ops.Tensor,\n",
      "\u001b[0;32m~/anaconda3/envs/spylind/lib/python3.8/site-packages/tensorflow/python/eager/function.py\u001b[0m in \u001b[0;36m_call_flat\u001b[0;34m(self, args, captured_inputs, cancellation_manager)\u001b[0m\n\u001b[1;32m   1921\u001b[0m         and executing_eagerly):\n\u001b[1;32m   1922\u001b[0m       \u001b[0;31m# No tape is watching; skip to running the function.\u001b[0m\u001b[0;34m\u001b[0m\u001b[0;34m\u001b[0m\u001b[0;34m\u001b[0m\u001b[0m\n\u001b[0;32m-> 1923\u001b[0;31m       return self._build_call_outputs(self._inference_function.call(\n\u001b[0m\u001b[1;32m   1924\u001b[0m           ctx, args, cancellation_manager=cancellation_manager))\n\u001b[1;32m   1925\u001b[0m     forward_backward = self._select_forward_and_backward_functions(\n",
      "\u001b[0;32m~/anaconda3/envs/spylind/lib/python3.8/site-packages/tensorflow/python/eager/function.py\u001b[0m in \u001b[0;36mcall\u001b[0;34m(self, ctx, args, cancellation_manager)\u001b[0m\n\u001b[1;32m    543\u001b[0m       \u001b[0;32mwith\u001b[0m \u001b[0m_InterpolateFunctionError\u001b[0m\u001b[0;34m(\u001b[0m\u001b[0mself\u001b[0m\u001b[0;34m)\u001b[0m\u001b[0;34m:\u001b[0m\u001b[0;34m\u001b[0m\u001b[0;34m\u001b[0m\u001b[0m\n\u001b[1;32m    544\u001b[0m         \u001b[0;32mif\u001b[0m \u001b[0mcancellation_manager\u001b[0m \u001b[0;32mis\u001b[0m \u001b[0;32mNone\u001b[0m\u001b[0;34m:\u001b[0m\u001b[0;34m\u001b[0m\u001b[0;34m\u001b[0m\u001b[0m\n\u001b[0;32m--> 545\u001b[0;31m           outputs = execute.execute(\n\u001b[0m\u001b[1;32m    546\u001b[0m               \u001b[0mstr\u001b[0m\u001b[0;34m(\u001b[0m\u001b[0mself\u001b[0m\u001b[0;34m.\u001b[0m\u001b[0msignature\u001b[0m\u001b[0;34m.\u001b[0m\u001b[0mname\u001b[0m\u001b[0;34m)\u001b[0m\u001b[0;34m,\u001b[0m\u001b[0;34m\u001b[0m\u001b[0;34m\u001b[0m\u001b[0m\n\u001b[1;32m    547\u001b[0m               \u001b[0mnum_outputs\u001b[0m\u001b[0;34m=\u001b[0m\u001b[0mself\u001b[0m\u001b[0;34m.\u001b[0m\u001b[0m_num_outputs\u001b[0m\u001b[0;34m,\u001b[0m\u001b[0;34m\u001b[0m\u001b[0;34m\u001b[0m\u001b[0m\n",
      "\u001b[0;32m~/anaconda3/envs/spylind/lib/python3.8/site-packages/tensorflow/python/eager/execute.py\u001b[0m in \u001b[0;36mquick_execute\u001b[0;34m(op_name, num_outputs, inputs, attrs, ctx, name)\u001b[0m\n\u001b[1;32m     57\u001b[0m   \u001b[0;32mtry\u001b[0m\u001b[0;34m:\u001b[0m\u001b[0;34m\u001b[0m\u001b[0;34m\u001b[0m\u001b[0m\n\u001b[1;32m     58\u001b[0m     \u001b[0mctx\u001b[0m\u001b[0;34m.\u001b[0m\u001b[0mensure_initialized\u001b[0m\u001b[0;34m(\u001b[0m\u001b[0;34m)\u001b[0m\u001b[0;34m\u001b[0m\u001b[0;34m\u001b[0m\u001b[0m\n\u001b[0;32m---> 59\u001b[0;31m     tensors = pywrap_tfe.TFE_Py_Execute(ctx._handle, device_name, op_name,\n\u001b[0m\u001b[1;32m     60\u001b[0m                                         inputs, attrs, num_outputs)\n\u001b[1;32m     61\u001b[0m   \u001b[0;32mexcept\u001b[0m \u001b[0mcore\u001b[0m\u001b[0;34m.\u001b[0m\u001b[0m_NotOkStatusException\u001b[0m \u001b[0;32mas\u001b[0m \u001b[0me\u001b[0m\u001b[0;34m:\u001b[0m\u001b[0;34m\u001b[0m\u001b[0;34m\u001b[0m\u001b[0m\n",
      "\u001b[0;31mInvalidArgumentError\u001b[0m: Argument 0 to function '__inference_f_1488041' must be a compile-time constant, but unable to resolve argument value to a constant.\n\t [[{{node while}}]] [Op:__inference_test_1488155]"
     ]
    }
   ],
   "source": [
    "#%time t(randL3)\n",
    "%time t(randL)"
   ]
  },
  {
   "cell_type": "code",
   "execution_count": 118,
   "metadata": {},
   "outputs": [
    {
     "name": "stdout",
     "output_type": "stream",
     "text": [
      "CPU times: user 0 ns, sys: 1e+03 µs, total: 1e+03 µs\n",
      "Wall time: 671 µs\n",
      "CPU times: user 1e+03 µs, sys: 0 ns, total: 1e+03 µs\n",
      "Wall time: 1.49 ms\n",
      "CPU times: user 1 ms, sys: 0 ns, total: 1 ms\n",
      "Wall time: 609 µs\n"
     ]
    }
   ],
   "source": [
    "%time t(randL)\n",
    "%time t(randL2)\n",
    "%time t(randL3)"
   ]
  },
  {
   "cell_type": "code",
   "execution_count": 6,
   "metadata": {},
   "outputs": [
    {
     "name": "stdout",
     "output_type": "stream",
     "text": [
      "230 µs ± 50.3 µs per loop (mean ± std. dev. of 7 runs, 1000 loops each)\n"
     ]
    }
   ],
   "source": [
    "%timeit intpF(tf.constant(0.5, dtype='float64'))"
   ]
  },
  {
   "cell_type": "code",
   "execution_count": null,
   "metadata": {},
   "outputs": [],
   "source": [
    "%timeit f(c)"
   ]
  },
  {
   "cell_type": "code",
   "execution_count": 67,
   "metadata": {},
   "outputs": [
    {
     "name": "stdout",
     "output_type": "stream",
     "text": [
      "CPU times: user 40 ms, sys: 1 ms, total: 41 ms\n",
      "Wall time: 41.2 ms\n",
      "CPU times: user 42 ms, sys: 0 ns, total: 42 ms\n",
      "Wall time: 41.3 ms\n"
     ]
    }
   ],
   "source": [
    "\n",
    "#f = tf.function(intpF, experimental_compile=True)\n",
    "f = intpF\n",
    "def test(randL):\n",
    "    return tf.map_fn(f, randL)\n",
    "t= tf.function(test, experimental_compile=True)\n",
    "out = t(randL)\n",
    "%time out=t(randL2)\n",
    "%time out=t(randL3)"
   ]
  },
  {
   "cell_type": "code",
   "execution_count": 70,
   "metadata": {},
   "outputs": [
    {
     "data": {
      "text/plain": [
       "[<matplotlib.lines.Line2D at 0x7008edca8b20>]"
      ]
     },
     "execution_count": 70,
     "metadata": {},
     "output_type": "execute_result"
    },
    {
     "data": {
      "image/png": "[encoded data removed]",
      "text/plain": [
       "<Figure size 460.8x316.8 with 1 Axes>"
      ]
     },
     "metadata": {
      "needs_background": "light"
     },
     "output_type": "display_data"
    }
   ],
   "source": [
    "plot(xRef, yRef)"
   ]
  },
  {
   "cell_type": "code",
   "execution_count": null,
   "metadata": {},
   "outputs": [],
   "source": []
  },
  {
   "cell_type": "markdown",
   "metadata": {},
   "source": [
    "# Autograd and interpolating"
   ]
  },
  {
   "cell_type": "code",
   "execution_count": 2,
   "metadata": {},
   "outputs": [],
   "source": [
    "%load_ext autoreload\n",
    "%autoreload 2\n",
    "import tensorflow as tf\n",
    "import sympy as sm\n",
    "from spylind import spyIVP as so\n",
    "from pylab import *\n",
    "import time\n",
    "from spylind.tf_misc import tf_interpolator2\n",
    "if 0:\n",
    "    def tf_interpolator(xOrig, yOrig):\n",
    "        xOrig = tf.constant(tf.convert_to_tensor(xOrig, dtype=tf.float64))\n",
    "        yOrig = tf.constant(tf.convert_to_tensor(yOrig, dtype=tf.float64))\n",
    "\n",
    "        N = xOrig.shape[0]\n",
    "        dx = xOrig[1]-xOrig[0]\n",
    "        x0 = xOrig[0]\n",
    "        xMax = xOrig[-1]\n",
    "        zero = tf.constant(0, dtype=tf.float64)\n",
    "        #@tf.function(experimental_compile=True)\n",
    "        def f(x):\n",
    "            #pdb.set_trace()\n",
    "            #ind = tf.math.floormod((x-x0), dx)\n",
    "\n",
    "            if x>=xMax or x<x0:\n",
    "                return zero#tf.constant(0., dtype=tf.float64);\n",
    "            else:\n",
    "                ind_f = tf.math.floordiv(x-x0, dx)\n",
    "                remainder = (x/dx- ind_f)\n",
    "                ind=tf.cast(ind_f, tf.int64)\n",
    "                #tf.print(remainder)\n",
    "                return (1.-remainder)*yOrig[ind] + remainder*yOrig[ind+1]\n",
    "        return f\n",
    "    def tf_interpolator2(xOrig, yOrig):\n",
    "        xOrig = tf.constant(tf.convert_to_tensor(xOrig, dtype=tf.float64))\n",
    "        #yOrig = tf.constant(tf.convert_to_tensor(yOrig, dtype=tf.float64))\n",
    "\n",
    "        N = xOrig.shape[0]\n",
    "        dx = xOrig[1]-xOrig[0]\n",
    "        x0 = xOrig[0]\n",
    "        xMax = xOrig[-1]\n",
    "        zero = tf.constant(0, dtype=tf.float64)\n",
    "        mask = tf.concat([tf.constant([0.5,0.5], dtype='float64'), tf.zeros(xOrig.shape[0]-2, dtype='float64') ], axis=0)\n",
    "        def f(x):\n",
    "            #pdb.set_trace()\n",
    "            #ind = tf.math.floormod((x-x0), dx)\n",
    "\n",
    "            if x>=xMax or x<x0:\n",
    "                return zero#tf.constant(0., dtype=tf.float64);\n",
    "            else:\n",
    "                ind = tf.math.floordiv(x-x0, dx)\n",
    "                remainder = x- ind*dx\n",
    "                ind=tf.cast(ind, tf.int64)\n",
    "                res = tf.roll(mask, ind, axis=0)*yOrig\n",
    "                return tf.reduce_sum(res)\n",
    "        return f\n",
    "\n"
   ]
  },
  {
   "cell_type": "code",
   "execution_count": 3,
   "metadata": {},
   "outputs": [
    {
     "name": "stdout",
     "output_type": "stream",
     "text": [
      "Munch({'tSym': t, 'dimSyms': [z], 'prop_state_syms': [x, y, v_x, v_y], 'stationary_state_syms': [], 'driving_syms': [], 'state_dep_syms': [D]})\n",
      "state dependent functions should have signature [t, z, x, y, v_x, v_y]\n"
     ]
    }
   ],
   "source": [
    "\n",
    "\n",
    "xS, yS, vxS, vyS = sm.symbols(\"x, y, v_x, v_y\", real=True)\n",
    "drvS = sm.symbols(\"D\", real=True)\n",
    "\n",
    "zS = sm.symbols(\"z\", real=True)\n",
    "#g= tf.constant(-10.0, dtype='float64')\n",
    "g = -10.\n",
    "dy_dtD = {xS:vxS, \n",
    "       yS:vyS ,\n",
    "       vxS:0 +0*zS,\n",
    "       vyS: g + drvS  }\n",
    "\n",
    "@tf.function(experimental_compile=True)\n",
    "def f_driving(t):\n",
    "    return 30*tf.sin(2*pi*t)\n",
    "\n",
    "\n",
    "tDrv = linspace(0,2,100)\n",
    "yDrv0 = 0*tf.sin(2*pi*tDrv) + 10\n",
    "#yDrv0 = tf.convert_to_tensor(yN.repeat(4), dtype='float64')\n",
    "ode_s = so.ODESolver(dy_dtD,  dims={zS:linspace(-2,2,10)}, backend='tensorflow', default_dtype='float64')\n",
    "ode_s.set_initial_conditions({xS:0,yS:0,vxS:10,vyS:10}) \n",
    "\n",
    "def calc_g(yDrv):\n",
    "    yDrv =tf.convert_to_tensor(yDrv, dtype='float64')\n",
    "    f_driving = tf.function(tf_interpolator2(tDrv, yDrv), experimental_compile=False)\n",
    "\n",
    "    ode_s.set_driving({drvS:f_driving})\n",
    "    ode_s.setup(bForceStateDimensions=True)\n",
    "    tSteps = linspace(0,1.8,20)\n",
    "\n",
    "    with tf.device(\"/cpu:0\"):\n",
    "        with tf.GradientTape(watch_accessed_variables=False) as g:\n",
    "            #g.watch(p0)\n",
    "            g.watch(yDrv)\n",
    "            #arr =ode_s.integrate(tSteps, 1.0)\n",
    "            tStart = time.time()\n",
    "            arr = ode_s.integrate(tDrv,1.0, method='rk4', solver_options=dict(step_size = (tDrv[1]-tDrv[0])/2 ) ) \n",
    "            print(\"time taken: \", tStart-time.time())\n",
    "            #print(arr.shape)\n",
    "            #L=tf.pow(tf.reduce_mean(arr[-1,1]), 2)\n",
    "            L=tf.reduce_mean(tf.pow(arr[-30:,1],2))\n",
    "            #L = arr[-8:,1, 1]**2\n",
    "            #L = arr[-5:,1]\n",
    "\n",
    "    print(L.numpy())\n",
    "    grad = g.gradient(L, yDrv)\n",
    "    return arr[:,1],grad, L"
   ]
  },
  {
   "cell_type": "code",
   "execution_count": 78,
   "metadata": {},
   "outputs": [
    {
     "name": "stdout",
     "output_type": "stream",
     "text": [
      "Nevals: <tf.Variable 'Variable:0' shape=() dtype=int32, numpy=792>\n",
      "time taken:  -1.4056198596954346\n",
      "294.4665510322082\n",
      "Nevals: <tf.Variable 'Variable:0' shape=() dtype=int32, numpy=792>\n",
      "time taken:  -1.4158422946929932\n",
      "288.11724547402156\n",
      "Nevals: <tf.Variable 'Variable:0' shape=() dtype=int32, numpy=792>\n",
      "time taken:  -1.6745526790618896\n",
      "263.41389561831136\n",
      "Nevals: <tf.Variable 'Variable:0' shape=() dtype=int32, numpy=792>\n",
      "time taken:  -1.5247461795806885\n",
      "175.70245422805414\n",
      "Nevals: <tf.Variable 'Variable:0' shape=() dtype=int32, numpy=792>\n",
      "time taken:  -1.3891596794128418\n",
      "18.057207271862097\n",
      "Nevals: <tf.Variable 'Variable:0' shape=() dtype=int32, numpy=792>\n",
      "time taken:  -1.4140186309814453\n",
      "0.7841116836639345\n",
      "Nevals: <tf.Variable 'Variable:0' shape=() dtype=int32, numpy=792>\n",
      "time taken:  -2.0409984588623047\n",
      "0.7834604735408546\n",
      "Nevals: <tf.Variable 'Variable:0' shape=() dtype=int32, numpy=792>\n",
      "time taken:  -1.576878547668457\n",
      "0.7808584804798955\n",
      "Nevals: <tf.Variable 'Variable:0' shape=() dtype=int32, numpy=792>\n",
      "time taken:  -1.3291282653808594\n",
      "0.7704960671377389\n",
      "Nevals: <tf.Variable 'Variable:0' shape=() dtype=int32, numpy=792>\n",
      "time taken:  -1.3432331085205078\n",
      "0.7297753561960549\n",
      "Nevals: <tf.Variable 'Variable:0' shape=() dtype=int32, numpy=792>\n",
      "time taken:  -2.1836142539978027\n",
      "0.5785555912604793\n",
      "Nevals: <tf.Variable 'Variable:0' shape=() dtype=int32, numpy=792>\n",
      "time taken:  -1.5204620361328125\n",
      "0.23856147230694003\n",
      "Nevals: <tf.Variable 'Variable:0' shape=() dtype=int32, numpy=792>\n",
      "time taken:  -1.7319974899291992\n",
      "0.0055459357944297565\n",
      "Nevals: <tf.Variable 'Variable:0' shape=() dtype=int32, numpy=792>\n",
      "time taken:  -1.7665233612060547\n",
      "0.005545694347316085\n",
      "Nevals: <tf.Variable 'Variable:0' shape=() dtype=int32, numpy=792>\n",
      "time taken:  -1.5486836433410645\n",
      "0.005545380330958734\n",
      "Nevals: <tf.Variable 'Variable:0' shape=() dtype=int32, numpy=792>\n",
      "time taken:  -1.7463243007659912\n",
      "0.005544809981141943\n",
      "Nevals: <tf.Variable 'Variable:0' shape=() dtype=int32, numpy=792>\n",
      "time taken:  -1.570918321609497\n",
      "0.005543745780861552\n",
      "Nevals: <tf.Variable 'Variable:0' shape=() dtype=int32, numpy=792>\n",
      "time taken:  -3.055107831954956\n",
      "0.005541748087754486\n",
      "Nevals: <tf.Variable 'Variable:0' shape=() dtype=int32, numpy=792>\n",
      "time taken:  -3.5367026329040527\n",
      "0.00553801681300337\n",
      "Nevals: <tf.Variable 'Variable:0' shape=() dtype=int32, numpy=792>\n",
      "time taken:  -1.9519374370574951\n",
      "0.005531143324353479\n",
      "Nevals: <tf.Variable 'Variable:0' shape=() dtype=int32, numpy=792>\n",
      "time taken:  -1.4701943397521973\n",
      "0.005518769190301536\n",
      "Nevals: <tf.Variable 'Variable:0' shape=() dtype=int32, numpy=792>\n",
      "time taken:  -3.0607845783233643\n",
      "0.005497192769213976\n",
      "Nevals: <tf.Variable 'Variable:0' shape=() dtype=int32, numpy=792>\n",
      "time taken:  -2.441439390182495\n",
      "0.005460832163507138\n",
      "Nevals: <tf.Variable 'Variable:0' shape=() dtype=int32, numpy=792>\n",
      "time taken:  -1.4109463691711426\n",
      "0.005400472050633349\n",
      "Nevals: <tf.Variable 'Variable:0' shape=() dtype=int32, numpy=792>\n",
      "time taken:  -2.877619743347168\n",
      "0.005298276681365983\n",
      "Nevals: <tf.Variable 'Variable:0' shape=() dtype=int32, numpy=792>\n",
      "time taken:  -1.3840553760528564\n",
      "0.005120025359820744\n",
      "Nevals: <tf.Variable 'Variable:0' shape=() dtype=int32, numpy=792>\n",
      "time taken:  -1.6322693824768066\n",
      "0.0048047621914880595\n",
      "Nevals: <tf.Variable 'Variable:0' shape=() dtype=int32, numpy=792>\n",
      "time taken:  -1.2730355262756348\n",
      "0.004252712551675821\n",
      "Nevals: <tf.Variable 'Variable:0' shape=() dtype=int32, numpy=792>\n",
      "time taken:  -1.289485216140747\n",
      "0.0033301163152808853\n",
      "Nevals: <tf.Variable 'Variable:0' shape=() dtype=int32, numpy=792>\n",
      "time taken:  -1.304694652557373\n",
      "0.0019873002711287718\n",
      "Nevals: <tf.Variable 'Variable:0' shape=() dtype=int32, numpy=792>\n",
      "time taken:  -1.315864086151123\n",
      "0.0010122779723737462\n",
      "Nevals: <tf.Variable 'Variable:0' shape=() dtype=int32, numpy=792>\n",
      "time taken:  -1.5390944480895996\n",
      "0.00047293217107713154\n",
      "Nevals: <tf.Variable 'Variable:0' shape=() dtype=int32, numpy=792>\n",
      "time taken:  -1.2940945625305176\n",
      "0.00033177266811237785\n",
      "Nevals: <tf.Variable 'Variable:0' shape=() dtype=int32, numpy=792>\n",
      "time taken:  -1.5115911960601807\n",
      "0.00032206887088162854\n"
     ]
    }
   ],
   "source": [
    "from scipy import optimize\n",
    "def f(yDrv):\n",
    "    y, grad, L =calc_g(yDrv)\n",
    "    return L.numpy().squeeze(), grad.numpy()\n",
    "res=optimize.minimize(f, yDrv0, jac=True)\n",
    " "
   ]
  },
  {
   "cell_type": "code",
   "execution_count": 75,
   "metadata": {},
   "outputs": [
    {
     "name": "stdout",
     "output_type": "stream",
     "text": [
      "Nevals: <tf.Variable 'Variable:0' shape=() dtype=int32, numpy=792>\n",
      "time taken:  -1.4418601989746094\n",
      "3.0830106257856106e-06\n"
     ]
    }
   ],
   "source": [
    "y,grad,L= calc_g(res.x)"
   ]
  },
  {
   "cell_type": "code",
   "execution_count": 76,
   "metadata": {},
   "outputs": [
    {
     "data": {
      "text/plain": [
       "[<matplotlib.lines.Line2D at 0x74b627e88e20>,\n",
       " <matplotlib.lines.Line2D at 0x74b640135a30>,\n",
       " <matplotlib.lines.Line2D at 0x74b6401351f0>,\n",
       " <matplotlib.lines.Line2D at 0x74b640135d60>,\n",
       " <matplotlib.lines.Line2D at 0x74b640135760>,\n",
       " <matplotlib.lines.Line2D at 0x74b640135220>,\n",
       " <matplotlib.lines.Line2D at 0x74b625f23dc0>,\n",
       " <matplotlib.lines.Line2D at 0x74b625f23610>,\n",
       " <matplotlib.lines.Line2D at 0x74b625f232e0>,\n",
       " <matplotlib.lines.Line2D at 0x74b625f238b0>]"
      ]
     },
     "execution_count": 76,
     "metadata": {},
     "output_type": "execute_result"
    },
    {
     "data": {
      "image/png": "[encoded data removed]",
      "text/plain": [
       "<Figure size 460.8x316.8 with 1 Axes>"
      ]
     },
     "metadata": {
      "needs_background": "light"
     },
     "output_type": "display_data"
    }
   ],
   "source": [
    "plot(y)"
   ]
  },
  {
   "cell_type": "code",
   "execution_count": 36,
   "metadata": {},
   "outputs": [
    {
     "name": "stdout",
     "output_type": "stream",
     "text": [
      "Nevals: <tf.Variable 'Variable:0' shape=() dtype=int32, numpy=152>\n",
      "time taken:  -0.5739936828613281\n",
      "322.4376731301938\n"
     ]
    },
    {
     "data": {
      "text/plain": [
       "[<matplotlib.lines.Line2D at 0x74b6402da970>]"
      ]
     },
     "execution_count": 36,
     "metadata": {},
     "output_type": "execute_result"
    },
    {
     "data": {
      "image/png": "[encoded data removed]",
      "text/plain": [
       "<Figure size 460.8x316.8 with 1 Axes>"
      ]
     },
     "metadata": {
      "needs_background": "light"
     },
     "output_type": "display_data"
    },
    {
     "data": {
      "image/png": "[encoded data removed]",
      "text/plain": [
       "<Figure size 460.8x316.8 with 1 Axes>"
      ]
     },
     "metadata": {
      "needs_background": "light"
     },
     "output_type": "display_data"
    }
   ],
   "source": [
    "grad, yVals =calc_g(1*yDrv0)\n",
    "plot(yVals)\n",
    "figure()\n",
    "plot(grad)"
   ]
  },
  {
   "cell_type": "code",
   "execution_count": 49,
   "metadata": {},
   "outputs": [
    {
     "name": "stdout",
     "output_type": "stream",
     "text": [
      "Nevals: <tf.Variable 'Variable:0' shape=() dtype=int32, numpy=152>\n",
      "time taken:  -0.6864047050476074\n",
      "0.4774245330185216\n",
      "Nevals: <tf.Variable 'Variable:0' shape=() dtype=int32, numpy=152>\n",
      "time taken:  -0.6651170253753662\n",
      "0.4710911934104487\n",
      "Nevals: <tf.Variable 'Variable:0' shape=() dtype=int32, numpy=152>\n",
      "time taken:  -0.5408155918121338\n",
      "0.46484233992072505\n",
      "Nevals: <tf.Variable 'Variable:0' shape=() dtype=int32, numpy=152>\n",
      "time taken:  -0.5213944911956787\n",
      "0.4586768453824449\n",
      "Nevals: <tf.Variable 'Variable:0' shape=() dtype=int32, numpy=152>\n",
      "time taken:  -0.5175118446350098\n",
      "0.45259359766677526\n",
      "Nevals: <tf.Variable 'Variable:0' shape=() dtype=int32, numpy=152>\n",
      "time taken:  -0.5104200839996338\n",
      "0.44659149948232646\n",
      "Nevals: <tf.Variable 'Variable:0' shape=() dtype=int32, numpy=152>\n",
      "time taken:  -0.5033252239227295\n",
      "0.4406694681771968\n",
      "Nevals: <tf.Variable 'Variable:0' shape=() dtype=int32, numpy=152>\n",
      "time taken:  -0.4954051971435547\n",
      "0.4348264355436618\n",
      "Nevals: <tf.Variable 'Variable:0' shape=() dtype=int32, numpy=152>\n",
      "time taken:  -0.5364322662353516\n",
      "0.42906134762546766\n"
     ]
    },
    {
     "ename": "KeyboardInterrupt",
     "evalue": "",
     "output_type": "error",
     "traceback": [
      "\u001b[0;31m---------------------------------------------------------------------------\u001b[0m",
      "\u001b[0;31mKeyboardInterrupt\u001b[0m                         Traceback (most recent call last)",
      "\u001b[0;32m<ipython-input-49-f44341c1579b>\u001b[0m in \u001b[0;36m<module>\u001b[0;34m\u001b[0m\n\u001b[1;32m      4\u001b[0m \u001b[0myValsL\u001b[0m \u001b[0;34m=\u001b[0m \u001b[0;34m[\u001b[0m\u001b[0;34m]\u001b[0m\u001b[0;34m\u001b[0m\u001b[0;34m\u001b[0m\u001b[0m\n\u001b[1;32m      5\u001b[0m \u001b[0;32mfor\u001b[0m \u001b[0mk\u001b[0m \u001b[0;32min\u001b[0m \u001b[0mrange\u001b[0m\u001b[0;34m(\u001b[0m\u001b[0;36m30\u001b[0m\u001b[0;34m)\u001b[0m\u001b[0;34m:\u001b[0m\u001b[0;34m\u001b[0m\u001b[0;34m\u001b[0m\u001b[0m\n\u001b[0;32m----> 6\u001b[0;31m     \u001b[0mgrad\u001b[0m\u001b[0;34m,\u001b[0m \u001b[0myVals\u001b[0m \u001b[0;34m=\u001b[0m\u001b[0mcalc_g\u001b[0m\u001b[0;34m(\u001b[0m\u001b[0myDrv\u001b[0m\u001b[0;34m)\u001b[0m\u001b[0;34m\u001b[0m\u001b[0;34m\u001b[0m\u001b[0m\n\u001b[0m\u001b[1;32m      7\u001b[0m     \u001b[0myDrv\u001b[0m \u001b[0;34m=\u001b[0m \u001b[0myDrv\u001b[0m \u001b[0;34m-\u001b[0m \u001b[0;36m4\u001b[0m\u001b[0;34m*\u001b[0m\u001b[0mgrad\u001b[0m\u001b[0;34m\u001b[0m\u001b[0;34m\u001b[0m\u001b[0m\n\u001b[1;32m      8\u001b[0m     \u001b[0myDrvL\u001b[0m\u001b[0;34m.\u001b[0m\u001b[0mappend\u001b[0m\u001b[0;34m(\u001b[0m\u001b[0myDrv\u001b[0m\u001b[0;34m)\u001b[0m\u001b[0;34m\u001b[0m\u001b[0;34m\u001b[0m\u001b[0m\n",
      "\u001b[0;32m<ipython-input-35-759a1614828c>\u001b[0m in \u001b[0;36mcalc_g\u001b[0;34m(yDrv)\u001b[0m\n\u001b[1;32m     34\u001b[0m             \u001b[0;31m#arr =ode_s.integrate(tSteps, 1.0)\u001b[0m\u001b[0;34m\u001b[0m\u001b[0;34m\u001b[0m\u001b[0;34m\u001b[0m\u001b[0m\n\u001b[1;32m     35\u001b[0m             \u001b[0mtStart\u001b[0m \u001b[0;34m=\u001b[0m \u001b[0mtime\u001b[0m\u001b[0;34m.\u001b[0m\u001b[0mtime\u001b[0m\u001b[0;34m(\u001b[0m\u001b[0;34m)\u001b[0m\u001b[0;34m\u001b[0m\u001b[0;34m\u001b[0m\u001b[0m\n\u001b[0;32m---> 36\u001b[0;31m             \u001b[0marr\u001b[0m \u001b[0;34m=\u001b[0m \u001b[0mode_s\u001b[0m\u001b[0;34m.\u001b[0m\u001b[0mintegrate\u001b[0m\u001b[0;34m(\u001b[0m\u001b[0mtDrv\u001b[0m\u001b[0;34m,\u001b[0m\u001b[0;36m1.0\u001b[0m\u001b[0;34m,\u001b[0m \u001b[0mmethod\u001b[0m\u001b[0;34m=\u001b[0m\u001b[0;34m'rk4'\u001b[0m\u001b[0;34m,\u001b[0m \u001b[0msolver_options\u001b[0m\u001b[0;34m=\u001b[0m\u001b[0mdict\u001b[0m\u001b[0;34m(\u001b[0m\u001b[0mstep_size\u001b[0m \u001b[0;34m=\u001b[0m \u001b[0;34m(\u001b[0m\u001b[0mtDrv\u001b[0m\u001b[0;34m[\u001b[0m\u001b[0;36m1\u001b[0m\u001b[0;34m]\u001b[0m\u001b[0;34m-\u001b[0m\u001b[0mtDrv\u001b[0m\u001b[0;34m[\u001b[0m\u001b[0;36m0\u001b[0m\u001b[0;34m]\u001b[0m\u001b[0;34m)\u001b[0m\u001b[0;34m/\u001b[0m\u001b[0;36m2\u001b[0m \u001b[0;34m)\u001b[0m \u001b[0;34m)\u001b[0m\u001b[0;34m\u001b[0m\u001b[0;34m\u001b[0m\u001b[0m\n\u001b[0m\u001b[1;32m     37\u001b[0m             \u001b[0mprint\u001b[0m\u001b[0;34m(\u001b[0m\u001b[0;34m\"time taken: \"\u001b[0m\u001b[0;34m,\u001b[0m \u001b[0mtStart\u001b[0m\u001b[0;34m-\u001b[0m\u001b[0mtime\u001b[0m\u001b[0;34m.\u001b[0m\u001b[0mtime\u001b[0m\u001b[0;34m(\u001b[0m\u001b[0;34m)\u001b[0m\u001b[0;34m)\u001b[0m\u001b[0;34m\u001b[0m\u001b[0;34m\u001b[0m\u001b[0m\n\u001b[1;32m     38\u001b[0m             \u001b[0;31m#print(arr.shape)\u001b[0m\u001b[0;34m\u001b[0m\u001b[0;34m\u001b[0m\u001b[0;34m\u001b[0m\u001b[0m\n",
      "\u001b[0;32m~/sd_base/home_dir/git/spylind/spylind/spyIVP.py\u001b[0m in \u001b[0;36mintegrate\u001b[0;34m(self, tSteps, max_step_size, atol, rtol, method, solver_options)\u001b[0m\n\u001b[1;32m    797\u001b[0m             \u001b[0;31m#dt(0.1, y_init)\u001b[0m\u001b[0;34m\u001b[0m\u001b[0;34m\u001b[0m\u001b[0;34m\u001b[0m\u001b[0m\n\u001b[1;32m    798\u001b[0m             \u001b[0mtf_model\u001b[0m \u001b[0;34m=\u001b[0m \u001b[0mTFdy_dt\u001b[0m\u001b[0;34m(\u001b[0m\u001b[0mf\u001b[0m\u001b[0;34m=\u001b[0m\u001b[0mself\u001b[0m\u001b[0;34m.\u001b[0m\u001b[0md_dt_fast\u001b[0m\u001b[0;34m.\u001b[0m\u001b[0m__call__\u001b[0m\u001b[0;34m)\u001b[0m\u001b[0;34m\u001b[0m\u001b[0;34m\u001b[0m\u001b[0m\n\u001b[0;32m--> 799\u001b[0;31m             \u001b[0msol\u001b[0m \u001b[0;34m=\u001b[0m \u001b[0mtfdiffeq\u001b[0m\u001b[0;34m.\u001b[0m\u001b[0modeint\u001b[0m\u001b[0;34m(\u001b[0m\u001b[0mtf_model\u001b[0m\u001b[0;34m,\u001b[0m \u001b[0my_init\u001b[0m\u001b[0;34m,\u001b[0m \u001b[0mtSteps_T\u001b[0m\u001b[0;34m,\u001b[0m \u001b[0mmethod\u001b[0m\u001b[0;34m=\u001b[0m\u001b[0mmethod\u001b[0m\u001b[0;34m,\u001b[0m \u001b[0matol\u001b[0m\u001b[0;34m=\u001b[0m\u001b[0matol\u001b[0m\u001b[0;34m,\u001b[0m \u001b[0mrtol\u001b[0m\u001b[0;34m=\u001b[0m\u001b[0mrtol\u001b[0m\u001b[0;34m,\u001b[0m \u001b[0moptions\u001b[0m\u001b[0;34m=\u001b[0m\u001b[0msolver_options\u001b[0m\u001b[0;34m)\u001b[0m\u001b[0;34m\u001b[0m\u001b[0;34m\u001b[0m\u001b[0m\n\u001b[0m\u001b[1;32m    800\u001b[0m             \u001b[0mprint\u001b[0m\u001b[0;34m(\u001b[0m\u001b[0;34m\"Nevals: {}\"\u001b[0m\u001b[0;34m.\u001b[0m\u001b[0mformat\u001b[0m\u001b[0;34m(\u001b[0m\u001b[0mtf_model\u001b[0m\u001b[0;34m.\u001b[0m\u001b[0mNevals\u001b[0m\u001b[0;34m)\u001b[0m\u001b[0;34m)\u001b[0m\u001b[0;34m\u001b[0m\u001b[0;34m\u001b[0m\u001b[0m\n\u001b[1;32m    801\u001b[0m             \u001b[0;31m#dErr_dIn = g.gradient(err_func, params )\u001b[0m\u001b[0;34m\u001b[0m\u001b[0;34m\u001b[0m\u001b[0;34m\u001b[0m\u001b[0m\n",
      "\u001b[0;32m~/sd_base/home_dir/git/tfdiffeq/tfdiffeq/odeint.py\u001b[0m in \u001b[0;36modeint\u001b[0;34m(func, y0, t, rtol, atol, method, options)\u001b[0m\n\u001b[1;32m     76\u001b[0m         \u001b[0mmethod\u001b[0m \u001b[0;34m=\u001b[0m \u001b[0;34m'dopri5'\u001b[0m\u001b[0;34m\u001b[0m\u001b[0;34m\u001b[0m\u001b[0m\n\u001b[1;32m     77\u001b[0m     \u001b[0msolver\u001b[0m \u001b[0;34m=\u001b[0m \u001b[0mSOLVERS\u001b[0m\u001b[0;34m[\u001b[0m\u001b[0mmethod\u001b[0m\u001b[0;34m]\u001b[0m\u001b[0;34m(\u001b[0m\u001b[0mfunc\u001b[0m\u001b[0;34m,\u001b[0m \u001b[0my0\u001b[0m\u001b[0;34m,\u001b[0m \u001b[0mrtol\u001b[0m\u001b[0;34m=\u001b[0m\u001b[0mrtol\u001b[0m\u001b[0;34m,\u001b[0m \u001b[0matol\u001b[0m\u001b[0;34m=\u001b[0m\u001b[0matol\u001b[0m\u001b[0;34m,\u001b[0m \u001b[0;34m**\u001b[0m\u001b[0moptions\u001b[0m\u001b[0;34m)\u001b[0m\u001b[0;34m\u001b[0m\u001b[0;34m\u001b[0m\u001b[0m\n\u001b[0;32m---> 78\u001b[0;31m     \u001b[0msolution\u001b[0m \u001b[0;34m=\u001b[0m \u001b[0msolver\u001b[0m\u001b[0;34m.\u001b[0m\u001b[0mintegrate\u001b[0m\u001b[0;34m(\u001b[0m\u001b[0mt\u001b[0m\u001b[0;34m)\u001b[0m\u001b[0;34m\u001b[0m\u001b[0;34m\u001b[0m\u001b[0m\n\u001b[0m\u001b[1;32m     79\u001b[0m     \u001b[0;32mif\u001b[0m \u001b[0mtensor_input\u001b[0m\u001b[0;34m:\u001b[0m\u001b[0;34m\u001b[0m\u001b[0;34m\u001b[0m\u001b[0m\n\u001b[1;32m     80\u001b[0m         \u001b[0msolution\u001b[0m \u001b[0;34m=\u001b[0m \u001b[0msolution\u001b[0m\u001b[0;34m[\u001b[0m\u001b[0;36m0\u001b[0m\u001b[0;34m]\u001b[0m\u001b[0;34m\u001b[0m\u001b[0;34m\u001b[0m\u001b[0m\n",
      "\u001b[0;32m~/sd_base/home_dir/git/tfdiffeq/tfdiffeq/solvers.py\u001b[0m in \u001b[0;36mintegrate\u001b[0;34m(self, t)\u001b[0m\n\u001b[1;32m     97\u001b[0m             \u001b[0my1\u001b[0m \u001b[0;34m=\u001b[0m \u001b[0mtuple\u001b[0m\u001b[0;34m(\u001b[0m\u001b[0my0_\u001b[0m \u001b[0;34m+\u001b[0m \u001b[0mdy_\u001b[0m \u001b[0;32mfor\u001b[0m \u001b[0my0_\u001b[0m\u001b[0;34m,\u001b[0m \u001b[0mdy_\u001b[0m \u001b[0;32min\u001b[0m \u001b[0mzip\u001b[0m\u001b[0;34m(\u001b[0m\u001b[0my0\u001b[0m\u001b[0;34m,\u001b[0m \u001b[0mdy\u001b[0m\u001b[0;34m)\u001b[0m\u001b[0;34m)\u001b[0m\u001b[0;34m\u001b[0m\u001b[0;34m\u001b[0m\u001b[0m\n\u001b[1;32m     98\u001b[0m \u001b[0;34m\u001b[0m\u001b[0m\n\u001b[0;32m---> 99\u001b[0;31m             \u001b[0;32mwhile\u001b[0m \u001b[0mj\u001b[0m \u001b[0;34m<\u001b[0m \u001b[0mt\u001b[0m\u001b[0;34m.\u001b[0m\u001b[0mshape\u001b[0m\u001b[0;34m[\u001b[0m\u001b[0;36m0\u001b[0m\u001b[0;34m]\u001b[0m \u001b[0;32mand\u001b[0m \u001b[0mt1\u001b[0m \u001b[0;34m>=\u001b[0m \u001b[0mt\u001b[0m\u001b[0;34m[\u001b[0m\u001b[0mj\u001b[0m\u001b[0;34m]\u001b[0m\u001b[0;34m:\u001b[0m\u001b[0;34m\u001b[0m\u001b[0;34m\u001b[0m\u001b[0m\n\u001b[0m\u001b[1;32m    100\u001b[0m                 \u001b[0my\u001b[0m \u001b[0;34m=\u001b[0m \u001b[0mself\u001b[0m\u001b[0;34m.\u001b[0m\u001b[0m_linear_interp\u001b[0m\u001b[0;34m(\u001b[0m\u001b[0mt0\u001b[0m\u001b[0;34m,\u001b[0m \u001b[0mt1\u001b[0m\u001b[0;34m,\u001b[0m \u001b[0my0\u001b[0m\u001b[0;34m,\u001b[0m \u001b[0my1\u001b[0m\u001b[0;34m,\u001b[0m \u001b[0mt\u001b[0m\u001b[0;34m[\u001b[0m\u001b[0mj\u001b[0m\u001b[0;34m]\u001b[0m\u001b[0;34m)\u001b[0m\u001b[0;34m\u001b[0m\u001b[0;34m\u001b[0m\u001b[0m\n\u001b[1;32m    101\u001b[0m                 \u001b[0msolution\u001b[0m\u001b[0;34m.\u001b[0m\u001b[0mappend\u001b[0m\u001b[0;34m(\u001b[0m\u001b[0my\u001b[0m\u001b[0;34m)\u001b[0m\u001b[0;34m\u001b[0m\u001b[0;34m\u001b[0m\u001b[0m\n",
      "\u001b[0;31mKeyboardInterrupt\u001b[0m: "
     ]
    }
   ],
   "source": [
    "#yDrv = tf.identity(yDrv0)\n",
    "yDrvL = []\n",
    "gradL = []\n",
    "yValsL = []\n",
    "for k in range(30):\n",
    "    grad, yVals =calc_g(yDrv)\n",
    "    yDrv = yDrv - 4*grad\n",
    "    yDrvL.append(yDrv)\n",
    "    gradL.append(grad)\n",
    "    yValsL.append(yVals)"
   ]
  },
  {
   "cell_type": "code",
   "execution_count": 51,
   "metadata": {},
   "outputs": [
    {
     "data": {
      "image/png": "[encoded data removed]",
      "text/plain": [
       "<Figure size 460.8x316.8 with 1 Axes>"
      ]
     },
     "metadata": {
      "needs_background": "light"
     },
     "output_type": "display_data"
    },
    {
     "data": {
      "image/png": "[encoded data removed]",
      "text/plain": [
       "<Figure size 460.8x316.8 with 1 Axes>"
      ]
     },
     "metadata": {
      "needs_background": "light"
     },
     "output_type": "display_data"
    },
    {
     "data": {
      "image/png": "[encoded data removed]",
      "text/plain": [
       "<Figure size 460.8x316.8 with 1 Axes>"
      ]
     },
     "metadata": {
      "needs_background": "light"
     },
     "output_type": "display_data"
    },
    {
     "data": {
      "image/png": "[encoded data removed]",
      "text/plain": [
       "<Figure size 460.8x316.8 with 1 Axes>"
      ]
     },
     "metadata": {
      "needs_background": "light"
     },
     "output_type": "display_data"
    }
   ],
   "source": [
    "#plot(yDrv0)\n",
    "slc = slice(0,30)\n",
    "for y in yDrvL[slc]:\n",
    "    plot(y)\n",
    "legend(arange(10))\n",
    "title('drv')\n",
    "figure()\n",
    "for y in gradL[slc]:\n",
    "    plot(y)\n",
    "legend(arange(10))\n",
    "title('grad')\n",
    "if 1:\n",
    "    figure()\n",
    "    for y in yValsL[slc]:\n",
    "        plot(tf.reduce_mean(y, axis=-1))\n",
    "    legend(arange(10))\n",
    "    title('val')\n",
    "    k =-1\n",
    "    figure()\n",
    "    plot(tf.reduce_mean(yValsL[-2], axis=-1)-tf.reduce_mean(yValsL[-1], axis=-1))\n",
    "    title('last')"
   ]
  },
  {
   "cell_type": "code",
   "execution_count": 45,
   "metadata": {},
   "outputs": [
    {
     "data": {
      "text/plain": [
       "[<matplotlib.lines.Line2D at 0x7b7f18952490>]"
      ]
     },
     "execution_count": 45,
     "metadata": {},
     "output_type": "execute_result"
    },
    {
     "data": {
      "image/png": "[encoded data removed]",
      "text/plain": [
       "<Figure size 460.8x316.8 with 1 Axes>"
      ]
     },
     "metadata": {
      "needs_background": "light"
     },
     "output_type": "display_data"
    }
   ],
   "source": [
    "plot(grad)"
   ]
  },
  {
   "cell_type": "code",
   "execution_count": 34,
   "metadata": {},
   "outputs": [
    {
     "data": {
      "text/plain": [
       "[<matplotlib.lines.Line2D at 0x7b7f12c03e50>,\n",
       " <matplotlib.lines.Line2D at 0x7b7f12c03280>,\n",
       " <matplotlib.lines.Line2D at 0x7b7f12c03670>,\n",
       " <matplotlib.lines.Line2D at 0x7b7f12c03340>]"
      ]
     },
     "execution_count": 34,
     "metadata": {},
     "output_type": "execute_result"
    },
    {
     "data": {
      "image/png": "[encoded data removed]",
      "text/plain": [
       "<Figure size 460.8x316.8 with 1 Axes>"
      ]
     },
     "metadata": {
      "needs_background": "light"
     },
     "output_type": "display_data"
    }
   ],
   "source": [
    "plot(tSteps, arr[:,:,50])"
   ]
  },
  {
   "cell_type": "code",
   "execution_count": 9,
   "metadata": {},
   "outputs": [
    {
     "data": {
      "text/plain": [
       "<tf.Tensor: shape=(1000,), dtype=float64, numpy=\n",
       "array([0.        , 0.001001  , 0.002002  , 0.003003  , 0.004004  ,\n",
       "       0.00500501, 0.00600601, 0.00700701, 0.00800801, 0.00900901,\n",
       "       0.01001001, 0.01101101, 0.01201201, 0.01301301, 0.01401401,\n",
       "       0.01501502, 0.01601602, 0.01701702, 0.01801802, 0.01901902,\n",
       "       0.02002002, 0.02102102, 0.02202202, 0.02302302, 0.02402402,\n",
       "       0.02502503, 0.02602603, 0.02702703, 0.02802803, 0.02902903,\n",
       "       0.03003003, 0.03103103, 0.03203203, 0.03303303, 0.03403403,\n",
       "       0.03503504, 0.03603604, 0.03703704, 0.03803804, 0.03903904,\n",
       "       0.04004004, 0.04104104, 0.04204204, 0.04304304, 0.04404404,\n",
       "       0.04504505, 0.04604605, 0.04704705, 0.04804805, 0.04904905,\n",
       "       0.05005005, 0.05105105, 0.05205205, 0.05305305, 0.05405405,\n",
       "       0.05505506, 0.05605606, 0.05705706, 0.05805806, 0.05905906,\n",
       "       0.06006006, 0.06106106, 0.06206206, 0.06306306, 0.06406406,\n",
       "       0.06506507, 0.06606607, 0.06706707, 0.06806807, 0.06906907,\n",
       "       0.07007007, 0.07107107, 0.07207207, 0.07307307, 0.07407407,\n",
       "       0.07507508, 0.07607608, 0.07707708, 0.07807808, 0.07907908,\n",
       "       0.08008008, 0.08108108, 0.08208208, 0.08308308, 0.08408408,\n",
       "       0.08508509, 0.08608609, 0.08708709, 0.08808809, 0.08908909,\n",
       "       0.09009009, 0.09109109, 0.09209209, 0.09309309, 0.09409409,\n",
       "       0.0950951 , 0.0960961 , 0.0970971 , 0.0980981 , 0.0990991 ,\n",
       "       0.1001001 , 0.1011011 , 0.1021021 , 0.1031031 , 0.1041041 ,\n",
       "       0.10510511, 0.10610611, 0.10710711, 0.10810811, 0.10910911,\n",
       "       0.11011011, 0.11111111, 0.11211211, 0.11311311, 0.11411411,\n",
       "       0.11511512, 0.11611612, 0.11711712, 0.11811812, 0.11911912,\n",
       "       0.12012012, 0.12112112, 0.12212212, 0.12312312, 0.12412412,\n",
       "       0.12512513, 0.12612613, 0.12712713, 0.12812813, 0.12912913,\n",
       "       0.13013013, 0.13113113, 0.13213213, 0.13313313, 0.13413413,\n",
       "       0.13513514, 0.13613614, 0.13713714, 0.13813814, 0.13913914,\n",
       "       0.14014014, 0.14114114, 0.14214214, 0.14314314, 0.14414414,\n",
       "       0.14514515, 0.14614615, 0.14714715, 0.14814815, 0.14914915,\n",
       "       0.15015015, 0.15115115, 0.15215215, 0.15315315, 0.15415415,\n",
       "       0.15515516, 0.15615616, 0.15715716, 0.15815816, 0.15915916,\n",
       "       0.16016016, 0.16116116, 0.16216216, 0.16316316, 0.16416416,\n",
       "       0.16516517, 0.16616617, 0.16716717, 0.16816817, 0.16916917,\n",
       "       0.17017017, 0.17117117, 0.17217217, 0.17317317, 0.17417417,\n",
       "       0.17517518, 0.17617618, 0.17717718, 0.17817818, 0.17917918,\n",
       "       0.18018018, 0.18118118, 0.18218218, 0.18318318, 0.18418418,\n",
       "       0.18518519, 0.18618619, 0.18718719, 0.18818819, 0.18918919,\n",
       "       0.19019019, 0.19119119, 0.19219219, 0.19319319, 0.19419419,\n",
       "       0.1951952 , 0.1961962 , 0.1971972 , 0.1981982 , 0.1991992 ,\n",
       "       0.2002002 , 0.2012012 , 0.2022022 , 0.2032032 , 0.2042042 ,\n",
       "       0.20520521, 0.20620621, 0.20720721, 0.20820821, 0.20920921,\n",
       "       0.21021021, 0.21121121, 0.21221221, 0.21321321, 0.21421421,\n",
       "       0.21521522, 0.21621622, 0.21721722, 0.21821822, 0.21921922,\n",
       "       0.22022022, 0.22122122, 0.22222222, 0.22322322, 0.22422422,\n",
       "       0.22522523, 0.22622623, 0.22722723, 0.22822823, 0.22922923,\n",
       "       0.23023023, 0.23123123, 0.23223223, 0.23323323, 0.23423423,\n",
       "       0.23523524, 0.23623624, 0.23723724, 0.23823824, 0.23923924,\n",
       "       0.24024024, 0.24124124, 0.24224224, 0.24324324, 0.24424424,\n",
       "       0.24524525, 0.24624625, 0.24724725, 0.24824825, 0.24924925,\n",
       "       0.25025025, 0.25125125, 0.25225225, 0.25325325, 0.25425425,\n",
       "       0.25525526, 0.25625626, 0.25725726, 0.25825826, 0.25925926,\n",
       "       0.26026026, 0.26126126, 0.26226226, 0.26326326, 0.26426426,\n",
       "       0.26526527, 0.26626627, 0.26726727, 0.26826827, 0.26926927,\n",
       "       0.27027027, 0.27127127, 0.27227227, 0.27327327, 0.27427427,\n",
       "       0.27527528, 0.27627628, 0.27727728, 0.27827828, 0.27927928,\n",
       "       0.28028028, 0.28128128, 0.28228228, 0.28328328, 0.28428428,\n",
       "       0.28528529, 0.28628629, 0.28728729, 0.28828829, 0.28928929,\n",
       "       0.29029029, 0.29129129, 0.29229229, 0.29329329, 0.29429429,\n",
       "       0.2952953 , 0.2962963 , 0.2972973 , 0.2982983 , 0.2992993 ,\n",
       "       0.3003003 , 0.3013013 , 0.3023023 , 0.3033033 , 0.3043043 ,\n",
       "       0.30530531, 0.30630631, 0.30730731, 0.30830831, 0.30930931,\n",
       "       0.31031031, 0.31131131, 0.31231231, 0.31331331, 0.31431431,\n",
       "       0.31531532, 0.31631632, 0.31731732, 0.31831832, 0.31931932,\n",
       "       0.32032032, 0.32132132, 0.32232232, 0.32332332, 0.32432432,\n",
       "       0.32532533, 0.32632633, 0.32732733, 0.32832833, 0.32932933,\n",
       "       0.33033033, 0.33133133, 0.33233233, 0.33333333, 0.33433433,\n",
       "       0.33533534, 0.33633634, 0.33733734, 0.33833834, 0.33933934,\n",
       "       0.34034034, 0.34134134, 0.34234234, 0.34334334, 0.34434434,\n",
       "       0.34534535, 0.34634635, 0.34734735, 0.34834835, 0.34934935,\n",
       "       0.35035035, 0.35135135, 0.35235235, 0.35335335, 0.35435435,\n",
       "       0.35535536, 0.35635636, 0.35735736, 0.35835836, 0.35935936,\n",
       "       0.36036036, 0.36136136, 0.36236236, 0.36336336, 0.36436436,\n",
       "       0.36536537, 0.36636637, 0.36736737, 0.36836837, 0.36936937,\n",
       "       0.37037037, 0.37137137, 0.37237237, 0.37337337, 0.37437437,\n",
       "       0.37537538, 0.37637638, 0.37737738, 0.37837838, 0.37937938,\n",
       "       0.38038038, 0.38138138, 0.38238238, 0.38338338, 0.38438438,\n",
       "       0.38538539, 0.38638639, 0.38738739, 0.38838839, 0.38938939,\n",
       "       0.39039039, 0.39139139, 0.39239239, 0.39339339, 0.39439439,\n",
       "       0.3953954 , 0.3963964 , 0.3973974 , 0.3983984 , 0.3993994 ,\n",
       "       0.4004004 , 0.4014014 , 0.4024024 , 0.4034034 , 0.4044044 ,\n",
       "       0.40540541, 0.40640641, 0.40740741, 0.40840841, 0.40940941,\n",
       "       0.41041041, 0.41141141, 0.41241241, 0.41341341, 0.41441441,\n",
       "       0.41541542, 0.41641642, 0.41741742, 0.41841842, 0.41941942,\n",
       "       0.42042042, 0.42142142, 0.42242242, 0.42342342, 0.42442442,\n",
       "       0.42542543, 0.42642643, 0.42742743, 0.42842843, 0.42942943,\n",
       "       0.43043043, 0.43143143, 0.43243243, 0.43343343, 0.43443443,\n",
       "       0.43543544, 0.43643644, 0.43743744, 0.43843844, 0.43943944,\n",
       "       0.44044044, 0.44144144, 0.44244244, 0.44344344, 0.44444444,\n",
       "       0.44544545, 0.44644645, 0.44744745, 0.44844845, 0.44944945,\n",
       "       0.45045045, 0.45145145, 0.45245245, 0.45345345, 0.45445445,\n",
       "       0.45545546, 0.45645646, 0.45745746, 0.45845846, 0.45945946,\n",
       "       0.46046046, 0.46146146, 0.46246246, 0.46346346, 0.46446446,\n",
       "       0.46546547, 0.46646647, 0.46746747, 0.46846847, 0.46946947,\n",
       "       0.47047047, 0.47147147, 0.47247247, 0.47347347, 0.47447447,\n",
       "       0.47547548, 0.47647648, 0.47747748, 0.47847848, 0.47947948,\n",
       "       0.48048048, 0.48148148, 0.48248248, 0.48348348, 0.48448448,\n",
       "       0.48548549, 0.48648649, 0.48748749, 0.48848849, 0.48948949,\n",
       "       0.49049049, 0.49149149, 0.49249249, 0.49349349, 0.49449449,\n",
       "       0.4954955 , 0.4964965 , 0.4974975 , 0.4984985 , 0.4994995 ,\n",
       "       0.5005005 , 0.5015015 , 0.5025025 , 0.5035035 , 0.5045045 ,\n",
       "       0.50550551, 0.50650651, 0.50750751, 0.50850851, 0.50950951,\n",
       "       0.51051051, 0.51151151, 0.51251251, 0.51351351, 0.51451451,\n",
       "       0.51551552, 0.51651652, 0.51751752, 0.51851852, 0.51951952,\n",
       "       0.52052052, 0.52152152, 0.52252252, 0.52352352, 0.52452452,\n",
       "       0.52552553, 0.52652653, 0.52752753, 0.52852853, 0.52952953,\n",
       "       0.53053053, 0.53153153, 0.53253253, 0.53353353, 0.53453453,\n",
       "       0.53553554, 0.53653654, 0.53753754, 0.53853854, 0.53953954,\n",
       "       0.54054054, 0.54154154, 0.54254254, 0.54354354, 0.54454454,\n",
       "       0.54554555, 0.54654655, 0.54754755, 0.54854855, 0.54954955,\n",
       "       0.55055055, 0.55155155, 0.55255255, 0.55355355, 0.55455455,\n",
       "       0.55555556, 0.55655656, 0.55755756, 0.55855856, 0.55955956,\n",
       "       0.56056056, 0.56156156, 0.56256256, 0.56356356, 0.56456456,\n",
       "       0.56556557, 0.56656657, 0.56756757, 0.56856857, 0.56956957,\n",
       "       0.57057057, 0.57157157, 0.57257257, 0.57357357, 0.57457457,\n",
       "       0.57557558, 0.57657658, 0.57757758, 0.57857858, 0.57957958,\n",
       "       0.58058058, 0.58158158, 0.58258258, 0.58358358, 0.58458458,\n",
       "       0.58558559, 0.58658659, 0.58758759, 0.58858859, 0.58958959,\n",
       "       0.59059059, 0.59159159, 0.59259259, 0.59359359, 0.59459459,\n",
       "       0.5955956 , 0.5965966 , 0.5975976 , 0.5985986 , 0.5995996 ,\n",
       "       0.6006006 , 0.6016016 , 0.6026026 , 0.6036036 , 0.6046046 ,\n",
       "       0.60560561, 0.60660661, 0.60760761, 0.60860861, 0.60960961,\n",
       "       0.61061061, 0.61161161, 0.61261261, 0.61361361, 0.61461461,\n",
       "       0.61561562, 0.61661662, 0.61761762, 0.61861862, 0.61961962,\n",
       "       0.62062062, 0.62162162, 0.62262262, 0.62362362, 0.62462462,\n",
       "       0.62562563, 0.62662663, 0.62762763, 0.62862863, 0.62962963,\n",
       "       0.63063063, 0.63163163, 0.63263263, 0.63363363, 0.63463463,\n",
       "       0.63563564, 0.63663664, 0.63763764, 0.63863864, 0.63963964,\n",
       "       0.64064064, 0.64164164, 0.64264264, 0.64364364, 0.64464464,\n",
       "       0.64564565, 0.64664665, 0.64764765, 0.64864865, 0.64964965,\n",
       "       0.65065065, 0.65165165, 0.65265265, 0.65365365, 0.65465465,\n",
       "       0.65565566, 0.65665666, 0.65765766, 0.65865866, 0.65965966,\n",
       "       0.66066066, 0.66166166, 0.66266266, 0.66366366, 0.66466466,\n",
       "       0.66566567, 0.66666667, 0.66766767, 0.66866867, 0.66966967,\n",
       "       0.67067067, 0.67167167, 0.67267267, 0.67367367, 0.67467467,\n",
       "       0.67567568, 0.67667668, 0.67767768, 0.67867868, 0.67967968,\n",
       "       0.68068068, 0.68168168, 0.68268268, 0.68368368, 0.68468468,\n",
       "       0.68568569, 0.68668669, 0.68768769, 0.68868869, 0.68968969,\n",
       "       0.69069069, 0.69169169, 0.69269269, 0.69369369, 0.69469469,\n",
       "       0.6956957 , 0.6966967 , 0.6976977 , 0.6986987 , 0.6996997 ,\n",
       "       0.7007007 , 0.7017017 , 0.7027027 , 0.7037037 , 0.7047047 ,\n",
       "       0.70570571, 0.70670671, 0.70770771, 0.70870871, 0.70970971,\n",
       "       0.71071071, 0.71171171, 0.71271271, 0.71371371, 0.71471471,\n",
       "       0.71571572, 0.71671672, 0.71771772, 0.71871872, 0.71971972,\n",
       "       0.72072072, 0.72172172, 0.72272272, 0.72372372, 0.72472472,\n",
       "       0.72572573, 0.72672673, 0.72772773, 0.72872873, 0.72972973,\n",
       "       0.73073073, 0.73173173, 0.73273273, 0.73373373, 0.73473473,\n",
       "       0.73573574, 0.73673674, 0.73773774, 0.73873874, 0.73973974,\n",
       "       0.74074074, 0.74174174, 0.74274274, 0.74374374, 0.74474474,\n",
       "       0.74574575, 0.74674675, 0.74774775, 0.74874875, 0.74974975,\n",
       "       0.75075075, 0.75175175, 0.75275275, 0.75375375, 0.75475475,\n",
       "       0.75575576, 0.75675676, 0.75775776, 0.75875876, 0.75975976,\n",
       "       0.76076076, 0.76176176, 0.76276276, 0.76376376, 0.76476476,\n",
       "       0.76576577, 0.76676677, 0.76776777, 0.76876877, 0.76976977,\n",
       "       0.77077077, 0.77177177, 0.77277277, 0.77377377, 0.77477477,\n",
       "       0.77577578, 0.77677678, 0.77777778, 0.77877878, 0.77977978,\n",
       "       0.78078078, 0.78178178, 0.78278278, 0.78378378, 0.78478478,\n",
       "       0.78578579, 0.78678679, 0.78778779, 0.78878879, 0.78978979,\n",
       "       0.79079079, 0.79179179, 0.79279279, 0.79379379, 0.79479479,\n",
       "       0.7957958 , 0.7967968 , 0.7977978 , 0.7987988 , 0.7997998 ,\n",
       "       0.8008008 , 0.8018018 , 0.8028028 , 0.8038038 , 0.8048048 ,\n",
       "       0.80580581, 0.80680681, 0.80780781, 0.80880881, 0.80980981,\n",
       "       0.81081081, 0.81181181, 0.81281281, 0.81381381, 0.81481481,\n",
       "       0.81581582, 0.81681682, 0.81781782, 0.81881882, 0.81981982,\n",
       "       0.82082082, 0.82182182, 0.82282282, 0.82382382, 0.82482482,\n",
       "       0.82582583, 0.82682683, 0.82782783, 0.82882883, 0.82982983,\n",
       "       0.83083083, 0.83183183, 0.83283283, 0.83383383, 0.83483483,\n",
       "       0.83583584, 0.83683684, 0.83783784, 0.83883884, 0.83983984,\n",
       "       0.84084084, 0.84184184, 0.84284284, 0.84384384, 0.84484484,\n",
       "       0.84584585, 0.84684685, 0.84784785, 0.84884885, 0.84984985,\n",
       "       0.85085085, 0.85185185, 0.85285285, 0.85385385, 0.85485485,\n",
       "       0.85585586, 0.85685686, 0.85785786, 0.85885886, 0.85985986,\n",
       "       0.86086086, 0.86186186, 0.86286286, 0.86386386, 0.86486486,\n",
       "       0.86586587, 0.86686687, 0.86786787, 0.86886887, 0.86986987,\n",
       "       0.87087087, 0.87187187, 0.87287287, 0.87387387, 0.87487487,\n",
       "       0.87587588, 0.87687688, 0.87787788, 0.87887888, 0.87987988,\n",
       "       0.88088088, 0.88188188, 0.88288288, 0.88388388, 0.88488488,\n",
       "       0.88588589, 0.88688689, 0.88788789, 0.88888889, 0.88988989,\n",
       "       0.89089089, 0.89189189, 0.89289289, 0.89389389, 0.89489489,\n",
       "       0.8958959 , 0.8968969 , 0.8978979 , 0.8988989 , 0.8998999 ,\n",
       "       0.9009009 , 0.9019019 , 0.9029029 , 0.9039039 , 0.9049049 ,\n",
       "       0.90590591, 0.90690691, 0.90790791, 0.90890891, 0.90990991,\n",
       "       0.91091091, 0.91191191, 0.91291291, 0.91391391, 0.91491491,\n",
       "       0.91591592, 0.91691692, 0.91791792, 0.91891892, 0.91991992,\n",
       "       0.92092092, 0.92192192, 0.92292292, 0.92392392, 0.92492492,\n",
       "       0.92592593, 0.92692693, 0.92792793, 0.92892893, 0.92992993,\n",
       "       0.93093093, 0.93193193, 0.93293293, 0.93393393, 0.93493493,\n",
       "       0.93593594, 0.93693694, 0.93793794, 0.93893894, 0.93993994,\n",
       "       0.94094094, 0.94194194, 0.94294294, 0.94394394, 0.94494494,\n",
       "       0.94594595, 0.94694695, 0.94794795, 0.94894895, 0.94994995,\n",
       "       0.95095095, 0.95195195, 0.95295295, 0.95395395, 0.95495495,\n",
       "       0.95595596, 0.95695696, 0.95795796, 0.95895896, 0.95995996,\n",
       "       0.96096096, 0.96196196, 0.96296296, 0.96396396, 0.96496496,\n",
       "       0.96596597, 0.96696697, 0.96796797, 0.96896897, 0.96996997,\n",
       "       0.97097097, 0.97197197, 0.97297297, 0.97397397, 0.97497497,\n",
       "       0.97597598, 0.97697698, 0.97797798, 0.97897898, 0.97997998,\n",
       "       0.98098098, 0.98198198, 0.98298298, 0.98398398, 0.98498498,\n",
       "       0.98598599, 0.98698699, 0.98798799, 0.98898899, 0.98998999,\n",
       "       0.99099099, 0.99199199, 0.99299299, 0.99399399, 0.99499499,\n",
       "       0.995996  , 0.996997  , 0.997998  , 0.998999  , 1.        ])>"
      ]
     },
     "execution_count": 9,
     "metadata": {},
     "output_type": "execute_result"
    }
   ],
   "source": [
    "tf.constant(tf.linspace(0,1,1000))"
   ]
  },
  {
   "cell_type": "code",
   "execution_count": null,
   "metadata": {},
   "outputs": [],
   "source": [
    "tf.math.interp_regular_1d_grid(\n",
    "    x, x_ref_min, x_ref_max, y_ref, axis=-1, fill_value='constant_extension',\n",
    "    fill_value_below=None, fill_value_above=None, grid_regularizing_transform=None,\n",
    "    name=None\n",
    ")"
   ]
  },
  {
   "cell_type": "code",
   "execution_count": 19,
   "metadata": {},
   "outputs": [],
   "source": [
    "mask=tf.concat([tf.constant([1,1], dtype='float64'), tf.zeros(98, dtype='float64') ], axis=0)"
   ]
  },
  {
   "cell_type": "code",
   "execution_count": 26,
   "metadata": {},
   "outputs": [
    {
     "data": {
      "text/plain": [
       "<tf.Tensor: shape=(), dtype=float64, numpy=2.0>"
      ]
     },
     "execution_count": 26,
     "metadata": {},
     "output_type": "execute_result"
    }
   ],
   "source": [
    "tf.reduce_sum(mask)"
   ]
  },
  {
   "cell_type": "markdown",
   "metadata": {},
   "source": [
    "# Scratch test"
   ]
  },
  {
   "cell_type": "code",
   "execution_count": 9,
   "metadata": {},
   "outputs": [
    {
     "name": "stdout",
     "output_type": "stream",
     "text": [
      "CPU times: user 292 ms, sys: 13 ms, total: 305 ms\n",
      "Wall time: 276 ms\n"
     ]
    }
   ],
   "source": [
    "\n",
    "\n",
    "from tfdiffeq import odeint\n",
    "#from tfdiffeq import cast_double\n",
    "import tensorflow as tf\n",
    "tf.keras.backend.set_floatx('float64') # Presumably can get more speed, especially on a GPU, \n",
    "#if we used float32\n",
    "import numpy as np\n",
    "from matplotlib.pyplot import *\n",
    "#odeint(func, y0, t)\n",
    "import matplotlib.pyplot as plt\n",
    "tf.ceil=tf.math.ceil\n",
    "\n",
    "\n",
    "#def interpolator(xRef, yRef):\n",
    "    \n",
    "def tf_interpolator3(xOrig, yOrig):\n",
    "    #xOrig = tf.constant(tf.convert_to_tensor(xOrig, dtype=tf.float64))\n",
    "    #yOrig = tf.constant(tf.convert_to_tensor(yOrig, dtype=tf.float64))\n",
    "    \n",
    "    N = xOrig.shape[0]\n",
    "    dx = xOrig[1]-xOrig[0]\n",
    "    x0 = xOrig[0]\n",
    "    xMax = xOrig[-1]\n",
    "    zero = tf.constant(0, dtype=tf.float64)\n",
    "    #@tf.function(experimental_compile=True)\n",
    "    def f(x):\n",
    "        #pdb.set_trace()\n",
    "        #ind = tf.math.floormod((x-x0), dx)\n",
    "        \n",
    "        if x>=xMax or x<x0:\n",
    "            return zero#tf.constant(0., dtype=tf.float64);\n",
    "        else:\n",
    "            ind_f = tf.math.floordiv(x-x0, dx)\n",
    "            remainder = (x/dx- ind_f)\n",
    "            ind=tf.cast(ind_f, tf.int64)\n",
    "            w0 = (1.-remainder)\n",
    "            w1 = remainder\n",
    "            res=tf.reduce_sum(tf.stack([w0,w1])*tf.gather(yOrig, [ind,ind+1]))\n",
    "            #tf.print(res)\n",
    "            return res\n",
    "            #tf.print(remainder)\n",
    "            #return *yOrig[ind] + remainder*yOrig[ind+1]\n",
    "    return f\n",
    "\n",
    "\n",
    "class Lambda(tf.keras.Model):\n",
    "    \n",
    "    def __init__(self, tDrv, yDrv): #pars are parameters to the ode\n",
    "        #self.pars=pars\n",
    "        #self.Nevals = tf.Variable(0)#tf.convert_to_tensor(0, dtype=tf.int64)\n",
    "        #self.f = tf.function(f)\n",
    "        super().__init__()\n",
    "        \n",
    "        self.f = tf.function(tf_interpolator2(tDrv, yDrv), experimental_compile=False)\n",
    "    \n",
    "    @tf.function\n",
    "    def call(self, t, z):\n",
    "\n",
    "        y, vy= z[0], z[1]\n",
    "        d_y = vy\n",
    "        d_vy = self.f(t)\n",
    "        return tf.stack([d_y, d_vy])\n",
    "    \n",
    "\n",
    "with tf.device(\"/cpu:0\"):\n",
    "    with tf.GradientTape(watch_accessed_variables=False) as g:\n",
    "        tDrv = tf.cast(tf.linspace(0.,20.1, 100), dtype=tf.float64)\n",
    "        yDrv = tf.Variable(-3*tf.ones(tDrv.shape[0], dtype=tf.float64))\n",
    "        g.watch(yDrv)\n",
    "\n",
    "        tspan = tf.linspace(0.0, 20., 10) \n",
    "        z0 = tf.convert_to_tensor([0,10.], dtype=tf.float64)\n",
    "        #f = tf.function(lambda t: tf.constant(-1.0, dtype='float64') )\n",
    "        ode = Lambda(tDrv, yDrv)\n",
    "        #tspan =td.cast_double(tspan)\n",
    "        #ol = C( z0)\n",
    "        #sol = odeint(ode, z0, tspan, method='dopri5', options=dict(max_step_size=0.1 ) )\n",
    "        sol = odeint(ode, z0, tspan, method='rk4', options=dict(step_size=tDrv[1]-tDrv[0]))#, options=dict(step_size=0.08080808073282242 ) )\n",
    "\n",
    "        #%time sol = odeint(ode, z0, tspan, method='rk4')\n",
    "        #sol = odeint(f, z0, tspan)\n",
    "        L = sol[-1,0]\n",
    "    %time grad=g.gradient(L, yDrv)"
   ]
  },
  {
   "cell_type": "code",
   "execution_count": 61,
   "metadata": {},
   "outputs": [
    {
     "data": {
      "text/plain": [
       "[<matplotlib.lines.Line2D at 0x7549e36d6d60>]"
      ]
     },
     "execution_count": 61,
     "metadata": {},
     "output_type": "execute_result"
    },
    {
     "data": {
      "image/png": "[encoded data removed]",
      "text/plain": [
       "<Figure size 460.8x316.8 with 1 Axes>"
      ]
     },
     "metadata": {
      "needs_background": "light"
     },
     "output_type": "display_data"
    },
    {
     "data": {
      "image/png": "[encoded data removed]",
      "text/plain": [
       "<Figure size 460.8x316.8 with 1 Axes>"
      ]
     },
     "metadata": {
      "needs_background": "light"
     },
     "output_type": "display_data"
    }
   ],
   "source": [
    "\n",
    "plot(sol)\n",
    "figure()\n",
    "plot(grad)"
   ]
  },
  {
   "cell_type": "code",
   "execution_count": 63,
   "metadata": {},
   "outputs": [
    {
     "data": {
      "text/plain": [
       "[<matplotlib.lines.Line2D at 0x7549e3603640>]"
      ]
     },
     "execution_count": 63,
     "metadata": {},
     "output_type": "execute_result"
    },
    {
     "data": {
      "image/png": "[encoded data removed]",
      "text/plain": [
       "<Figure size 460.8x316.8 with 1 Axes>"
      ]
     },
     "metadata": {
      "needs_background": "light"
     },
     "output_type": "display_data"
    },
    {
     "data": {
      "image/png": "[encoded data removed]",
      "text/plain": [
       "<Figure size 460.8x316.8 with 1 Axes>"
      ]
     },
     "metadata": {
      "needs_background": "light"
     },
     "output_type": "display_data"
    }
   ],
   "source": [
    "\n",
    "plot(sol)\n",
    "figure()\n",
    "plot(grad)"
   ]
  },
  {
   "cell_type": "code",
   "execution_count": 63,
   "metadata": {},
   "outputs": [
    {
     "data": {
      "text/plain": [
       "[<matplotlib.lines.Line2D at 0x7a2731998520>]"
      ]
     },
     "execution_count": 63,
     "metadata": {},
     "output_type": "execute_result"
    },
    {
     "data": {
      "image/png": "[encoded data removed]",
      "text/plain": [
       "<Figure size 460.8x316.8 with 1 Axes>"
      ]
     },
     "metadata": {
      "needs_background": "light"
     },
     "output_type": "display_data"
    }
   ],
   "source": [
    "plot(grad.values)"
   ]
  },
  {
   "cell_type": "code",
   "execution_count": 54,
   "metadata": {},
   "outputs": [
    {
     "data": {
      "text/plain": [
       "<tf.Tensor: shape=(), dtype=float64, numpy=-3.0>"
      ]
     },
     "execution_count": 54,
     "metadata": {},
     "output_type": "execute_result"
    }
   ],
   "source": [
    "tf.gather(yDrv, 8)"
   ]
  },
  {
   "cell_type": "code",
   "execution_count": 55,
   "metadata": {},
   "outputs": [],
   "source": [
    "import tfdiffeq as tfd\n",
    "tfd.solvers.FixedGridODESolver?"
   ]
  },
  {
   "cell_type": "code",
   "execution_count": 91,
   "metadata": {},
   "outputs": [
    {
     "data": {
      "text/plain": [
       "[<matplotlib.lines.Line2D at 0x7a2730901460>]"
      ]
     },
     "execution_count": 91,
     "metadata": {},
     "output_type": "execute_result"
    },
    {
     "data": {
      "image/png": "[encoded data removed]",
      "text/plain": [
       "<Figure size 460.8x316.8 with 1 Axes>"
      ]
     },
     "metadata": {
      "needs_background": "light"
     },
     "output_type": "display_data"
    }
   ],
   "source": [
    "def lor(center):\n",
    "    return 1/(0.4+ (x-center)**2 )\n",
    "\n",
    "y = linspace(0,10,20)\n",
    "x = arange(20)\n",
    "msk = lor(5)\n",
    "#M = np.diag(  )\n",
    "plot([y.dot(lor(val)) for val in linspace(0,20,100) ])"
   ]
  },
  {
   "cell_type": "code",
   "execution_count": 93,
   "metadata": {},
   "outputs": [],
   "source": [
    "odeint"
   ]
  },
  {
   "cell_type": "code",
   "execution_count": 41,
   "metadata": {},
   "outputs": [
    {
     "data": {
      "text/plain": [
       "<tf.Tensor: shape=(5,), dtype=float32, numpy=array([0. , 1.5, 3. , 4.5, 0. ], dtype=float32)>"
      ]
     },
     "execution_count": 41,
     "metadata": {},
     "output_type": "execute_result"
    }
   ],
   "source": [
    "tf.concat([tf.range(0,5,1.5), [0]], axis=0)"
   ]
  },
  {
   "cell_type": "code",
   "execution_count": 10,
   "metadata": {},
   "outputs": [],
   "source": [
    "import qutip as q"
   ]
  },
  {
   "cell_type": "code",
   "execution_count": 24,
   "metadata": {},
   "outputs": [],
   "source": [
    "\n",
    "q.sigmax()\n",
    "K1, K2 = q.basis(2,0), q.basis(2,1)"
   ]
  },
  {
   "cell_type": "code",
   "execution_count": 12,
   "metadata": {},
   "outputs": [
    {
     "data": {
      "text/latex": [
       "Quantum object: dims = [[2], [2]], shape = (2, 2), type = oper, isherm = True\\begin{equation*}\\left(\\begin{array}{*{11}c}0.0 & -1.0j\\\\1.0j & 0.0\\\\\\end{array}\\right)\\end{equation*}"
      ],
      "text/plain": [
       "Quantum object: dims = [[2], [2]], shape = (2, 2), type = oper, isherm = True\n",
       "Qobj data =\n",
       "[[0.+0.j 0.-1.j]\n",
       " [0.+1.j 0.+0.j]]"
      ]
     },
     "execution_count": 12,
     "metadata": {},
     "output_type": "execute_result"
    }
   ],
   "source": [
    "q.sigmay()"
   ]
  },
  {
   "cell_type": "code",
   "execution_count": 23,
   "metadata": {},
   "outputs": [
    {
     "data": {
      "text/latex": [
       "Quantum object: dims = [[2], [2]], shape = (2, 2), type = oper, isherm = True\\begin{equation*}\\left(\\begin{array}{*{11}c}0.0 & -1.0j\\\\1.0j & 0.0\\\\\\end{array}\\right)\\end{equation*}"
      ],
      "text/plain": [
       "Quantum object: dims = [[2], [2]], shape = (2, 2), type = oper, isherm = True\n",
       "Qobj data =\n",
       "[[0.+0.j 0.-1.j]\n",
       " [0.+1.j 0.+0.j]]"
      ]
     },
     "execution_count": 23,
     "metadata": {},
     "output_type": "execute_result"
    }
   ],
   "source": [
    "a=q.destroy(2)\n",
    "1j*(a.dag()-a)"
   ]
  },
  {
   "cell_type": "code",
   "execution_count": 34,
   "metadata": {},
   "outputs": [
    {
     "data": {
      "text/plain": [
       "(Quantum object: dims = [[2], [2]], shape = (2, 2), type = oper, isherm = True\n",
       " Qobj data =\n",
       " [[0. 1.]\n",
       "  [1. 0.]],\n",
       " Quantum object: dims = [[2], [2]], shape = (2, 2), type = oper, isherm = True\n",
       " Qobj data =\n",
       " [[0.+0.j 0.-1.j]\n",
       "  [0.+1.j 0.+0.j]])"
      ]
     },
     "execution_count": 34,
     "metadata": {},
     "output_type": "execute_result"
    }
   ],
   "source": [
    "a = K1*K2.dag()# + K2*K1.dag()\n",
    "sx = a + a.dag()\n",
    "sy = 1j*(a.dag()-a)\n",
    "sx,sy"
   ]
  },
  {
   "cell_type": "code",
   "execution_count": 26,
   "metadata": {},
   "outputs": [
    {
     "data": {
      "text/latex": [
       "Quantum object: dims = [[2], [2]], shape = (2, 2), type = oper, isherm = False\\begin{equation*}\\left(\\begin{array}{*{11}c}0.0 & 0.0\\\\1.0 & 0.0\\\\\\end{array}\\right)\\end{equation*}"
      ],
      "text/plain": [
       "Quantum object: dims = [[2], [2]], shape = (2, 2), type = oper, isherm = False\n",
       "Qobj data =\n",
       "[[0. 0.]\n",
       " [1. 0.]]"
      ]
     },
     "execution_count": 26,
     "metadata": {},
     "output_type": "execute_result"
    }
   ],
   "source": [
    "a.dag()"
   ]
  },
  {
   "cell_type": "code",
   "execution_count": 30,
   "metadata": {},
   "outputs": [
    {
     "data": {
      "text/latex": [
       "Quantum object: dims = [[2], [2]], shape = (2, 2), type = oper, isherm = False\\begin{equation*}\\left(\\begin{array}{*{11}c}0.0 & 1.0\\\\0.0 & 0.0\\\\\\end{array}\\right)\\end{equation*}"
      ],
      "text/plain": [
       "Quantum object: dims = [[2], [2]], shape = (2, 2), type = oper, isherm = False\n",
       "Qobj data =\n",
       "[[0. 1.]\n",
       " [0. 0.]]"
      ]
     },
     "execution_count": 30,
     "metadata": {},
     "output_type": "execute_result"
    }
   ],
   "source": [
    "a"
   ]
  },
  {
   "cell_type": "code",
   "execution_count": null,
   "metadata": {},
   "outputs": [],
   "source": []
  }
 ],
 "metadata": {
  "kernelspec": {
   "display_name": "Python 3",
   "language": "python",
   "name": "python3"
  },
  "language_info": {
   "codemirror_mode": {
    "name": "ipython",
    "version": 3
   },
   "file_extension": ".py",
   "mimetype": "text/x-python",
   "name": "python",
   "nbconvert_exporter": "python",
   "pygments_lexer": "ipython3",
   "version": "3.8.5"
  },
  "toc": {
   "base_numbering": 1,
   "nav_menu": {},
   "number_sections": true,
   "sideBar": true,
   "skip_h1_title": false,
   "title_cell": "Table of Contents",
   "title_sidebar": "Contents",
   "toc_cell": false,
   "toc_position": {
    "height": "calc(100% - 180px)",
    "left": "10px",
    "top": "150px",
    "width": "165px"
   },
   "toc_section_display": true,
   "toc_window_display": true
  }
 },
 "nbformat": 4,
 "nbformat_minor": 4
}
