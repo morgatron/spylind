{
 "cells": [
  {
   "cell_type": "code",
   "execution_count": 1,
   "metadata": {},
   "outputs": [
    {
     "ename": "ModuleNotFoundError",
     "evalue": "No module named 'torchdiffeq'",
     "output_type": "error",
     "traceback": [
      "\u001b[0;31m---------------------------------------------------------------------------\u001b[0m",
      "\u001b[0;31mModuleNotFoundError\u001b[0m                       Traceback (most recent call last)",
      "\u001b[0;32m<ipython-input-1-f039b439b1fd>\u001b[0m in \u001b[0;36m<module>\u001b[0;34m\u001b[0m\n\u001b[1;32m      3\u001b[0m \u001b[0;31m#from autograd import jacobian\u001b[0m\u001b[0;34m\u001b[0m\u001b[0;34m\u001b[0m\u001b[0;34m\u001b[0m\u001b[0m\n\u001b[1;32m      4\u001b[0m \u001b[0;31m#from autograd.builtins import tuple\u001b[0m\u001b[0;34m\u001b[0m\u001b[0;34m\u001b[0m\u001b[0;34m\u001b[0m\u001b[0m\n\u001b[0;32m----> 5\u001b[0;31m \u001b[0;32mfrom\u001b[0m \u001b[0mtorchdiffeq\u001b[0m \u001b[0;32mimport\u001b[0m \u001b[0modeint\u001b[0m\u001b[0;34m,\u001b[0m \u001b[0modeint_adjoint\u001b[0m\u001b[0;34m\u001b[0m\u001b[0;34m\u001b[0m\u001b[0m\n\u001b[0m\u001b[1;32m      6\u001b[0m \u001b[0;32mfrom\u001b[0m \u001b[0mtorch\u001b[0m \u001b[0;32mimport\u001b[0m \u001b[0mnn\u001b[0m\u001b[0;34m\u001b[0m\u001b[0;34m\u001b[0m\u001b[0m\n\u001b[1;32m      7\u001b[0m \u001b[0;32mimport\u001b[0m \u001b[0mnumpy\u001b[0m \u001b[0;32mas\u001b[0m \u001b[0mnp\u001b[0m\u001b[0;34m\u001b[0m\u001b[0;34m\u001b[0m\u001b[0m\n",
      "\u001b[0;31mModuleNotFoundError\u001b[0m: No module named 'torchdiffeq'"
     ]
    }
   ],
   "source": [
    "#import autograd.numpy as np\n",
    "#from autograd.scipy.integrate import odeint\n",
    "#from autograd import jacobian\n",
    "#from autograd.builtins import tuple\n",
    "from torchdiffeq import odeint, odeint_adjoint\n",
    "from torch import nn\n",
    "import numpy as np\n",
    "import torch as tch\n",
    "\n",
    "#odeint(func, y0, t)\n",
    "import matplotlib.pyplot as plt\n",
    "\n",
    "#Ca0 = tch.tensor(1.0)\n",
    "#k1 = k_1 = tch.tensor(3.0, dtype=t.float64)\n",
    "#odeint(func, y0, t)\n",
    "#tspan = tch.from_numpy(np.linspace(0, 0.5, 50))\n",
    "tspan = tch.linspace(0, 0.5, 50, requires_grad=True)\n",
    "\n",
    "\n",
    "def f(t,z):\n",
    "    z0,z1,z2 = tch.unbind(z)\n",
    "#    return tch.stack((z[0]**2 - z[1], z[1]**1, z[2]**1-z[1]) )\n",
    "    return tch.stack((z0**2 - z1, z1**1, z2**1-z1) )\n",
    "\n",
    "\n",
    "class Lambda(nn.Module):\n",
    "    #def forward(self, t, y):\n",
    "        #return torch.mm(y**3, true_A)\n",
    "    def forward(self, t,z):\n",
    "        return tch.sin(z)\n",
    "        #z0,z1,z2 = tch.unbind(z)\n",
    "        #return tch.stack((z[0]**2 - z[1], z[1]**1, z[2]**1-z[1]) )\n",
    "\n",
    "def C(z0):\n",
    "    #z0 = t.tensor(z0, dtype=t.float64, requires_grad=True )\n",
    "    \n",
    "    #sol = odeint(f, z0, tspan)\n",
    "\n",
    "    return sol\n",
    "z0 =[1.,2.,3.0]\n",
    "z0 = tch.tensor(z0, dtype=t.float64 , requires_grad=True)\n",
    "#ol = C( z0)\n",
    "sol = odeint_adjoint(Lambda(), z0, tspan)\n",
    "#sol = odeint(f, z0, tspan)\n"
   ]
  },
  {
   "cell_type": "code",
   "execution_count": 141,
   "metadata": {},
   "outputs": [],
   "source": [
    "loss = tch.sum(sol[-1])\n",
    "loss.backward(tch.ones(loss.shape) )\n",
    "loss.grad"
   ]
  },
  {
   "cell_type": "code",
   "execution_count": 144,
   "metadata": {},
   "outputs": [],
   "source": [
    "sol.backward(tch.ones(sol.shape))\n",
    "sol.grad"
   ]
  },
  {
   "cell_type": "code",
   "execution_count": 129,
   "metadata": {},
   "outputs": [],
   "source": [
    "sol.grad."
   ]
  },
  {
   "cell_type": "code",
   "execution_count": 137,
   "metadata": {},
   "outputs": [
    {
     "data": {
      "image/png": "[encoded data removed]",
      "text/plain": [
       "<Figure size 432x288 with 1 Axes>"
      ]
     },
     "metadata": {
      "needs_background": "light"
     },
     "output_type": "display_data"
    }
   ],
   "source": [
    "plt.plot(tspan.detach().numpy(), sol.detach().numpy() )\n",
    "#plt.xlim([tspan.min(), tspan.max()])\n",
    "plt.xlabel('t')\n",
    "plt.ylabel('C');"
   ]
  },
  {
   "cell_type": "code",
   "execution_count": 92,
   "metadata": {},
   "outputs": [],
   "source": [
    "#sol[-1].backward(z0)\n"
   ]
  },
  {
   "cell_type": "code",
   "execution_count": 93,
   "metadata": {},
   "outputs": [
    {
     "ename": "AttributeError",
     "evalue": "'NoneType' object has no attribute 'data'",
     "output_type": "error",
     "traceback": [
      "\u001b[1;31m---------------------------------------------------------------------------\u001b[0m",
      "\u001b[1;31mAttributeError\u001b[0m                            Traceback (most recent call last)",
      "\u001b[1;32m<ipython-input-93-15ce08a89098>\u001b[0m in \u001b[0;36m<module>\u001b[1;34m\u001b[0m\n\u001b[1;32m----> 1\u001b[1;33m \u001b[0mloss\u001b[0m\u001b[1;33m.\u001b[0m\u001b[0mgrad\u001b[0m\u001b[1;33m.\u001b[0m\u001b[0mdata\u001b[0m\u001b[1;33m\u001b[0m\u001b[1;33m\u001b[0m\u001b[0m\n\u001b[0m",
      "\u001b[1;31mAttributeError\u001b[0m: 'NoneType' object has no attribute 'data'"
     ]
    }
   ],
   "source": [
    "L.backward(torch.ones(L.shape))"
   ]
  },
  {
   "cell_type": "code",
   "execution_count": 38,
   "metadata": {},
   "outputs": [
    {
     "data": {
      "text/plain": [
       "\u001b[1;31mSignature:\u001b[0m \u001b[0modeint\u001b[0m\u001b[1;33m(\u001b[0m\u001b[0mfunc\u001b[0m\u001b[1;33m,\u001b[0m \u001b[0my0\u001b[0m\u001b[1;33m,\u001b[0m \u001b[0mt\u001b[0m\u001b[1;33m,\u001b[0m \u001b[0mrtol\u001b[0m\u001b[1;33m=\u001b[0m\u001b[1;36m1e-07\u001b[0m\u001b[1;33m,\u001b[0m \u001b[0matol\u001b[0m\u001b[1;33m=\u001b[0m\u001b[1;36m1e-09\u001b[0m\u001b[1;33m,\u001b[0m \u001b[0mmethod\u001b[0m\u001b[1;33m=\u001b[0m\u001b[1;32mNone\u001b[0m\u001b[1;33m,\u001b[0m \u001b[0moptions\u001b[0m\u001b[1;33m=\u001b[0m\u001b[1;32mNone\u001b[0m\u001b[1;33m)\u001b[0m\u001b[1;33m\u001b[0m\u001b[1;33m\u001b[0m\u001b[0m\n",
       "\u001b[1;31mDocstring:\u001b[0m\n",
       "Integrate a system of ordinary differential equations.\n",
       "\n",
       "Solves the initial value problem for a non-stiff system of first order ODEs:\n",
       "    ```\n",
       "    dy/dt = func(t, y), y(t[0]) = y0\n",
       "    ```\n",
       "where y is a Tensor of any shape.\n",
       "\n",
       "Output dtypes and numerical precision are based on the dtypes of the inputs `y0`.\n",
       "\n",
       "Args:\n",
       "    func: Function that maps a Tensor holding the state `y` and a scalar Tensor\n",
       "        `t` into a Tensor of state derivatives with respect to time.\n",
       "    y0: N-D Tensor giving starting value of `y` at time point `t[0]`. May\n",
       "        have any floating point or complex dtype.\n",
       "    t: 1-D Tensor holding a sequence of time points for which to solve for\n",
       "        `y`. The initial time point should be the first element of this sequence,\n",
       "        and each time must be larger than the previous time. May have any floating\n",
       "        point dtype. Converted to a Tensor with float64 dtype.\n",
       "    rtol: optional float64 Tensor specifying an upper bound on relative error,\n",
       "        per element of `y`.\n",
       "    atol: optional float64 Tensor specifying an upper bound on absolute error,\n",
       "        per element of `y`.\n",
       "    method: optional string indicating the integration method to use.\n",
       "    options: optional dict of configuring options for the indicated integration\n",
       "        method. Can only be provided if a `method` is explicitly set.\n",
       "    name: Optional name for this operation.\n",
       "\n",
       "Returns:\n",
       "    y: Tensor, where the first dimension corresponds to different\n",
       "        time points. Contains the solved value of y for each desired time point in\n",
       "        `t`, with the initial value `y0` being the first element along the first\n",
       "        dimension.\n",
       "\n",
       "Raises:\n",
       "    ValueError: if an invalid `method` is provided.\n",
       "    TypeError: if `options` is supplied without `method`, or if `t` or `y0` has\n",
       "        an invalid dtype.\n",
       "\u001b[1;31mFile:\u001b[0m      c:\\users\\morgan\\anaconda3\\envs\\pymbe_py37\\lib\\site-packages\\torchdiffeq\\_impl\\odeint.py\n",
       "\u001b[1;31mType:\u001b[0m      function\n"
      ]
     },
     "metadata": {},
     "output_type": "display_data"
    }
   ],
   "source": [
    "odeint?"
   ]
  },
  {
   "cell_type": "code",
   "execution_count": 106,
   "metadata": {},
   "outputs": [
    {
     "data": {
      "text/plain": [
       "<torch.autograd.function.OdeintAdjointMethodBackward at 0x16553256c88>"
      ]
     },
     "execution_count": 106,
     "metadata": {},
     "output_type": "execute_result"
    }
   ],
   "source": [
    "sol.grad_fn"
   ]
  },
  {
   "cell_type": "code",
   "execution_count": 8,
   "metadata": {},
   "outputs": [
    {
     "data": {
      "text/plain": [
       "tensor(5)"
      ]
     },
     "execution_count": 8,
     "metadata": {},
     "output_type": "execute_result"
    }
   ],
   "source": [
    "t.tensor(5)"
   ]
  },
  {
   "cell_type": "code",
   "execution_count": 2,
   "metadata": {},
   "outputs": [
    {
     "name": "stdout",
     "output_type": "stream",
     "text": [
      "Elapsed time = 23.8 seconds\n"
     ]
    },
    {
     "data": {
      "image/png": "[encoded data removed]",
      "text/plain": [
       "<Figure size 432x288 with 1 Axes>"
      ]
     },
     "metadata": {
      "needs_background": "light"
     },
     "output_type": "display_data"
    }
   ],
   "source": [
    "import time\n",
    "t0 = time.time()\n",
    "dCdk = jacobian(C, 0)\n",
    "\n",
    "\n",
    "k_sensitivity = dCdk(np.array([k1, k_1]))\n",
    "\n",
    "k1_sensitivity = k_sensitivity[:, 0, 0]\n",
    "k_1_sensitivity = k_sensitivity[:, 0, 1]\n",
    "\n",
    "plt.plot(tspan, np.abs(k1_sensitivity), label='dC/dk1')\n",
    "plt.plot(tspan, np.abs(k_1_sensitivity), label='dC/dk_1')\n",
    "plt.legend(loc='best')\n",
    "plt.xlabel('t')\n",
    "plt.ylabel('sensitivity')\n",
    "print(f'Elapsed time = {time.time() - t0:1.1f} seconds')"
   ]
  },
  {
   "cell_type": "code",
   "execution_count": 4,
   "metadata": {},
   "outputs": [
    {
     "ename": "ModuleNotFoundError",
     "evalue": "No module named 'jaxlib'",
     "output_type": "error",
     "traceback": [
      "\u001b[1;31m---------------------------------------------------------------------------\u001b[0m",
      "\u001b[1;31mModuleNotFoundError\u001b[0m                       Traceback (most recent call last)",
      "\u001b[1;32m<ipython-input-4-cb15c4215ef7>\u001b[0m in \u001b[0;36m<module>\u001b[1;34m\u001b[0m\n\u001b[1;32m----> 1\u001b[1;33m \u001b[1;32mimport\u001b[0m \u001b[0mjax\u001b[0m\u001b[1;33m\u001b[0m\u001b[1;33m\u001b[0m\u001b[0m\n\u001b[0m",
      "\u001b[1;32m~\\Anaconda3\\envs\\pymbe\\lib\\site-packages\\jax\\__init__.py\u001b[0m in \u001b[0;36m<module>\u001b[1;34m\u001b[0m\n\u001b[0;32m     17\u001b[0m \u001b[1;33m\u001b[0m\u001b[0m\n\u001b[0;32m     18\u001b[0m \u001b[1;32mfrom\u001b[0m \u001b[0mjax\u001b[0m\u001b[1;33m.\u001b[0m\u001b[0mversion\u001b[0m \u001b[1;32mimport\u001b[0m \u001b[0m__version__\u001b[0m\u001b[1;33m\u001b[0m\u001b[1;33m\u001b[0m\u001b[0m\n\u001b[1;32m---> 19\u001b[1;33m \u001b[1;32mfrom\u001b[0m \u001b[0mjax\u001b[0m\u001b[1;33m.\u001b[0m\u001b[0mapi\u001b[0m \u001b[1;32mimport\u001b[0m \u001b[1;33m*\u001b[0m\u001b[1;33m\u001b[0m\u001b[1;33m\u001b[0m\u001b[0m\n\u001b[0m\u001b[0;32m     20\u001b[0m \u001b[1;32mfrom\u001b[0m \u001b[0mjax\u001b[0m \u001b[1;32mimport\u001b[0m \u001b[0mnn\u001b[0m\u001b[1;33m\u001b[0m\u001b[1;33m\u001b[0m\u001b[0m\n\u001b[0;32m     21\u001b[0m \u001b[1;32mfrom\u001b[0m \u001b[0mjax\u001b[0m \u001b[1;32mimport\u001b[0m \u001b[0mrandom\u001b[0m\u001b[1;33m\u001b[0m\u001b[1;33m\u001b[0m\u001b[0m\n",
      "\u001b[1;32m~\\Anaconda3\\envs\\pymbe\\lib\\site-packages\\jax\\api.py\u001b[0m in \u001b[0;36m<module>\u001b[1;34m\u001b[0m\n\u001b[0;32m     36\u001b[0m \u001b[1;32mfrom\u001b[0m \u001b[0mcontextlib\u001b[0m \u001b[1;32mimport\u001b[0m \u001b[0mcontextmanager\u001b[0m\u001b[1;33m\u001b[0m\u001b[1;33m\u001b[0m\u001b[0m\n\u001b[0;32m     37\u001b[0m \u001b[1;33m\u001b[0m\u001b[0m\n\u001b[1;32m---> 38\u001b[1;33m \u001b[1;32mfrom\u001b[0m \u001b[1;33m.\u001b[0m \u001b[1;32mimport\u001b[0m \u001b[0mcore\u001b[0m\u001b[1;33m\u001b[0m\u001b[1;33m\u001b[0m\u001b[0m\n\u001b[0m\u001b[0;32m     39\u001b[0m \u001b[1;32mfrom\u001b[0m \u001b[1;33m.\u001b[0m \u001b[1;32mimport\u001b[0m \u001b[0mlinear_util\u001b[0m \u001b[1;32mas\u001b[0m \u001b[0mlu\u001b[0m\u001b[1;33m\u001b[0m\u001b[1;33m\u001b[0m\u001b[0m\n\u001b[0;32m     40\u001b[0m \u001b[1;32mfrom\u001b[0m \u001b[1;33m.\u001b[0m \u001b[1;32mimport\u001b[0m \u001b[0mad_util\u001b[0m\u001b[1;33m\u001b[0m\u001b[1;33m\u001b[0m\u001b[0m\n",
      "\u001b[1;32m~\\Anaconda3\\envs\\pymbe\\lib\\site-packages\\jax\\core.py\u001b[0m in \u001b[0;36m<module>\u001b[1;34m\u001b[0m\n\u001b[0;32m     28\u001b[0m \u001b[1;32mimport\u001b[0m \u001b[0mnumpy\u001b[0m \u001b[1;32mas\u001b[0m \u001b[0monp\u001b[0m\u001b[1;33m\u001b[0m\u001b[1;33m\u001b[0m\u001b[0m\n\u001b[0;32m     29\u001b[0m \u001b[1;33m\u001b[0m\u001b[0m\n\u001b[1;32m---> 30\u001b[1;33m \u001b[1;32mfrom\u001b[0m \u001b[1;33m.\u001b[0m \u001b[1;32mimport\u001b[0m \u001b[0mdtypes\u001b[0m\u001b[1;33m\u001b[0m\u001b[1;33m\u001b[0m\u001b[0m\n\u001b[0m\u001b[0;32m     31\u001b[0m \u001b[1;32mfrom\u001b[0m \u001b[1;33m.\u001b[0m\u001b[0mconfig\u001b[0m \u001b[1;32mimport\u001b[0m \u001b[0mFLAGS\u001b[0m\u001b[1;33m\u001b[0m\u001b[1;33m\u001b[0m\u001b[0m\n\u001b[0;32m     32\u001b[0m \u001b[1;32mfrom\u001b[0m \u001b[1;33m.\u001b[0m \u001b[1;32mimport\u001b[0m \u001b[0mlinear_util\u001b[0m \u001b[1;32mas\u001b[0m \u001b[0mlu\u001b[0m\u001b[1;33m\u001b[0m\u001b[1;33m\u001b[0m\u001b[0m\n",
      "\u001b[1;32m~\\Anaconda3\\envs\\pymbe\\lib\\site-packages\\jax\\dtypes.py\u001b[0m in \u001b[0;36m<module>\u001b[1;34m\u001b[0m\n\u001b[0;32m     29\u001b[0m \u001b[1;32mfrom\u001b[0m \u001b[1;33m.\u001b[0m \u001b[1;32mimport\u001b[0m \u001b[0mutil\u001b[0m\u001b[1;33m\u001b[0m\u001b[1;33m\u001b[0m\u001b[0m\n\u001b[0;32m     30\u001b[0m \u001b[1;32mfrom\u001b[0m \u001b[1;33m.\u001b[0m\u001b[0mconfig\u001b[0m \u001b[1;32mimport\u001b[0m \u001b[0mflags\u001b[0m\u001b[1;33m\u001b[0m\u001b[1;33m\u001b[0m\u001b[0m\n\u001b[1;32m---> 31\u001b[1;33m \u001b[1;32mfrom\u001b[0m \u001b[1;33m.\u001b[0m\u001b[0mlib\u001b[0m \u001b[1;32mimport\u001b[0m \u001b[0mxla_client\u001b[0m\u001b[1;33m\u001b[0m\u001b[1;33m\u001b[0m\u001b[0m\n\u001b[0m\u001b[0;32m     32\u001b[0m \u001b[1;33m\u001b[0m\u001b[0m\n\u001b[0;32m     33\u001b[0m \u001b[0mFLAGS\u001b[0m \u001b[1;33m=\u001b[0m \u001b[0mflags\u001b[0m\u001b[1;33m.\u001b[0m\u001b[0mFLAGS\u001b[0m\u001b[1;33m\u001b[0m\u001b[1;33m\u001b[0m\u001b[0m\n",
      "\u001b[1;32m~\\Anaconda3\\envs\\pymbe\\lib\\site-packages\\jax\\lib\\__init__.py\u001b[0m in \u001b[0;36m<module>\u001b[1;34m\u001b[0m\n\u001b[0;32m     16\u001b[0m \u001b[1;31m# checking on import.\u001b[0m\u001b[1;33m\u001b[0m\u001b[1;33m\u001b[0m\u001b[1;33m\u001b[0m\u001b[0m\n\u001b[0;32m     17\u001b[0m \u001b[1;33m\u001b[0m\u001b[0m\n\u001b[1;32m---> 18\u001b[1;33m \u001b[1;32mimport\u001b[0m \u001b[0mjaxlib\u001b[0m\u001b[1;33m\u001b[0m\u001b[1;33m\u001b[0m\u001b[0m\n\u001b[0m\u001b[0;32m     19\u001b[0m \u001b[1;33m\u001b[0m\u001b[0m\n\u001b[0;32m     20\u001b[0m \u001b[0m_minimum_jaxlib_version\u001b[0m \u001b[1;33m=\u001b[0m \u001b[1;33m(\u001b[0m\u001b[1;36m0\u001b[0m\u001b[1;33m,\u001b[0m \u001b[1;36m1\u001b[0m\u001b[1;33m,\u001b[0m \u001b[1;36m45\u001b[0m\u001b[1;33m)\u001b[0m\u001b[1;33m\u001b[0m\u001b[1;33m\u001b[0m\u001b[0m\n",
      "\u001b[1;31mModuleNotFoundError\u001b[0m: No module named 'jaxlib'"
     ]
    }
   ],
   "source": [
    "import jax"
   ]
  },
  {
   "cell_type": "code",
   "execution_count": 76,
   "metadata": {},
   "outputs": [
    {
     "name": "stdout",
     "output_type": "stream",
     "text": [
      "tensor(3.)\n"
     ]
    }
   ],
   "source": [
    "import torch\n",
    "# Creating the graph\n",
    "x = torch.tensor(1.0, requires_grad = True)\n",
    "z = x ** 3\n",
    "z.backward() #Computes the gradient \n",
    "print(x.grad.data) #Prints '3' which is dz/dx "
   ]
  },
  {
   "cell_type": "markdown",
   "metadata": {},
   "source": [
    "# TF\n",
    "test differentiating an ODE solves using \"tfdiffeq\"."
   ]
  },
  {
   "cell_type": "code",
   "execution_count": 27,
   "metadata": {},
   "outputs": [
    {
     "name": "stdout",
     "output_type": "stream",
     "text": [
      "The autoreload extension is already loaded. To reload it, use:\n",
      "  %reload_ext autoreload\n"
     ]
    }
   ],
   "source": [
    "%load_ext autoreload\n",
    "%autoreload 2\n",
    "import tfdiffeq as td\n",
    "\n",
    "from tfdiffeq import odeint\n",
    "#from tfdiffeq import cast_double\n",
    "import tensorflow as tf\n",
    "tf.keras.backend.set_floatx('float64') # Presumably can get more speed, especially on a GPU, \n",
    "#if we used float32\n",
    "import numpy as np\n",
    "import pylab as pl\n",
    "#import torch as tch\n",
    "\n",
    "#odeint(func, y0, t)\n",
    "import matplotlib.pyplot as plt\n",
    "\n",
    "@tf.function\n",
    "def f(t, z, pars): # The actual function, dz_dt\n",
    "    # y now reprents the a vector of [u, v]\n",
    "    #u, v = y[0], y[1]\n",
    "    \n",
    "    #self.val.assign_add( 1)\n",
    "    return z**2*pars* tf.exp(-z/10)\n",
    "    #z0,z1,z2 = z\n",
    "    #z0_dt = z[0]**2 - z[1]\n",
    "    #z1_dt = pars[0]*tf.abs(t-pars[1])**2*z[1]**1\n",
    "    #z2_dt = z[2]**1-z[1]\n",
    "    #du_dt = v\n",
    "    #dv_dt = 5 * v - 6 * u\n",
    "    #return tf.stack([z0_dt, z1_dt, z2_dt])\n",
    "\n",
    "class Lambda(tf.keras.Model):\n",
    "    \n",
    "    def __init__(self, pars):#,f): #pars are parameters to the ode\n",
    "        self.pars=pars\n",
    "        #self.Nevals = tf.Variable(0)#tf.convert_to_tensor(0, dtype=tf.int64)\n",
    "        #self.f = tf.function(f)\n",
    "        super().__init__()\n",
    "    \n",
    "    @tf.function\n",
    "    def call(self, t, z):\n",
    "        z0,z1 = z[0], z[1]\n",
    "        #self.Nevals.assign_add(1)\n",
    "        #return self.f(t,z,self.pars)\n",
    "        #self.val.assign_add( 1)\n",
    "        pow_step  = tf.pow(z0,tf.constant(2, dtype='float64') )\n",
    "        tf.print(pow_step)\n",
    "        tf.print(t)\n",
    "        exp_step = pow_step*tf.exp(-z0)*t\n",
    "        z0_dt = self.pars* exp_step\n",
    "        z1_dt = z1+z0\n",
    "        return tf.stack([z0_dt, z1_dt])\n",
    "        \n",
    "#     def call(self, t, z): # The actual function, dz_dt\n",
    "#         #return f(t,z, self.pars)\n",
    "#         # y now reprents the a vector of [u, v]\n",
    "#         #u, v = y[0], y[1]\n",
    "#         #z0,z1,z2 = z\n",
    "#         z0_dt = z[0]**2 - z[1] \n",
    "#         z1_dt = self.pars[0]*tf.abs(t-self.pars[1])**2*z[1]**1\n",
    "#         z2_dt = z[2]**1-z[1]\n",
    "#         #du_dt = v\n",
    "#         #dv_dt = 5 * v - 6 * u\n",
    "#         self.val.assign_add( 1)\n",
    "#         return tf.stack([z0_dt, z1_dt, z2_dt])\n",
    "    \n",
    "    #return tf.stack([du_dt, dv_dt])  # vector of shape [2]\n"
   ]
  },
  {
   "cell_type": "code",
   "execution_count": 30,
   "metadata": {},
   "outputs": [
    {
     "name": "stdout",
     "output_type": "stream",
     "text": [
      "[0 1.0010007505003125e-06 4.00400300200125e-06 ... 0.99500375500406524 0.99700075150131318 0.99899975000006236]\n",
      "0\n",
      "[0 1.0010007505003125e-06 4.00400300200125e-06 ... 0.99500375500406524 0.99700075150131318 0.99899975000006236]\n",
      "0.0041771093383431435\n",
      "[0 1.0010003323719323e-06 4.0039996670230561e-06 ... 0.99515642934594417 0.99715404008263608 0.999153654209134]\n",
      "0.0083542186766862869\n",
      "[0 1.0010003323722815e-06 4.0039996670286059e-06 ... 0.99515645283014476 0.99715406368517856 0.99915367793030463]\n",
      "0.01253132801502943\n",
      "[0 1.0010001233079714e-06 4.003997999537601e-06 ... 0.995232784120062 0.99723070206959363 0.99923062410335184]\n",
      "0.01253132801502943\n",
      "[0 1.0009997051799842e-06 4.0039946645656514e-06 ... 0.99538549364733875 0.99738402603126641 0.99938456388836749]\n",
      "0.016708437353372574\n",
      "[0 1.0009988689249697e-06 4.0039879946370225e-06 ... 0.99569099482811929 0.99769075652999006 0.99969252648435558]\n",
      "0.020885546691715717\n",
      "[0 1.0009984507984663e-06 4.0039846596886645e-06 ... 0.99584382173197372 0.99784419849499906 0.9998465849013225]\n",
      "0.025062656030058861\n",
      "[0 1.0009982417344836e-06 4.0039829922028663e-06 ... 0.99592018818852512 0.99792087224975656 0.999923566649169]\n",
      "0.025062656030058861\n",
      "[0 1.0009974054810152e-06 4.003976322298328e-06 ... 0.99622583012911714 0.99822774430003758 1.0002316715911703]\n",
      "0.029239765057961147\n",
      "[0 1.0009961511039434e-06 4.003966317491035e-06 ... 0.9966845454622969 0.99868830615805382 1.0006940841512131]\n",
      "0.033416874085863434\n",
      "[0 1.0009953148534431e-06 4.0039596476336839e-06 ... 0.99699044573725126 0.99899543796217227 1.001002450271095]\n",
      "0.037593983113765717\n",
      "[0 1.0009951057907357e-06 4.0039579801679105e-06 ... 0.997066917817529 0.99907221791715151 1.00107953879748]\n",
      "0.037593983113765717\n",
      "[0 1.0009938514164015e-06 4.0039479754056322e-06 ... 0.99752592674046492 0.999533075038842 1.0015422483010392]\n",
      "0.041771092762549721\n",
      "[0 1.0009921789237079e-06 4.0039346358249545e-06 ... 0.9981384557328 1.0001480710667088 1.0021597169502097]\n",
      "0.045948202411333718\n",
      "[0 1.0009909245541755e-06 4.0039246311390142e-06 ... 0.99859791131388442 1.0006093773448967 1.0026228781170388]\n",
      "0.050125312060117722\n",
      "[0 1.0009907154935662e-06 4.0039229637070907e-06 ... 0.99867455966106233 1.00068633451694 1.0027001448135471]\n",
      "0.050125312060117722\n",
      "[0 1.0009890430055868e-06 4.0039096242013745e-06 ... 0.99928758240114579 1.0013018271351724 1.0033181129059883]\n",
      "0.054302421708901726\n",
      "[0 1.0009869524066242e-06 4.0038929499945222e-06 ... 1.0000547373661068 1.0020720741295837 1.004091458938785]\n",
      "0.058479531357685723\n",
      "[0 1.000985279925629e-06 4.00387961059985e-06 ... 1.0006684428839134 1.002688253391679 1.0047101175546655]\n",
      "0.062656641006469727\n",
      "[0 1.0009850708680966e-06 4.0038779432168422e-06 ... 1.0007453383104261 1.0027654589677151 1.0047876339837911]\n",
      "0.062656641006469727\n",
      "[0 1.0009829802766089e-06 4.0038612691239234e-06 ... 1.0015132349831808 1.003536451970912 1.0055617303421807]\n",
      "0.0668337494134903\n",
      "[0 1.0009804715837698e-06 4.0038412604810256e-06 ... 1.0024360423573284 1.0044629820385018 1.0064919915537678]\n",
      "0.071010857820510864\n",
      "[0 1.0009783810017985e-06 4.003824586539403e-06 ... 1.003204906282557 1.0052349478206868 1.0072670662372776]\n",
      "0.075187966227531433\n",
      "[0 1.000978171948384e-06 4.0038229192208735e-06 ... 1.0032821198886213 1.005312473276732 1.007344904251904]\n",
      "0.075187966227531433\n",
      "[0 1.0009756632633956e-06 4.0038029107146208e-06 ... 1.0042059665039056 1.0062400486432688 1.0082762168427801]\n",
      "0.079365077118078872\n",
      "[0 1.0009727364879494e-06 4.0037795678355063e-06 ... 1.0052856701090105 1.007324112478561 1.0093646508228056]\n",
      "0.0835421880086263\n",
      "[0 1.0009702278153583e-06 4.0037595595263607e-06 ... 1.0062108175000748 1.0082529961049413 1.0102972791845732]\n",
      "0.087719298899173737\n",
      "[0 1.0009700187666052e-06 4.0037578922838973e-06 ... 1.0062884209647156 1.0083309134982912 1.0103755112213362]\n",
      "0.087719298899173737\n",
      "[0 1.0009670920050789e-06 4.0037345496123228e-06 ... 1.0073695086816892 1.0094163695515093 1.0114653455557727]\n",
      "0.0918964073061943\n",
      "[0 1.0009637471669912e-06 4.0037078727848388e-06 ... 1.0086075681945241 1.0106594349037268 1.0127134281521695]\n",
      "0.096073515713214874\n",
      "[0 1.0009608204210923e-06 4.0036845303617262e-06 ... 1.0096903400751502 1.0117465848648282 1.0138049661742776]\n",
      "0.10025062412023544\n",
      "[0 1.0009606113784141e-06 4.0036828632138628e-06 ... 1.0097684052332909 1.0118249664094212 1.0138836648271898]\n",
      "0.10025062412023544\n",
      "[0 1.0009572665556924e-06 4.0036561866307062e-06 ... 1.0110082457344955 1.0130698232169613 1.015133549385427]\n",
      "0.10442773252725601\n",
      "[0 1.0009535036718149e-06 4.00362617613653e-06 ... 1.0124063434915103 1.0144735817258388 1.0165429815714289]\n",
      "0.10860484093427658\n",
      "[0 1.0009501588682997e-06 4.0035994998587407e-06 ... 1.0136483023675908 1.0157205692216793 1.0177950091767529]\n",
      "0.11278194934129715\n",
      "[0 1.0009499498323641e-06 4.003597832818055e-06 ... 1.0137269018900641 1.0157994879708154 1.0178742478826359]\n",
      "0.11278194934129715\n",
      "[0 1.0009461869651509e-06 4.0035678226065785e-06 ... 1.0151272288802722 1.0172054888535804 1.0192859356331734]\n",
      "0.11695906023184459\n",
      "[0 1.0009420060536978e-06 4.0035344787568966e-06 ... 1.0166872710518591 1.0187718572324922 1.0208586446993106]\n",
      "0.12113617112239201\n",
      "[0 1.0009382432096192e-06 4.0035044689132408e-06 ... 1.0180902025402783 1.0201804778124055 1.022272967402359]\n",
      "0.12531328201293945\n",
      "[0 1.0009380341810941e-06 4.00350280199231e-06 ... 1.0181694097395153 1.0202600074635926 1.0223528202448424]\n",
      "0.12531328201293945\n",
      "[0 1.0009338532949131e-06 4.00346945852476e-06 ... 1.0197321791111433 1.0218291191662525 1.0239282888200341]\n",
      "0.12949039041996002\n",
      "[0 1.0009292543844077e-06 4.0034327817316347e-06 ... 1.0214562955138711 1.0235602390180814 1.0256664281936272]\n",
      "0.13366749882698059\n",
      "[0 1.000925073525639e-06 4.003399438699902e-06 ... 1.0230222086301226 1.0251325128742561 1.0272450774000037]\n",
      "0.13784460723400116\n",
      "[0 1.0009248645059372e-06 4.0033977719172504e-06 ... 1.0231020972535565 1.0252127275616816 1.0273256189010613]\n",
      "0.13784460723400116\n",
      "[0 1.0009202656224527e-06 4.003361095553739e-06 ... 1.0248294950941303 1.0269471482973564 1.0290670786790834]\n",
      "0.14202171564102173\n",
      "[0 1.0009152487360696e-06 4.0033210862051987e-06 ... 1.0267200485528631 1.0288453955192891 1.0309730373717889]\n",
      "0.1461988240480423\n",
      "[0 1.0009106498846228e-06 4.003284410351048e-06 ... 1.0284511838741972 1.0305835756881478 1.0327182786178766]\n",
      "0.15037593245506287\n",
      "[0 1.000910440874412e-06 4.0032827437192454e-06 ... 1.028531828743297 1.0306645506241983 1.0327995843818321]\n",
      "0.15037593245506287\n",
      "[0 1.0009054240196321e-06 4.003242734873171e-06 ... 1.0304262719477926 1.032566710694373 1.0347094791141704]\n",
      "0.15455304086208344\n",
      "[0 1.0008999891853857e-06 4.0031993934144861e-06 ... 1.0324858583619474 1.034634695549367 1.0367858817986395]\n",
      "0.158730149269104\n",
      "[0 1.0008949723676191e-06 4.0031593851568523e-06 ... 1.034384688763605 1.0365412686561979 1.0387002155046234]\n",
      "0.16290725767612457\n",
      "[0 1.0008947633678151e-06 4.0031577186904515e-06 ... 1.0344661654705574 1.0366230798267579 1.0387823619120597]\n",
      "0.16290725767612457\n",
      "[0 1.000889328563641e-06 4.003114377761086e-06 ... 1.0365303089391684 1.0386956488535843 1.0408633759903914]\n",
      "0.16708437105019888\n",
      "[0 1.0008834758044447e-06 4.003067704615463e-06 ... 1.0387617652734544 1.0409362239986735 1.0431130910661923]\n",
      "0.17126148442427316\n",
      "[0 1.0008780410426082e-06 4.0030243643591635e-06 ... 1.0408310032814065 1.0430139176458872 1.0451992599598947]\n",
      "0.17543859779834747\n",
      "[0 1.0008778320536298e-06 4.0030226980687448e-06 ... 1.0409133885476483 1.0430966421701513 1.0452823245287446]\n",
      "0.17543859779834747\n",
      "[0 1.0008719793432079e-06 4.0029760256434115e-06 ... 1.0431501199209063 1.0453425238153775 1.0475373776876076]\n",
      "0.17961570620536804\n",
      "[0 1.0008657087062022e-06 4.0029260214458778e-06 ... 1.0455565175473391 1.047758777621399 1.0499635105785667]\n",
      "0.18379281461238861\n",
      "[0 1.0008598560437902e-06 4.0028793497837644e-06 ... 1.0477991101610546 1.0500105551956913 1.0522244944869255]\n",
      "0.18796992301940918\n",
      "[0 1.0008596470675471e-06 4.0028776836917988e-06 ... 1.0478824811196372 1.0500942706053398 1.0523085551484468]\n",
      "0.18796992301940918\n",
      "[0 1.0008533764779852e-06 4.0028276802485225e-06 ... 1.0502949395865919 1.0525166214604964 1.0547408214375733]\n",
      "0.19214703142642975\n",
      "[0 1.0008466879912878e-06 4.0027743455010162e-06 ... 1.0528796056646617 1.0551118994844835 1.0573467361565523]\n"
     ]
    },
    {
     "name": "stdout",
     "output_type": "stream",
     "text": [
      "0.19632413983345032\n",
      "[0 1.0008404174557566e-06 4.0027243429166483e-06 ... 1.0552987533838418 1.0575409792669013 1.0597857711991696]\n",
      "0.20050124824047089\n",
      "[0 1.0008402084926676e-06 4.0027226770337117e-06 ... 1.05538318881179 1.0576257647432497 1.0598709075398927]\n",
      "0.20050124824047089\n",
      "[0 1.0008335200593919e-06 4.0026693431354644e-06 ... 1.0579747609253178 1.0602279901331193 1.062483811115758]\n",
      "0.20467835664749146\n",
      "[0 1.0008264137604346e-06 4.0026126784327924e-06 ... 1.060741272811391 1.0630058895094936 1.0652731246375247]\n",
      "0.20885546505451202\n",
      "[0 1.0008197253875598e-06 4.0025593454946755e-06 ... 1.0633404255436374 1.0656157405718376 1.0678936991117203]\n",
      "0.21303257346153259\n",
      "[0 1.00081951643854e-06 4.0025576798352989e-06 ... 1.063426005136914 1.0657016762174831 1.0679799916417581]\n",
      "0.21303257346153259\n",
      "[0 1.0008124101993309e-06 4.0025010160824185e-06 ... 1.0662003324157865 1.0684874378381137 1.0707772144415544]\n",
      "0.21720968186855316\n",
      "[0 1.0008048861278985e-06 4.0024410220567325e-06 ... 1.0691525258296144 1.071451815482801 1.0737538049445106]\n",
      "0.22138679027557373\n",
      "[0 1.000797779955808e-06 4.0023843593707291e-06 ... 1.0719353906492211 1.0742461654832862 1.0765596671578725]\n",
      "0.2255638986825943\n",
      "[0 1.0007975710217726e-06 4.0023826939494416e-06 ... 1.072022195266908 1.0743333325668978 1.0766471975563188]\n",
      "0.2255638986825943\n",
      "[0 1.000790047007816e-06 4.0023227009082704e-06 ... 1.0749831833846619 1.0773065577167076 1.07963268857131]\n",
      "0.22974101205666861\n",
      "[0 1.0007821051961059e-06 4.0022593781498033e-06 ... 1.078125162185438 1.080461540147071 1.0828007053013109]\n",
      "0.23391812543074289\n",
      "[0 1.0007745812563349e-06 4.0021993862877859e-06 ... 1.0810957126922318 1.0834443847323838 1.085795873016979]\n",
      "0.2380952388048172\n",
      "[0 1.0007743723377023e-06 4.0021977211151483e-06 ... 1.0811838246088894 1.0835328659416534 1.0858847243854444]\n",
      "0.2380952388048172\n",
      "[0 1.0007664306088816e-06 4.0021343995994174e-06 ... 1.0843356354997051 1.0866977395983817 1.0890626917088235]\n",
      "0.24227234721183777\n",
      "[0 1.0007580711207671e-06 4.0020677489695305e-06 ... 1.0876717622123062 1.0900477134228528 1.0924265454319908]\n",
      "0.24644945561885834\n",
      "[0 1.0007501294735461e-06 4.002004428750746e-06 ... 1.0908342306877337 1.0932233083555509 1.0956152979672062]\n",
      "0.25062656402587891\n",
      "[0 1.0007499205722242e-06 4.0020027638491962e-06 ... 1.0909237327922596 1.0933131869921564 1.0957055540208689]\n",
      "0.25062656402587891\n",
      "[0 1.0007415611748671e-06 4.0019361145831077e-06 ... 1.0942708073860217 1.0966741746445763 1.099080487776231]\n",
      "0.25480366746584576\n",
      "[0 1.0007327840586792e-06 4.0018661368377746e-06 ... 1.09780572818909 1.1002238116557326 1.102644875977137]\n",
      "0.25898077090581256\n",
      "[0 1.0007244247506843e-06 4.0017994889919393e-06 ... 1.1011646285913372 1.1035966959074635 1.1060317773946713]\n",
      "0.26315787434577942\n",
      "[0 1.0007242158675884e-06 4.0017978243759836e-06 ... 1.1012556054500104 1.1036880569539427 1.1061235235329787]\n",
      "0.26315787434577942\n",
      "[0 1.0007154388190634e-06 4.0017278478713979e-06 ... 1.104802676706345 1.1072499176923023 1.109700209021163]\n",
      "0.2673349877198537\n",
      "[0 1.0007062440911928e-06 4.0016545435304969e-06 ... 1.1085413351022972 1.1110041885947153 1.1134701296884992]\n",
      "0.27151210109392804\n",
      "[0 1.0006974671401416e-06 4.0015845685749989e-06 ... 1.1121014763060808 1.114579197643506 1.1170600421514358]\n",
      "0.27568921446800232\n",
      "[0 1.0006972582746953e-06 4.0015829042472673e-06 ... 1.1121940144307414 1.1146721280318967 1.1171533657272]\n",
      "0.27568921446800232\n",
      "[0 1.0006880636434297e-06 4.00150960144168e-06 ... 1.1159460820771185 1.1184398891815219 1.120936857954981]\n",
      "0.2798663278420766\n",
      "[0 1.0006784513762936e-06 4.0014329714902862e-06 ... 1.1198936901149239 1.1224040346933946 1.1249175805615814]\n",
      "0.28404344121615094\n",
      "[0 1.0006692568509605e-06 4.0013596703681264e-06 ... 1.1236601505507458 1.1261862750576479 1.1287156387616353]\n",
      "0.28822055459022522\n",
      "[0 1.000669048005072e-06 4.0013580063510315e-06 ... 1.1237543366671736 1.126280861929742 1.1288106273331289]\n",
      "0.28822055459022522\n",
      "[0 1.0006594358658156e-06 4.0012813782508413e-06 ... 1.1277166917220909 1.130259843674662 1.1328062757373327]\n",
      "0.29239765803019208\n",
      "[0 1.0006494061381528e-06 4.0012014237429069e-06 ... 1.1318787567505295 1.1344394013891905 1.1370033682096721]\n",
      "0.29657476147015888\n",
      "[0 1.0006397941136351e-06 4.001124797465978e-06 ... 1.1358569092016784 1.138434275526528 1.1410150043679264]\n",
      "0.30075186491012573\n",
      "[0 1.0006395852892113e-06 4.0011231337819229e-06 ... 1.1359528312980665 1.1385306072858448 1.1411117467543546]\n",
      "0.30075186491012573\n",
      "[0 1.0006295556514776e-06 4.0010431808919577e-06 ... 1.1401310930264235 1.1427264597765718 1.145325232462189]\n",
      "0.3049289782842\n",
      "[0 1.0006191084708295e-06 4.0009599023323756e-06 ... 1.1445134575968892 1.1471273042279329 1.1497446014097086]\n",
      "0.30910609165827435\n",
      "[0 1.0006090789569892e-06 4.000879951411026e-06 ... 1.1487090065593786 1.1513405480496695 1.1539755829457692]\n",
      "0.31328320503234863\n",
      "[0 1.0006088701529578e-06 4.0008782880586665e-06 ... 1.1488067552611743 1.1514387157411807 1.1540741706118782]\n",
      "0.31328320503234863\n",
      "[0 1.0005984231200482e-06 4.000795011649917e-06 ... 1.1532068130885664 1.1558573607602369 1.1585114478568415]\n",
      "0.31746030847231549\n",
      "[0 1.0005875585956884e-06 4.0007084103730141e-06 ... 1.1578155901995375 1.1604856383880091 1.1631592732553606]\n",
      "0.32163741191228229\n",
      "[0 1.0005771116961735e-06 4.0006251360837165e-06 ... 1.1622345133802185 1.16492326250568 1.167615643781432]\n",
      "0.32581451535224915\n",
      "[0 1.0005769029154339e-06 4.0006234730933492e-06 ... 1.1623341787203607 1.1650233565711068 1.1677161675778134]\n",
      "0.32581451535224915\n",
      "[0 1.0005660384975874e-06 4.0005368737134257e-06 ... 1.1669622773625234 1.1696710730129638 1.1723835495306867]\n",
      "0.32999162872632343\n",
      "[0 1.0005547566377838e-06 4.0004469502668562e-06 ... 1.1718039433108267 1.1745332953949 1.1772663783372774]\n",
      "0.33416874210039776\n",
      "[0 1.000543892363181e-06 4.0003603531627332e-06 ... 1.1764525775826666 1.1792016714305509 1.1819545443240291]\n",
      "0.33834585547447205\n",
      "[0 1.0005436836046608e-06 4.000358690533002e-06 ... 1.1765542526592114 1.1793037853804076 1.182057098173604]\n",
      "0.33834585547447205\n",
      "[0 1.0005324018870147e-06 4.0002687693450289e-06 ... 1.1814169296949182 1.1841871465509632 1.1869611939675122]\n",
      "0.34252296884854633\n",
      "[0 1.0005207027808895e-06 4.0001755249393858e-06 ... 1.186498254708628 1.1892901207292255 1.1920858701389652]\n",
      "0.34670008222262066\n",
      "[0 1.0005094212166837e-06 4.00008560618904e-06 ... 1.1913832331916896 1.1941959181195489 1.1970125374418106]\n",
      "0.35087719559669495\n",
      "[0 1.0005092124822878e-06 4.0000839439423139e-06 ... 1.1914870108219087 1.1943001451714697 1.1971172149623301]\n",
      "0.35087719559669495\n",
      "[0 1.0004975135562958e-06 3.9999907021781609e-06 ... 1.1965911326128635 1.1994260548450919 1.2022649658868934]\n",
      "0.3550542990366618\n",
      "[0 1.0004853972992873e-06 3.9998941380927562e-06 ... 1.2019192195493982 1.2047769221703215 1.2076386693696972]\n",
      "0.3592314024766286\n",
      "[0 1.0004736985372777e-06 3.9998008989335284e-06 ... 1.2070475079133476 1.2099271446080304 1.2128108798089827]\n",
      "0.36340850591659546\n",
      "[0 1.0004734898289131e-06 3.9997992370921588e-06 ... 1.20715348192983 1.2100335789868792 1.2129177756171388]\n",
      "0.36340850591659546\n",
      "[0 1.0004613737058992e-06 3.9997026753634657e-06 ... 1.2125062895203824 1.2154093174849332 1.2183165013758266]\n",
      "0.36758561929066974\n",
      "[0 1.0004488403073589e-06 3.9996027922099462e-06 ... 1.2180886228977745 1.2210156028366808 1.2239467975157554]\n",
      "0.37176273266474408\n",
      "[0 1.0004367243592188e-06 3.9995062332589825e-06 ... 1.2234675657797884 1.2264176348696691 1.2293719756571944]\n",
      "0.37593984603881836\n",
      "[0 1.0004365156758114e-06 3.9995045718215959e-06 ... 1.2235758324698265 1.2265263732515213 1.229481186817186]\n",
      "0.37593984603881836\n",
      "[0 1.0004239824807352e-06 3.9994046916640895e-06 ... 1.2291848649277806 1.2321595204342919 1.2351385081690212]\n",
      "0.38011694947878522\n",
      "[0 1.00041103207159e-06 3.9993014910413712e-06 ... 1.2350292265821814 1.2380290474915852 1.2410332625932956]\n",
      "0.384294052918752\n",
      "[0 1.0003984990626234e-06 3.9992016138398438e-06 ... 1.2406664702030987 1.2436905767850885 1.2467191376547706]\n",
      "0.38847115635871887\n",
      "[0 1.0003982904070704e-06 3.9991999528366784e-06 ... 1.240777124648915 1.2438017146196907 1.2468307599829394]\n",
      "0.38847115635871887\n",
      "[0 1.0003853401519767e-06 3.99909675490458e-06 ... 1.2466503264500695 1.2497002577041234 1.2527547069939675]\n",
      "0.39264826973279315\n"
     ]
    },
    {
     "name": "stdout",
     "output_type": "stream",
     "text": [
      "[0 1.0003719727422983e-06 3.9989902374668661e-06 ... 1.2527649113863502 1.2558412652625741 1.2589222023954338]\n",
      "0.39682538310686749\n",
      "[0 1.000359022684899e-06 3.9988870426744959e-06 ... 1.2586685120775896 1.2617703915652663 1.2648769176528096]\n",
      "0.40100249648094177\n",
      "[0 1.000358814056127e-06 3.9988853821041652e-06 ... 1.2587816521084338 1.2618840270433469 1.2649910497001762]\n",
      "0.40100249648094177\n",
      "[0 1.0003454468428402e-06 3.998778867785564e-06 ... 1.264927290971205 1.2680562780538756 1.271189978808962]\n",
      "0.40517960985501605\n",
      "[0 1.000331662538435e-06 3.9986690349682879e-06 ... 1.2713206171508173 1.2744773293891147 1.2776388238834087]\n",
      "0.40935672322909039\n",
      "[0 1.0003182955347723e-06 3.9985625239786126e-06 ... 1.277498958355497 1.2806824811444377 1.2838708528904996]\n",
      "0.41353383660316467\n",
      "[0 1.000318086934686e-06 3.9985608638634283e-06 ... 1.277614680733139 1.28079871136436 1.2839875920905117]\n",
      "0.41353383660316467\n",
      "[0 1.0003043028713402e-06 3.9984510346149781e-06 ... 1.2840413913113458 1.2872533509750923 1.2904702300994246]\n",
      "0.41771094004313153\n",
      "[0 1.0002901017843196e-06 3.9983378879220947e-06 ... 1.2907223462189599 1.293963380566411 1.2972094064259008]\n",
      "0.42188804348309833\n",
      "[0 1.0002763179428732e-06 3.9982280621972075e-06 ... 1.2971841826551209 1.3004533592269008 1.303727597479591]\n",
      "0.42606514692306519\n",
      "[0 1.0002761093733751e-06 3.9982264025594618e-06 ... 1.297302584396506 1.3005722815207184 1.3038470414775643]\n",
      "0.42606514692306519\n",
      "[0 1.0002619084730917e-06 3.998113259099084e-06 ... 1.3040194232474662 1.3073184142193366 1.3106225409122458]\n",
      "0.43024226029713947\n",
      "[0 1.0002472906146056e-06 3.997996799248453e-06 ... 1.3109973221596702 1.3143267862235493 1.3176614616318043]\n",
      "0.4344193736712138\n",
      "[0 1.0002330899488449e-06 3.9978836595117642e-06 ... 1.3177518354293165 1.3211108220582737 1.3244750937776371]\n",
      "0.43859648704528809\n",
      "[0 1.0002328814088619e-06 3.9978820003500535e-06 ... 1.31787301530067 1.3212325354899004 1.324597341932974]\n",
      "0.43859648704528809\n",
      "[0 1.0002182638182294e-06 3.9977655444774085e-06 ... 1.324889361290372 1.3282795894994661 1.3316751804787654]\n",
      "0.44277359048525494\n",
      "[0 1.0002032293408257e-06 3.9976457733317078e-06 ... 1.3321738386748918 1.335595988620137 1.3390235806315294]\n",
      "0.44695069392522174\n",
      "[0 1.0001886119976829e-06 3.9975293213882861e-06 ... 1.3392305365165567 1.3426836394755648 1.34614226193082]\n",
      "0.4511277973651886\n",
      "[0 1.0001884034901091e-06 3.9975276627327716e-06 ... 1.3393545908179589 1.3428082406040736 1.3462674110589594]\n",
      "0.4511277973651886\n",
      "[0 1.0001733692229643e-06 3.9974078952081257e-06 ... 1.3466802767936754 1.3501661000712344 1.3536575242651037]\n",
      "0.45530491073926288\n",
      "[0 1.0001579181385068e-06 3.9972848135275293e-06 ... 1.3542814273123809 1.3578006731129868 1.3613256028962997]\n",
      "0.45948202411333722\n",
      "[0 1.0001428841321667e-06 3.9971650501431186e-06 ... 1.3616502767990222 1.36520195813408 1.3687594046708338]\n",
      "0.4636591374874115\n",
      "[0 1.0001426756559288e-06 3.9971633919923824e-06 ... 1.3617773036547063 1.365329545320018 1.3688875533655995]\n",
      "0.4636591374874115\n",
      "[0 1.0001272248307568e-06 3.9970403144280061e-06 ... 1.369422509701802 1.3730084430396365 1.376600226835401]\n",
      "0.46783625086148578\n",
      "[0 1.000111357261706e-06 3.9969139238719751e-06 ... 1.3773507719924669 1.3809716821079971 1.3845985296108234]\n",
      "0.47201336423556012\n",
      "[0 1.0000959067109977e-06 3.9967908506642645e-06 ... 1.3850420914827537 1.3886969731477443 1.3923578773082967]\n",
      "0.4761904776096344\n",
      "[0 1.0000956982679968e-06 3.9967891930405505e-06 ... 1.3851721864286766 1.3888276421181742 1.392489121484324]\n",
      "0.4761904776096344\n",
      "[0 1.0000798310095833e-06 3.9966628071170638e-06 ... 1.3931474908158399 1.3968382106250747 1.4005350421127325]\n",
      "0.48036758104960126\n",
      "[0 1.0000635470846969e-06 3.9965331094133592e-06 ... 1.4014137013748009 1.4051410071616306 1.4088745155056712]\n",
      "0.48454468448956806\n",
      "[0 1.0000476801147496e-06 3.9964067280683693e-06 ... 1.4094382120121682 1.413201080428055 1.4169702404939426]\n",
      "0.48872178792953491\n",
      "[0 1.0000474717068866e-06 3.9964050709938995e-06 ... 1.409571469329931 1.4133349256131162 1.4171046747258735]\n",
      "0.48872178792953491\n",
      "[0 1.0000311880301353e-06 3.9962753775348836e-06 ... 1.4178879122541124 1.4216882611252297 1.425494994840198]\n",
      "0.49289890130360919\n",
      "[0 1.0000144877623446e-06 3.996142373506945e-06 ... 1.4265033726218521 1.4303419732994107 1.4341870537287402]\n",
      "0.49707601467768353\n",
      "[0 9.999982043884112e-07 3.9960126848537281e-06 ... 1.434872262843691 1.4387480740654695 1.4426304582057998]\n",
      "0.50125312805175781\n",
      "[0 9.9999799601461226e-07 3.9960110283270616e-06 ... 1.435008777094376 1.4388851901356146 1.442768177268889]\n",
      "0.50125312805175781\n",
      "[0 9.9998129604799064e-07 3.9958780290788714e-06 ... 1.4436777529019471 1.4475927442046919 1.4515144057064229]\n",
      "0.50543024142583215\n",
      "[0 9.9996417956973313e-07 3.9957417205201353e-06 ... 1.452654112687253 1.4566090793176174 1.4605708151541756]\n",
      "0.50960735479990638\n",
      "[0 9.99947479920623e-07 3.9956087263104367e-06 ... 1.4613789289867951 1.4653728121016205 1.4693735617443884]\n",
      "0.51378446817398071\n",
      "[0 9.9994727158278768e-07 3.99560707035377e-06 ... 1.4615187907746088 1.4655132897089933 1.4695146563335511]\n",
      "0.51378446817398071\n",
      "[0 9.9993015550176216e-07 3.9954707674551147e-06 ... 1.4705520812692361 1.47458690256812 1.4786286918275278]\n",
      "0.51796156167984009\n",
      "[0 9.9991262299445458e-07 3.9953311565670645e-06 ... 1.4799013729112513 1.4839779518525165 1.4880616019201391]\n",
      "0.52213865518569946\n",
      "[0 9.99895507245977e-07 3.9951948589449458e-06 ... 1.4889940534522277 1.4931113140718293 1.4972357473657607]\n",
      "0.52631574869155884\n",
      "[0 9.9989529894699474e-07 3.99519320358833e-06 ... 1.4891373500773297 1.4932552405023425 1.4973803047468757]\n",
      "0.52631574869155884\n",
      "[0 9.9987776668710929e-07 3.9950535972853927e-06 ... 1.4985472783309604 1.5027072954480345 1.5068745908797052]\n",
      "0.53049286206563318\n",
      "[0 9.99859818080359e-07 3.9949106842825362e-06 ... 1.5082820804355721 1.5124856980103425 1.5166967012727441]\n",
      "0.5346699754397074\n",
      "[0 9.9984228616840753e-07 3.9947710834996839e-06 ... 1.5177551108553848 1.5220012363649442 1.5262548533979026]\n",
      "0.53884708881378174\n",
      "[0 9.9984207790522327e-07 3.9947694287259071e-06 ... 1.5179019305871804 1.5221486998266256 1.5264029617112174]\n",
      "0.53884708881378174\n",
      "[0 9.9982412964462967e-07 3.9946265212150649e-06 ... 1.5277011086224073 1.5319918696479735 1.5362902320858198]\n",
      "0.54302420218785608\n",
      "[0 9.99805765122537e-07 3.9944803083564981e-06 ... 1.537834274439513 1.5421705395961725 1.5465145177783153]\n",
      "0.5472013155619303\n",
      "[0 9.9978781722560543e-07 3.9943374066146346e-06 ... 1.5477004319685574 1.5520810929106 1.5564695770488752]\n",
      "0.55137842893600464\n",
      "[0 9.9978760900110749e-07 3.9943357524537184e-06 ... 1.5478508553223744 1.5522321737679836 1.5566213165010154]\n",
      "0.55137842893600464\n",
      "[0 9.9976924484085635e-07 3.9941895453353839e-06 ... 1.5580523500168504 1.5624795872501145 1.5669147618432757]\n",
      "0.555555542310079\n",
      "[0 9.99750464506457e-07 3.9940400342527245e-06 ... 1.5685971839414554 1.5730718908329822 1.5775546509551246]\n",
      "0.5597326556841532\n",
      "[0 9.9973210072593912e-07 3.9938938331576463e-06 ... 1.578869705431948 1.5833907586939029 1.5879199797249595]\n",
      "0.56390976905822754\n",
      "[0 9.9973189254103361e-07 3.9938921796238505e-06 ... 1.5790238099445382 1.5835455342607181 1.5880754273988202]\n",
      "0.56390976905822754\n",
      "[0 9.9971311258450446e-07 3.9937426745350292e-06 ... 1.5896410993695356 1.5942107321760859 1.5987886511991314]\n",
      "0.56808688243230188\n",
      "[0 9.9969391654316146e-07 3.9935898668964544e-06 ... 1.6006113088526814 1.6052304393175969 1.6098579761263947]\n",
      "0.5722639958063761\n",
      "[0 9.99675136982781e-07 3.9934403680905466e-06 ... 1.6113038463591833 1.6159713372993325 1.620647353505372]\n",
      "0.57644110918045044\n",
      "[0 9.9967492883837462e-07 3.9934387151981139e-06 ... 1.6114617045619564 1.6161298797989452 1.620806581307735]\n",
      "0.57644110918045044\n",
      "[0 9.99655733282577e-07 3.9932859145391491e-06 ... 1.6225086213010682 1.627226757804 1.6319535422929179]\n",
      "0.58061820268630981\n",
      "[0 9.9963612173724136e-07 3.993129812807546e-06 ... 1.633918255142341 1.6386879799420715 1.6434664770900087]\n",
      "0.58479529619216919\n",
      "[0 9.9961692659434663e-07 3.9929770186964542e-06 ... 1.6450448182298698 1.6498649814833153 1.6546940403865407]\n",
      "0.58897238969802856\n",
      "[0 9.9961671849332555e-07 3.9929753664753324e-06 ... 1.6452064953839673 1.650027355770155 1.6548571127558229]\n",
      "0.58897238969802856\n",
      "[0 9.9959710726566438e-07 3.9928192705183909e-06 ... 1.6566974290657073 1.661570367675411 1.6664523288967303]\n"
     ]
    },
    {
     "name": "stdout",
     "output_type": "stream",
     "text": [
      "0.5931495030721029\n",
      "[0 9.9957708013780824e-07 3.9926598749342196e-06 ... 1.6685610920749312 1.673487773206515 1.6784236055040731]\n",
      "0.59732661644617713\n",
      "[0 9.9955746934015648e-07 3.992503785795607e-06 ... 1.6801362531640065 1.6851155157059605 1.69010405707141]\n",
      "0.60150372982025146\n",
      "[0 9.9955726127946561e-07 3.9925021342285708e-06 ... 1.6803018126329405 1.6852817846576782 1.6902710363893745]\n",
      "0.60150372982025146\n",
      "[0 9.9953723457962622e-07 3.992342745431301e-06 ... 1.6922513926718559 1.6972856235429583 1.7023292643845207]\n",
      "0.6056808431943258\n",
      "[0 9.9951679207487247e-07 3.9921800585146936e-06 ... 1.7045839059961891 1.7096740964139563 1.7147738294791952]\n",
      "0.6098579565684\n",
      "[0 9.9949676582248756e-07 3.9920206768114983e-06 ... 1.7166224781826478 1.7217674573914328 1.7269221112120017]\n",
      "0.61403506994247437\n",
      "[0 9.9949655780501146e-07 3.9920190259284649e-06 ... 1.7167919714331341 1.7219376718628843 1.7270930477108213]\n",
      "0.61403506994247437\n",
      "[0 9.9947611574567676e-07 3.9918563460738338e-06 ... 1.7292152613229881 1.7344174650435262 1.7396294786254736]\n",
      "0.6182121833165487\n",
      "[0 9.9945525797868826e-07 3.9916903696387877e-06 ... 1.7420318685627141 1.7472923115853904 1.7525627011728284]\n",
      "0.62238929669062293\n",
      "[0 9.9943481638459552e-07 3.9915276971593242e-06 ... 1.7545491025879485 1.7598666063371962 1.7651941928474939]\n",
      "0.62656641006469727\n",
      "[0 9.9943460841123882e-07 3.9915260469744763e-06 ... 1.7547225744410435 1.7600408104310541 1.765369129899891]\n",
      "0.62656641006469727\n",
      "[0 9.9941375110741429e-07 3.9913600778818311e-06 ... 1.7676350089788542 1.7730120561809468 1.7783993253850958]\n",
      "0.6307435234387716\n",
      "[0 9.9939247819517539e-07 3.9911908137786922e-06 ... 1.7809513080112502 1.7863889363997669 1.791836927393873]\n",
      "0.63492063681284583\n",
      "[0 9.993716213747227e-07 3.9910248523476439e-06 ... 1.7939628283120626 1.7994598535367075 1.8049673816916609]\n",
      "0.63909775018692017\n",
      "[0 9.99371413446389e-07 3.9910232028751465e-06 ... 1.7941403145284074 1.7996380821753042 1.8051463533693501]\n",
      "0.63909775018692017\n",
      "[0 9.993501411165818e-07 3.9908539472052235e-06 ... 1.807557621230705 1.8131165705554586 1.8186861658996551]\n",
      "0.64327484369277954\n",
      "[0 9.99328453283529e-07 3.9906813981570139e-06 ... 1.8213894795923056 1.8270114128937402 1.8326441365591786]\n",
      "0.64745193719863892\n",
      "[0 9.993071814555608e-07 3.9905121504403678e-06 ... 1.8349112042339235 1.8405949336738827 1.846289597795512]\n",
      "0.65162903070449829\n",
      "[0 9.993069735751306e-07 3.990510501710055e-06 ... 1.8350927288562779 1.8407772099280306 1.8464726261843289]\n",
      "0.65162903070449829\n",
      "[0 9.99285286138599e-07 3.9903379597603483e-06 ... 1.8490311639753534 1.8547792596388937 1.8605384367463818]\n",
      "0.65580614407857263\n",
      "[0 9.9926318329806186e-07 3.9901621260328221e-06 ... 1.8633949684981048 1.8692085115010686 1.8750332838417931]\n",
      "0.65998325745264685\n",
      "[0 9.9924149638218833e-07 3.9899895923335534e-06 ... 1.8774433487010902 1.8833211502091334 1.8892103291983713]\n",
      "0.66416037082672119\n",
      "[0 9.9924128854660874e-07 3.989987944328184e-06 ... 1.877628929999321 1.8835074912657239 1.8893974303885488]\n",
      "0.66416037082672119\n",
      "[0 9.9921918622452327e-07 3.9898121188163318e-06 ... 1.8921048824414262 1.8980495515079137 1.9040057482778885]\n",
      "0.66833748420079553\n",
      "[0 9.991966686036e-07 3.9896330031893469e-06 ... 1.9070171173499397 1.913029755182895 1.9190540719314995]\n",
      "0.67251459757486975\n",
      "[0 9.9917456682132821e-07 3.9894571862303269e-06 ... 1.9216087348271058 1.9276881543675362 1.9337794045873367]\n",
      "0.67669171094894409\n",
      "[0 9.9917435903347956e-07 3.9894555389797045e-06 ... 1.9217983739940498 1.9278785601767918 1.9339705772721658]\n",
      "0.67669171094894409\n",
      "[0 9.9915184195012067e-07 3.9892764318701237e-06 ... 1.9368285909116327 1.9429774370115716 1.9491382672222115]\n",
      "0.68086882432301843\n",
      "[0 9.9912890967506539e-07 3.9890940363389348e-06 ... 1.9523060768045248 1.9585254694775478 1.9647570005222437]\n",
      "0.68504593769709266\n",
      "[0 9.9910639315101761e-07 3.9889149380898827e-06 ... 1.967457872706508 1.9737466296808217 1.9800476801673461]\n",
      "0.689223051071167\n",
      "[0 9.9910618541180136e-07 3.9889132916081062e-06 ... 1.9676515597237685 1.9739410888458222 1.9802429115565237]\n",
      "0.689223051071167\n",
      "[0 9.9908325369376532e-07 3.9887309049013582e-06 ... 1.9832530593037183 1.9896138573178239 1.9959871051928264]\n",
      "0.69340016444524133\n",
      "[0 9.99059906893146e-07 3.9885452314973348e-06 ... 1.9993128597069696 2.005746836101455 2.0121934193556412]\n",
      "0.69757727781931556\n",
      "[0 9.99036975754258e-07 3.9883628539641086e-06 ... 2.0150420457427796 2.0215480263004619 2.0280667719507641]\n",
      "0.70175439119338989\n",
      "[0 9.99036768064575e-07 3.9883612082652548e-06 ... 2.015239756663378 2.0217465133485533 2.0282660350306392]\n",
      "0.70175439119338989\n",
      "[0 9.9901342195181449e-07 3.9881755448810926e-06 ... 2.0314297222056128 2.0380104108068857 2.0446040234316154]\n",
      "0.70593148469924927\n",
      "[0 9.9898966087150316e-07 3.9879865965859942e-06 ... 2.0480890308196615 2.0547455804448447 2.061415213475009]\n",
      "0.71010857820510864\n",
      "[0 9.98966315358064e-07 3.9878009426935383e-06 ... 2.0644129813090246 2.0711442293315829 2.0778887217560866]\n",
      "0.714285671710968\n",
      "[0 9.9896610772079017e-07 3.9877992978073177e-06 ... 2.0646146753273018 2.0713467017736935 2.0780919723385023]\n",
      "0.714285671710968\n",
      "[0 9.9894234712440782e-07 3.9876103580678417e-06 ... 2.0814107290807575 2.0882194026823839 2.09504148182141]\n",
      "0.71846278508504235\n",
      "[0 9.9891817166958149e-07 3.9874181351719845e-06 ... 2.0986871591330702 2.1055744251145514 2.11247525799977]\n",
      "0.72263989845911658\n",
      "[0 9.9889441169304557e-07 3.9872292052478618e-06 ... 2.1156236892129097 2.1225884002981732 2.1295668416770979]\n",
      "0.72681701183319092\n",
      "[0 9.9889420410512973e-07 3.9872275611570145e-06 ... 2.1158293153448109 2.1227948053369361 2.1297740251354615]\n",
      "0.72681701183319092\n",
      "[0 9.9887002926773e-07 3.9870353480384384e-06 ... 2.1332490291670059 2.1402939294196224 2.1473527228799871]\n",
      "0.73099412520726526\n",
      "[0 9.9884543968690883e-07 3.9868398535799678e-06 ... 2.1511600950155718 2.1582863629626878 2.1654266870220416]\n",
      "0.73517123858133948\n",
      "[0 9.9882126549021463e-07 3.9866476506055633e-06 ... 2.1687269627907617 2.1759334705544031 2.1831541997930071]\n",
      "0.73934835195541382\n",
      "[0 9.9882105795453171e-07 3.9866460073397667e-06 ... 2.1689364474121482 2.1761437325769992 2.183365238509817]\n",
      "0.73934835195541382\n",
      "[0 9.98796469011954e-07 3.98645052298674e-06 ... 2.1869976045396045 2.1942871075077344 2.201590996170864]\n",
      "0.74352546532948816\n",
      "[0 9.9877146544294424e-07 3.986251759140939e-06 ... 2.2055609989238874 2.212934685098122 2.220322920916511]\n",
      "0.74770257870356238\n",
      "[0 9.9874687716227115e-07 3.986056285266161e-06 ... 2.2237761714552673 2.2312329366408932 2.2387044183386413]\n",
      "0.75187969207763672\n",
      "[0 9.9874666967971965e-07 3.9860546428394175e-06 ... 2.2239894249988876 2.2314469639465622 2.2389192184636935]\n",
      "0.75187969207763672\n",
      "[0 9.9872166677011017e-07 3.9858558894324796e-06 ... 2.242709904251722 2.2502525087537006 2.257809994772745]\n",
      "0.75605680545171106\n",
      "[0 9.9869624935302355e-07 3.98565385841048e-06 ... 2.26194337586102 2.2695730146983966 2.2772176995049023]\n",
      "0.76023391882578528\n",
      "[0 9.98671247126858e-07 3.9854551158211156e-06 ... 2.2808249111916519 2.288540508378162 2.2962713193902595]\n",
      "0.76441103219985962\n",
      "[0 9.98671039698335e-07 3.9854534742474139e-06 ... 2.28104182534663 2.2887581903725471 2.2964897680300194]\n",
      "0.76441103219985962\n",
      "[0 9.9864562308303789e-07 3.9852514549638312e-06 ... 2.300439464020799 2.3082437774445457 2.3160634699130389]\n",
      "0.768588125705719\n",
      "[0 9.9861979208512455e-07 3.9850461600046033e-06 ... 2.3203606732858031 2.3282549023125849 2.3361646747480194]\n",
      "0.77276521921157837\n",
      "[0 9.9859437617514163e-07 3.9848441518830438e-06 ... 2.3399265807648311 2.3479096823801577 2.3559084956816965]\n",
      "0.77694231271743774\n",
      "[0 9.9859416880351862e-07 3.9848425111919547e-06 ... 2.3401470255368779 2.3481308866322483 2.3561304579531877]\n",
      "0.77694231271743774\n",
      "[0 9.9856833838547049e-07 3.9846372263776379e-06 ... 2.3602399381398604 2.3683146616481512 2.3764052616588658]\n",
      "0.78111942609151208\n",
      "[0 9.9854209370374585e-07 3.9844286677952634e-06 ... 2.380866793941546 2.3890343402584513 2.3972179267164884]\n",
      "0.78529653946558631\n",
      "[0 9.9851626401323528e-07 3.98422339449287e-06 ... 2.4011353584236756 2.40939472245235 2.4176702947058732]\n",
      "0.78947365283966064\n",
      "[0 9.9851605669546218e-07 3.984221754667117e-06 ... 2.4013591897749427 2.4096193023694465 2.417895621446903]\n",
      "0.78947365283966064\n",
      "[0 9.984898127386438e-07 3.984013207555311e-06 ... 2.4221651724774946 2.4305190858091765 2.4388893711110025]\n"
     ]
    },
    {
     "name": "stdout",
     "output_type": "stream",
     "text": [
      "0.793650766213735\n",
      "[0 9.98463154642992e-07 3.9838013886446542e-06 ... 2.4435152049642439 2.4519648670067822 2.4604310632460491]\n",
      "0.79782787958780921\n",
      "[0 9.98436911436267e-07 3.9835928533997738e-06 ... 2.4645043806474489 2.4730488293917938 2.4816099795557287]\n",
      "0.80200499296188354\n",
      "[0 9.9843670417521342e-07 3.9835912144688945e-06 ... 2.464731427247278 2.4732766109341719 2.4818384940037683]\n",
      "0.80200499296188354\n",
      "[0 9.984100468269812e-07 3.983379407383159e-06 ... 2.4862682642358678 2.4949102056080061 2.5035690103596488]\n",
      "0.80618210633595788\n",
      "[0 9.9838297546671813e-07 3.9831643304981878e-06 ... 2.5083589494198417 2.5170995781302707 2.5258572303022948]\n",
      "0.81035921971003211\n",
      "[0 9.98356318891472e-07 3.9829525356395862e-06 ... 2.5300866715521093 2.5389250740108418 2.547780665578244]\n",
      "0.81453633308410645\n",
      "[0 9.9835611168803256e-07 3.9829508976174844e-06 ... 2.5303167425772473 2.5391558635311595 2.5480121712492103]\n",
      "0.81453633308410645\n",
      "[0 9.9832904109803986e-07 3.9827358329169923e-06 ... 2.5526020605806092 2.5615409082540532 2.5704971044505416]\n",
      "0.81871344645818078\n",
      "[0 9.983015566247774e-07 3.9825175004472393e-06 ... 2.5754506685558143 2.5844911480998878 2.593549133327953]\n",
      "0.822890559832255\n",
      "[0 9.9827448683100287e-07 3.9823024483392871e-06 ... 2.597934705349541 2.6070759570696143 2.6162348777828108]\n",
      "0.82706767320632935\n",
      "[0 9.9827427968607277e-07 3.9823008112398446e-06 ... 2.5981675879478052 2.6073095387812026 2.6164691559442343]\n",
      "0.82706767320632935\n",
      "[0 9.9824679613699356e-07 3.9820824923577384e-06 ... 2.6212186876341992 2.6304633388517193 2.6397258151268859]\n",
      "0.83124476671218872\n",
      "[0 9.9821889883929824e-07 3.98186090779772e-06 ... 2.644842107420132 2.6541913332159033 2.6635585374900517]\n",
      "0.8354218602180481\n",
      "[0 9.98191416109998e-07 3.9816426018786171e-06 ... 2.6680998884420086 2.6775528886158533 2.6870240274312667]\n",
      "0.83959895372390747\n",
      "[0 9.98191209026441e-07 3.9816409657312617e-06 ... 2.6683353451682419 2.6777890220362366 2.6872608345536491]\n",
      "0.83959895372390747\n",
      "[0 9.9816331241303585e-07 3.9814193930364081e-06 ... 2.692169576027732 2.7017289256591228 2.7113065658042905]\n",
      "0.84377606709798181\n",
      "[0 9.9813500217975049e-07 3.9811945567231148e-06 ... 2.7165847114647703 2.7262515704710704 2.7359368688162498]\n",
      "0.847953180472056\n",
      "[0 9.9810710641003824e-07 3.9809729973671548e-06 ... 2.7406337093828848 2.7504073427153775 2.7601995715560577]\n",
      "0.85213029384613037\n",
      "[0 9.9810689938480766e-07 3.9809713621545892e-06 ... 2.7408714870194721 2.7506457715291681 2.7604386482182774]\n",
      "0.85213029384613037\n",
      "[0 9.9807858999237212e-07 3.9807465391355865e-06 ... 2.7655055365293748 2.7753884557092396 2.7852901171954647]\n",
      "0.85630740722020471\n",
      "[0 9.9804986711468229e-07 3.9805184546189e-06 ... 2.7907285623384155 2.8007219083494803 2.8107341400042]\n",
      "0.86048452059427893\n",
      "[0 9.9802155859018214e-07 3.98029364531972e-06 ... 2.815585569323241 2.8256886779936283 2.8358108235940196]\n",
      "0.86466163396835327\n",
      "[0 9.980213516261408e-07 3.9802920110713309e-06 ... 2.8158253854110011 2.8259291165621692 2.8360518809721302]\n",
      "0.86466163396835327\n",
      "[0 9.9799262961350158e-07 3.9800639402292184e-06 ... 2.8412756431892987 2.8514909528346681 2.8617254402207091]\n",
      "0.86883874734242761\n",
      "[0 9.9796349425218621e-07 3.9798326100403416e-06 ... 2.8673223907447474 2.8776510195971707 2.8879989631182479]\n",
      "0.87301586071650183\n",
      "[0 9.9793477313206138e-07 3.9796045533041271e-06 ... 2.8930038894595 2.9034452499455909 2.9139060705808024]\n",
      "0.87719297409057617\n",
      "[0 9.97934566230101e-07 3.9796029200337123e-06 ... 2.8932454414291957 2.9036873924850708 2.9141487996728732]\n",
      "0.87719297409057617\n",
      "[0 9.9790543175837286e-07 3.9793716039048421e-06 ... 2.9195278276768648 2.93008427458372 2.9406603155216873]\n",
      "0.88137008746465051\n",
      "[0 9.97875884076497e-07 3.9791370306102385e-06 ... 2.9464136083129566 2.9570862332345578 2.9677785817595503]\n",
      "0.88554720083872474\n",
      "[0 9.9784675052219874e-07 3.9789057289784871e-06 ... 2.9729355974843767 2.9837238951287408 2.9945320550983809]\n",
      "0.88972431421279907\n",
      "[0 9.9784654368321059e-07 3.9789040966998167e-06 ... 2.9731785607703483 2.9839674138391845 2.9947761248690852]\n",
      "0.88972431421279907\n",
      "[0 9.9781699705633186e-07 3.9786695389714451e-06 ... 3.00030833089938 3.0112145615125581 3.0221407804404095]\n",
      "0.89390140771865845\n",
      "[0 9.97787037363711e-07 3.9784317263193916e-06 ... 3.028047735411985 3.0390729600131019 3.0501182941794727]\n",
      "0.89807850122451782\n",
      "[0 9.9775749167950387e-07 3.9781971834843376e-06 ... 3.0554255312126228 3.0665693323939371 3.0777333741261761]\n",
      "0.9022555947303772\n",
      "[0 9.97757284906345e-07 3.97819555222668e-06 ... 3.055669557462799 3.0668138756878238 3.0779784297542547]\n",
      "0.9022555947303772\n",
      "[0 9.9772732601088778e-07 3.9779577532897058e-06 ... 3.0836617490462581 3.0949262836752456 3.1062111759740287]\n",
      "0.90643270810445153\n",
      "[0 9.97696954188182e-07 3.9777167016391731e-06 ... 3.1122691189892886 3.123655413618021 3.1350621778683578]\n",
      "0.91060982147852576\n",
      "[0 9.9766699626099215e-07 3.9774789179971256e-06 ... 3.1405178105935536 3.1520255411567333 3.1635538635970897]\n",
      "0.9147869348526001\n",
      "[0 9.9766678955061833e-07 3.9774772877431654e-06 ... 3.1407625377419928 3.1522707437767532 3.1637995366383205]\n",
      "0.9147869348526001\n",
      "[0 9.9763641869312659e-07 3.9772362513397391e-06 ... 3.1696311408647544 3.18126234869779 3.1929142556670747]\n",
      "0.91896404822667443\n",
      "[0 9.9760563505275469e-07 3.9769919644938044e-06 ... 3.199119705633493 3.2108753788898485 3.2226518529508748]\n",
      "0.92314116160074866\n",
      "[0 9.9757526518945135e-07 3.9767509437918778e-06 ... 3.2282533107428106 3.240133223990544 3.2520340505610861]\n",
      "0.927318274974823\n",
      "[0 9.9757505854471856e-07 3.97674931457084e-06 ... 3.2284983499623463 3.2403786939577532 3.252279945892341]\n",
      "0.927318274974823\n",
      "[0 9.9754427589544042e-07 3.9765050433779441e-06 ... 3.258256747093665 3.2702628163013614 3.2822898952405661]\n",
      "0.93149538834889734\n",
      "[0 9.97513080609594e-07 3.9762575240434867e-06 ... 3.2886390889610668 3.3007722600363829 3.3129265312456617]\n",
      "0.93567250172297156\n",
      "[0 9.9748229898076e-07 3.97601326896375e-06 ... 3.3186710023524926 3.3309311535528257 3.3432125066568585]\n",
      "0.9398496150970459\n",
      "[0 9.9748209240255625e-07 3.976011640789314e-06 ... 3.3189159485237076 3.331176482683142 3.3434582130400536]\n",
      "0.9398496150970459\n",
      "[0 9.974508981340175e-07 3.9757641375189186e-06 ... 3.3495767253691828 3.3619656370963948 3.3743758353005173]\n",
      "0.94402672847112024\n",
      "[0 9.97419291377164e-07 3.9755133884377578e-06 ... 3.3808645869753495 3.3933831591234176 3.4059230959114219]\n",
      "0.94820384184519446\n",
      "[0 9.9738809815565945e-07 3.9752659016972671e-06 ... 3.4118073884480355 3.424455607739477 3.4371252816845659]\n",
      "0.9523809552192688\n",
      "[0 9.9738789164487264e-07 3.9752642745830861e-06 ... 3.4120518191776896 3.4247003706843033 3.437370370829584]\n",
      "0.9523809552192688\n",
      "[0 9.9735628608220455e-07 3.9750135431746723e-06 ... 3.4436265521228919 3.456406052842202 3.46920707998078]\n",
      "0.95655804872512817\n",
      "[0 9.9732426818533855e-07 3.9747595683469264e-06 ... 3.475830620776204 3.4887422531405909 3.5016754768911911]\n",
      "0.96073514223098755\n",
      "[0 9.9729266369661845e-07 3.9745088538900635e-06 ... 3.5076958593519891 3.520739722994668 3.5338052552845749]\n",
      "0.96491223573684692\n",
      "[0 9.9729245725609853e-07 3.9745072278652381e-06 ... 3.507939334186347 3.5209834764789605 3.5340492811121558]\n",
      "0.96491223573684692\n",
      "[0 9.9726044027767374e-07 3.9742532687307511e-06 ... 3.5404391283616232 3.5536167037557753 3.5668160058058191]\n",
      "0.96908934911092126\n",
      "[0 9.9722801111325913e-07 3.9739960685363863e-06 ... 3.5735696013758691 3.5868816855829428 3.6002155472860689]\n",
      "0.97326646248499549\n",
      "[0 9.971959952360498e-07 3.9737421267804861e-06 ... 3.6063683439911371 3.6198151536248973 3.633283804287057]\n",
      "0.97744357585906982\n",
      "[0 9.9719578886275465e-07 3.9737405018276766e-06 ... 3.6066104154760108 3.6200574475455483 3.6335263140652492]\n",
      "0.97744357585906982\n",
      "[0 9.97163360796293e-07 3.9734833189608953e-06 ... 3.6400449580992467 3.6536278088373955 3.6672325439345705]\n",
      "0.98162068923314416\n",
      "[0 9.9713052069790974e-07 3.9732228974542289e-06 ... 3.6741105638305211 3.6878301962344784 3.7015717488125235]\n",
      "0.98579780260721839\n",
      "[0 9.970980937602537e-07 3.9729657323979485e-06 ... 3.7078524319666184 3.7217091832762046 3.7355879036142796]\n",
      "0.98997491598129272\n",
      "[0 9.9709788745703273e-07 3.9729641085462115e-06 ... 3.7080926335526829 3.7219495486166037 3.7358284258825325]\n",
      "0.98997491598129272\n",
      "[0 9.97065048484151e-07 3.9727037047984124e-06 ... 3.7424707296204853 3.7564657427569328 3.7704827526918856]\n"
     ]
    },
    {
     "name": "stdout",
     "output_type": "stream",
     "text": [
      "0.99415202935536706\n",
      "[0 9.9703179763534987e-07 3.9724400648603432e-06 ... 3.7774792911855055 3.7916132470935522 3.8057692197334076]\n",
      "0.99832914272944129\n",
      "[0 9.9699895981919635e-07 3.9721796793599911e-06 ... 3.8121730073333491 3.8264463670583662 3.8407417767790748]\n",
      "1.0025062561035156\n",
      "[0 9.9699875358693324e-07 3.9721780566228791e-06 ... 3.8124108647857322 3.8266843273349873 3.8409798328314553]\n",
      "1.0025062561035156\n",
      "[0 9.9696550404966425e-07 3.971914436133873e-06 ... 3.8477400731853511 3.8621537982576606 3.8765895846983014]\n",
      "1.006683349609375\n",
      "[0 9.9693184279832668e-07 3.9716475819645358e-06 ... 3.88369813697833 3.8982528458345613 3.9128296193032752]\n",
      "1.0108604431152344\n",
      "[0 9.96898594446029e-07 3.9713839801647595e-06 ... 3.9193511549294655 3.9340474350890289 3.9487657966663772]\n",
      "1.0150375366210938\n",
      "[0 9.9689838828756834e-07 3.9713823585712275e-06 ... 3.9195861839551993 3.9342825039991784 3.94900089821957]\n",
      "1.0150375366210938\n",
      "[0 9.96864727897612e-07 3.9711155204998777e-06 ... 3.9558736147268272 3.9707122417455465 3.9855729443747143]\n",
      "1.019214669863383\n",
      "[0 9.9683065594562087e-07 3.9708454511953681e-06 ... 3.9927872823213173 4.0077688095239976 4.02277239814127]\n",
      "1.0233918031056721\n",
      "[0 9.9679699676924635e-07 3.9705786322605873e-06 ... 4.0294065999061575 4.0445317434361447 4.0596789479122926]\n",
      "1.0275689363479614\n",
      "[0 9.9679679067958759e-07 3.9705770117778637e-06 ... 4.0296383197337429 4.0447634384612119 4.05991061073196]\n",
      "1.0275689363479614\n",
      "[0 9.9676272026185664e-07 3.9703069641253026e-06 ... 4.066888732168966 4.0821580703678 4.0974494458033393]\n",
      "1.0317460298538208\n",
      "[0 9.9672823845171385e-07 3.97003368783917e-06 ... 4.104761697550769 4.1201757162671209 4.1356117398979508]\n",
      "1.0359231233596802\n",
      "[0 9.9669416927645911e-07 3.9697636597747616e-06 ... 4.1423519208920281 4.1579114664301171 4.1734929983853792]\n",
      "1.0401002168655396\n",
      "[0 9.9669396326432631e-07 3.9697620404779985e-06 ... 4.1425798320755236 4.1581392866567555 4.1737207201249484]\n",
      "1.0401002168655396\n",
      "[0 9.9665948269318985e-07 3.9694887837258712e-06 ... 4.1807978077439865 4.1965032596449925 4.2122306556984146]\n",
      "1.0442773103713989\n",
      "[0 9.9662459089336032e-07 3.9692123009076451e-06 ... 4.2196336132092069 4.2354853878226315 4.251359055523511]\n",
      "1.0484544038772583\n",
      "[0 9.9659011159394833e-07 3.9689390642006084e-06 ... 4.2581991705448816 4.2741982453142517 4.2902191759575929]\n",
      "1.0526314973831177\n",
      "[0 9.9658990565630064e-07 3.9689374460724111e-06 ... 4.2584227865190529 4.2744217030074374 4.2904424677479858]\n",
      "1.0526314973831177\n",
      "[0 9.9655501479277561e-07 3.968660980614575e-06 ... 4.2976117172177517 4.3137582681515854 4.3299266135594614]\n",
      "1.056808630625407\n",
      "[0 9.96519712858381e-07 3.9683812916261132e-06 ... 4.337412710452563 4.3537070826908186 4.370023179054793]\n",
      "1.0609857638676961\n",
      "[0 9.964848232961852e-07 3.9681048466756724e-06 ... 4.3769568223348863 4.3934001248330707 4.4098650949135223]\n",
      "1.0651628971099854\n",
      "[0 9.964846174299858e-07 3.9681032296986988e-06 ... 4.3771756583146884 4.3936187343447584 4.4100834702810747]\n",
      "1.0651628971099854\n",
      "[0 9.9644931712917418e-07 3.967823563822632e-06 ... 4.4173365742130821 4.433928771372508 4.4505425550806441]\n",
      "1.0693399906158447\n",
      "[0 9.9641360593288081e-07 3.96754067710335e-06 ... 4.4581027071031016 4.474844071472738 4.49160693230278]\n",
      "1.0735170841217041\n",
      "[0 9.9637830696328121e-07 3.967261032201135e-06 ... 4.498626194521905 4.5155179662539595 4.5324311580409224]\n",
      "1.0776941776275635\n",
      "[0 9.9637810117724331e-07 3.9672594164503253e-06 ... 4.4988397577362456 4.5157312342840754 4.5326441231956611]\n",
      "1.0776941776275635\n",
      "[0 9.9634239096886585e-07 3.9669765479580434e-06 ... 4.5399739164439543 4.55701585116157 4.5740791048516929]\n",
      "1.0818713108698528\n",
      "[0 9.9630627002668045e-07 3.9666904612165818e-06 ... 4.5817054211009509 4.598897717725464 4.616111223120317]\n",
      "1.0860484441121419\n",
      "[0 9.96270561179781e-07 3.9664076141703635e-06 ... 4.6232093423311138 4.6405533713486351 4.6579185124199762]\n",
      "1.0902255773544312\n",
      "[0 9.9627035546695151e-07 3.9664059995975869e-06 ... 4.623417163916562 4.6407608288157922 4.6581255981019076]\n",
      "1.0902255773544312\n",
      "[0 9.9623423622620564e-07 3.9661199369668012e-06 ... 4.6655230130562382 4.6830183137217176 4.700534604985636]\n",
      "1.0944026708602905\n",
      "[0 9.96197706430873e-07 3.9658306588324888e-06 ... 4.7082172774090525 4.7258639743508182 4.7435315312948365]\n",
      "1.09857976436615\n",
      "[0 9.9616158858214635e-07 3.96554461812407e-06 ... 4.7506998368183417 4.7684994292659217 4.786319764332001]\n",
      "1.1027568578720093\n",
      "[0 9.9616138295123047e-07 3.96554300480412e-06 ... 4.75090144144493 4.7687006009788648 4.7865204955289862]\n",
      "1.1027568578720093\n",
      "[0 9.9612485454424115e-07 3.965253748534922e-06 ... 4.7939773037634632 4.8119291181277832 4.8299015330483082]\n",
      "1.1069339513778687\n",
      "[0 9.9608791575598768e-07 3.9649612794756725e-06 ... 4.8376316422296437 4.8557357285093756 4.8738602641639011]\n",
      "1.111111044883728\n",
      "[0 9.9605138877191376e-07 3.9646720456104732e-06 ... 4.8810909246628364 4.899348908690472 4.9176272037763278]\n",
      "1.1152881383895874\n",
      "[0 9.9605118321987359e-07 3.9646704335259288e-06 ... 4.8812858613595127 4.89954334413092 4.9178211304628352]\n",
      "1.1152881383895874\n",
      "[0 9.96014245499439e-07 3.9643779840308314e-06 ... 4.9253288152614187 4.9437398108337556 4.9621709546539243]\n",
      "1.1194652716318767\n",
      "[0 9.9597689756517386e-07 3.9640823244271008e-06 ... 4.96993931954553 4.9885033020595859 5.0070872609567045]\n",
      "1.1236424048741658\n",
      "[0 9.9593996129890763e-07 3.9637898978229774e-06 ... 5.0143721514409423 5.0330908705895459 5.0518294067009721]\n",
      "1.1278195381164551\n",
      "[0 9.95939755822709e-07 3.963788286956474e-06 ... 5.0145599834891739 5.0332781338172543 5.052016093754629]\n",
      "1.1278195381164551\n",
      "[0 9.95902409694122e-07 3.9634926529975273e-06 ... 5.0595645833808378 5.0784369371807667 5.0973289243432234]\n",
      "1.1319966316223145\n",
      "[0 9.9586465353666066e-07 3.9631938117624721e-06 ... 5.1051248159726432 5.1241507056316946 5.1431960361067235]\n",
      "1.1361737251281738\n",
      "[0 9.9582730889376632e-07 3.9628982011854658e-06 ... 5.1505254642980329 5.1697067599384683 5.1889073158016092]\n",
      "1.1403508186340332\n",
      "[0 9.9582710350210336e-07 3.9628965916115695e-06 ... 5.1507057610782656 5.1698864214674032 5.1890863349090761]\n",
      "1.1403508186340332\n",
      "[0 9.9578934846738067e-07 3.9625977708567774e-06 ... 5.1966669817378621 5.2160023737859236 5.2353568217143494]\n",
      "1.1445279518763225\n",
      "[0 9.9575118357504676e-07 3.962295745565233e-06 ... 5.2431710005284486 5.2626603166818473 5.2821684755758493]\n",
      "1.1487050851186116\n",
      "[0 9.9571343005792632e-07 3.9619969486891306e-06 ... 5.2895341698562142 5.3091793968062708 5.3288432647523853]\n",
      "1.1528822183609009\n",
      "[0 9.9571322474385582e-07 3.9619953403598043e-06 ... 5.2897065341472738 5.3093510608175221 5.3290142215344183]\n",
      "1.1528822183609009\n",
      "[0 9.9567506172832224e-07 3.9616933417600774e-06 ... 5.3366163949204672 5.3564160128214029 5.3762340467824332]\n",
      "1.1570593118667603\n",
      "[0 9.9563648904394551e-07 3.9613881415137178e-06 ... 5.3840552969180973 5.4040090610666809 5.4239810077318857]\n",
      "1.1612364053726196\n",
      "[0 9.95598327578191e-07 3.9610861672933516e-06 ... 5.4313726952508157 5.4514827043715322 5.4716106732387155]\n",
      "1.165413498878479\n",
      "[0 9.9559812235039912e-07 3.96108456028301e-06 ... 5.4315367372873009 5.4516459828517476 5.47177318147034]\n",
      "1.165413498878479\n",
      "[0 9.9555955121192e-07 3.9607793843556929e-06 ... 5.4793873408580707 5.499651873545405 5.519934120685873]\n",
      "1.1695905923843384\n",
      "[0 9.955205705874738e-07 3.9604710096396274e-06 ... 5.5277523783706073 5.5481711188519958 5.5686073201134008]\n",
      "1.1737676858901978\n",
      "[0 9.9548200103130684e-07 3.9601658585976455e-06 ... 5.5760158097989736 5.5965909639119475 5.6171833352245955]\n",
      "1.1779447793960571\n",
      "[0 9.95481795886758e-07 3.9601642528888409e-06 ... 5.5761711728470784 5.5967455021245165 5.6173370422003543]\n",
      "1.1779447793960571\n",
      "[0 9.9544281646989886e-07 3.9598559000639278e-06 ... 5.6249534760920845 5.6456831259856228 5.6664297277530666]\n",
      "1.1821219126383464\n",
      "[0 9.95403427744065e-07 3.959544351276029e-06 ... 5.6742347991711695 5.6951185596640688 5.7160189985891456]\n",
      "1.1862990458806355\n",
      "[0 9.95364449942408e-07 3.9592360238477428e-06 ... 5.7234349136986227 5.7444750923751648 5.765531685400763]\n",
      "1.1904761791229248\n",
      "[0 9.9536424487807155e-07 3.9592344194230851e-06 ... 5.7235812650232445 5.7446205598433355 5.7656762629339342]\n",
      "1.1904761791229248\n",
      "[0 9.9532485813815572e-07 3.9589228989336981e-06 ... 5.7732836931529379 5.7944781772388163 5.8156887907340584]\n"
     ]
    },
    {
     "name": "stdout",
     "output_type": "stream",
     "text": [
      "1.1946532726287842\n",
      "[0 9.9528506228373427e-07 3.9586081854573351e-06 ... 5.8234689394826011 5.8448172764010806 5.866181449971589]\n",
      "1.1988303661346436\n",
      "[0 9.9524567719217336e-07 3.958296690879694e-06 ... 5.8735938245129047 5.8950984176899048 5.91661856333737]\n",
      "1.2030074596405029\n",
      "[0 9.952454722167227e-07 3.9582950878133578e-06 ... 5.8737308488513253 5.8952345017038406 5.9167537013004621]\n",
      "1.2030074596405029\n",
      "[0 9.9520567762809628e-07 3.9579803971930591e-06 ... 5.9243425834557337 5.9460011379927655 5.967674940937667]\n",
      "1.2071845928827922\n",
      "[0 9.9516547410576448e-07 3.9576625164688219e-06 ... 5.9754202355985448 5.9972322336485071 6.0190591685547412]\n",
      "1.2113617261250813\n",
      "[0 9.9512568119903463e-07 3.9573478522811893e-06 ... 6.0264587604854745 6.0484266952276524 6.0704092630254038]\n",
      "1.2155388593673706\n",
      "[0 9.951254763055378e-07 3.9573462505252376e-06 ... 6.0265861808199093 6.0485531214752122 6.0705346898381105]\n",
      "1.2155388593673706\n",
      "[0 9.9508527484348786e-07 3.9570283991945649e-06 ... 6.07809345013214 6.1002148460959678 6.12235055250815]\n",
      "1.21971595287323\n",
      "[0 9.95044664645993e-07 3.9567073607928747e-06 ... 6.1300490543532389 6.152323330954518 6.1746115882654857]\n",
      "1.2238930463790894\n",
      "[0 9.9500446489964078e-07 3.9563895364195406e-06 ... 6.1819870984314509 6.204416832020561 6.2268602234702612]\n",
      "1.2280701398849487\n",
      "[0 9.950042600967625e-07 3.9563879360479838e-06 ... 6.1821046555817869 6.204533344297289 6.22697568592738]\n",
      "1.2280701398849487\n",
      "[0 9.9496365161087928e-07 3.9560669245402935e-06 ... 6.2344941098274367 6.2570766570815879 6.2796725216865]\n",
      "1.2322472333908081\n",
      "[0 9.94922634581924e-07 3.955742728962199e-06 ... 6.2873137167749071 6.3100484369607992 6.3327961272383595]\n",
      "1.2364243268966675\n",
      "[0 9.9488202784589572e-07 3.955421744941796e-06 ... 6.3401376020176192 6.3630271479573581 6.3859293227283223]\n",
      "1.2406014204025269\n",
      "[0 9.9488182313060424e-07 3.955420145937164e-06 ... 6.3402450732532021 6.3631335266235238 6.3860346043011749]\n",
      "1.2406014204025269\n",
      "[0 9.9484080745720583e-07 3.9550959746986908e-06 ... 6.3935024410871684 6.4165440103420748 6.4395978507222056]\n",
      "1.2447785536448162\n",
      "[0 9.9479938342723174e-07 3.9547686223582472e-06 ... 6.4471712357643778 6.4703641302726673 6.4935689318548855]\n",
      "1.2489556868871052\n",
      "[0 9.9475836953820331e-07 3.9544444791423065e-06 ... 6.500866360678538 6.5242133028349842 6.547571793098685]\n",
      "1.2531328201293945\n",
      "[0 9.9475816490747e-07 3.9544428814871843e-06 ... 6.5009635520433564 6.5243093571672759 6.5476667063135414]\n",
      "1.2531328201293945\n",
      "[0 9.9471674305173872e-07 3.95411556021846e-06 ... 6.5550721477736982 6.5785701809042871 6.6020793880153779]\n",
      "1.2573099136352539\n",
      "[0 9.9467491304335933e-07 3.9537850609655318e-06 ... 6.6095729355381492 6.6332213073363695 6.6568804730661153]\n",
      "1.2614870071411133\n",
      "[0 9.9463349300676718e-07 3.95345776825823e-06 ... 6.66412225865831 6.6879237538853209 6.7117356671486164]\n",
      "1.2656641006469727\n",
      "[0 9.9463328846924484e-07 3.9534561720263793e-06 ... 6.6642090002455534 6.68800931739297 6.7118200489445412]\n",
      "1.2656641006469727\n",
      "[0 9.9459145987789249e-07 3.9531256981260632e-06 ... 6.7191533279935038 6.74310485138763 6.767066403084943]\n",
      "1.269841233889262\n",
      "[0 9.9454922332417487e-07 3.9527920492665578e-06 ... 6.7744701939156329 6.7985709419365614 6.8226813230431844]\n",
      "1.274018367131551\n",
      "[0 9.9450739658712354e-07 3.9524616044723809e-06 ... 6.829857896979453 6.8541107096570331 6.8783727634156584]\n",
      "1.2781955003738403\n",
      "[0 9.9450719213589141e-07 3.9524600096159674e-06 ... 6.8299340559804111 6.8541856529509095 6.8784464878332559]\n",
      "1.2781955003738403\n",
      "[0 9.94464957833995e-07 3.9521263929704853e-06 ... 6.8856957765033187 6.9100974241934123 6.934507908498647]\n",
      "1.2823725938796997\n",
      "[0 9.94422315777427e-07 3.9517896045397861e-06 ... 6.941809992260179 6.96635962353925 6.9909176819334808]\n",
      "1.2865496873855591\n",
      "[0 9.9438008336524338e-07 3.9514560175487361e-06 ... 6.998017381846938 7.0227178846533667 7.0474264073430088]\n",
      "1.2907267808914185\n",
      "[0 9.94379879008945e-07 3.95145442414135e-06 ... 6.9980828487079734 7.0227821017555589 7.047489371987206]\n",
      "1.2907267808914185\n",
      "[0 9.94337238837802e-07 3.951117665298769e-06 ... 7.0546444601248606 7.079492485205984 7.1043481118728993]\n",
      "1.2949038743972778\n",
      "[0 9.9429419111380052e-07 3.95077773781256e-06 ... 7.1115382155640434 7.1365328668397172 7.1615346968284612]\n",
      "1.2990809679031372\n",
      "[0 9.9425155286813886e-07 3.9504410091779484e-06 ... 7.1685474632607953 7.1936916693793611 7.2188426326639084]\n",
      "1.3032580614089966\n",
      "[0 9.9425134860374483e-07 3.9504394172020932e-06 ... 7.1686021624117124 7.193745088265282 7.2188947690594185]\n",
      "1.3032580614089966\n",
      "[0 9.9420830239140947e-07 3.9500995166236e-06 ... 7.2259455382105493 7.2512358407639814 7.2765324692862281]\n",
      "1.3074351946512859\n",
      "[0 9.9416484882216058e-07 3.9497564505108295e-06 ... 7.2836004559230139 7.3090359175196964 7.33447726977703]\n",
      "1.311612327893575\n",
      "[0 9.94121804571435e-07 3.9494165806991167e-06 ... 7.3413931124879523 7.366976695337188 7.3925657339303914]\n",
      "1.3157894611358643\n",
      "[0 9.94121600395921e-07 3.9494149901373508e-06 ... 7.3414369965205832 7.3670192721565044 7.3926070017852945]\n",
      "1.3157894611358643\n",
      "[0 9.9407814919725722e-07 3.9490719579870431e-06 ... 7.3995417857979069 7.4252699287222521 7.4510030842618526]\n",
      "1.3199665546417236\n",
      "[0 9.9403429085500545e-07 3.9487257635601831e-06 ... 7.457937303944858 7.4838090317457464 7.5096853253893512]\n",
      "1.324143648147583\n",
      "[0 9.93990841654324e-07 3.9483827627389246e-06 ... 7.51649267498799 7.54251097620777 7.5685333959687728]\n",
      "1.3283207416534424\n",
      "[0 9.9399063757631884e-07 3.9483811736645816e-06 ... 7.5165257220658148 7.5425426927475421 7.5685637806914139]\n",
      "1.3283207416534424\n",
      "[0 9.9394678081044218e-07 3.9480350072057407e-06 ... 7.5753732319320326 7.6015344590053378 7.6276993505290021]\n",
      "1.3324978748957317\n",
      "[0 9.9390251710068474e-07 3.947685681635558e-06 ... 7.6344905265333995 7.6607936697210848 7.687100020090976]\n",
      "1.3366750081380208\n",
      "[0 9.93858662369559e-07 3.9473395470738925e-06 ... 7.6937896151833289 7.7202376824910415 7.746688498282353]\n",
      "1.34085214138031\n",
      "[0 9.9385845838215522e-07 3.9473379594392463e-06 ... 7.6938118340020942 7.7202585509380679 7.7467080155453223]\n",
      "1.34085214138031\n",
      "[0 9.9381419712374988e-07 3.9469886690202813e-06 ... 7.7533806916028505 7.77996995410002 7.8065615010247127]\n",
      "1.3450292348861694\n",
      "[0 9.9376952913853078e-07 3.9466362228031642e-06 ... 7.8131982922443584 7.839927709180583 7.8666589437747065]\n",
      "1.3492063283920288\n",
      "[0 9.9372526995188587e-07 3.9462869648528838e-06 ... 7.8732193940816124 7.9000919859961023 7.9269659264906167]\n",
      "1.3533834218978882\n",
      "[0 9.9372506606370364e-07 3.9462853787310876e-06 ... 7.87323081740234 7.9001020426525841 7.9269746161295]\n",
      "1.3533834218978882\n",
      "[0 9.9368040014575675e-07 3.9459329649134144e-06 ... 7.9335009167023882 7.9605128880900295 7.9875257350252307]\n",
      "1.3575605154037476\n",
      "[0 9.9363532771218979e-07 3.945577398578329e-06 ... 7.99399868883635 8.0211489711956538 8.04829965381454]\n",
      "1.3617376089096069\n",
      "[0 9.9359066390337082e-07 3.9452250178060691e-06 ... 8.0547213990296385 8.0820130188784081 8.1093045605406981]\n",
      "1.3659147024154663\n",
      "[0 9.93590460111384e-07 3.9452234331795944e-06 ... 8.0547220863965734 8.0820123266807347 8.10930248887375]\n",
      "1.3659147024154663\n",
      "[0 9.9354538935367088e-07 3.944867896438014e-06 ... 8.1156730078035437 8.1431021133562016 8.1705306597005176]\n",
      "1.3700918356577556\n",
      "[0 9.9349991228567033e-07 3.9445092104274546e-06 ... 8.1768305532276671 8.2043960515149781 8.2319605077666846]\n",
      "1.3742689689000447\n",
      "[0 9.934548436748126e-07 3.9441537073132609e-06 ... 8.2382341613465044 8.2659390785428482 8.2936424669001347]\n",
      "1.378446102142334\n",
      "[0 9.9345463997600047e-07 3.944152124164641e-06 ... 8.2382241956760183 8.2659277237098827 8.2936297234362417]\n",
      "1.378446102142334\n",
      "[0 9.9340916548287844e-07 3.9437934751227982e-06 ... 8.29983350273868 8.32767393694132 8.3555123542873524]\n",
      "1.3826231956481934\n",
      "[0 9.9336328490213085e-07 3.9434316802077932e-06 ... 8.3616284435684438 8.3896032806983687 8.4175756115889175]\n",
      "1.3868002891540527\n",
      "[0 9.9331781259382654e-07 3.9430730653785793e-06 ... 8.42369020522978 8.4518024648805046 8.4799117241500763]\n",
      "1.3909773826599121\n",
      "[0 9.9331760899679473e-07 3.9430714837807e-06 ... 8.4236696927158583 8.4517805568847191 8.4798884216257466]\n",
      "1.3909773826599121\n",
      "[0 9.9327173015982286e-07 3.9427097195660219e-06 ... 8.48591705068989 8.514162796127712 8.5424050471343378]\n",
      "1.3951545159022014\n"
     ]
    },
    {
     "name": "stdout",
     "output_type": "stream",
     "text": [
      "[0 9.9322544544429647e-07 3.9423448127817164e-06 ... 8.5483291725831645 8.57670727162534 8.6050813812492954]\n",
      "1.3993316491444905\n",
      "[0 9.93179568830506e-07 3.9419830833707906e-06 ... 8.6110284884066388 8.6395419483405451 8.6680509183652532]\n",
      "1.4035087823867798\n",
      "[0 9.9317936532835876e-07 3.9419815032760362e-06 ... 8.6109975557126415 8.6395096168993426 8.6680171895357851]\n",
      "1.4035087823867798\n",
      "[0 9.9313308327163829e-07 3.9416166346948276e-06 ... 8.6738601162868427 8.70250496987537 8.731144834437135]\n",
      "1.4076858758926392\n",
      "[0 9.93086395562741e-07 3.9412486269945019e-06 ... 8.7368667218354048 8.76564182200136 8.7944114335006471]\n",
      "1.4118629693984985\n",
      "[0 9.9304011576779449e-07 3.9408837938113557e-06 ... 8.8001804542896132 8.82908879035701 8.8579911319095554]\n",
      "1.4160400629043579\n",
      "[0 9.93039912369129e-07 3.9408822152924273e-06 ... 8.8001392498783755 8.82904618696556 8.8579471312847122]\n",
      "1.4160400629043579\n",
      "[0 9.92993226917318e-07 3.9405142429180469e-06 ... 8.86359582220107 8.892633409662734 8.9216644993541152]\n",
      "1.4202171564102173\n",
      "[0 9.9294613603384227e-07 3.9401431348425366e-06 ... 8.9271759225623413 8.95634160229766 8.9855002808845832]\n",
      "1.4243942499160767\n",
      "[0 9.9289945288275844e-07 3.939775198465725e-06 ... 8.99108262720364 9.02037936540292 9.0496685922053466]\n",
      "1.428571343421936\n",
      "[0 9.9289924958455118e-07 3.93977362150506e-06 ... 8.9910313165121369 9.0203266583110864 9.04961449082898]\n",
      "1.428571343421936\n",
      "[0 9.9285216054912929e-07 3.9394025458245283e-06 ... 9.0550606742909 9.08448447794806 9.1139002637196409]\n",
      "1.4327484766642253\n",
      "[0 9.9280466629670149e-07 3.9390283378284758e-06 ... 9.1191932824766244 9.14874298324269 9.1782841598951883]\n",
      "1.4369256099065144\n",
      "[0 9.927575796013195e-07 3.9386572987502306e-06 ... 9.1836714896975753 9.21335002578218 9.2430195240364856]\n",
      "1.4411027431488037\n",
      "[0 9.9275737640055427e-07 3.9386557233303408e-06 ... 9.1836102545633622 9.213287399493975 9.2429555090591471]\n",
      "1.4411027431488037\n",
      "[0 9.9270988493517742e-07 3.9382815554226738e-06 ... 9.248189337466318 9.2779927121220833 9.3077865401163127]\n",
      "1.4452798366546631\n",
      "[0 9.92661988484727e-07 3.9379042587314409e-06 ... 9.3128516623449453 9.3427787008327883 9.3726956844546159]\n",
      "1.4494569301605225\n",
      "[0 9.9261449939892754e-07 3.9375301280338475e-06 ... 9.37787805362336 9.4079316614884352 9.4379746982209856]\n",
      "1.4536340236663818\n",
      "[0 9.9261429630418521e-07 3.937528554227148e-06 ... 9.3778070949154237 9.4078593194670752 9.437900975679252]\n",
      "1.4536340236663818\n",
      "[0 9.9256640177289789e-07 3.937151291083413e-06 ... 9.44291532161871 9.4730915113847978 9.5032566196846311]\n",
      "1.4578111569086711\n",
      "[0 9.9251810247490813e-07 3.9367709025960485e-06 ... 9.5080870914255975 9.538384684395929 9.5686706865411644]\n",
      "1.4619882901509602\n",
      "[0 9.9247021036314141e-07 3.936393677276087e-06 ... 9.5736408719766235 9.6040627369097553 9.634472493068813]\n",
      "1.4661654233932495\n",
      "[0 9.9247000736753963e-07 3.9363921050350839e-06 ... 9.5735603997689 9.60398089155951 9.6343892776760409]\n",
      "1.4661654233932495\n",
      "[0 9.9242171094366035e-07 3.93601175791524e-06 ... 9.6391748104423556 9.6697169718673788 9.7002465135081479]\n",
      "1.4703425168991089\n",
      "[0 9.9237300998870053e-07 3.9356282890376181e-06 ... 9.7048333993014069 9.73549467716445 9.7661428255371021]\n",
      "1.4745196104049683\n",
      "[0 9.9232471602450518e-07 3.9352479803582331e-06 ... 9.7708913729694515 9.8016745952367952 9.8324441692354121]\n",
      "1.4786967039108276\n",
      "[0 9.9232451313661487e-07 3.9352464097551486e-06 ... 9.7708016156013588 9.80158347717381 9.8323516938626057]\n",
      "1.4786967039108276\n",
      "[0 9.9227581463645436e-07 3.9348629792430441e-06 ... 9.83690122668373 9.8678024406876172 9.89868949551159]\n",
      "1.482873797416687\n",
      "[0 9.9222671183497842e-07 3.9344764305264136e-06 ... 9.9030260162554882 9.9340440427948 9.9650474008572516]\n",
      "1.4870508909225464\n",
      "[0 9.9217801583502454e-07 3.9340930390766141e-06 ... 9.96956699951578 10.00070462226218 10.031827057725957]\n",
      "1.4912279844284058\n",
      "[0 9.92177813051827e-07 3.9340914700938588e-06 ... 9.9694681920356842 10.000604468570822 10.031725561471591]\n",
      "1.4912279844284058\n",
      "[0 9.9212871227855141e-07 3.9337049566872833e-06 ... 10.036032202209324 10.067285497860345 10.098523096154869]\n",
      "1.4954051176706951\n",
      "[0 9.9207920742788066e-07 3.9333153285969929e-06 ... 10.102602779750498 10.133970572108343 10.165322158940862]\n",
      "1.4995822509129841\n",
      "[0 9.9203010919569663e-07 3.932928854879758e-06 ... 10.1696057822495 10.201090807519856 10.232559109195632]\n",
      "1.5037593841552734\n",
      "[0 9.9202990651417912e-07 3.9329272874998126e-06 ... 10.169498168853297 10.200981864271705 10.232448839985079]\n",
      "1.5037593841552734\n",
      "[0 9.9198040467053823e-07 3.93253770272881e-06 ... 10.236504077681792 10.268102444748306 10.299683579698209]\n",
      "1.5079364776611328\n",
      "[0 9.9193049899063856e-07 3.9321450069401718e-06 ... 10.303498352820752 10.335208890642658 10.366901690001937]\n",
      "1.5121135711669922\n",
      "[0 9.9188099972918735e-07 3.9317554624884049e-06 ... 10.370940671155248 10.402766065470912 10.434573204730725]\n",
      "1.5162906646728516\n",
      "[0 9.9188079715790525e-07 3.9317538967832e-06 ... 10.370824510552739 10.402648593168331 10.434454424836913]\n",
      "1.5162906646728516\n",
      "[0 9.9183089358047371e-07 3.9313612375019755e-06 ... 10.438252587316962 10.470188989456105 10.50210663022456]\n",
      "1.5204677979151409\n",
      "[0 9.9178058639438856e-07 3.9309654707774369e-06 ... 10.50565125867454 10.537697504498084 10.569724485063947]\n",
      "1.52464493115743\n",
      "[0 9.9173068544065534e-07 3.9305728524512842e-06 ... 10.573513003344646 10.605671725651804 10.637810668263411]\n",
      "1.5288220643997192\n",
      "[0 9.9173048297274e-07 3.9305712883734527e-06 ... 10.573388552865664 10.605545983157349 10.637683638060222]\n",
      "1.5288220643997192\n",
      "[0 9.9168017888384569e-07 3.9301755662912071e-06 ... 10.641216776578977 10.673484170002457 10.705731280258071]\n",
      "1.5329991579055786\n",
      "[0 9.916294714310966e-07 3.9297767404847976e-06 ... 10.708998270617748 10.741373179818053 10.773727305038067]\n",
      "1.537176251411438\n",
      "[0 9.9157917000761863e-07 3.9293810599962387e-06 ... 10.777257239689984 10.80974224216118 10.8422059490278]\n",
      "1.5413533449172974\n",
      "[0 9.91578967651615e-07 3.9293794976175095e-06 ... 10.777124771546692 10.809608503165679 10.842070943663392]\n",
      "1.5413533449172974\n",
      "[0 9.9152826285920225e-07 3.9289807133270731e-06 ... 10.845333332218472 10.877924674026211 10.910494220179855]\n",
      "1.5455304384231567\n",
      "[0 9.9147715494188442e-07 3.9285788289989481e-06 ... 10.913478299202524 10.946174835325218 10.97884907861742]\n",
      "1.5497075319290161\n",
      "[0 9.9142645285696735e-07 3.9281800869459426e-06 ... 10.982114537167671 11.014918787881285 11.047700237555862]\n",
      "1.5538846254348755\n",
      "[0 9.9142625060986042e-07 3.9281785262486958e-06 ... 10.9819743211232 11.014777323400901 11.047557529278883]\n",
      "1.5538846254348755\n",
      "[0 9.9137514490876427e-07 3.9277766802571406e-06 ... 11.05054373986785 11.083452006925723 11.116336976858484]\n",
      "1.5580617586771648\n",
      "[0 9.9132363631587629e-07 3.9273717378818572e-06 ... 11.119033171971408 11.152044322131243 11.185031682147569]\n",
      "1.5622388919194539\n",
      "[0 9.9127253336471686e-07 3.9269699347766346e-06 ... 11.188027064762109 11.221143559453393 11.25423575976947]\n",
      "1.5664160251617432\n",
      "[0 9.9127233122349816e-07 3.9269683757433256e-06 ... 11.187879373486197 11.220994643266529 11.254085623447045]\n",
      "1.5664160251617432\n",
      "[0 9.9122082586534938e-07 3.9265634800272172e-06 ... 11.256788553588875 11.290006751136779 11.323200162702205]\n",
      "1.5705931186676025\n",
      "[0 9.9116891786568e-07 3.9261554917254975e-06 ... 11.325601839402195 11.358920619809565 11.392214125870748]\n",
      "1.5747702121734619\n",
      "[0 9.9111741530011128e-07 3.9257506395472739e-06 ... 11.394932141241258 11.428353905595726 11.46174989588393]\n",
      "1.5789473056793213\n",
      "[0 9.9111721327330916e-07 3.9257490822493253e-06 ... 11.39477725820691 11.428197822214464 11.4615926170477]\n",
      "1.5789473056793213\n",
      "[0 9.9106530756725835e-07 3.9253411335254886e-06 ... 11.464008075006252 11.497529245775132 11.531024155806167]\n",
      "1.5831244389216106\n",
      "[0 9.91012999456458e-07 3.9249300959226737e-06 ... 11.533127576222292 11.566747047741114 11.600339775252696]\n",
      "1.5873015721638997\n",
      "[0 9.9096109658604646e-07 3.9245221913942439e-06 ... 11.602776055619541 11.636496167588604 11.670189040817029]\n",
      "1.591478705406189\n",
      "[0 9.9096089466680735e-07 3.92452063578442e-06 ... 11.602614254138148 11.63633319113487 11.670024894381076]\n",
      "1.591478705406189\n",
      "[0 9.9090858988397633e-07 3.9241096462067361e-06 ... 11.672146333769874 11.705963571937541 11.739753090066525]\n",
      "1.5956557989120483\n"
     ]
    },
    {
     "name": "stdout",
     "output_type": "stream",
     "text": [
      "[0 9.9085588295030062e-07 3.9236955716004044e-06 ... 11.741552176232981 11.77546545050463 11.809350526982691]\n",
      "1.5998328924179077\n",
      "[0 9.9080358104636645e-07 3.9232846268782081e-06 ... 11.811498330392944 11.845509918100403 11.87949281872217]\n",
      "1.6040099859237671\n",
      "[0 9.908033792432077e-07 3.9232830730277252e-06 ... 11.811329896208319 11.845340335091917 11.879322091960159]\n",
      "1.6040099859237671\n",
      "[0 9.9075067518315458e-07 3.9228690431964521e-06 ... 11.881145229934379 11.915251685783996 11.949328979009284]\n",
      "1.6081870794296265\n",
      "[0 9.9069756922032033e-07 3.9224519321541124e-06 ... 11.950819902167858 11.985020152530256 12.019190768397623]\n",
      "1.6123641729354858\n",
      "[0 9.9064486808278329e-07 3.9220379478435114e-06 ... 12.02104562681072 12.055341886037455 12.089608027319917]\n",
      "1.6165412664413452\n",
      "[0 9.9064466639269349e-07 3.9220363957347222e-06 ... 12.020870835968777 12.055165973103618 12.089430997427936]\n",
      "1.6165412664413452\n",
      "[0 9.90591562841903e-07 3.9216193261646749e-06 ... 12.09095183142095 12.125340725405849 12.15969903201729]\n",
      "1.6207183996836345\n",
      "[0 9.9053805763056814e-07 3.9211991791685548e-06 ... 12.160878239360509 12.195358711793826 12.229808131201466]\n",
      "1.6248955329259236\n",
      "[0 9.9048495704627642e-07 3.92078215578949e-06 ... 12.231365855569512 12.265940057425066 12.300482729012733]\n",
      "1.6290726661682129\n",
      "[0 9.9048475546625178e-07 3.92078060540482e-06 ... 12.231184982387061 12.265758089352575 12.300299671231459]\n",
      "1.6290726661682129\n",
      "[0 9.9043125372501558e-07 3.92036050851443e-06 ... 12.301512463046381 12.336177090674461 12.370809725043449]\n",
      "1.6332497596740723\n",
      "[0 9.9037735058256774e-07 3.9199373381259657e-06 ... 12.371671937695103 12.406425952976175 12.441147515877386]\n",
      "1.6374268531799316\n",
      "[0 9.9032385185200385e-07 3.9195172880992955e-06 ... 12.442402168090672 12.477247658302462 12.512060225440749]\n",
      "1.641603946685791\n",
      "[0 9.9032365039054476e-07 3.9195157395096478e-06 ... 12.442215495225781 12.477059918174147 12.511871423262482]\n",
      "1.641603946685791\n",
      "[0 9.9026974974063748e-07 3.91909261187783e-06 ... 12.512773380637181 12.54770711784658 12.582607475705544]\n",
      "1.6457810799280803\n",
      "[0 9.9021544793538387e-07 3.9186664145847405e-06 ... 12.583150335803371 12.618171300621668 12.653158433762673]\n",
      "1.6499582131703694\n",
      "[0 9.90161550340743e-07 3.9182433344953854e-06 ... 12.654107038510912 12.689217254554753 12.7242931750644]\n",
      "1.6541353464126587\n",
      "[0 9.90161348991011e-07 3.9182417876536588e-06 ... 12.653914831885595 12.6890240085319 12.724098894875727]\n",
      "1.6541353464126587\n",
      "[0 9.9010705075212461e-07 3.917815641874256e-06 ... 12.724684794917016 12.759881107781997 12.79504267581218]\n",
      "1.6583124399185181\n",
      "[0 9.9005235162082868e-07 3.9173864304129083e-06 ... 12.795261408461599 12.830542818179802 12.865789037778134]\n",
      "1.6624895334243774\n",
      "[0 9.8999805648198926e-07 3.9169603328570436e-06 ... 12.866426172622994 12.901794639200325 12.937127458910147]\n",
      "1.6666666269302368\n",
      "[0 9.899978552524732e-07 3.916958787833929e-06 ... 12.86622870929344 12.901596164565085 12.936927978205711]\n",
      "1.6666666269302368\n",
      "[0 9.8994315921575814e-07 3.916529624513033e-06 ... 12.93719487391683 12.972647320143912 13.008063677396491]\n",
      "1.6708437204360962\n",
      "[0 9.89888062543739e-07 3.9160973994566957e-06 ... 13.007955760897129 13.043491206624743 13.078990125339363]\n",
      "1.6750208139419556\n",
      "[0 9.8983336965221416e-07 3.9156682850454853e-06 ... 13.079312657517502 13.114932999469664 13.150516364997298]\n",
      "1.6791979074478149\n",
      "[0 9.89833168539908e-07 3.9156667418233008e-06 ... 13.079110199675085 13.11472955849066 13.150311946110749]\n",
      "1.6791979074478149\n",
      "[0 9.8977807448348039e-07 3.9152345614818861e-06 ... 13.150257140251545 13.18595937907285 13.221624206744554]\n",
      "1.6833750406901042\n",
      "[0 9.8972258004303582e-07 3.9147993233188778e-06 ... 13.221187360485205 13.256970536221955 13.29271587019346]\n",
      "1.6875521739323933\n",
      "[0 9.8966748917730617e-07 3.9143671925783928e-06 ... 13.292720918278198 13.328586864843814 13.364414527765211]\n",
      "1.6917293071746826\n",
      "[0 9.8966728817920925e-07 3.914365651139537e-06 ... 13.292513723408343 13.328378715004126 13.364205428165942]\n",
      "1.6917293071746826\n",
      "[0 9.896117974517927e-07 3.91393046663309e-06 ... 13.363824427859173 13.399770221854654 13.435677305035631]\n",
      "1.695906400680542\n",
      "[0 9.8955590660867846e-07 3.9134922283607048e-06 ... 13.434907461258929 13.470932163333046 13.506917731560945]\n",
      "1.7000834941864014\n"
     ]
    },
    {
     "ename": "KeyboardInterrupt",
     "evalue": "",
     "output_type": "error",
     "traceback": [
      "\u001b[0;31m---------------------------------------------------------------------------\u001b[0m",
      "\u001b[0;31mKeyboardInterrupt\u001b[0m                         Traceback (most recent call last)",
      "\u001b[0;32m<timed exec>\u001b[0m in \u001b[0;36m<module>\u001b[0;34m\u001b[0m\n",
      "\u001b[0;32m~/sd_base/home_dir/git/tfdiffeq/tfdiffeq/odeint.py\u001b[0m in \u001b[0;36modeint\u001b[0;34m(func, y0, t, rtol, atol, method, options)\u001b[0m\n\u001b[1;32m     77\u001b[0m         \u001b[0mmethod\u001b[0m \u001b[0;34m=\u001b[0m \u001b[0;34m'dopri5'\u001b[0m\u001b[0;34m\u001b[0m\u001b[0;34m\u001b[0m\u001b[0m\n\u001b[1;32m     78\u001b[0m     \u001b[0msolver\u001b[0m \u001b[0;34m=\u001b[0m \u001b[0mSOLVERS\u001b[0m\u001b[0;34m[\u001b[0m\u001b[0mmethod\u001b[0m\u001b[0;34m]\u001b[0m\u001b[0;34m(\u001b[0m\u001b[0mfunc\u001b[0m\u001b[0;34m,\u001b[0m \u001b[0my0\u001b[0m\u001b[0;34m,\u001b[0m \u001b[0mrtol\u001b[0m\u001b[0;34m=\u001b[0m\u001b[0mrtol\u001b[0m\u001b[0;34m,\u001b[0m \u001b[0matol\u001b[0m\u001b[0;34m=\u001b[0m\u001b[0matol\u001b[0m\u001b[0;34m,\u001b[0m \u001b[0;34m**\u001b[0m\u001b[0moptions\u001b[0m\u001b[0;34m)\u001b[0m\u001b[0;34m\u001b[0m\u001b[0;34m\u001b[0m\u001b[0m\n\u001b[0;32m---> 79\u001b[0;31m     \u001b[0msolution\u001b[0m \u001b[0;34m=\u001b[0m \u001b[0msolver\u001b[0m\u001b[0;34m.\u001b[0m\u001b[0mintegrate\u001b[0m\u001b[0;34m(\u001b[0m\u001b[0mt\u001b[0m\u001b[0;34m)\u001b[0m\u001b[0;34m\u001b[0m\u001b[0;34m\u001b[0m\u001b[0m\n\u001b[0m\u001b[1;32m     80\u001b[0m     \u001b[0;32mif\u001b[0m \u001b[0mtensor_input\u001b[0m\u001b[0;34m:\u001b[0m\u001b[0;34m\u001b[0m\u001b[0;34m\u001b[0m\u001b[0m\n\u001b[1;32m     81\u001b[0m         \u001b[0msolution\u001b[0m \u001b[0;34m=\u001b[0m \u001b[0msolution\u001b[0m\u001b[0;34m[\u001b[0m\u001b[0;36m0\u001b[0m\u001b[0;34m]\u001b[0m\u001b[0;34m\u001b[0m\u001b[0;34m\u001b[0m\u001b[0m\n",
      "\u001b[0;32m~/sd_base/home_dir/git/tfdiffeq/tfdiffeq/solvers.py\u001b[0m in \u001b[0;36mintegrate\u001b[0;34m(self, t)\u001b[0m\n\u001b[1;32m     94\u001b[0m         \u001b[0my0\u001b[0m \u001b[0;34m=\u001b[0m \u001b[0mself\u001b[0m\u001b[0;34m.\u001b[0m\u001b[0my0\u001b[0m\u001b[0;34m\u001b[0m\u001b[0;34m\u001b[0m\u001b[0m\n\u001b[1;32m     95\u001b[0m         \u001b[0;32mfor\u001b[0m \u001b[0mt0\u001b[0m\u001b[0;34m,\u001b[0m \u001b[0mt1\u001b[0m \u001b[0;32min\u001b[0m \u001b[0mzip\u001b[0m\u001b[0;34m(\u001b[0m\u001b[0mtime_grid\u001b[0m\u001b[0;34m[\u001b[0m\u001b[0;34m:\u001b[0m\u001b[0;34m-\u001b[0m\u001b[0;36m1\u001b[0m\u001b[0;34m]\u001b[0m\u001b[0;34m,\u001b[0m \u001b[0mtime_grid\u001b[0m\u001b[0;34m[\u001b[0m\u001b[0;36m1\u001b[0m\u001b[0;34m:\u001b[0m\u001b[0;34m]\u001b[0m\u001b[0;34m)\u001b[0m\u001b[0;34m:\u001b[0m\u001b[0;34m\u001b[0m\u001b[0;34m\u001b[0m\u001b[0m\n\u001b[0;32m---> 96\u001b[0;31m             \u001b[0mdy\u001b[0m \u001b[0;34m=\u001b[0m \u001b[0mself\u001b[0m\u001b[0;34m.\u001b[0m\u001b[0mstep_func\u001b[0m\u001b[0;34m(\u001b[0m\u001b[0mself\u001b[0m\u001b[0;34m.\u001b[0m\u001b[0mfunc\u001b[0m\u001b[0;34m,\u001b[0m \u001b[0mt0\u001b[0m\u001b[0;34m,\u001b[0m \u001b[0mt1\u001b[0m \u001b[0;34m-\u001b[0m \u001b[0mt0\u001b[0m\u001b[0;34m,\u001b[0m \u001b[0my0\u001b[0m\u001b[0;34m)\u001b[0m\u001b[0;34m\u001b[0m\u001b[0;34m\u001b[0m\u001b[0m\n\u001b[0m\u001b[1;32m     97\u001b[0m             \u001b[0my1\u001b[0m \u001b[0;34m=\u001b[0m \u001b[0mtuple\u001b[0m\u001b[0;34m(\u001b[0m\u001b[0my0_\u001b[0m \u001b[0;34m+\u001b[0m \u001b[0mdy_\u001b[0m \u001b[0;32mfor\u001b[0m \u001b[0my0_\u001b[0m\u001b[0;34m,\u001b[0m \u001b[0mdy_\u001b[0m \u001b[0;32min\u001b[0m \u001b[0mzip\u001b[0m\u001b[0;34m(\u001b[0m\u001b[0my0\u001b[0m\u001b[0;34m,\u001b[0m \u001b[0mdy\u001b[0m\u001b[0;34m)\u001b[0m\u001b[0;34m)\u001b[0m\u001b[0;34m\u001b[0m\u001b[0;34m\u001b[0m\u001b[0m\n\u001b[1;32m     98\u001b[0m \u001b[0;34m\u001b[0m\u001b[0m\n",
      "\u001b[0;32m~/sd_base/home_dir/git/tfdiffeq/tfdiffeq/fixed_grid.py\u001b[0m in \u001b[0;36mstep_func\u001b[0;34m(self, func, t, dt, y)\u001b[0m\n\u001b[1;32m     40\u001b[0m \u001b[0;34m\u001b[0m\u001b[0m\n\u001b[1;32m     41\u001b[0m     \u001b[0;32mdef\u001b[0m \u001b[0mstep_func\u001b[0m\u001b[0;34m(\u001b[0m\u001b[0mself\u001b[0m\u001b[0;34m,\u001b[0m \u001b[0mfunc\u001b[0m\u001b[0;34m,\u001b[0m \u001b[0mt\u001b[0m\u001b[0;34m,\u001b[0m \u001b[0mdt\u001b[0m\u001b[0;34m,\u001b[0m \u001b[0my\u001b[0m\u001b[0;34m)\u001b[0m\u001b[0;34m:\u001b[0m\u001b[0;34m\u001b[0m\u001b[0;34m\u001b[0m\u001b[0m\n\u001b[0;32m---> 42\u001b[0;31m         \u001b[0;32mreturn\u001b[0m \u001b[0mrk_common\u001b[0m\u001b[0;34m.\u001b[0m\u001b[0mrk4_alt_step_func\u001b[0m\u001b[0;34m(\u001b[0m\u001b[0mfunc\u001b[0m\u001b[0;34m,\u001b[0m \u001b[0mt\u001b[0m \u001b[0;34m+\u001b[0m \u001b[0mself\u001b[0m\u001b[0;34m.\u001b[0m\u001b[0meps\u001b[0m\u001b[0;34m,\u001b[0m \u001b[0mdt\u001b[0m\u001b[0;34m,\u001b[0m \u001b[0my\u001b[0m\u001b[0;34m)\u001b[0m\u001b[0;34m\u001b[0m\u001b[0;34m\u001b[0m\u001b[0m\n\u001b[0m\u001b[1;32m     43\u001b[0m \u001b[0;34m\u001b[0m\u001b[0m\n\u001b[1;32m     44\u001b[0m     \u001b[0;34m@\u001b[0m\u001b[0mproperty\u001b[0m\u001b[0;34m\u001b[0m\u001b[0;34m\u001b[0m\u001b[0m\n",
      "\u001b[0;32m~/sd_base/home_dir/git/tfdiffeq/tfdiffeq/rk_common.py\u001b[0m in \u001b[0;36mrk4_alt_step_func\u001b[0;34m(func, t, dt, y, k1)\u001b[0m\n\u001b[1;32m     77\u001b[0m     \u001b[0mk2\u001b[0m \u001b[0;34m=\u001b[0m \u001b[0mfunc\u001b[0m\u001b[0;34m(\u001b[0m\u001b[0mt\u001b[0m \u001b[0;34m+\u001b[0m \u001b[0mdt\u001b[0m \u001b[0;34m/\u001b[0m \u001b[0;36m3\u001b[0m\u001b[0;34m,\u001b[0m \u001b[0mtuple\u001b[0m\u001b[0;34m(\u001b[0m\u001b[0my_\u001b[0m \u001b[0;34m+\u001b[0m \u001b[0mdt\u001b[0m \u001b[0;34m*\u001b[0m \u001b[0mk1_\u001b[0m \u001b[0;34m/\u001b[0m \u001b[0;36m3\u001b[0m \u001b[0;32mfor\u001b[0m \u001b[0my_\u001b[0m\u001b[0;34m,\u001b[0m \u001b[0mk1_\u001b[0m \u001b[0;32min\u001b[0m \u001b[0mzip\u001b[0m\u001b[0;34m(\u001b[0m\u001b[0my\u001b[0m\u001b[0;34m,\u001b[0m \u001b[0mk1\u001b[0m\u001b[0;34m)\u001b[0m\u001b[0;34m)\u001b[0m\u001b[0;34m)\u001b[0m\u001b[0;34m\u001b[0m\u001b[0;34m\u001b[0m\u001b[0m\n\u001b[1;32m     78\u001b[0m     \u001b[0mk3\u001b[0m \u001b[0;34m=\u001b[0m \u001b[0mfunc\u001b[0m\u001b[0;34m(\u001b[0m\u001b[0mt\u001b[0m \u001b[0;34m+\u001b[0m \u001b[0mdt\u001b[0m \u001b[0;34m*\u001b[0m \u001b[0;36m2\u001b[0m \u001b[0;34m/\u001b[0m \u001b[0;36m3\u001b[0m\u001b[0;34m,\u001b[0m \u001b[0mtuple\u001b[0m\u001b[0;34m(\u001b[0m\u001b[0my_\u001b[0m \u001b[0;34m+\u001b[0m \u001b[0mdt\u001b[0m \u001b[0;34m*\u001b[0m \u001b[0;34m(\u001b[0m\u001b[0mk1_\u001b[0m \u001b[0;34m/\u001b[0m \u001b[0;34m-\u001b[0m\u001b[0;36m3\u001b[0m \u001b[0;34m+\u001b[0m \u001b[0mk2_\u001b[0m\u001b[0;34m)\u001b[0m \u001b[0;32mfor\u001b[0m \u001b[0my_\u001b[0m\u001b[0;34m,\u001b[0m \u001b[0mk1_\u001b[0m\u001b[0;34m,\u001b[0m \u001b[0mk2_\u001b[0m \u001b[0;32min\u001b[0m \u001b[0mzip\u001b[0m\u001b[0;34m(\u001b[0m\u001b[0my\u001b[0m\u001b[0;34m,\u001b[0m \u001b[0mk1\u001b[0m\u001b[0;34m,\u001b[0m \u001b[0mk2\u001b[0m\u001b[0;34m)\u001b[0m\u001b[0;34m)\u001b[0m\u001b[0;34m)\u001b[0m\u001b[0;34m\u001b[0m\u001b[0;34m\u001b[0m\u001b[0m\n\u001b[0;32m---> 79\u001b[0;31m     k4 = func(t + dt, tuple(y_ + dt * (k1_ - k2_ + k3_)\n\u001b[0m\u001b[1;32m     80\u001b[0m                             for y_, k1_, k2_, k3_ in zip(y, k1, k2, k3)))\n\u001b[1;32m     81\u001b[0m     \u001b[0;32mreturn\u001b[0m \u001b[0mtuple\u001b[0m\u001b[0;34m(\u001b[0m\u001b[0;34m(\u001b[0m\u001b[0mk1_\u001b[0m \u001b[0;34m+\u001b[0m \u001b[0;36m3\u001b[0m \u001b[0;34m*\u001b[0m \u001b[0mk2_\u001b[0m \u001b[0;34m+\u001b[0m \u001b[0;36m3\u001b[0m \u001b[0;34m*\u001b[0m \u001b[0mk3_\u001b[0m \u001b[0;34m+\u001b[0m \u001b[0mk4_\u001b[0m\u001b[0;34m)\u001b[0m \u001b[0;34m*\u001b[0m \u001b[0;34m(\u001b[0m\u001b[0mdt\u001b[0m \u001b[0;34m/\u001b[0m \u001b[0;36m8\u001b[0m\u001b[0;34m)\u001b[0m \u001b[0;32mfor\u001b[0m \u001b[0mk1_\u001b[0m\u001b[0;34m,\u001b[0m \u001b[0mk2_\u001b[0m\u001b[0;34m,\u001b[0m \u001b[0mk3_\u001b[0m\u001b[0;34m,\u001b[0m \u001b[0mk4_\u001b[0m \u001b[0;32min\u001b[0m \u001b[0mzip\u001b[0m\u001b[0;34m(\u001b[0m\u001b[0mk1\u001b[0m\u001b[0;34m,\u001b[0m \u001b[0mk2\u001b[0m\u001b[0;34m,\u001b[0m \u001b[0mk3\u001b[0m\u001b[0;34m,\u001b[0m \u001b[0mk4\u001b[0m\u001b[0;34m)\u001b[0m\u001b[0;34m)\u001b[0m\u001b[0;34m\u001b[0m\u001b[0;34m\u001b[0m\u001b[0m\n",
      "\u001b[0;32m~/sd_base/home_dir/git/tfdiffeq/tfdiffeq/rk_common.py\u001b[0m in \u001b[0;36m<genexpr>\u001b[0;34m(.0)\u001b[0m\n\u001b[1;32m     77\u001b[0m     \u001b[0mk2\u001b[0m \u001b[0;34m=\u001b[0m \u001b[0mfunc\u001b[0m\u001b[0;34m(\u001b[0m\u001b[0mt\u001b[0m \u001b[0;34m+\u001b[0m \u001b[0mdt\u001b[0m \u001b[0;34m/\u001b[0m \u001b[0;36m3\u001b[0m\u001b[0;34m,\u001b[0m \u001b[0mtuple\u001b[0m\u001b[0;34m(\u001b[0m\u001b[0my_\u001b[0m \u001b[0;34m+\u001b[0m \u001b[0mdt\u001b[0m \u001b[0;34m*\u001b[0m \u001b[0mk1_\u001b[0m \u001b[0;34m/\u001b[0m \u001b[0;36m3\u001b[0m \u001b[0;32mfor\u001b[0m \u001b[0my_\u001b[0m\u001b[0;34m,\u001b[0m \u001b[0mk1_\u001b[0m \u001b[0;32min\u001b[0m \u001b[0mzip\u001b[0m\u001b[0;34m(\u001b[0m\u001b[0my\u001b[0m\u001b[0;34m,\u001b[0m \u001b[0mk1\u001b[0m\u001b[0;34m)\u001b[0m\u001b[0;34m)\u001b[0m\u001b[0;34m)\u001b[0m\u001b[0;34m\u001b[0m\u001b[0;34m\u001b[0m\u001b[0m\n\u001b[1;32m     78\u001b[0m     \u001b[0mk3\u001b[0m \u001b[0;34m=\u001b[0m \u001b[0mfunc\u001b[0m\u001b[0;34m(\u001b[0m\u001b[0mt\u001b[0m \u001b[0;34m+\u001b[0m \u001b[0mdt\u001b[0m \u001b[0;34m*\u001b[0m \u001b[0;36m2\u001b[0m \u001b[0;34m/\u001b[0m \u001b[0;36m3\u001b[0m\u001b[0;34m,\u001b[0m \u001b[0mtuple\u001b[0m\u001b[0;34m(\u001b[0m\u001b[0my_\u001b[0m \u001b[0;34m+\u001b[0m \u001b[0mdt\u001b[0m \u001b[0;34m*\u001b[0m \u001b[0;34m(\u001b[0m\u001b[0mk1_\u001b[0m \u001b[0;34m/\u001b[0m \u001b[0;34m-\u001b[0m\u001b[0;36m3\u001b[0m \u001b[0;34m+\u001b[0m \u001b[0mk2_\u001b[0m\u001b[0;34m)\u001b[0m \u001b[0;32mfor\u001b[0m \u001b[0my_\u001b[0m\u001b[0;34m,\u001b[0m \u001b[0mk1_\u001b[0m\u001b[0;34m,\u001b[0m \u001b[0mk2_\u001b[0m \u001b[0;32min\u001b[0m \u001b[0mzip\u001b[0m\u001b[0;34m(\u001b[0m\u001b[0my\u001b[0m\u001b[0;34m,\u001b[0m \u001b[0mk1\u001b[0m\u001b[0;34m,\u001b[0m \u001b[0mk2\u001b[0m\u001b[0;34m)\u001b[0m\u001b[0;34m)\u001b[0m\u001b[0;34m)\u001b[0m\u001b[0;34m\u001b[0m\u001b[0;34m\u001b[0m\u001b[0m\n\u001b[0;32m---> 79\u001b[0;31m     k4 = func(t + dt, tuple(y_ + dt * (k1_ - k2_ + k3_)\n\u001b[0m\u001b[1;32m     80\u001b[0m                             for y_, k1_, k2_, k3_ in zip(y, k1, k2, k3)))\n\u001b[1;32m     81\u001b[0m     \u001b[0;32mreturn\u001b[0m \u001b[0mtuple\u001b[0m\u001b[0;34m(\u001b[0m\u001b[0;34m(\u001b[0m\u001b[0mk1_\u001b[0m \u001b[0;34m+\u001b[0m \u001b[0;36m3\u001b[0m \u001b[0;34m*\u001b[0m \u001b[0mk2_\u001b[0m \u001b[0;34m+\u001b[0m \u001b[0;36m3\u001b[0m \u001b[0;34m*\u001b[0m \u001b[0mk3_\u001b[0m \u001b[0;34m+\u001b[0m \u001b[0mk4_\u001b[0m\u001b[0;34m)\u001b[0m \u001b[0;34m*\u001b[0m \u001b[0;34m(\u001b[0m\u001b[0mdt\u001b[0m \u001b[0;34m/\u001b[0m \u001b[0;36m8\u001b[0m\u001b[0;34m)\u001b[0m \u001b[0;32mfor\u001b[0m \u001b[0mk1_\u001b[0m\u001b[0;34m,\u001b[0m \u001b[0mk2_\u001b[0m\u001b[0;34m,\u001b[0m \u001b[0mk3_\u001b[0m\u001b[0;34m,\u001b[0m \u001b[0mk4_\u001b[0m \u001b[0;32min\u001b[0m \u001b[0mzip\u001b[0m\u001b[0;34m(\u001b[0m\u001b[0mk1\u001b[0m\u001b[0;34m,\u001b[0m \u001b[0mk2\u001b[0m\u001b[0;34m,\u001b[0m \u001b[0mk3\u001b[0m\u001b[0;34m,\u001b[0m \u001b[0mk4\u001b[0m\u001b[0;34m)\u001b[0m\u001b[0;34m)\u001b[0m\u001b[0;34m\u001b[0m\u001b[0;34m\u001b[0m\u001b[0m\n",
      "\u001b[0;32m~/anaconda3/envs/spylind/lib/python3.8/site-packages/tensorflow/python/framework/ops.py\u001b[0m in \u001b[0;36m__next__\u001b[0;34m(self)\u001b[0m\n\u001b[1;32m   6928\u001b[0m     \u001b[0;32mif\u001b[0m \u001b[0mself\u001b[0m\u001b[0;34m.\u001b[0m\u001b[0m_index\u001b[0m \u001b[0;34m==\u001b[0m \u001b[0mself\u001b[0m\u001b[0;34m.\u001b[0m\u001b[0m_limit\u001b[0m\u001b[0;34m:\u001b[0m\u001b[0;34m\u001b[0m\u001b[0;34m\u001b[0m\u001b[0m\n\u001b[1;32m   6929\u001b[0m       \u001b[0;32mraise\u001b[0m \u001b[0mStopIteration\u001b[0m\u001b[0;34m\u001b[0m\u001b[0;34m\u001b[0m\u001b[0m\n\u001b[0;32m-> 6930\u001b[0;31m     \u001b[0mresult\u001b[0m \u001b[0;34m=\u001b[0m \u001b[0mself\u001b[0m\u001b[0;34m.\u001b[0m\u001b[0m_tensor\u001b[0m\u001b[0;34m[\u001b[0m\u001b[0mself\u001b[0m\u001b[0;34m.\u001b[0m\u001b[0m_index\u001b[0m\u001b[0;34m]\u001b[0m\u001b[0;34m\u001b[0m\u001b[0;34m\u001b[0m\u001b[0m\n\u001b[0m\u001b[1;32m   6931\u001b[0m     \u001b[0mself\u001b[0m\u001b[0;34m.\u001b[0m\u001b[0m_index\u001b[0m \u001b[0;34m+=\u001b[0m \u001b[0;36m1\u001b[0m\u001b[0;34m\u001b[0m\u001b[0;34m\u001b[0m\u001b[0m\n\u001b[1;32m   6932\u001b[0m     \u001b[0;32mreturn\u001b[0m \u001b[0mresult\u001b[0m\u001b[0;34m\u001b[0m\u001b[0;34m\u001b[0m\u001b[0m\n",
      "\u001b[0;32m~/anaconda3/envs/spylind/lib/python3.8/site-packages/tensorflow/python/util/dispatch.py\u001b[0m in \u001b[0;36mwrapper\u001b[0;34m(*args, **kwargs)\u001b[0m\n\u001b[1;32m    199\u001b[0m     \u001b[0;34m\"\"\"Call target, and fall back on dispatchers if there is a TypeError.\"\"\"\u001b[0m\u001b[0;34m\u001b[0m\u001b[0;34m\u001b[0m\u001b[0m\n\u001b[1;32m    200\u001b[0m     \u001b[0;32mtry\u001b[0m\u001b[0;34m:\u001b[0m\u001b[0;34m\u001b[0m\u001b[0;34m\u001b[0m\u001b[0m\n\u001b[0;32m--> 201\u001b[0;31m       \u001b[0;32mreturn\u001b[0m \u001b[0mtarget\u001b[0m\u001b[0;34m(\u001b[0m\u001b[0;34m*\u001b[0m\u001b[0margs\u001b[0m\u001b[0;34m,\u001b[0m \u001b[0;34m**\u001b[0m\u001b[0mkwargs\u001b[0m\u001b[0;34m)\u001b[0m\u001b[0;34m\u001b[0m\u001b[0;34m\u001b[0m\u001b[0m\n\u001b[0m\u001b[1;32m    202\u001b[0m     \u001b[0;32mexcept\u001b[0m \u001b[0;34m(\u001b[0m\u001b[0mTypeError\u001b[0m\u001b[0;34m,\u001b[0m \u001b[0mValueError\u001b[0m\u001b[0;34m)\u001b[0m\u001b[0;34m:\u001b[0m\u001b[0;34m\u001b[0m\u001b[0;34m\u001b[0m\u001b[0m\n\u001b[1;32m    203\u001b[0m       \u001b[0;31m# Note: convert_to_eager_tensor currently raises a ValueError, not a\u001b[0m\u001b[0;34m\u001b[0m\u001b[0;34m\u001b[0m\u001b[0;34m\u001b[0m\u001b[0m\n",
      "\u001b[0;32m~/anaconda3/envs/spylind/lib/python3.8/site-packages/tensorflow/python/ops/array_ops.py\u001b[0m in \u001b[0;36m_slice_helper\u001b[0;34m(tensor, slice_spec, var)\u001b[0m\n\u001b[1;32m   1011\u001b[0m       \u001b[0mvar_empty\u001b[0m \u001b[0;34m=\u001b[0m \u001b[0mconstant\u001b[0m\u001b[0;34m(\u001b[0m\u001b[0;34m[\u001b[0m\u001b[0;34m]\u001b[0m\u001b[0;34m,\u001b[0m \u001b[0mdtype\u001b[0m\u001b[0;34m=\u001b[0m\u001b[0mdtypes\u001b[0m\u001b[0;34m.\u001b[0m\u001b[0mint32\u001b[0m\u001b[0;34m)\u001b[0m\u001b[0;34m\u001b[0m\u001b[0;34m\u001b[0m\u001b[0m\n\u001b[1;32m   1012\u001b[0m       \u001b[0mpacked_begin\u001b[0m \u001b[0;34m=\u001b[0m \u001b[0mpacked_end\u001b[0m \u001b[0;34m=\u001b[0m \u001b[0mpacked_strides\u001b[0m \u001b[0;34m=\u001b[0m \u001b[0mvar_empty\u001b[0m\u001b[0;34m\u001b[0m\u001b[0;34m\u001b[0m\u001b[0m\n\u001b[0;32m-> 1013\u001b[0;31m     return strided_slice(\n\u001b[0m\u001b[1;32m   1014\u001b[0m         \u001b[0mtensor\u001b[0m\u001b[0;34m,\u001b[0m\u001b[0;34m\u001b[0m\u001b[0;34m\u001b[0m\u001b[0m\n\u001b[1;32m   1015\u001b[0m         \u001b[0mpacked_begin\u001b[0m\u001b[0;34m,\u001b[0m\u001b[0;34m\u001b[0m\u001b[0;34m\u001b[0m\u001b[0m\n",
      "\u001b[0;32m~/anaconda3/envs/spylind/lib/python3.8/site-packages/tensorflow/python/util/dispatch.py\u001b[0m in \u001b[0;36mwrapper\u001b[0;34m(*args, **kwargs)\u001b[0m\n\u001b[1;32m    199\u001b[0m     \u001b[0;34m\"\"\"Call target, and fall back on dispatchers if there is a TypeError.\"\"\"\u001b[0m\u001b[0;34m\u001b[0m\u001b[0;34m\u001b[0m\u001b[0m\n\u001b[1;32m    200\u001b[0m     \u001b[0;32mtry\u001b[0m\u001b[0;34m:\u001b[0m\u001b[0;34m\u001b[0m\u001b[0;34m\u001b[0m\u001b[0m\n\u001b[0;32m--> 201\u001b[0;31m       \u001b[0;32mreturn\u001b[0m \u001b[0mtarget\u001b[0m\u001b[0;34m(\u001b[0m\u001b[0;34m*\u001b[0m\u001b[0margs\u001b[0m\u001b[0;34m,\u001b[0m \u001b[0;34m**\u001b[0m\u001b[0mkwargs\u001b[0m\u001b[0;34m)\u001b[0m\u001b[0;34m\u001b[0m\u001b[0;34m\u001b[0m\u001b[0m\n\u001b[0m\u001b[1;32m    202\u001b[0m     \u001b[0;32mexcept\u001b[0m \u001b[0;34m(\u001b[0m\u001b[0mTypeError\u001b[0m\u001b[0;34m,\u001b[0m \u001b[0mValueError\u001b[0m\u001b[0;34m)\u001b[0m\u001b[0;34m:\u001b[0m\u001b[0;34m\u001b[0m\u001b[0;34m\u001b[0m\u001b[0m\n\u001b[1;32m    203\u001b[0m       \u001b[0;31m# Note: convert_to_eager_tensor currently raises a ValueError, not a\u001b[0m\u001b[0;34m\u001b[0m\u001b[0;34m\u001b[0m\u001b[0;34m\u001b[0m\u001b[0m\n",
      "\u001b[0;32m~/anaconda3/envs/spylind/lib/python3.8/site-packages/tensorflow/python/ops/array_ops.py\u001b[0m in \u001b[0;36mstrided_slice\u001b[0;34m(input_, begin, end, strides, begin_mask, end_mask, ellipsis_mask, new_axis_mask, shrink_axis_mask, var, name)\u001b[0m\n\u001b[1;32m   1184\u001b[0m     \u001b[0mstrides\u001b[0m \u001b[0;34m=\u001b[0m \u001b[0mones_like\u001b[0m\u001b[0;34m(\u001b[0m\u001b[0mbegin\u001b[0m\u001b[0;34m)\u001b[0m\u001b[0;34m\u001b[0m\u001b[0;34m\u001b[0m\u001b[0m\n\u001b[1;32m   1185\u001b[0m \u001b[0;34m\u001b[0m\u001b[0m\n\u001b[0;32m-> 1186\u001b[0;31m   op = gen_array_ops.strided_slice(\n\u001b[0m\u001b[1;32m   1187\u001b[0m       \u001b[0minput\u001b[0m\u001b[0;34m=\u001b[0m\u001b[0minput_\u001b[0m\u001b[0;34m,\u001b[0m\u001b[0;34m\u001b[0m\u001b[0;34m\u001b[0m\u001b[0m\n\u001b[1;32m   1188\u001b[0m       \u001b[0mbegin\u001b[0m\u001b[0;34m=\u001b[0m\u001b[0mbegin\u001b[0m\u001b[0;34m,\u001b[0m\u001b[0;34m\u001b[0m\u001b[0;34m\u001b[0m\u001b[0m\n",
      "\u001b[0;32m~/anaconda3/envs/spylind/lib/python3.8/site-packages/tensorflow/python/ops/gen_array_ops.py\u001b[0m in \u001b[0;36mstrided_slice\u001b[0;34m(input, begin, end, strides, begin_mask, end_mask, ellipsis_mask, new_axis_mask, shrink_axis_mask, name)\u001b[0m\n\u001b[1;32m  10311\u001b[0m   \u001b[0;32mif\u001b[0m \u001b[0mtld\u001b[0m\u001b[0;34m.\u001b[0m\u001b[0mis_eager\u001b[0m\u001b[0;34m:\u001b[0m\u001b[0;34m\u001b[0m\u001b[0;34m\u001b[0m\u001b[0m\n\u001b[1;32m  10312\u001b[0m     \u001b[0;32mtry\u001b[0m\u001b[0;34m:\u001b[0m\u001b[0;34m\u001b[0m\u001b[0;34m\u001b[0m\u001b[0m\n\u001b[0;32m> 10313\u001b[0;31m       _result = pywrap_tfe.TFE_Py_FastPathExecute(\n\u001b[0m\u001b[1;32m  10314\u001b[0m         \u001b[0m_ctx\u001b[0m\u001b[0;34m.\u001b[0m\u001b[0m_context_handle\u001b[0m\u001b[0;34m,\u001b[0m \u001b[0mtld\u001b[0m\u001b[0;34m.\u001b[0m\u001b[0mdevice_name\u001b[0m\u001b[0;34m,\u001b[0m \u001b[0;34m\"StridedSlice\"\u001b[0m\u001b[0;34m,\u001b[0m \u001b[0mname\u001b[0m\u001b[0;34m,\u001b[0m\u001b[0;34m\u001b[0m\u001b[0;34m\u001b[0m\u001b[0m\n\u001b[1;32m  10315\u001b[0m         \u001b[0mtld\u001b[0m\u001b[0;34m.\u001b[0m\u001b[0mop_callbacks\u001b[0m\u001b[0;34m,\u001b[0m \u001b[0minput\u001b[0m\u001b[0;34m,\u001b[0m \u001b[0mbegin\u001b[0m\u001b[0;34m,\u001b[0m \u001b[0mend\u001b[0m\u001b[0;34m,\u001b[0m \u001b[0mstrides\u001b[0m\u001b[0;34m,\u001b[0m \u001b[0;34m\"begin_mask\"\u001b[0m\u001b[0;34m,\u001b[0m\u001b[0;34m\u001b[0m\u001b[0;34m\u001b[0m\u001b[0m\n",
      "\u001b[0;31mKeyboardInterrupt\u001b[0m: "
     ]
    }
   ],
   "source": [
    "with tf.device(\"/cpu:0\"):\n",
    "    tspan = tf.linspace(0.0, 5.0, 400)\n",
    "    z0 = np.linspace(0,2,2000).reshape(2,1000) # initial values\n",
    "    z0 = tf.convert_to_tensor(z0, dtype=tf.float64)\n",
    "    p0 = tf.linspace(-4, 4,1000) #parameters for the ODE\n",
    "    p0 = tf.convert_to_tensor(p0, dtype=tf.float64)\n",
    "    ode = Lambda(p0)\n",
    "    #tspan =td.cast_double(tspan)\n",
    "    #ol = C( z0)\n",
    "    %time sol = odeint(ode, z0, tspan, method='rk4')\n",
    "    #sol = odeint(f, z0, tspan)\n",
    "    #L = tf.reduce_sum(sol[-1])"
   ]
  },
  {
   "cell_type": "code",
   "execution_count": 31,
   "metadata": {},
   "outputs": [],
   "source": [
    "tspan = tf.linspace(0.0, 5.0, 400)\n",
    "z0 = np.linspace(0,2,2000).reshape(2,1000) # initial values\n",
    "z0 = tf.convert_to_tensor(z0, dtype=tf.float64)\n",
    "p0 = tf.linspace(-4, 4,1000) #parameters for the ODE\n",
    "p0 = tf.convert_to_tensor(p0, dtype=tf.float64)\n",
    "ode = Lambda(p0)\n",
    "#tspan =td.cast_double(tspan)\n",
    "#ol = C( z0)\n",
    "def run(z0, tspan):\n",
    "    sol = odeint(ode, z0, tspan, method='rk4')\n",
    "    return sol\n",
    "run2=tf.function(run)"
   ]
  },
  {
   "cell_type": "code",
   "execution_count": 33,
   "metadata": {},
   "outputs": [
    {
     "name": "stdout",
     "output_type": "stream",
     "text": [
      "WARNING:tensorflow:Layer lambda_15 is casting an input tensor from dtype float32 to the layer's dtype of float64, which is new behavior in TensorFlow 2.  The layer has dtype float64 because its dtype defaults to floatx.\n",
      "\n",
      "If you intended to run this layer in float64, you can safely ignore this warning. If in doubt, this warning is likely only an issue if you are porting a TensorFlow 1.X model to TensorFlow 2.\n",
      "\n",
      "To change all layers to have dtype float32 by default, call `tf.keras.backend.set_floatx('float32')`. To change just this layer, pass dtype='float32' to the layer constructor. If you are the author of this layer, you can disable autocasting by passing autocast=False to the base Layer constructor.\n",
      "\n",
      "[0 1.0010007505003125e-06 4.00400300200125e-06 ... 0.99500375500406524 0.99700075150131318 0.99899975000006236]\n",
      "0\n"
     ]
    },
    {
     "data": {
      "text/plain": [
       "<tf.Tensor: shape=(2, 1000), dtype=float64, numpy=\n",
       "array([[0.        , 0.        , 0.        , ..., 0.        , 0.        ,\n",
       "        0.        ],\n",
       "       [1.00050025, 1.00250125, 1.00450225, ..., 2.99549775, 2.99749875,\n",
       "        2.99949975]])>"
      ]
     },
     "execution_count": 33,
     "metadata": {},
     "output_type": "execute_result"
    }
   ],
   "source": [
    "tf.function(ode)(0.0, z0)"
   ]
  },
  {
   "cell_type": "code",
   "execution_count": 35,
   "metadata": {},
   "outputs": [
    {
     "ename": "OperatorNotAllowedInGraphError",
     "evalue": "in user code:\n\n    <ipython-input-31-fe7823acb44b>:10 run  *\n        sol = odeint(ode, z0, tspan, method='rk4')\n    /home/morgan/sd_base/home_dir/git/tfdiffeq/tfdiffeq/odeint.py:79 odeint  *\n        solution = solver.integrate(t)\n    /home/morgan/sd_base/home_dir/git/tfdiffeq/tfdiffeq/solvers.py:95 integrate  *\n        for t0, t1 in zip(time_grid[:-1], time_grid[1:]):\n    /home/morgan/anaconda3/envs/spylind/lib/python3.8/site-packages/tensorflow/python/autograph/operators/py_builtins.py:402 zip_  **\n        return _py_zip(*iterables)\n    /home/morgan/anaconda3/envs/spylind/lib/python3.8/site-packages/tensorflow/python/autograph/operators/py_builtins.py:410 _py_zip\n        return zip(*iterables)\n    /home/morgan/anaconda3/envs/spylind/lib/python3.8/site-packages/tensorflow/python/framework/ops.py:503 __iter__\n        self._disallow_iteration()\n    /home/morgan/anaconda3/envs/spylind/lib/python3.8/site-packages/tensorflow/python/framework/ops.py:496 _disallow_iteration\n        self._disallow_when_autograph_enabled(\"iterating over `tf.Tensor`\")\n    /home/morgan/anaconda3/envs/spylind/lib/python3.8/site-packages/tensorflow/python/framework/ops.py:472 _disallow_when_autograph_enabled\n        raise errors.OperatorNotAllowedInGraphError(\n\n    OperatorNotAllowedInGraphError: iterating over `tf.Tensor` is not allowed: AutoGraph did convert this function. This might indicate you are trying to use an unsupported feature.\n",
     "output_type": "error",
     "traceback": [
      "\u001b[0;31m---------------------------------------------------------------------------\u001b[0m",
      "\u001b[0;31mOperatorNotAllowedInGraphError\u001b[0m            Traceback (most recent call last)",
      "\u001b[0;32m<ipython-input-35-f6193aeb840c>\u001b[0m in \u001b[0;36m<module>\u001b[0;34m\u001b[0m\n\u001b[0;32m----> 1\u001b[0;31m \u001b[0mrun2\u001b[0m\u001b[0;34m(\u001b[0m\u001b[0mz0\u001b[0m\u001b[0;34m,\u001b[0m \u001b[0mtspan\u001b[0m\u001b[0;34m)\u001b[0m\u001b[0;34m\u001b[0m\u001b[0;34m\u001b[0m\u001b[0m\n\u001b[0m",
      "\u001b[0;32m~/anaconda3/envs/spylind/lib/python3.8/site-packages/tensorflow/python/eager/def_function.py\u001b[0m in \u001b[0;36m__call__\u001b[0;34m(self, *args, **kwds)\u001b[0m\n\u001b[1;32m    778\u001b[0m       \u001b[0;32melse\u001b[0m\u001b[0;34m:\u001b[0m\u001b[0;34m\u001b[0m\u001b[0;34m\u001b[0m\u001b[0m\n\u001b[1;32m    779\u001b[0m         \u001b[0mcompiler\u001b[0m \u001b[0;34m=\u001b[0m \u001b[0;34m\"nonXla\"\u001b[0m\u001b[0;34m\u001b[0m\u001b[0;34m\u001b[0m\u001b[0m\n\u001b[0;32m--> 780\u001b[0;31m         \u001b[0mresult\u001b[0m \u001b[0;34m=\u001b[0m \u001b[0mself\u001b[0m\u001b[0;34m.\u001b[0m\u001b[0m_call\u001b[0m\u001b[0;34m(\u001b[0m\u001b[0;34m*\u001b[0m\u001b[0margs\u001b[0m\u001b[0;34m,\u001b[0m \u001b[0;34m**\u001b[0m\u001b[0mkwds\u001b[0m\u001b[0;34m)\u001b[0m\u001b[0;34m\u001b[0m\u001b[0;34m\u001b[0m\u001b[0m\n\u001b[0m\u001b[1;32m    781\u001b[0m \u001b[0;34m\u001b[0m\u001b[0m\n\u001b[1;32m    782\u001b[0m       \u001b[0mnew_tracing_count\u001b[0m \u001b[0;34m=\u001b[0m \u001b[0mself\u001b[0m\u001b[0;34m.\u001b[0m\u001b[0m_get_tracing_count\u001b[0m\u001b[0;34m(\u001b[0m\u001b[0;34m)\u001b[0m\u001b[0;34m\u001b[0m\u001b[0;34m\u001b[0m\u001b[0m\n",
      "\u001b[0;32m~/anaconda3/envs/spylind/lib/python3.8/site-packages/tensorflow/python/eager/def_function.py\u001b[0m in \u001b[0;36m_call\u001b[0;34m(self, *args, **kwds)\u001b[0m\n\u001b[1;32m    812\u001b[0m       \u001b[0;31m# In this case we have not created variables on the first call. So we can\u001b[0m\u001b[0;34m\u001b[0m\u001b[0;34m\u001b[0m\u001b[0;34m\u001b[0m\u001b[0m\n\u001b[1;32m    813\u001b[0m       \u001b[0;31m# run the first trace but we should fail if variables are created.\u001b[0m\u001b[0;34m\u001b[0m\u001b[0;34m\u001b[0m\u001b[0;34m\u001b[0m\u001b[0m\n\u001b[0;32m--> 814\u001b[0;31m       \u001b[0mresults\u001b[0m \u001b[0;34m=\u001b[0m \u001b[0mself\u001b[0m\u001b[0;34m.\u001b[0m\u001b[0m_stateful_fn\u001b[0m\u001b[0;34m(\u001b[0m\u001b[0;34m*\u001b[0m\u001b[0margs\u001b[0m\u001b[0;34m,\u001b[0m \u001b[0;34m**\u001b[0m\u001b[0mkwds\u001b[0m\u001b[0;34m)\u001b[0m\u001b[0;34m\u001b[0m\u001b[0;34m\u001b[0m\u001b[0m\n\u001b[0m\u001b[1;32m    815\u001b[0m       \u001b[0;32mif\u001b[0m \u001b[0mself\u001b[0m\u001b[0;34m.\u001b[0m\u001b[0m_created_variables\u001b[0m\u001b[0;34m:\u001b[0m\u001b[0;34m\u001b[0m\u001b[0;34m\u001b[0m\u001b[0m\n\u001b[1;32m    816\u001b[0m         raise ValueError(\"Creating variables on a non-first call to a function\"\n",
      "\u001b[0;32m~/anaconda3/envs/spylind/lib/python3.8/site-packages/tensorflow/python/eager/function.py\u001b[0m in \u001b[0;36m__call__\u001b[0;34m(self, *args, **kwargs)\u001b[0m\n\u001b[1;32m   2826\u001b[0m     \u001b[0;34m\"\"\"Calls a graph function specialized to the inputs.\"\"\"\u001b[0m\u001b[0;34m\u001b[0m\u001b[0;34m\u001b[0m\u001b[0m\n\u001b[1;32m   2827\u001b[0m     \u001b[0;32mwith\u001b[0m \u001b[0mself\u001b[0m\u001b[0;34m.\u001b[0m\u001b[0m_lock\u001b[0m\u001b[0;34m:\u001b[0m\u001b[0;34m\u001b[0m\u001b[0;34m\u001b[0m\u001b[0m\n\u001b[0;32m-> 2828\u001b[0;31m       \u001b[0mgraph_function\u001b[0m\u001b[0;34m,\u001b[0m \u001b[0margs\u001b[0m\u001b[0;34m,\u001b[0m \u001b[0mkwargs\u001b[0m \u001b[0;34m=\u001b[0m \u001b[0mself\u001b[0m\u001b[0;34m.\u001b[0m\u001b[0m_maybe_define_function\u001b[0m\u001b[0;34m(\u001b[0m\u001b[0margs\u001b[0m\u001b[0;34m,\u001b[0m \u001b[0mkwargs\u001b[0m\u001b[0;34m)\u001b[0m\u001b[0;34m\u001b[0m\u001b[0;34m\u001b[0m\u001b[0m\n\u001b[0m\u001b[1;32m   2829\u001b[0m     \u001b[0;32mreturn\u001b[0m \u001b[0mgraph_function\u001b[0m\u001b[0;34m.\u001b[0m\u001b[0m_filtered_call\u001b[0m\u001b[0;34m(\u001b[0m\u001b[0margs\u001b[0m\u001b[0;34m,\u001b[0m \u001b[0mkwargs\u001b[0m\u001b[0;34m)\u001b[0m  \u001b[0;31m# pylint: disable=protected-access\u001b[0m\u001b[0;34m\u001b[0m\u001b[0;34m\u001b[0m\u001b[0m\n\u001b[1;32m   2830\u001b[0m \u001b[0;34m\u001b[0m\u001b[0m\n",
      "\u001b[0;32m~/anaconda3/envs/spylind/lib/python3.8/site-packages/tensorflow/python/eager/function.py\u001b[0m in \u001b[0;36m_maybe_define_function\u001b[0;34m(self, args, kwargs)\u001b[0m\n\u001b[1;32m   3211\u001b[0m \u001b[0;34m\u001b[0m\u001b[0m\n\u001b[1;32m   3212\u001b[0m       \u001b[0mself\u001b[0m\u001b[0;34m.\u001b[0m\u001b[0m_function_cache\u001b[0m\u001b[0;34m.\u001b[0m\u001b[0mmissed\u001b[0m\u001b[0;34m.\u001b[0m\u001b[0madd\u001b[0m\u001b[0;34m(\u001b[0m\u001b[0mcall_context_key\u001b[0m\u001b[0;34m)\u001b[0m\u001b[0;34m\u001b[0m\u001b[0;34m\u001b[0m\u001b[0m\n\u001b[0;32m-> 3213\u001b[0;31m       \u001b[0mgraph_function\u001b[0m \u001b[0;34m=\u001b[0m \u001b[0mself\u001b[0m\u001b[0;34m.\u001b[0m\u001b[0m_create_graph_function\u001b[0m\u001b[0;34m(\u001b[0m\u001b[0margs\u001b[0m\u001b[0;34m,\u001b[0m \u001b[0mkwargs\u001b[0m\u001b[0;34m)\u001b[0m\u001b[0;34m\u001b[0m\u001b[0;34m\u001b[0m\u001b[0m\n\u001b[0m\u001b[1;32m   3214\u001b[0m       \u001b[0mself\u001b[0m\u001b[0;34m.\u001b[0m\u001b[0m_function_cache\u001b[0m\u001b[0;34m.\u001b[0m\u001b[0mprimary\u001b[0m\u001b[0;34m[\u001b[0m\u001b[0mcache_key\u001b[0m\u001b[0;34m]\u001b[0m \u001b[0;34m=\u001b[0m \u001b[0mgraph_function\u001b[0m\u001b[0;34m\u001b[0m\u001b[0;34m\u001b[0m\u001b[0m\n\u001b[1;32m   3215\u001b[0m       \u001b[0;32mreturn\u001b[0m \u001b[0mgraph_function\u001b[0m\u001b[0;34m,\u001b[0m \u001b[0margs\u001b[0m\u001b[0;34m,\u001b[0m \u001b[0mkwargs\u001b[0m\u001b[0;34m\u001b[0m\u001b[0;34m\u001b[0m\u001b[0m\n",
      "\u001b[0;32m~/anaconda3/envs/spylind/lib/python3.8/site-packages/tensorflow/python/eager/function.py\u001b[0m in \u001b[0;36m_create_graph_function\u001b[0;34m(self, args, kwargs, override_flat_arg_shapes)\u001b[0m\n\u001b[1;32m   3063\u001b[0m     \u001b[0marg_names\u001b[0m \u001b[0;34m=\u001b[0m \u001b[0mbase_arg_names\u001b[0m \u001b[0;34m+\u001b[0m \u001b[0mmissing_arg_names\u001b[0m\u001b[0;34m\u001b[0m\u001b[0;34m\u001b[0m\u001b[0m\n\u001b[1;32m   3064\u001b[0m     graph_function = ConcreteFunction(\n\u001b[0;32m-> 3065\u001b[0;31m         func_graph_module.func_graph_from_py_func(\n\u001b[0m\u001b[1;32m   3066\u001b[0m             \u001b[0mself\u001b[0m\u001b[0;34m.\u001b[0m\u001b[0m_name\u001b[0m\u001b[0;34m,\u001b[0m\u001b[0;34m\u001b[0m\u001b[0;34m\u001b[0m\u001b[0m\n\u001b[1;32m   3067\u001b[0m             \u001b[0mself\u001b[0m\u001b[0;34m.\u001b[0m\u001b[0m_python_function\u001b[0m\u001b[0;34m,\u001b[0m\u001b[0;34m\u001b[0m\u001b[0;34m\u001b[0m\u001b[0m\n",
      "\u001b[0;32m~/anaconda3/envs/spylind/lib/python3.8/site-packages/tensorflow/python/framework/func_graph.py\u001b[0m in \u001b[0;36mfunc_graph_from_py_func\u001b[0;34m(name, python_func, args, kwargs, signature, func_graph, autograph, autograph_options, add_control_dependencies, arg_names, op_return_value, collections, capture_by_value, override_flat_arg_shapes)\u001b[0m\n\u001b[1;32m    984\u001b[0m         \u001b[0m_\u001b[0m\u001b[0;34m,\u001b[0m \u001b[0moriginal_func\u001b[0m \u001b[0;34m=\u001b[0m \u001b[0mtf_decorator\u001b[0m\u001b[0;34m.\u001b[0m\u001b[0munwrap\u001b[0m\u001b[0;34m(\u001b[0m\u001b[0mpython_func\u001b[0m\u001b[0;34m)\u001b[0m\u001b[0;34m\u001b[0m\u001b[0;34m\u001b[0m\u001b[0m\n\u001b[1;32m    985\u001b[0m \u001b[0;34m\u001b[0m\u001b[0m\n\u001b[0;32m--> 986\u001b[0;31m       \u001b[0mfunc_outputs\u001b[0m \u001b[0;34m=\u001b[0m \u001b[0mpython_func\u001b[0m\u001b[0;34m(\u001b[0m\u001b[0;34m*\u001b[0m\u001b[0mfunc_args\u001b[0m\u001b[0;34m,\u001b[0m \u001b[0;34m**\u001b[0m\u001b[0mfunc_kwargs\u001b[0m\u001b[0;34m)\u001b[0m\u001b[0;34m\u001b[0m\u001b[0;34m\u001b[0m\u001b[0m\n\u001b[0m\u001b[1;32m    987\u001b[0m \u001b[0;34m\u001b[0m\u001b[0m\n\u001b[1;32m    988\u001b[0m       \u001b[0;31m# invariant: `func_outputs` contains only Tensors, CompositeTensors,\u001b[0m\u001b[0;34m\u001b[0m\u001b[0;34m\u001b[0m\u001b[0;34m\u001b[0m\u001b[0m\n",
      "\u001b[0;32m~/anaconda3/envs/spylind/lib/python3.8/site-packages/tensorflow/python/eager/def_function.py\u001b[0m in \u001b[0;36mwrapped_fn\u001b[0;34m(*args, **kwds)\u001b[0m\n\u001b[1;32m    598\u001b[0m         \u001b[0;31m# __wrapped__ allows AutoGraph to swap in a converted function. We give\u001b[0m\u001b[0;34m\u001b[0m\u001b[0;34m\u001b[0m\u001b[0;34m\u001b[0m\u001b[0m\n\u001b[1;32m    599\u001b[0m         \u001b[0;31m# the function a weak reference to itself to avoid a reference cycle.\u001b[0m\u001b[0;34m\u001b[0m\u001b[0;34m\u001b[0m\u001b[0;34m\u001b[0m\u001b[0m\n\u001b[0;32m--> 600\u001b[0;31m         \u001b[0;32mreturn\u001b[0m \u001b[0mweak_wrapped_fn\u001b[0m\u001b[0;34m(\u001b[0m\u001b[0;34m)\u001b[0m\u001b[0;34m.\u001b[0m\u001b[0m__wrapped__\u001b[0m\u001b[0;34m(\u001b[0m\u001b[0;34m*\u001b[0m\u001b[0margs\u001b[0m\u001b[0;34m,\u001b[0m \u001b[0;34m**\u001b[0m\u001b[0mkwds\u001b[0m\u001b[0;34m)\u001b[0m\u001b[0;34m\u001b[0m\u001b[0;34m\u001b[0m\u001b[0m\n\u001b[0m\u001b[1;32m    601\u001b[0m     \u001b[0mweak_wrapped_fn\u001b[0m \u001b[0;34m=\u001b[0m \u001b[0mweakref\u001b[0m\u001b[0;34m.\u001b[0m\u001b[0mref\u001b[0m\u001b[0;34m(\u001b[0m\u001b[0mwrapped_fn\u001b[0m\u001b[0;34m)\u001b[0m\u001b[0;34m\u001b[0m\u001b[0;34m\u001b[0m\u001b[0m\n\u001b[1;32m    602\u001b[0m \u001b[0;34m\u001b[0m\u001b[0m\n",
      "\u001b[0;32m~/anaconda3/envs/spylind/lib/python3.8/site-packages/tensorflow/python/framework/func_graph.py\u001b[0m in \u001b[0;36mwrapper\u001b[0;34m(*args, **kwargs)\u001b[0m\n\u001b[1;32m    971\u001b[0m           \u001b[0;32mexcept\u001b[0m \u001b[0mException\u001b[0m \u001b[0;32mas\u001b[0m \u001b[0me\u001b[0m\u001b[0;34m:\u001b[0m  \u001b[0;31m# pylint:disable=broad-except\u001b[0m\u001b[0;34m\u001b[0m\u001b[0;34m\u001b[0m\u001b[0m\n\u001b[1;32m    972\u001b[0m             \u001b[0;32mif\u001b[0m \u001b[0mhasattr\u001b[0m\u001b[0;34m(\u001b[0m\u001b[0me\u001b[0m\u001b[0;34m,\u001b[0m \u001b[0;34m\"ag_error_metadata\"\u001b[0m\u001b[0;34m)\u001b[0m\u001b[0;34m:\u001b[0m\u001b[0;34m\u001b[0m\u001b[0;34m\u001b[0m\u001b[0m\n\u001b[0;32m--> 973\u001b[0;31m               \u001b[0;32mraise\u001b[0m \u001b[0me\u001b[0m\u001b[0;34m.\u001b[0m\u001b[0mag_error_metadata\u001b[0m\u001b[0;34m.\u001b[0m\u001b[0mto_exception\u001b[0m\u001b[0;34m(\u001b[0m\u001b[0me\u001b[0m\u001b[0;34m)\u001b[0m\u001b[0;34m\u001b[0m\u001b[0;34m\u001b[0m\u001b[0m\n\u001b[0m\u001b[1;32m    974\u001b[0m             \u001b[0;32melse\u001b[0m\u001b[0;34m:\u001b[0m\u001b[0;34m\u001b[0m\u001b[0;34m\u001b[0m\u001b[0m\n\u001b[1;32m    975\u001b[0m               \u001b[0;32mraise\u001b[0m\u001b[0;34m\u001b[0m\u001b[0;34m\u001b[0m\u001b[0m\n",
      "\u001b[0;31mOperatorNotAllowedInGraphError\u001b[0m: in user code:\n\n    <ipython-input-31-fe7823acb44b>:10 run  *\n        sol = odeint(ode, z0, tspan, method='rk4')\n    /home/morgan/sd_base/home_dir/git/tfdiffeq/tfdiffeq/odeint.py:79 odeint  *\n        solution = solver.integrate(t)\n    /home/morgan/sd_base/home_dir/git/tfdiffeq/tfdiffeq/solvers.py:95 integrate  *\n        for t0, t1 in zip(time_grid[:-1], time_grid[1:]):\n    /home/morgan/anaconda3/envs/spylind/lib/python3.8/site-packages/tensorflow/python/autograph/operators/py_builtins.py:402 zip_  **\n        return _py_zip(*iterables)\n    /home/morgan/anaconda3/envs/spylind/lib/python3.8/site-packages/tensorflow/python/autograph/operators/py_builtins.py:410 _py_zip\n        return zip(*iterables)\n    /home/morgan/anaconda3/envs/spylind/lib/python3.8/site-packages/tensorflow/python/framework/ops.py:503 __iter__\n        self._disallow_iteration()\n    /home/morgan/anaconda3/envs/spylind/lib/python3.8/site-packages/tensorflow/python/framework/ops.py:496 _disallow_iteration\n        self._disallow_when_autograph_enabled(\"iterating over `tf.Tensor`\")\n    /home/morgan/anaconda3/envs/spylind/lib/python3.8/site-packages/tensorflow/python/framework/ops.py:472 _disallow_when_autograph_enabled\n        raise errors.OperatorNotAllowedInGraphError(\n\n    OperatorNotAllowedInGraphError: iterating over `tf.Tensor` is not allowed: AutoGraph did convert this function. This might indicate you are trying to use an unsupported feature.\n"
     ]
    }
   ],
   "source": [
    "run2(z0, tspan)"
   ]
  },
  {
   "cell_type": "code",
   "execution_count": null,
   "metadata": {},
   "outputs": [],
   "source": []
  },
  {
   "cell_type": "code",
   "execution_count": 3,
   "metadata": {},
   "outputs": [
    {
     "ename": "TypeError",
     "evalue": "__init__() missing 1 required positional argument: 'f'",
     "output_type": "error",
     "traceback": [
      "\u001b[0;31m---------------------------------------------------------------------------\u001b[0m",
      "\u001b[0;31mTypeError\u001b[0m                                 Traceback (most recent call last)",
      "\u001b[0;32m<ipython-input-3-d4f43672c95d>\u001b[0m in \u001b[0;36m<module>\u001b[0;34m\u001b[0m\n\u001b[1;32m      2\u001b[0m     \u001b[0;32mwith\u001b[0m \u001b[0mtf\u001b[0m\u001b[0;34m.\u001b[0m\u001b[0mGradientTape\u001b[0m\u001b[0;34m(\u001b[0m\u001b[0;34m)\u001b[0m \u001b[0;32mas\u001b[0m \u001b[0mg\u001b[0m\u001b[0;34m:\u001b[0m\u001b[0;34m\u001b[0m\u001b[0;34m\u001b[0m\u001b[0m\n\u001b[1;32m      3\u001b[0m         \u001b[0mg\u001b[0m\u001b[0;34m.\u001b[0m\u001b[0mwatch\u001b[0m\u001b[0;34m(\u001b[0m\u001b[0mp0\u001b[0m\u001b[0;34m)\u001b[0m\u001b[0;34m\u001b[0m\u001b[0;34m\u001b[0m\u001b[0m\n\u001b[0;32m----> 4\u001b[0;31m         \u001b[0mode\u001b[0m \u001b[0;34m=\u001b[0m \u001b[0mLambda\u001b[0m\u001b[0;34m(\u001b[0m\u001b[0mp0\u001b[0m\u001b[0;34m)\u001b[0m\u001b[0;34m\u001b[0m\u001b[0;34m\u001b[0m\u001b[0m\n\u001b[0m\u001b[1;32m      5\u001b[0m \u001b[0;34m\u001b[0m\u001b[0m\n\u001b[1;32m      6\u001b[0m         \u001b[0;31m#g.watch(z0)\u001b[0m\u001b[0;34m\u001b[0m\u001b[0;34m\u001b[0m\u001b[0;34m\u001b[0m\u001b[0m\n",
      "\u001b[0;31mTypeError\u001b[0m: __init__() missing 1 required positional argument: 'f'"
     ]
    }
   ],
   "source": [
    "\n",
    "    \n",
    "with tf.device(\"/cpu:0\"):\n",
    "    with tf.GradientTape() as g:\n",
    "        g.watch(p0)\n",
    "        ode = Lambda(p0)\n",
    "\n",
    "        #g.watch(z0)\n",
    "        \n",
    "        #tspan = tf.linspace(0.0, 2, 1000)\n",
    "        #tspan =td.cast_double(tspan)\n",
    "        #ol = C( z0)\n",
    "        %time sol = odeint(ode, z0, tspan, method='adams')\n",
    "        #sol = odeint(f, z0, tspan)\n",
    "        L = tf.reduce_sum(sol[-1])\n"
   ]
  },
  {
   "cell_type": "code",
   "execution_count": null,
   "metadata": {},
   "outputs": [],
   "source": [
    "ode.val"
   ]
  },
  {
   "cell_type": "code",
   "execution_count": 79,
   "metadata": {},
   "outputs": [
    {
     "data": {
      "text/plain": [
       "<tf.Tensor: shape=(), dtype=float64, numpy=37932.76585269482>"
      ]
     },
     "execution_count": 79,
     "metadata": {},
     "output_type": "execute_result"
    }
   ],
   "source": [
    "L"
   ]
  },
  {
   "cell_type": "code",
   "execution_count": 82,
   "metadata": {},
   "outputs": [
    {
     "name": "stdout",
     "output_type": "stream",
     "text": [
      "CPU times: user 2.67 s, sys: 64.8 ms, total: 2.73 s\n",
      "Wall time: 2.51 s\n"
     ]
    }
   ],
   "source": [
    "%time dsol_dz = g.gradient(L, p0)"
   ]
  },
  {
   "cell_type": "code",
   "execution_count": 80,
   "metadata": {},
   "outputs": [
    {
     "data": {
      "text/plain": [
       "[<matplotlib.lines.Line2D at 0x7f3cc3e47b00>,\n",
       " <matplotlib.lines.Line2D at 0x7f3cc3e47c18>,\n",
       " <matplotlib.lines.Line2D at 0x7f3cc3e47d68>,\n",
       " <matplotlib.lines.Line2D at 0x7f3cc3e47eb8>,\n",
       " <matplotlib.lines.Line2D at 0x7f3cc3e47fd0>,\n",
       " <matplotlib.lines.Line2D at 0x7f3cc3e4f198>,\n",
       " <matplotlib.lines.Line2D at 0x7f3cc3e4f2e8>,\n",
       " <matplotlib.lines.Line2D at 0x7f3cc3e4f438>,\n",
       " <matplotlib.lines.Line2D at 0x7f3cc3e4f588>,\n",
       " <matplotlib.lines.Line2D at 0x7f3cc3e4f6d8>,\n",
       " <matplotlib.lines.Line2D at 0x7f3cd8d28780>,\n",
       " <matplotlib.lines.Line2D at 0x7f3cc3e4f940>,\n",
       " <matplotlib.lines.Line2D at 0x7f3cc3e4fa90>,\n",
       " <matplotlib.lines.Line2D at 0x7f3cc3e4fbe0>,\n",
       " <matplotlib.lines.Line2D at 0x7f3cc3e4fd30>,\n",
       " <matplotlib.lines.Line2D at 0x7f3cc3e4fe80>,\n",
       " <matplotlib.lines.Line2D at 0x7f3cc3e4ffd0>,\n",
       " <matplotlib.lines.Line2D at 0x7f3cc3e54160>,\n",
       " <matplotlib.lines.Line2D at 0x7f3cc3e542b0>,\n",
       " <matplotlib.lines.Line2D at 0x7f3cc3e54400>,\n",
       " <matplotlib.lines.Line2D at 0x7f3cc3e54550>,\n",
       " <matplotlib.lines.Line2D at 0x7f3cc3e546a0>,\n",
       " <matplotlib.lines.Line2D at 0x7f3cc3e547f0>,\n",
       " <matplotlib.lines.Line2D at 0x7f3cc3e54940>,\n",
       " <matplotlib.lines.Line2D at 0x7f3cc3e54a90>,\n",
       " <matplotlib.lines.Line2D at 0x7f3cc3e54be0>,\n",
       " <matplotlib.lines.Line2D at 0x7f3cc3e54d30>,\n",
       " <matplotlib.lines.Line2D at 0x7f3cc3e54e80>,\n",
       " <matplotlib.lines.Line2D at 0x7f3cc3e54fd0>,\n",
       " <matplotlib.lines.Line2D at 0x7f3cc3e58160>,\n",
       " <matplotlib.lines.Line2D at 0x7f3cc3e582b0>,\n",
       " <matplotlib.lines.Line2D at 0x7f3cc3e58400>,\n",
       " <matplotlib.lines.Line2D at 0x7f3cc3e58550>,\n",
       " <matplotlib.lines.Line2D at 0x7f3cc3e586a0>]"
      ]
     },
     "execution_count": 80,
     "metadata": {},
     "output_type": "execute_result"
    },
    {
     "data": {
      "image/png": "[encoded data removed]",
      "text/plain": [
       "<Figure size 432x288 with 1 Axes>"
      ]
     },
     "metadata": {
      "needs_background": "light"
     },
     "output_type": "display_data"
    }
   ],
   "source": [
    "pl.plot(sol[:,::30])"
   ]
  },
  {
   "cell_type": "code",
   "execution_count": 76,
   "metadata": {},
   "outputs": [
    {
     "data": {
      "text/plain": [
       "[<matplotlib.lines.Line2D at 0x7f3d34649a90>,\n",
       " <matplotlib.lines.Line2D at 0x7f3d34649898>,\n",
       " <matplotlib.lines.Line2D at 0x7f3d34649e80>,\n",
       " <matplotlib.lines.Line2D at 0x7f3d346497f0>,\n",
       " <matplotlib.lines.Line2D at 0x7f3d441c37b8>,\n",
       " <matplotlib.lines.Line2D at 0x7f3d441c35c0>,\n",
       " <matplotlib.lines.Line2D at 0x7f3d441c3748>,\n",
       " <matplotlib.lines.Line2D at 0x7f3d441c38d0>,\n",
       " <matplotlib.lines.Line2D at 0x7f3d343b7e48>,\n",
       " <matplotlib.lines.Line2D at 0x7f3d344dce48>,\n",
       " <matplotlib.lines.Line2D at 0x7f3cd88bf400>,\n",
       " <matplotlib.lines.Line2D at 0x7f3d344dcc88>,\n",
       " <matplotlib.lines.Line2D at 0x7f3d341b34e0>,\n",
       " <matplotlib.lines.Line2D at 0x7f3d341b3fd0>,\n",
       " <matplotlib.lines.Line2D at 0x7f3d341b3240>,\n",
       " <matplotlib.lines.Line2D at 0x7f3d341b3da0>,\n",
       " <matplotlib.lines.Line2D at 0x7f3d341b3940>,\n",
       " <matplotlib.lines.Line2D at 0x7f3d341b3358>,\n",
       " <matplotlib.lines.Line2D at 0x7f3d341b39e8>,\n",
       " <matplotlib.lines.Line2D at 0x7f3d341b3898>,\n",
       " <matplotlib.lines.Line2D at 0x7f3d341b3748>,\n",
       " <matplotlib.lines.Line2D at 0x7f3d341b36a0>,\n",
       " <matplotlib.lines.Line2D at 0x7f3d341b3438>,\n",
       " <matplotlib.lines.Line2D at 0x7f3d341b3470>,\n",
       " <matplotlib.lines.Line2D at 0x7f3d34217a58>,\n",
       " <matplotlib.lines.Line2D at 0x7f3d342175f8>,\n",
       " <matplotlib.lines.Line2D at 0x7f3d34217ef0>,\n",
       " <matplotlib.lines.Line2D at 0x7f3d34217358>,\n",
       " <matplotlib.lines.Line2D at 0x7f3d34217160>,\n",
       " <matplotlib.lines.Line2D at 0x7f3d34217f60>,\n",
       " <matplotlib.lines.Line2D at 0x7f3d34217fd0>,\n",
       " <matplotlib.lines.Line2D at 0x7f3d34217d68>,\n",
       " <matplotlib.lines.Line2D at 0x7f3d34217be0>,\n",
       " <matplotlib.lines.Line2D at 0x7f3d342177b8>]"
      ]
     },
     "execution_count": 76,
     "metadata": {},
     "output_type": "execute_result"
    },
    {
     "data": {
      "image/png": "[encoded data removed]",
      "text/plain": [
       "<Figure size 432x288 with 1 Axes>"
      ]
     },
     "metadata": {
      "needs_background": "light"
     },
     "output_type": "display_data"
    }
   ],
   "source": [
    "pl.plot(sol[:,::30])"
   ]
  },
  {
   "cell_type": "code",
   "execution_count": 69,
   "metadata": {},
   "outputs": [],
   "source": [
    "#pl.plot(sol)"
   ]
  },
  {
   "cell_type": "code",
   "execution_count": 83,
   "metadata": {},
   "outputs": [
    {
     "data": {
      "text/plain": [
       "<tf.Tensor: shape=(1000,), dtype=float64, numpy=\n",
       "array([ 0.00000000e+00,  7.34075084e+03,  8.58407524e+04,  3.30432847e+05,\n",
       "        8.18119238e+05,  1.60137469e+06,  2.71170689e+06,  4.16399596e+06,\n",
       "        5.95996869e+06,  8.09075296e+06,  1.05387291e+07,  1.32788861e+07,\n",
       "        1.62798363e+07,  1.95045950e+07,  2.29111975e+07,  2.64532001e+07,\n",
       "        3.00801001e+07,  3.37376967e+07,  3.73684074e+07,  4.09115525e+07,\n",
       "        4.43036147e+07,  4.74784791e+07,  5.03676588e+07,  5.29005076e+07,\n",
       "        5.50044235e+07,  5.66050436e+07,  5.76264322e+07,  5.79912625e+07,\n",
       "        5.76209939e+07,  5.64360431e+07,  5.43559521e+07,  5.12995517e+07,\n",
       "        4.71851212e+07,  4.19305447e+07,  3.54534637e+07,  2.76714270e+07,\n",
       "        1.85020363e+07,  7.86309018e+06, -4.32727653e+06, -1.81504553e+07,\n",
       "       -3.36872300e+07, -5.10176461e+07, -7.02208823e+07, -9.13751251e+07,\n",
       "       -1.14557448e+08, -1.39843691e+08, -1.67308346e+08, -1.97024440e+08,\n",
       "       -2.29063429e+08, -2.63495089e+08, -3.00387412e+08, -3.39806502e+08,\n",
       "       -3.81816483e+08, -4.26479393e+08, -4.73855104e+08, -5.24001223e+08,\n",
       "       -5.76973011e+08, -6.32823293e+08, -6.91602388e+08, -7.53358021e+08,\n",
       "       -8.18135253e+08, -8.85976413e+08, -9.56921019e+08, -1.03100572e+09,\n",
       "       -1.10826425e+09, -1.18872731e+09, -1.27242261e+09, -1.35937469e+09,\n",
       "       -1.44960500e+09, -1.54313174e+09, -1.63996989e+09, -1.74013114e+09,\n",
       "       -1.84362384e+09, -1.95045298e+09, -2.06062018e+09, -2.17412359e+09,\n",
       "       -2.29095793e+09, -2.41111445e+09, -2.53458086e+09, -2.66134139e+09,\n",
       "       -2.79137673e+09, -2.92466399e+09, -3.06117676e+09, -3.20088502e+09,\n",
       "       -3.34375523e+09, -3.48975020e+09, -3.63882925e+09, -3.79094806e+09,\n",
       "       -3.94605878e+09, -4.10410999e+09, -4.26504672e+09, -4.42881046e+09,\n",
       "       -4.59533920e+09, -4.76456740e+09, -4.93642608e+09, -5.11084278e+09,\n",
       "       -5.28774158e+09, -5.46704326e+09, -5.64866509e+09, -5.83252110e+09,\n",
       "       -6.01852196e+09, -6.20657519e+09, -6.39658486e+09, -6.58845207e+09,\n",
       "       -6.78207466e+09, -6.97734746e+09, -7.17416216e+09, -7.37240755e+09,\n",
       "       -7.57196933e+09, -7.77273055e+09, -7.97457111e+09, -8.17736851e+09,\n",
       "       -8.38099712e+09, -8.58532908e+09, -8.79023359e+09, -8.99557754e+09,\n",
       "       -9.20122521e+09, -9.40703869e+09, -9.61287755e+09, -9.81859925e+09,\n",
       "       -1.00240589e+10, -1.02291099e+10, -1.04336032e+10, -1.06373881e+10,\n",
       "       -1.08403118e+10, -1.10422196e+10, -1.12429559e+10, -1.14423627e+10,\n",
       "       -1.16402804e+10, -1.18365488e+10, -1.20310053e+10, -1.22234864e+10,\n",
       "       -1.24138283e+10, -1.26018647e+10, -1.27874290e+10, -1.29703535e+10,\n",
       "       -1.31504703e+10, -1.33276098e+10, -1.35016024e+10, -1.36722779e+10,\n",
       "       -1.38394659e+10, -1.40029944e+10, -1.41626926e+10, -1.43183892e+10,\n",
       "       -1.44699121e+10, -1.46170905e+10, -1.47597526e+10, -1.48977269e+10,\n",
       "       -1.50308433e+10, -1.51589313e+10, -1.52818208e+10, -1.53993424e+10,\n",
       "       -1.55113283e+10, -1.56176104e+10, -1.57180220e+10, -1.58123976e+10,\n",
       "       -1.59005725e+10, -1.59823829e+10, -1.60576672e+10, -1.61262655e+10,\n",
       "       -1.61880169e+10, -1.62427659e+10, -1.62903554e+10, -1.63306318e+10,\n",
       "       -1.63634431e+10, -1.63886395e+10, -1.64060719e+10, -1.64155962e+10,\n",
       "       -1.64170674e+10, -1.64103453e+10, -1.63952900e+10, -1.63717668e+10,\n",
       "       -1.63396409e+10, -1.62987815e+10, -1.62490627e+10, -1.61903575e+10,\n",
       "       -1.61225435e+10, -1.60455027e+10, -1.59591194e+10, -1.58632802e+10,\n",
       "       -1.57578756e+10, -1.56428008e+10, -1.55179534e+10, -1.53832334e+10,\n",
       "       -1.52385450e+10, -1.50837990e+10, -1.49189059e+10, -1.47437822e+10,\n",
       "       -1.45583471e+10, -1.43625274e+10, -1.41562476e+10, -1.39394415e+10,\n",
       "       -1.37120451e+10, -1.34739996e+10, -1.32252490e+10, -1.29657425e+10,\n",
       "       -1.26954335e+10, -1.24142808e+10, -1.21222477e+10, -1.18193002e+10,\n",
       "       -1.15054104e+10, -1.11805539e+10, -1.08447131e+10, -1.04978721e+10,\n",
       "       -1.01400239e+10, -9.77116237e+09, -9.39128978e+09, -9.00040890e+09,\n",
       "       -8.59853162e+09, -8.18567206e+09, -7.76184998e+09, -7.32709317e+09,\n",
       "       -6.88142806e+09, -6.42489438e+09, -5.95752800e+09, -5.47937563e+09,\n",
       "       -4.99048906e+09, -4.49092502e+09, -3.98073973e+09, -3.46000171e+09,\n",
       "       -2.92878328e+09, -2.38715986e+09, -1.83520992e+09, -1.27302590e+09,\n",
       "       -7.00691744e+08, -1.18308544e+08,  4.74020640e+08,  1.07618958e+09,\n",
       "        1.68809238e+09,  2.30960197e+09,  2.94060370e+09,  3.58096690e+09,\n",
       "        4.23056235e+09,  4.88924880e+09,  5.55688854e+09,  6.23333027e+09,\n",
       "        6.91842619e+09,  7.61201642e+09,  8.31394035e+09,  9.02403270e+09,\n",
       "        9.74211805e+09,  1.04680279e+10,  1.12015764e+10,  1.19425796e+10,\n",
       "        1.26908499e+10,  1.34461896e+10,  1.42084031e+10,  1.49772856e+10,\n",
       "        1.57526335e+10,  1.65342302e+10,  1.73218677e+10,  1.81153143e+10,\n",
       "        1.89143557e+10,  1.97187674e+10,  2.05283100e+10,  2.13427449e+10,\n",
       "        2.21618408e+10,  2.29853584e+10,  2.38130405e+10,  2.46446441e+10,\n",
       "        2.54799137e+10,  2.63185917e+10,  2.71604197e+10,  2.80051337e+10,\n",
       "        2.88524768e+10,  2.97021665e+10,  3.05539375e+10,  3.14075117e+10,\n",
       "        3.22626187e+10,  3.31189732e+10,  3.39762950e+10,  3.48343036e+10,\n",
       "        3.56927035e+10,  3.65512131e+10,  3.74095387e+10,  3.82673917e+10,\n",
       "        3.91244802e+10,  3.99804910e+10,  4.08351456e+10,  4.16881398e+10,\n",
       "        4.25391698e+10,  4.33879378e+10,  4.42341420e+10,  4.50774774e+10,\n",
       "        4.59176366e+10,  4.67543193e+10,  4.75872285e+10,  4.84160388e+10,\n",
       "        4.92404634e+10,  5.00601886e+10,  5.08749053e+10,  5.16843120e+10,\n",
       "        5.24881038e+10,  5.32859752e+10,  5.40776218e+10,  5.48627344e+10,\n",
       "        5.56410168e+10,  5.64121672e+10,  5.71758780e+10,  5.79318557e+10,\n",
       "        5.86797969e+10,  5.94194113e+10,  6.01503964e+10,  6.08724650e+10,\n",
       "        6.15853236e+10,  6.22886821e+10,  6.29822479e+10,  6.36657514e+10,\n",
       "        6.43388927e+10,  6.50014067e+10,  6.56530085e+10,  6.62934206e+10,\n",
       "        6.69223839e+10,  6.75396191e+10,  6.81448688e+10,  6.87378711e+10,\n",
       "        6.93183661e+10,  6.98861068e+10,  7.04408336e+10,  7.09823091e+10,\n",
       "        7.15102853e+10,  7.20245341e+10,  7.25248144e+10,  7.30109032e+10,\n",
       "        7.34825751e+10,  7.39396127e+10,  7.43818037e+10,  7.48089364e+10,\n",
       "        7.52208064e+10,  7.56172224e+10,  7.59979884e+10,  7.63629150e+10,\n",
       "        7.67118293e+10,  7.70445464e+10,  7.73609035e+10,  7.76607351e+10,\n",
       "        7.79438881e+10,  7.82102088e+10,  7.84595526e+10,  7.86917841e+10,\n",
       "        7.89067739e+10,  7.91043942e+10,  7.92845331e+10,  7.94470763e+10,\n",
       "        7.95919198e+10,  7.97189764e+10,  7.98281460e+10,  7.99193580e+10,\n",
       "        7.99925335e+10,  8.00476055e+10,  8.00845181e+10,  8.01032195e+10,\n",
       "        8.01036683e+10,  8.00858323e+10,  8.00496825e+10,  7.99951934e+10,\n",
       "        7.99223631e+10,  7.98311913e+10,  7.97216742e+10,  7.95938366e+10,\n",
       "        7.94476904e+10,  7.92832755e+10,  7.91006263e+10,  7.88997937e+10,\n",
       "        7.86808314e+10,  7.84438120e+10,  7.81888012e+10,  7.79158841e+10,\n",
       "        7.76251529e+10,  7.73167103e+10,  7.69906611e+10,  7.66471282e+10,\n",
       "        7.62862317e+10,  7.59081114e+10,  7.55129088e+10,  7.51007815e+10,\n",
       "        7.46718854e+10,  7.42263982e+10,  7.37644922e+10,  7.32863623e+10,\n",
       "        7.27922017e+10,  7.22822154e+10,  7.17566199e+10,  7.12156389e+10,\n",
       "        7.06595044e+10,  7.00884539e+10,  6.95027385e+10,  6.89026142e+10,\n",
       "        6.82883497e+10,  6.76602171e+10,  6.70184974e+10,  6.63634835e+10,\n",
       "        6.56954717e+10,  6.50147719e+10,  6.43216967e+10,  6.36165699e+10,\n",
       "        6.28997191e+10,  6.21714835e+10,  6.14322089e+10,  6.06822460e+10,\n",
       "        5.99219552e+10,  5.91517051e+10,  5.83718657e+10,  5.75828204e+10,\n",
       "        5.67849548e+10,  5.59786628e+10,  5.51643431e+10,  5.43424030e+10,\n",
       "        5.35132528e+10,  5.26773090e+10,  5.18349970e+10,  5.09867434e+10,\n",
       "        5.01329812e+10,  4.92741471e+10,  4.84106856e+10,  4.75430417e+10,\n",
       "        4.66716678e+10,  4.57970179e+10,  4.49195511e+10,  4.40397276e+10,\n",
       "        4.31580114e+10,  4.22748723e+10,  4.13907789e+10,  4.05062015e+10,\n",
       "        3.96216159e+10,  3.87374956e+10,  3.78543172e+10,  3.69725579e+10,\n",
       "        3.60926947e+10,  3.52152052e+10,  3.43405658e+10,  3.34692534e+10,\n",
       "        3.26017431e+10,  3.17385087e+10,  3.08800214e+10,  3.00267506e+10,\n",
       "        2.91791638e+10,  2.83377234e+10,  2.75028891e+10,  2.66751169e+10,\n",
       "        2.58548572e+10,  2.50425555e+10,  2.42386521e+10,  2.34435809e+10,\n",
       "        2.26577686e+10,  2.18816357e+10,  2.11155940e+10,  2.03600472e+10,\n",
       "        1.96153904e+10,  1.88820090e+10,  1.81602780e+10,  1.74505622e+10,\n",
       "        1.67532146e+10,  1.60685766e+10,  1.53969767e+10,  1.47387301e+10,\n",
       "        1.40941383e+10,  1.34634875e+10,  1.28470493e+10,  1.22450785e+10,\n",
       "        1.16578136e+10,  1.10854749e+10,  1.05282649e+10,  9.98636666e+09,\n",
       "        9.45994328e+09,  8.94913705e+09,  8.45406877e+09,  7.97483671e+09,\n",
       "        7.51151584e+09,  7.06415701e+09,  6.63278578e+09,  6.21740196e+09,\n",
       "        5.81797816e+09,  5.43445926e+09,  5.06676125e+09,  4.71477024e+09,\n",
       "        4.37834152e+09,  4.05729844e+09,  3.75143156e+09,  3.46049731e+09,\n",
       "        3.18421718e+09,  2.92227642e+09,  2.67432300e+09,  2.43996648e+09,\n",
       "        2.21877685e+09,  2.01028327e+09,  1.81397294e+09,  1.62928984e+09,\n",
       "        1.45563349e+09,  1.29235767e+09,  1.13876911e+09,  9.94126190e+08,\n",
       "        8.57637606e+08,  7.28460965e+08,  6.05701421e+08,  4.88410247e+08,\n",
       "        3.75583394e+08,  2.66160023e+08,  1.59021008e+08,  5.29874172e+07,\n",
       "       -5.31810401e+07, -1.60787585e+08, -2.71199977e+08, -3.85852144e+08,\n",
       "       -5.06245845e+08, -6.33952362e+08, -7.70614221e+08, -9.17946940e+08,\n",
       "       -1.07774082e+09, -1.25186274e+09, -1.44225804e+09, -1.65095236e+09,\n",
       "       -1.88005356e+09, -2.13175370e+09, -2.40833095e+09, -2.71215172e+09,\n",
       "       -3.04567258e+09, -3.41144241e+09, -3.81210454e+09, -4.25039888e+09,\n",
       "       -4.72916416e+09, -5.25134011e+09, -5.81996978e+09, -6.43820178e+09,\n",
       "       -7.10929287e+09, -7.83660996e+09, -8.62363308e+09, -9.47395736e+09,\n",
       "       -1.03912959e+10, -1.13794822e+10, -1.24424725e+10, -1.35843495e+10,\n",
       "       -1.48093235e+10, -1.61217366e+10, -1.75260651e+10, -1.90269211e+10,\n",
       "       -2.06290577e+10, -2.23373697e+10, -2.41568997e+10, -2.60928356e+10,\n",
       "       -2.81505215e+10, -3.03354536e+10, -3.26532879e+10, -3.51098422e+10,\n",
       "       -3.77110989e+10, -4.04632092e+10, -4.33724960e+10, -4.64454598e+10,\n",
       "       -4.96887767e+10, -5.31093090e+10, -5.67141038e+10, -6.05103988e+10,\n",
       "       -6.45056279e+10, -6.87074225e+10, -7.31236138e+10, -7.77622448e+10,\n",
       "       -8.26315627e+10, -8.77400371e+10, -9.30963473e+10, -9.87094085e+10,\n",
       "       -1.04588355e+11, -1.10742562e+11, -1.17181628e+11, -1.23915408e+11,\n",
       "       -1.30953996e+11, -1.38307754e+11, -1.45987268e+11, -1.54003428e+11,\n",
       "       -1.62367360e+11, -1.71090487e+11, -1.80184476e+11, -1.89661323e+11,\n",
       "       -1.99533277e+11, -2.09812897e+11, -2.20513052e+11, -2.31646907e+11,\n",
       "       -2.43227944e+11, -2.55269957e+11, -2.67787076e+11, -2.80793764e+11,\n",
       "       -2.94304836e+11, -3.08335420e+11, -3.22901016e+11, -3.38017512e+11,\n",
       "       -3.53701096e+11, -3.69968403e+11, -3.86836409e+11, -4.04322481e+11,\n",
       "       -4.22444408e+11, -4.41220337e+11, -4.60668908e+11, -4.80809121e+11,\n",
       "       -5.01660407e+11, -5.23242684e+11, -5.45576246e+11, -5.68681901e+11,\n",
       "       -5.92580935e+11, -6.17295082e+11, -6.42846535e+11, -6.69257999e+11,\n",
       "       -6.96552747e+11, -7.24754489e+11, -7.53887508e+11, -7.83976568e+11,\n",
       "       -8.15047054e+11, -8.47124884e+11, -8.80236515e+11, -9.14409010e+11,\n",
       "       -9.49670055e+11, -9.86047918e+11, -1.02357145e+12, -1.06227019e+12,\n",
       "       -1.10217428e+12, -1.14331459e+12, -1.18572259e+12, -1.22943038e+12,\n",
       "       -1.27447096e+12, -1.32087787e+12, -1.36868548e+12, -1.41792877e+12,\n",
       "       -1.46864373e+12, -1.52086674e+12, -1.57463546e+12, -1.62998795e+12,\n",
       "       -1.68696315e+12, -1.74560117e+12, -1.80594272e+12, -1.86802932e+12,\n",
       "       -1.93190359e+12, -1.99760894e+12, -2.06518979e+12, -2.13469153e+12,\n",
       "       -2.20616042e+12, -2.27964383e+12, -2.35519017e+12, -2.43284878e+12,\n",
       "       -2.51267016e+12, -2.59470577e+12, -2.67900867e+12, -2.76563220e+12,\n",
       "       -2.85463169e+12, -2.94606322e+12, -3.03998412e+12, -3.13645324e+12,\n",
       "       -3.23553044e+12, -3.33727674e+12, -3.44175493e+12, -3.54902873e+12,\n",
       "       -3.65916382e+12, -3.77222650e+12, -3.88828559e+12, -4.00740999e+12,\n",
       "       -4.12967146e+12, -4.25514274e+12, -4.38389782e+12, -4.51601342e+12,\n",
       "       -4.65156624e+12, -4.79063644e+12, -4.93330484e+12, -5.07965427e+12,\n",
       "       -5.22976942e+12, -5.38373759e+12, -5.54164623e+12, -5.70358660e+12,\n",
       "       -5.86965084e+12, -6.03993392e+12, -6.21453214e+12, -6.39354439e+12,\n",
       "       -6.57707157e+12, -6.76521722e+12, -6.95808711e+12, -7.15578891e+12,\n",
       "       -7.35843271e+12, -7.56613208e+12, -7.77900235e+12, -7.99716121e+12,\n",
       "       -8.22072963e+12, -8.44983095e+12, -8.68459141e+12, -8.92514074e+12,\n",
       "       -9.17161013e+12, -9.42413522e+12, -9.68285371e+12, -9.94790692e+12,\n",
       "       -1.02194394e+13, -1.04975988e+13, -1.07825366e+13, -1.10744062e+13,\n",
       "       -1.13733672e+13, -1.16795824e+13, -1.19932144e+13, -1.23144370e+13,\n",
       "       -1.26434200e+13, -1.29803440e+13, -1.33253899e+13, -1.36787442e+13,\n",
       "       -1.40405985e+13, -1.44111477e+13, -1.47905920e+13, -1.51791373e+13,\n",
       "       -1.55769911e+13, -1.59843700e+13, -1.64014913e+13, -1.68285812e+13,\n",
       "       -1.72658662e+13, -1.77135841e+13, -1.81719719e+13, -1.86412772e+13,\n",
       "       -1.91217488e+13, -1.96136464e+13, -2.01172338e+13, -2.06327803e+13,\n",
       "       -2.11605655e+13, -2.17008722e+13, -2.22539937e+13, -2.28202315e+13,\n",
       "       -2.33998927e+13, -2.39932932e+13, -2.46007530e+13, -2.52226061e+13,\n",
       "       -2.58591895e+13, -2.65108509e+13, -2.71779398e+13, -2.78608223e+13,\n",
       "       -2.85598666e+13, -2.92754518e+13, -3.00079655e+13, -3.07578075e+13,\n",
       "       -3.15253833e+13, -3.23111154e+13, -3.31154311e+13, -3.39387767e+13,\n",
       "       -3.47816032e+13, -3.56443800e+13, -3.65275838e+13, -3.74317096e+13,\n",
       "       -3.83572589e+13, -3.93047514e+13, -4.02747102e+13, -4.12676855e+13,\n",
       "       -4.22842249e+13, -4.33248972e+13, -4.43902909e+13, -4.54809980e+13,\n",
       "       -4.65976277e+13, -4.77408029e+13, -4.89111713e+13, -5.01093846e+13,\n",
       "       -5.13361165e+13, -5.25920615e+13, -5.38779261e+13, -5.51944353e+13,\n",
       "       -5.65423358e+13, -5.79224009e+13, -5.93354061e+13, -6.07821629e+13,\n",
       "       -6.22634994e+13, -6.37802714e+13, -6.53333422e+13, -6.69236255e+13,\n",
       "       -6.85520296e+13, -7.02195140e+13, -7.19270379e+13, -7.36756108e+13,\n",
       "       -7.54662583e+13, -7.73000297e+13, -7.91780027e+13, -8.11012895e+13,\n",
       "       -8.30710217e+13, -8.50883506e+13, -8.71544885e+13, -8.92706361e+13,\n",
       "       -9.14380432e+13, -9.36580081e+13, -9.59318422e+13, -9.82608768e+13,\n",
       "       -1.00646496e+14, -1.03090135e+14, -1.05593238e+14, -1.08157306e+14,\n",
       "       -1.10783868e+14, -1.13474503e+14, -1.16230839e+14, -1.19054548e+14,\n",
       "       -1.21947324e+14, -1.24910948e+14, -1.27947209e+14, -1.31057979e+14,\n",
       "       -1.34245151e+14, -1.37510686e+14, -1.40856594e+14, -1.44284917e+14,\n",
       "       -1.47797788e+14, -1.51397349e+14, -1.55085840e+14, -1.58865510e+14,\n",
       "       -1.62738715e+14, -1.66707829e+14, -1.70775322e+14, -1.74943694e+14,\n",
       "       -1.79215549e+14, -1.83593504e+14, -1.88080312e+14, -1.92678740e+14,\n",
       "       -1.97391694e+14, -2.02222096e+14, -2.07172974e+14, -2.12247448e+14,\n",
       "       -2.17448714e+14, -2.22780062e+14, -2.28244876e+14, -2.33846609e+14,\n",
       "       -2.39588822e+14, -2.45475206e+14, -2.51509495e+14, -2.57695578e+14,\n",
       "       -2.64037426e+14, -2.70539112e+14, -2.77204833e+14, -2.84038888e+14,\n",
       "       -2.91045696e+14, -2.98229767e+14, -3.05595724e+14, -3.13148335e+14,\n",
       "       -3.20892414e+14, -3.28832909e+14, -3.36974848e+14, -3.45323367e+14,\n",
       "       -3.53883708e+14, -3.62661182e+14, -3.71661170e+14, -3.80889160e+14,\n",
       "       -3.90350745e+14, -4.00051600e+14, -4.09997537e+14, -4.20194439e+14,\n",
       "       -4.30648372e+14, -4.41365511e+14, -4.52352313e+14, -4.63615329e+14,\n",
       "       -4.75161385e+14, -4.86997579e+14, -4.99131305e+14, -5.11570220e+14,\n",
       "       -5.24322326e+14, -5.37395989e+14, -5.50799948e+14, -5.64543237e+14,\n",
       "       -5.78635381e+14, -5.93086117e+14, -6.07905572e+14, -6.23104284e+14,\n",
       "       -6.38693015e+14, -6.54682761e+14, -6.71084817e+14, -6.87910607e+14,\n",
       "       -7.05171852e+14, -7.22880258e+14, -7.41047761e+14, -7.59686315e+14,\n",
       "       -7.78807974e+14, -7.98424833e+14, -8.18549183e+14, -8.39193182e+14,\n",
       "       -8.60369261e+14, -8.82089959e+14, -9.04367868e+14, -9.27215885e+14,\n",
       "       -9.50647257e+14, -9.74675209e+14, -9.99313633e+14, -1.02457658e+15,\n",
       "       -1.05047871e+15, -1.07703502e+15, -1.10426108e+15, -1.13217295e+15,\n",
       "       -1.16078741e+15, -1.19012155e+15, -1.22019336e+15, -1.25102112e+15,\n",
       "       -1.28262406e+15, -1.31502180e+15, -1.34823464e+15, -1.38228348e+15,\n",
       "       -1.41718987e+15, -1.45297593e+15, -1.48966448e+15, -1.52727873e+15,\n",
       "       -1.56584269e+15, -1.60538086e+15, -1.64591841e+15, -1.68748116e+15,\n",
       "       -1.73009540e+15, -1.77378808e+15, -1.81858692e+15, -1.86452000e+15,\n",
       "       -1.91161624e+15, -1.95990488e+15, -2.00941613e+15, -2.06018045e+15,\n",
       "       -2.11222918e+15, -2.16559393e+15, -2.22030714e+15, -2.27640167e+15,\n",
       "       -2.33391105e+15, -2.39286917e+15, -2.45331063e+15, -2.51527051e+15,\n",
       "       -2.57878443e+15, -2.64388868e+15, -2.71062014e+15, -2.77901622e+15,\n",
       "       -2.84911519e+15, -2.92095583e+15, -2.99457799e+15, -3.07002211e+15,\n",
       "       -3.14732971e+15, -3.22654330e+15, -3.30770632e+15, -3.39086348e+15,\n",
       "       -3.47606066e+15, -3.56334502e+15, -3.65276504e+15, -3.74437084e+15,\n",
       "       -3.83821352e+15, -3.93434618e+15, -4.03282334e+15, -4.13370101e+15,\n",
       "       -4.23703675e+15, -4.34288995e+15, -4.45132162e+15, -4.56239412e+15,\n",
       "       -4.67617178e+15, -4.79272035e+15, -4.91210701e+15, -5.03440105e+15,\n",
       "       -5.15967247e+15, -5.28799358e+15, -5.41943773e+15, -5.55408006e+15,\n",
       "       -5.69199689e+15, -5.83326616e+15, -5.97796735e+15, -6.12618132e+15,\n",
       "       -6.27799025e+15, -6.43347816e+15, -6.59273015e+15, -6.75583291e+15,\n",
       "       -6.92287508e+15, -7.09394607e+15, -7.26913780e+15, -7.44854298e+15,\n",
       "       -7.63225638e+15, -7.82037441e+15, -8.01299527e+15, -8.21021861e+15,\n",
       "       -8.41214644e+15, -8.61888193e+15, -8.83053079e+15, -9.04720022e+15,\n",
       "       -9.26899960e+15, -9.49604039e+15, -9.72843624e+15, -9.96630293e+15,\n",
       "       -1.02097581e+16, -1.04589223e+16, -1.07139181e+16, -1.09748705e+16,\n",
       "       -1.12419069e+16, -1.15151575e+16, -1.17947549e+16, -1.20808344e+16,\n",
       "       -1.23735341e+16, -1.26729944e+16, -1.29793590e+16, -1.32927734e+16,\n",
       "       -1.36133873e+16, -1.39413519e+16, -1.42768214e+16, -1.46199527e+16,\n",
       "       -1.49709057e+16, -1.53298424e+16, -1.56969275e+16, -1.60723279e+16,\n",
       "       -1.64562137e+16, -1.68487566e+16, -1.72501310e+16, -1.76605137e+16,\n",
       "       -1.80800838e+16, -1.85090231e+16, -1.89475158e+16, -1.93957492e+16,\n",
       "       -1.98539125e+16, -2.03221996e+16, -2.08008074e+16, -2.12899362e+16,\n",
       "       -2.17897919e+16, -2.23005837e+16, -2.28225282e+16, -4.40866780e+15])>"
      ]
     },
     "execution_count": 83,
     "metadata": {},
     "output_type": "execute_result"
    }
   ],
   "source": [
    "dsol_dz"
   ]
  },
  {
   "cell_type": "code",
   "execution_count": 17,
   "metadata": {},
   "outputs": [
    {
     "data": {
      "text/plain": [
       "<tf.Tensor: shape=(3,), dtype=float64, numpy=array([0.21025278, 2.09066148, 3.77962996])>"
      ]
     },
     "execution_count": 17,
     "metadata": {},
     "output_type": "execute_result"
    }
   ],
   "source": [
    "sol[-1]"
   ]
  },
  {
   "cell_type": "code",
   "execution_count": 4,
   "metadata": {},
   "outputs": [],
   "source": [
    "x = tf.constant(3.0)\n",
    "with tf.GradientTape() as g:\n",
    "  g.watch(x)\n",
    "  y = x * x\n",
    "dy_dx = g.gradient(y, x) # Will compute to 6.0"
   ]
  },
  {
   "cell_type": "code",
   "execution_count": 5,
   "metadata": {},
   "outputs": [
    {
     "data": {
      "text/plain": [
       "<tf.Tensor: shape=(10, 3), dtype=float64, numpy=\n",
       "array([[1.        , 2.        , 3.1       ],\n",
       "       [0.94080566, 2.01698345, 3.1623503 ],\n",
       "       [0.87416031, 2.03199163, 3.22734861],\n",
       "       [0.79990744, 2.04511868, 3.29525646],\n",
       "       [0.71805308, 2.05646788, 3.36634463],\n",
       "       [0.62880523, 2.06615045, 3.44089327],\n",
       "       [0.53259905, 2.07428458, 3.51919197],\n",
       "       [0.43011572, 2.0809944 , 3.60153989],\n",
       "       [0.32228107, 2.08640896, 3.68824615],\n",
       "       [0.21025278, 2.09066148, 3.77962996]])>"
      ]
     },
     "execution_count": 5,
     "metadata": {},
     "output_type": "execute_result"
    }
   ],
   "source": [
    "sol"
   ]
  },
  {
   "cell_type": "code",
   "execution_count": 135,
   "metadata": {},
   "outputs": [
    {
     "name": "stdout",
     "output_type": "stream",
     "text": [
      "None\n"
     ]
    },
    {
     "data": {
      "text/plain": [
       "<tf.Tensor: shape=(), dtype=complex128, numpy=(-1+3j)>"
      ]
     },
     "execution_count": 135,
     "metadata": {},
     "output_type": "execute_result"
    }
   ],
   "source": [
    "@tf.function\n",
    "def f(a):\n",
    "    return tf.constant(1j)*a\n",
    "\n",
    "def tf_realify(tf_func):\n",
    "    tf.print(tf_func.function_spec.input_signature)\n",
    "    @tf.function\n",
    "    def f_wrapped(a,b):\n",
    "        return tf_func(tf.cast(a, tf.complex128)+1j*tf.cast(b, tf.complex128) )\n",
    "    return f_wrapped\n",
    "\n",
    "f2=tf_realify(f)\n",
    "f2(3,1)"
   ]
  },
  {
   "cell_type": "code",
   "execution_count": 143,
   "metadata": {},
   "outputs": [
    {
     "name": "stdout",
     "output_type": "stream",
     "text": [
      "The slowest run took 4.76 times longer than the fastest. This could mean that an intermediate result is being cached.\n",
      "10000 loops, best of 3: 146 µs per loop\n"
     ]
    }
   ],
   "source": [
    "a, b = tf.constant(3, dtype=tf.float64), tf.constant(1, dtype=tf.float64)\n",
    "%timeit f2(a,b)"
   ]
  },
  {
   "cell_type": "code",
   "execution_count": 145,
   "metadata": {},
   "outputs": [
    {
     "name": "stdout",
     "output_type": "stream",
     "text": [
      "The slowest run took 4.39 times longer than the fastest. This could mean that an intermediate result is being cached.\n",
      "10000 loops, best of 3: 134 µs per loop\n"
     ]
    }
   ],
   "source": [
    "c = tf.constant(1+1j, dtype=tf.complex128)\n",
    "%timeit f(c)"
   ]
  },
  {
   "cell_type": "code",
   "execution_count": 121,
   "metadata": {},
   "outputs": [
    {
     "data": {
      "text/plain": [
       "<tf.Tensor: shape=(), dtype=complex128, numpy=1j>"
      ]
     },
     "execution_count": 121,
     "metadata": {},
     "output_type": "execute_result"
    }
   ],
   "source": [
    "tf.constant(1j)"
   ]
  },
  {
   "cell_type": "code",
   "execution_count": 108,
   "metadata": {},
   "outputs": [],
   "source": [
    "cf=f.get_concrete_function(0.5,z0, p0)"
   ]
  },
  {
   "cell_type": "code",
   "execution_count": 110,
   "metadata": {},
   "outputs": [
    {
     "data": {
      "text/plain": [
       "[<tf.Tensor 'z:0' shape=(1000,) dtype=float64>,\n",
       " <tf.Tensor 'pars:0' shape=(1000,) dtype=float64>]"
      ]
     },
     "execution_count": 110,
     "metadata": {},
     "output_type": "execute_result"
    }
   ],
   "source": [
    "cf."
   ]
  },
  {
   "cell_type": "code",
   "execution_count": 112,
   "metadata": {},
   "outputs": [],
   "source": [
    "f.function_spec.input_signature"
   ]
  },
  {
   "cell_type": "code",
   "execution_count": 113,
   "metadata": {},
   "outputs": [
    {
     "data": {
      "text/plain": [
       "((0.5,\n",
       "  TensorSpec(shape=(1000,), dtype=tf.float64, name='z'),\n",
       "  TensorSpec(shape=(1000,), dtype=tf.float64, name='pars')),\n",
       " {})"
      ]
     },
     "execution_count": 113,
     "metadata": {},
     "output_type": "execute_result"
    }
   ],
   "source": [
    "cf.structured_input_signature"
   ]
  },
  {
   "cell_type": "code",
   "execution_count": 148,
   "metadata": {},
   "outputs": [],
   "source": [
    "@tf.function\n",
    "def f1(a,b,c):\n",
    "    return a+b+c\n",
    "@tf.function\n",
    "def f2(a,b,c):\n",
    "    return a+b\n",
    "@tf.function\n",
    "def f3(a,b,c):\n",
    "    return a\n",
    "\n",
    "fL = [f1,f2,f3]"
   ]
  },
  {
   "cell_type": "code",
   "execution_count": 165,
   "metadata": {},
   "outputs": [
    {
     "data": {
      "text/plain": [
       "<tf.Tensor: shape=(3,), dtype=float32, numpy=array([7.5, 4. , 1.5], dtype=float32)>"
      ]
     },
     "execution_count": 165,
     "metadata": {},
     "output_type": "execute_result"
    }
   ],
   "source": [
    "def get_wrapped(fL):\n",
    "    @tf.function(experimental_compile=True)\n",
    "    def f_c(p):\n",
    "        return tf.stack([f(a,b,c) for f in fL])\n",
    "    return f_c\n",
    "\n",
    "f_c = get_wrapped(fL)\n",
    "f_c(1.5,2.5,3.5)"
   ]
  },
  {
   "cell_type": "code",
   "execution_count": 167,
   "metadata": {},
   "outputs": [
    {
     "name": "stdout",
     "output_type": "stream",
     "text": [
      "The slowest run took 6.29 times longer than the fastest. This could mean that an intermediate result is being cached.\n",
      "10000 loops, best of 3: 159 µs per loop\n"
     ]
    }
   ],
   "source": [
    "%timeit f_c(1.5,2.5,3.5)"
   ]
  },
  {
   "cell_type": "code",
   "execution_count": 18,
   "metadata": {},
   "outputs": [],
   "source": [
    "@tf.function\n",
    "def f(a,b,c):\n",
    "    return (a+b+c)\n",
    "\n",
    "@tf.function\n",
    "def tf_unpack(vals):\n",
    "    #for k in range(100):\n",
    "    #    f(*tf.unstack(vals))\n",
    "    return f(*tf.unstack(vals))\n",
    "   "
   ]
  },
  {
   "cell_type": "code",
   "execution_count": 19,
   "metadata": {},
   "outputs": [
    {
     "name": "stdout",
     "output_type": "stream",
     "text": [
      "The slowest run took 477.05 times longer than the fastest. This could mean that an intermediate result is being cached.\n",
      "10000 loops, best of 3: 139 µs per loop\n"
     ]
    }
   ],
   "source": [
    "vals = tf.convert_to_tensor(np.arange(3)*0.5)\n"
   ]
  },
  {
   "cell_type": "code",
   "execution_count": 23,
   "metadata": {},
   "outputs": [
    {
     "name": "stdout",
     "output_type": "stream",
     "text": [
      "The slowest run took 6.06 times longer than the fastest. This could mean that an intermediate result is being cached.\n",
      "10000 loops, best of 3: 138 µs per loop\n"
     ]
    }
   ],
   "source": [
    "%timeit tf_unpack(vals)"
   ]
  },
  {
   "cell_type": "code",
   "execution_count": 24,
   "metadata": {},
   "outputs": [],
   "source": [
    "fp = lambda vals:tf.math.real(tf_unpack(vals)) \n",
    "fp = tf.function(fp)"
   ]
  },
  {
   "cell_type": "code",
   "execution_count": 26,
   "metadata": {},
   "outputs": [
    {
     "name": "stdout",
     "output_type": "stream",
     "text": [
      "The slowest run took 8.05 times longer than the fastest. This could mean that an intermediate result is being cached.\n",
      "10000 loops, best of 3: 138 µs per loop\n"
     ]
    }
   ],
   "source": [
    "%timeit fp(vals)"
   ]
  },
  {
   "cell_type": "code",
   "execution_count": 7,
   "metadata": {},
   "outputs": [],
   "source": [
    "T=tf.convert_to_tensor(1 + 0.5j)"
   ]
  },
  {
   "cell_type": "code",
   "execution_count": 8,
   "metadata": {},
   "outputs": [
    {
     "data": {
      "text/plain": [
       "<tf.Tensor: shape=(), dtype=float64, numpy=1.0>"
      ]
     },
     "execution_count": 8,
     "metadata": {},
     "output_type": "execute_result"
    }
   ],
   "source": [
    "tf.math.real(T)"
   ]
  },
  {
   "cell_type": "markdown",
   "metadata": {},
   "source": [
    "# Testing pyIVP and tensorflow"
   ]
  },
  {
   "cell_type": "code",
   "execution_count": 2,
   "metadata": {},
   "outputs": [
    {
     "name": "stdout",
     "output_type": "stream",
     "text": [
      "Munch({'tSym': t, 'dimSyms': [], 'prop_state_syms': [x, y, v_x, v_y], 'stationary_state_syms': [], 'driving_syms': [], 'state_dep_syms': []})\n",
      "state dependent functions should have signature [t, x, y, v_x, v_y]\n",
      "CPU times: user 5.8 s, sys: 102 ms, total: 5.9 s\n",
      "Wall time: 7.15 s\n"
     ]
    },
    {
     "ename": "AttributeError",
     "evalue": "'tensorflow.python.framework.ops.EagerTensor' object has no attribute 'real'",
     "output_type": "error",
     "traceback": [
      "\u001b[0;31m---------------------------------------------------------------------------\u001b[0m",
      "\u001b[0;31mAttributeError\u001b[0m                            Traceback (most recent call last)",
      "\u001b[0;32m<ipython-input-2-f6e7de75a237>\u001b[0m in \u001b[0;36m<module>\u001b[0;34m\u001b[0m\n\u001b[1;32m     18\u001b[0m \u001b[0;34m\u001b[0m\u001b[0m\n\u001b[1;32m     19\u001b[0m \u001b[0msm\u001b[0m\u001b[0;34m.\u001b[0m\u001b[0mode\u001b[0m\u001b[0;34m\u001b[0m\u001b[0;34m\u001b[0m\u001b[0m\n\u001b[0;32m---> 20\u001b[0;31m \u001b[0mplot\u001b[0m\u001b[0;34m(\u001b[0m\u001b[0mtSteps\u001b[0m\u001b[0;34m,\u001b[0m \u001b[0marr\u001b[0m\u001b[0;34m.\u001b[0m\u001b[0mreal\u001b[0m\u001b[0;34m)\u001b[0m\u001b[0;34m\u001b[0m\u001b[0;34m\u001b[0m\u001b[0m\n\u001b[0m\u001b[1;32m     21\u001b[0m \u001b[0mxlabel\u001b[0m\u001b[0;34m(\u001b[0m\u001b[0;34m't'\u001b[0m\u001b[0;34m)\u001b[0m\u001b[0;34m\u001b[0m\u001b[0;34m\u001b[0m\u001b[0m\n\u001b[1;32m     22\u001b[0m \u001b[0mlegend\u001b[0m\u001b[0;34m(\u001b[0m\u001b[0mdy_dtD\u001b[0m\u001b[0;34m.\u001b[0m\u001b[0mkeys\u001b[0m\u001b[0;34m(\u001b[0m\u001b[0;34m)\u001b[0m\u001b[0;34m)\u001b[0m\u001b[0;34m\u001b[0m\u001b[0;34m\u001b[0m\u001b[0m\n",
      "\u001b[0;31mAttributeError\u001b[0m: 'tensorflow.python.framework.ops.EagerTensor' object has no attribute 'real'"
     ]
    }
   ],
   "source": [
    "%load_ext autoreload\n",
    "%autoreload 2\n",
    "import tensorflow as tf\n",
    "import sympy as sm\n",
    "from spylind import spyIVP as so\n",
    "from pylab import *\n",
    "xS, yS, vxS, vyS = sm.symbols(\"x, y, v_x, v_y\", real=True)\n",
    "g= -10.0\n",
    "dy_dtD = {xS:vxS, \n",
    "       yS:vyS,\n",
    "       vxS:0,\n",
    "       vyS:g }\n",
    "ode_s = so.ODESolver(dy_dtD,  dims={}, backend='tensorflow', default_dtype=np.float64)\n",
    "ode_s.set_initial_conditions({xS:0,yS:0,vxS:10,vyS:10}) \n",
    "ode_s.setup()\n",
    "tSteps = np.linspace(0,1,10000)\n",
    "%time arr =ode_s.integrate(tSteps, 1.0)\n",
    "\n",
    "sm.ode\n",
    "plot(tSteps, arr.real)\n",
    "xlabel('t')\n",
    "legend(dy_dtD.keys())"
   ]
  },
  {
   "cell_type": "code",
   "execution_count": 4,
   "metadata": {},
   "outputs": [
    {
     "name": "stdout",
     "output_type": "stream",
     "text": [
      "Munch({'tSym': t, 'dimSyms': [z], 'prop_state_syms': [x, y, v_x, v_y], 'stationary_state_syms': [], 'driving_syms': [], 'state_dep_syms': [z]})\n",
      "state dependent functions should have signature [t, z, x, y, v_x, v_y]\n",
      "Not integrating first step (it's just the initial state)\n",
      "CPU times: user 242 ms, sys: 149 ms, total: 391 ms\n",
      "Wall time: 259 ms\n"
     ]
    }
   ],
   "source": [
    "import tensorflow as tf\n",
    "xS, yS, vxS, vyS = sm.symbols(\"x, y, v_x, v_y\", real=True)\n",
    "zS = sm.symbols(\"z\", real=True)\n",
    "g= tf.constant(-10.0, dtype='float64')\n",
    "dy_dtD = {xS:vxS, \n",
    "       yS:vyS ,\n",
    "       vxS:0 +zS,\n",
    "       vyS: g  }\n",
    "\n",
    "ode_s = so.ODESolver(dy_dtD,  dims={zS:linspace(-2,2,10000)}, backend='numpy', default_dtype='float64')\n",
    "ode_s.set_initial_conditions({xS:0,yS:0,vxS:10,vyS:10}) \n",
    "ode_s.setup(bForceStateDimensions=True)\n",
    "tSteps = linspace(0,200,4)\n",
    "%time arr =ode_s.integrate(tSteps, 1.0)\n",
    "if 0:\n",
    "    plot(tSteps, arr[:,:,0].real)\n",
    "    xlabel('t')\n",
    "    legend(dy_dtD.keys())\n",
    "    figure()\n",
    "    plot(tSteps, arr[:,:,-1].real)\n",
    "    xlabel('t')\n",
    "    legend(dy_dtD.keys())\n",
    "    figure()\n",
    "    imshow(arr[:,1,:].real, aspect='auto')"
   ]
  },
  {
   "cell_type": "code",
   "execution_count": 5,
   "metadata": {},
   "outputs": [
    {
     "data": {
      "text/plain": [
       "[<matplotlib.lines.Line2D at 0x772094404be0>,\n",
       " <matplotlib.lines.Line2D at 0x7720944041c0>,\n",
       " <matplotlib.lines.Line2D at 0x772094404d60>,\n",
       " <matplotlib.lines.Line2D at 0x7720944046d0>]"
      ]
     },
     "execution_count": 5,
     "metadata": {},
     "output_type": "execute_result"
    },
    {
     "data": {
      "image/png": "[encoded data removed]",
      "text/plain": [
       "<Figure size 460.8x316.8 with 1 Axes>"
      ]
     },
     "metadata": {
      "needs_background": "light"
     },
     "output_type": "display_data"
    }
   ],
   "source": [
    "plot(arr[:,:,5])\n",
    "plot(arr[:,:,9])"
   ]
  },
  {
   "cell_type": "code",
   "execution_count": 6,
   "metadata": {},
   "outputs": [],
   "source": [
    "xRef =tf.linspace(0,1,1000)\n",
    "yRef = tf.sin(5*pi*xRef)"
   ]
  },
  {
   "cell_type": "code",
   "execution_count": 7,
   "metadata": {},
   "outputs": [],
   "source": [
    "def tf_interpolator(xOrig, yOrig):\n",
    "    xOrig = tf.convert_to_tensor(xOrig, dtype=tf.float64)\n",
    "    yOrig = tf.convert_to_tensor(yOrig, dtype=tf.float64)\n",
    "    N = xOrig.shape[0]\n",
    "    dx = xOrig[1]-xOrig[0]\n",
    "    x0 = xOrig[0]\n",
    "    xMax = xOrig[-1]\n",
    "    zero = tf.constant(0, dtype=tf.float64)\n",
    "    #@tf.function(experimental_compile=True)\n",
    "    def f(x):\n",
    "        #pdb.set_trace()\n",
    "        #ind = tf.math.floormod((x-x0), dx)\n",
    "        \n",
    "        if x>=xMax or x<x0:\n",
    "            return zero#tf.constant(0., dtype=tf.float64);\n",
    "        else:\n",
    "            ind = tf.math.floordiv(x-x0, dx)\n",
    "            remainder = x- ind*dx\n",
    "            ind=tf.cast(ind, tf.int64)\n",
    "\n",
    "            return (1.-remainder)*yOrig[ind] + remainder*yOrig[ind+1]\n",
    "    return f\n",
    "\n",
    "intpF = tf.function(tf_interpolator(xRef, yRef))\n",
    "f = tf.function(intpF, experimental_compile=True)"
   ]
  },
  {
   "cell_type": "code",
   "execution_count": 8,
   "metadata": {},
   "outputs": [],
   "source": [
    "xOut =linspace(-0.01, 1.01, 1000)\n",
    "yOut = np.array([intpF(val) for val in xOut])\n",
    "    "
   ]
  },
  {
   "cell_type": "code",
   "execution_count": 9,
   "metadata": {},
   "outputs": [],
   "source": [
    "#randL =np.random.normal(size=10000)\n",
    "f = tf.function(lambda x: x**2)\n",
    "f = intpF\n",
    "randL = tf.random.uniform(minval=0.01, maxval=0.9, shape=(10000,), dtype=tf.float64 )\n",
    "randL2 = tf.random.uniform(minval=0.01, maxval=0.9, shape=(10000,), dtype=tf.float64 )\n",
    "randL3 = tf.random.uniform(minval=0.01, maxval=0.9, shape=(10000,), dtype=tf.float64 )\n",
    "\n",
    "\n",
    "def test(randL):\n",
    "    for val in randL:\n",
    "        a = f(val)\n",
    "t= tf.function(test, experimental_compile=True)\n"
   ]
  },
  {
   "cell_type": "code",
   "execution_count": 182,
   "metadata": {},
   "outputs": [
    {
     "name": "stdout",
     "output_type": "stream",
     "text": [
      "426 µs ± 49.8 µs per loop (mean ± std. dev. of 7 runs, 1000 loops each)\n"
     ]
    }
   ],
   "source": [
    "%timeit intpF(tf.random.uniform(minval=-0.01, maxval=1.01, dtype=tf.float64, shape=[]))"
   ]
  },
  {
   "cell_type": "code",
   "execution_count": null,
   "metadata": {},
   "outputs": [],
   "source": [
    "tf.timeit tf.random.unifi"
   ]
  },
  {
   "cell_type": "code",
   "execution_count": 100,
   "metadata": {},
   "outputs": [
    {
     "ename": "InvalidArgumentError",
     "evalue": "Argument 0 to function '__inference_f_1488041' must be a compile-time constant, but unable to resolve argument value to a constant.\n\t [[{{node while}}]] [Op:__inference_test_1488155]",
     "output_type": "error",
     "traceback": [
      "\u001b[0;31m---------------------------------------------------------------------------\u001b[0m",
      "\u001b[0;31mInvalidArgumentError\u001b[0m                      Traceback (most recent call last)",
      "\u001b[0;32m<timed eval>\u001b[0m in \u001b[0;36m<module>\u001b[0;34m\u001b[0m\n",
      "\u001b[0;32m~/anaconda3/envs/spylind/lib/python3.8/site-packages/tensorflow/python/eager/def_function.py\u001b[0m in \u001b[0;36m__call__\u001b[0;34m(self, *args, **kwds)\u001b[0m\n\u001b[1;32m    773\u001b[0m         \u001b[0;32mtry\u001b[0m\u001b[0;34m:\u001b[0m\u001b[0;34m\u001b[0m\u001b[0;34m\u001b[0m\u001b[0m\n\u001b[1;32m    774\u001b[0m           \u001b[0mxla_context\u001b[0m\u001b[0;34m.\u001b[0m\u001b[0mEnter\u001b[0m\u001b[0;34m(\u001b[0m\u001b[0;34m)\u001b[0m\u001b[0;34m\u001b[0m\u001b[0;34m\u001b[0m\u001b[0m\n\u001b[0;32m--> 775\u001b[0;31m           \u001b[0mresult\u001b[0m \u001b[0;34m=\u001b[0m \u001b[0mself\u001b[0m\u001b[0;34m.\u001b[0m\u001b[0m_call\u001b[0m\u001b[0;34m(\u001b[0m\u001b[0;34m*\u001b[0m\u001b[0margs\u001b[0m\u001b[0;34m,\u001b[0m \u001b[0;34m**\u001b[0m\u001b[0mkwds\u001b[0m\u001b[0;34m)\u001b[0m\u001b[0;34m\u001b[0m\u001b[0;34m\u001b[0m\u001b[0m\n\u001b[0m\u001b[1;32m    776\u001b[0m         \u001b[0;32mfinally\u001b[0m\u001b[0;34m:\u001b[0m\u001b[0;34m\u001b[0m\u001b[0;34m\u001b[0m\u001b[0m\n\u001b[1;32m    777\u001b[0m           \u001b[0mxla_context\u001b[0m\u001b[0;34m.\u001b[0m\u001b[0mExit\u001b[0m\u001b[0;34m(\u001b[0m\u001b[0;34m)\u001b[0m\u001b[0;34m\u001b[0m\u001b[0;34m\u001b[0m\u001b[0m\n",
      "\u001b[0;32m~/anaconda3/envs/spylind/lib/python3.8/site-packages/tensorflow/python/eager/def_function.py\u001b[0m in \u001b[0;36m_call\u001b[0;34m(self, *args, **kwds)\u001b[0m\n\u001b[1;32m    844\u001b[0m               *args, **kwds)\n\u001b[1;32m    845\u001b[0m       \u001b[0;31m# If we did not create any variables the trace we have is good enough.\u001b[0m\u001b[0;34m\u001b[0m\u001b[0;34m\u001b[0m\u001b[0;34m\u001b[0m\u001b[0m\n\u001b[0;32m--> 846\u001b[0;31m       \u001b[0;32mreturn\u001b[0m \u001b[0mself\u001b[0m\u001b[0;34m.\u001b[0m\u001b[0m_concrete_stateful_fn\u001b[0m\u001b[0;34m.\u001b[0m\u001b[0m_filtered_call\u001b[0m\u001b[0;34m(\u001b[0m\u001b[0mcanon_args\u001b[0m\u001b[0;34m,\u001b[0m \u001b[0mcanon_kwds\u001b[0m\u001b[0;34m)\u001b[0m  \u001b[0;31m# pylint: disable=protected-access\u001b[0m\u001b[0;34m\u001b[0m\u001b[0;34m\u001b[0m\u001b[0m\n\u001b[0m\u001b[1;32m    847\u001b[0m \u001b[0;34m\u001b[0m\u001b[0m\n\u001b[1;32m    848\u001b[0m     \u001b[0;32mdef\u001b[0m \u001b[0mfn_with_cond\u001b[0m\u001b[0;34m(\u001b[0m\u001b[0;34m*\u001b[0m\u001b[0minner_args\u001b[0m\u001b[0;34m,\u001b[0m \u001b[0;34m**\u001b[0m\u001b[0minner_kwds\u001b[0m\u001b[0;34m)\u001b[0m\u001b[0;34m:\u001b[0m\u001b[0;34m\u001b[0m\u001b[0;34m\u001b[0m\u001b[0m\n",
      "\u001b[0;32m~/anaconda3/envs/spylind/lib/python3.8/site-packages/tensorflow/python/eager/function.py\u001b[0m in \u001b[0;36m_filtered_call\u001b[0;34m(self, args, kwargs, cancellation_manager)\u001b[0m\n\u001b[1;32m   1841\u001b[0m       \u001b[0;31m`\u001b[0m\u001b[0margs\u001b[0m\u001b[0;31m`\u001b[0m \u001b[0;32mand\u001b[0m\u001b[0;31m \u001b[0m\u001b[0;31m`\u001b[0m\u001b[0mkwargs\u001b[0m\u001b[0;31m`\u001b[0m\u001b[0;34m.\u001b[0m\u001b[0;34m\u001b[0m\u001b[0;34m\u001b[0m\u001b[0m\n\u001b[1;32m   1842\u001b[0m     \"\"\"\n\u001b[0;32m-> 1843\u001b[0;31m     return self._call_flat(\n\u001b[0m\u001b[1;32m   1844\u001b[0m         [t for t in nest.flatten((args, kwargs), expand_composites=True)\n\u001b[1;32m   1845\u001b[0m          if isinstance(t, (ops.Tensor,\n",
      "\u001b[0;32m~/anaconda3/envs/spylind/lib/python3.8/site-packages/tensorflow/python/eager/function.py\u001b[0m in \u001b[0;36m_call_flat\u001b[0;34m(self, args, captured_inputs, cancellation_manager)\u001b[0m\n\u001b[1;32m   1921\u001b[0m         and executing_eagerly):\n\u001b[1;32m   1922\u001b[0m       \u001b[0;31m# No tape is watching; skip to running the function.\u001b[0m\u001b[0;34m\u001b[0m\u001b[0;34m\u001b[0m\u001b[0;34m\u001b[0m\u001b[0m\n\u001b[0;32m-> 1923\u001b[0;31m       return self._build_call_outputs(self._inference_function.call(\n\u001b[0m\u001b[1;32m   1924\u001b[0m           ctx, args, cancellation_manager=cancellation_manager))\n\u001b[1;32m   1925\u001b[0m     forward_backward = self._select_forward_and_backward_functions(\n",
      "\u001b[0;32m~/anaconda3/envs/spylind/lib/python3.8/site-packages/tensorflow/python/eager/function.py\u001b[0m in \u001b[0;36mcall\u001b[0;34m(self, ctx, args, cancellation_manager)\u001b[0m\n\u001b[1;32m    543\u001b[0m       \u001b[0;32mwith\u001b[0m \u001b[0m_InterpolateFunctionError\u001b[0m\u001b[0;34m(\u001b[0m\u001b[0mself\u001b[0m\u001b[0;34m)\u001b[0m\u001b[0;34m:\u001b[0m\u001b[0;34m\u001b[0m\u001b[0;34m\u001b[0m\u001b[0m\n\u001b[1;32m    544\u001b[0m         \u001b[0;32mif\u001b[0m \u001b[0mcancellation_manager\u001b[0m \u001b[0;32mis\u001b[0m \u001b[0;32mNone\u001b[0m\u001b[0;34m:\u001b[0m\u001b[0;34m\u001b[0m\u001b[0;34m\u001b[0m\u001b[0m\n\u001b[0;32m--> 545\u001b[0;31m           outputs = execute.execute(\n\u001b[0m\u001b[1;32m    546\u001b[0m               \u001b[0mstr\u001b[0m\u001b[0;34m(\u001b[0m\u001b[0mself\u001b[0m\u001b[0;34m.\u001b[0m\u001b[0msignature\u001b[0m\u001b[0;34m.\u001b[0m\u001b[0mname\u001b[0m\u001b[0;34m)\u001b[0m\u001b[0;34m,\u001b[0m\u001b[0;34m\u001b[0m\u001b[0;34m\u001b[0m\u001b[0m\n\u001b[1;32m    547\u001b[0m               \u001b[0mnum_outputs\u001b[0m\u001b[0;34m=\u001b[0m\u001b[0mself\u001b[0m\u001b[0;34m.\u001b[0m\u001b[0m_num_outputs\u001b[0m\u001b[0;34m,\u001b[0m\u001b[0;34m\u001b[0m\u001b[0;34m\u001b[0m\u001b[0m\n",
      "\u001b[0;32m~/anaconda3/envs/spylind/lib/python3.8/site-packages/tensorflow/python/eager/execute.py\u001b[0m in \u001b[0;36mquick_execute\u001b[0;34m(op_name, num_outputs, inputs, attrs, ctx, name)\u001b[0m\n\u001b[1;32m     57\u001b[0m   \u001b[0;32mtry\u001b[0m\u001b[0;34m:\u001b[0m\u001b[0;34m\u001b[0m\u001b[0;34m\u001b[0m\u001b[0m\n\u001b[1;32m     58\u001b[0m     \u001b[0mctx\u001b[0m\u001b[0;34m.\u001b[0m\u001b[0mensure_initialized\u001b[0m\u001b[0;34m(\u001b[0m\u001b[0;34m)\u001b[0m\u001b[0;34m\u001b[0m\u001b[0;34m\u001b[0m\u001b[0m\n\u001b[0;32m---> 59\u001b[0;31m     tensors = pywrap_tfe.TFE_Py_Execute(ctx._handle, device_name, op_name,\n\u001b[0m\u001b[1;32m     60\u001b[0m                                         inputs, attrs, num_outputs)\n\u001b[1;32m     61\u001b[0m   \u001b[0;32mexcept\u001b[0m \u001b[0mcore\u001b[0m\u001b[0;34m.\u001b[0m\u001b[0m_NotOkStatusException\u001b[0m \u001b[0;32mas\u001b[0m \u001b[0me\u001b[0m\u001b[0;34m:\u001b[0m\u001b[0;34m\u001b[0m\u001b[0;34m\u001b[0m\u001b[0m\n",
      "\u001b[0;31mInvalidArgumentError\u001b[0m: Argument 0 to function '__inference_f_1488041' must be a compile-time constant, but unable to resolve argument value to a constant.\n\t [[{{node while}}]] [Op:__inference_test_1488155]"
     ]
    }
   ],
   "source": [
    "#%time t(randL3)\n",
    "%time t(randL)"
   ]
  },
  {
   "cell_type": "code",
   "execution_count": 118,
   "metadata": {},
   "outputs": [
    {
     "name": "stdout",
     "output_type": "stream",
     "text": [
      "CPU times: user 0 ns, sys: 1e+03 µs, total: 1e+03 µs\n",
      "Wall time: 671 µs\n",
      "CPU times: user 1e+03 µs, sys: 0 ns, total: 1e+03 µs\n",
      "Wall time: 1.49 ms\n",
      "CPU times: user 1 ms, sys: 0 ns, total: 1 ms\n",
      "Wall time: 609 µs\n"
     ]
    }
   ],
   "source": [
    "%time t(randL)\n",
    "%time t(randL2)\n",
    "%time t(randL3)"
   ]
  },
  {
   "cell_type": "code",
   "execution_count": 6,
   "metadata": {},
   "outputs": [
    {
     "name": "stdout",
     "output_type": "stream",
     "text": [
      "230 µs ± 50.3 µs per loop (mean ± std. dev. of 7 runs, 1000 loops each)\n"
     ]
    }
   ],
   "source": [
    "%timeit intpF(tf.constant(0.5, dtype='float64'))"
   ]
  },
  {
   "cell_type": "code",
   "execution_count": null,
   "metadata": {},
   "outputs": [],
   "source": [
    "%timeit f(c)"
   ]
  },
  {
   "cell_type": "code",
   "execution_count": 67,
   "metadata": {},
   "outputs": [
    {
     "name": "stdout",
     "output_type": "stream",
     "text": [
      "CPU times: user 40 ms, sys: 1 ms, total: 41 ms\n",
      "Wall time: 41.2 ms\n",
      "CPU times: user 42 ms, sys: 0 ns, total: 42 ms\n",
      "Wall time: 41.3 ms\n"
     ]
    }
   ],
   "source": [
    "\n",
    "#f = tf.function(intpF, experimental_compile=True)\n",
    "f = intpF\n",
    "def test(randL):\n",
    "    return tf.map_fn(f, randL)\n",
    "t= tf.function(test, experimental_compile=True)\n",
    "out = t(randL)\n",
    "%time out=t(randL2)\n",
    "%time out=t(randL3)"
   ]
  },
  {
   "cell_type": "code",
   "execution_count": 70,
   "metadata": {},
   "outputs": [
    {
     "data": {
      "text/plain": [
       "[<matplotlib.lines.Line2D at 0x7008edca8b20>]"
      ]
     },
     "execution_count": 70,
     "metadata": {},
     "output_type": "execute_result"
    },
    {
     "data": {
      "image/png": "[encoded data removed]",
      "text/plain": [
       "<Figure size 460.8x316.8 with 1 Axes>"
      ]
     },
     "metadata": {
      "needs_background": "light"
     },
     "output_type": "display_data"
    }
   ],
   "source": [
    "plot(xRef, yRef)"
   ]
  },
  {
   "cell_type": "code",
   "execution_count": null,
   "metadata": {},
   "outputs": [],
   "source": []
  },
  {
   "cell_type": "markdown",
   "metadata": {},
   "source": [
    "# Autograd and interpolating"
   ]
  },
  {
   "cell_type": "code",
   "execution_count": 1,
   "metadata": {},
   "outputs": [],
   "source": [
    "%load_ext autoreload\n",
    "%autoreload 2\n",
    "import tensorflow as tf\n",
    "import sympy as sm\n",
    "from spylind import spyIVP as so\n",
    "from pylab import *\n",
    "import time\n",
    "from spylind.tf_misc import tf_interpolator2\n",
    "if 0:\n",
    "    def tf_interpolator(xOrig, yOrig):\n",
    "        xOrig = tf.constant(tf.convert_to_tensor(xOrig, dtype=tf.float64))\n",
    "        yOrig = tf.constant(tf.convert_to_tensor(yOrig, dtype=tf.float64))\n",
    "\n",
    "        N = xOrig.shape[0]\n",
    "        dx = xOrig[1]-xOrig[0]\n",
    "        x0 = xOrig[0]\n",
    "        xMax = xOrig[-1]\n",
    "        zero = tf.constant(0, dtype=tf.float64)\n",
    "        #@tf.function(experimental_compile=True)\n",
    "        def f(x):\n",
    "            #pdb.set_trace()\n",
    "            #ind = tf.math.floormod((x-x0), dx)\n",
    "\n",
    "            if x>=xMax or x<x0:\n",
    "                return zero#tf.constant(0., dtype=tf.float64);\n",
    "            else:\n",
    "                ind_f = tf.math.floordiv(x-x0, dx)\n",
    "                remainder = (x/dx- ind_f)\n",
    "                ind=tf.cast(ind_f, tf.int64)\n",
    "                #tf.print(remainder)\n",
    "                return (1.-remainder)*yOrig[ind] + remainder*yOrig[ind+1]\n",
    "        return f\n",
    "    def tf_interpolator2(xOrig, yOrig):\n",
    "        xOrig = tf.constant(tf.convert_to_tensor(xOrig, dtype=tf.float64))\n",
    "        #yOrig = tf.constant(tf.convert_to_tensor(yOrig, dtype=tf.float64))\n",
    "\n",
    "        N = xOrig.shape[0]\n",
    "        dx = xOrig[1]-xOrig[0]\n",
    "        x0 = xOrig[0]\n",
    "        xMax = xOrig[-1]\n",
    "        zero = tf.constant(0, dtype=tf.float64)\n",
    "        mask = tf.concat([tf.constant([0.5,0.5], dtype='float64'), tf.zeros(xOrig.shape[0]-2, dtype='float64') ], axis=0)\n",
    "        def f(x):\n",
    "            #pdb.set_trace()\n",
    "            #ind = tf.math.floormod((x-x0), dx)\n",
    "\n",
    "            if x>=xMax or x<x0:\n",
    "                return zero#tf.constant(0., dtype=tf.float64);\n",
    "            else:\n",
    "                ind = tf.math.floordiv(x-x0, dx)\n",
    "                remainder = x- ind*dx\n",
    "                ind=tf.cast(ind, tf.int64)\n",
    "                res = tf.roll(mask, ind, axis=0)*yOrig\n",
    "                return tf.reduce_sum(res)\n",
    "        return f\n",
    "\n"
   ]
  },
  {
   "cell_type": "code",
   "execution_count": 2,
   "metadata": {},
   "outputs": [
    {
     "name": "stdout",
     "output_type": "stream",
     "text": [
      "Munch({'tSym': t, 'dimSyms': [z], 'prop_state_syms': [x, y, v_x, v_y], 'stationary_state_syms': [], 'driving_syms': [], 'state_dep_syms': [D]})\n",
      "state dependent functions should have signature [t, z, x, y, v_x, v_y]\n"
     ]
    }
   ],
   "source": [
    "\n",
    "\n",
    "xS, yS, vxS, vyS = sm.symbols(\"x, y, v_x, v_y\", real=True)\n",
    "drvS = sm.symbols(\"D\", real=True)\n",
    "\n",
    "zS = sm.symbols(\"z\", real=True)\n",
    "#g= tf.constant(-10.0, dtype='float64')\n",
    "g = -10.\n",
    "dy_dtD = {xS:vxS, \n",
    "       yS:vyS ,\n",
    "       vxS:0 +0*zS,\n",
    "       vyS: g + drvS  }\n",
    "\n",
    "@tf.function(experimental_compile=True)\n",
    "def f_driving(t):\n",
    "    return 30*tf.sin(2*pi*t)\n",
    "\n",
    "\n",
    "tDrv = linspace(0,2,100)\n",
    "yDrv0 = 0*tf.sin(2*pi*tDrv) + 10\n",
    "#yDrv0 = tf.convert_to_tensor(yN.repeat(4), dtype='float64')\n",
    "ode_s = so.ODESolver(dy_dtD,  dims={zS:linspace(-2,2,10)}, backend='tensorflow', default_dtype='float64')\n",
    "ode_s.set_initial_conditions({xS:0,yS:0,vxS:10,vyS:10}) \n",
    "\n",
    "def calc_g(yDrv):\n",
    "    yDrv =tf.convert_to_tensor(yDrv, dtype='float64')\n",
    "    f_driving = tf.function(tf_interpolator2(tDrv, yDrv), experimental_compile=False)\n",
    "\n",
    "    ode_s.set_driving({drvS:f_driving})\n",
    "    ode_s.setup(bForceStateDimensions=True)\n",
    "    tSteps = linspace(0,1.8,20)\n",
    "\n",
    "    with tf.device(\"/cpu:0\"):\n",
    "        with tf.GradientTape(watch_accessed_variables=False) as g:\n",
    "            #g.watch(p0)\n",
    "            g.watch(yDrv)\n",
    "            #arr =ode_s.integrate(tSteps, 1.0)\n",
    "            tStart = time.time()\n",
    "            arr = ode_s.integrate(tDrv,1.0, method='rk4', solver_options=dict(step_size = (tDrv[1]-tDrv[0])/2 ) ) \n",
    "            print(\"time taken: \", tStart-time.time())\n",
    "            #print(arr.shape)\n",
    "            #L=tf.pow(tf.reduce_mean(arr[-1,1]), 2)\n",
    "            L=tf.reduce_mean(tf.pow(arr[-30:,1],2))\n",
    "            #L = arr[-8:,1, 1]**2\n",
    "            #L = arr[-5:,1]\n",
    "\n",
    "    print(L.numpy())\n",
    "    grad = g.gradient(L, yDrv)\n",
    "    return arr[:,1],grad, L"
   ]
  },
  {
   "cell_type": "code",
   "execution_count": 3,
   "metadata": {},
   "outputs": [
    {
     "name": "stdout",
     "output_type": "stream",
     "text": [
      "WARNING:tensorflow:@custom_gradient grad_fn has 'variables' in signature, but no ResourceVariables were used on the forward pass.\n",
      "WARNING:tensorflow:From /home/morgan/anaconda3/envs/spylind/lib/python3.8/site-packages/tensorflow_probability/python/math/ode/base.py:459: calling while_loop_v2 (from tensorflow.python.ops.control_flow_ops) with back_prop=False is deprecated and will be removed in a future version.\n",
      "Instructions for updating:\n",
      "back_prop=False is deprecated. Consider using tf.stop_gradient instead.\n",
      "Instead of:\n",
      "results = tf.while_loop(c, b, vars, back_prop=False)\n",
      "Use:\n",
      "results = tf.nest.map_structure(tf.stop_gradient, tf.while_loop(c, b, vars))\n",
      "WARNING:tensorflow:@custom_gradient grad_fn has 'variables' in signature, but no ResourceVariables were used on the forward pass.\n",
      "num function evaluations: 90\n",
      "time taken:  -2.6226775646209717\n",
      "294.76186990018005\n"
     ]
    },
    {
     "ename": "AttributeError",
     "evalue": "'NoneType' object has no attribute 'numpy'",
     "output_type": "error",
     "traceback": [
      "\u001b[0;31m---------------------------------------------------------------------------\u001b[0m",
      "\u001b[0;31mAttributeError\u001b[0m                            Traceback (most recent call last)",
      "\u001b[0;32m<ipython-input-3-00cfa6427428>\u001b[0m in \u001b[0;36m<module>\u001b[0;34m\u001b[0m\n\u001b[1;32m      3\u001b[0m     \u001b[0my\u001b[0m\u001b[0;34m,\u001b[0m \u001b[0mgrad\u001b[0m\u001b[0;34m,\u001b[0m \u001b[0mL\u001b[0m \u001b[0;34m=\u001b[0m\u001b[0mcalc_g\u001b[0m\u001b[0;34m(\u001b[0m\u001b[0myDrv\u001b[0m\u001b[0;34m)\u001b[0m\u001b[0;34m\u001b[0m\u001b[0;34m\u001b[0m\u001b[0m\n\u001b[1;32m      4\u001b[0m     \u001b[0;32mreturn\u001b[0m \u001b[0mL\u001b[0m\u001b[0;34m.\u001b[0m\u001b[0mnumpy\u001b[0m\u001b[0;34m(\u001b[0m\u001b[0;34m)\u001b[0m\u001b[0;34m.\u001b[0m\u001b[0msqueeze\u001b[0m\u001b[0;34m(\u001b[0m\u001b[0;34m)\u001b[0m\u001b[0;34m,\u001b[0m \u001b[0mgrad\u001b[0m\u001b[0;34m.\u001b[0m\u001b[0mnumpy\u001b[0m\u001b[0;34m(\u001b[0m\u001b[0;34m)\u001b[0m\u001b[0;34m\u001b[0m\u001b[0;34m\u001b[0m\u001b[0m\n\u001b[0;32m----> 5\u001b[0;31m \u001b[0mres\u001b[0m\u001b[0;34m=\u001b[0m\u001b[0moptimize\u001b[0m\u001b[0;34m.\u001b[0m\u001b[0mminimize\u001b[0m\u001b[0;34m(\u001b[0m\u001b[0mf\u001b[0m\u001b[0;34m,\u001b[0m \u001b[0myDrv0\u001b[0m\u001b[0;34m,\u001b[0m \u001b[0mjac\u001b[0m\u001b[0;34m=\u001b[0m\u001b[0;32mTrue\u001b[0m\u001b[0;34m)\u001b[0m\u001b[0;34m\u001b[0m\u001b[0;34m\u001b[0m\u001b[0m\n\u001b[0m\u001b[1;32m      6\u001b[0m \u001b[0;34m\u001b[0m\u001b[0m\n",
      "\u001b[0;32m~/anaconda3/envs/spylind/lib/python3.8/site-packages/scipy/optimize/_minimize.py\u001b[0m in \u001b[0;36mminimize\u001b[0;34m(fun, x0, args, method, jac, hess, hessp, bounds, constraints, tol, callback, options)\u001b[0m\n\u001b[1;32m    610\u001b[0m         \u001b[0;32mreturn\u001b[0m \u001b[0m_minimize_cg\u001b[0m\u001b[0;34m(\u001b[0m\u001b[0mfun\u001b[0m\u001b[0;34m,\u001b[0m \u001b[0mx0\u001b[0m\u001b[0;34m,\u001b[0m \u001b[0margs\u001b[0m\u001b[0;34m,\u001b[0m \u001b[0mjac\u001b[0m\u001b[0;34m,\u001b[0m \u001b[0mcallback\u001b[0m\u001b[0;34m,\u001b[0m \u001b[0;34m**\u001b[0m\u001b[0moptions\u001b[0m\u001b[0;34m)\u001b[0m\u001b[0;34m\u001b[0m\u001b[0;34m\u001b[0m\u001b[0m\n\u001b[1;32m    611\u001b[0m     \u001b[0;32melif\u001b[0m \u001b[0mmeth\u001b[0m \u001b[0;34m==\u001b[0m \u001b[0;34m'bfgs'\u001b[0m\u001b[0;34m:\u001b[0m\u001b[0;34m\u001b[0m\u001b[0;34m\u001b[0m\u001b[0m\n\u001b[0;32m--> 612\u001b[0;31m         \u001b[0;32mreturn\u001b[0m \u001b[0m_minimize_bfgs\u001b[0m\u001b[0;34m(\u001b[0m\u001b[0mfun\u001b[0m\u001b[0;34m,\u001b[0m \u001b[0mx0\u001b[0m\u001b[0;34m,\u001b[0m \u001b[0margs\u001b[0m\u001b[0;34m,\u001b[0m \u001b[0mjac\u001b[0m\u001b[0;34m,\u001b[0m \u001b[0mcallback\u001b[0m\u001b[0;34m,\u001b[0m \u001b[0;34m**\u001b[0m\u001b[0moptions\u001b[0m\u001b[0;34m)\u001b[0m\u001b[0;34m\u001b[0m\u001b[0;34m\u001b[0m\u001b[0m\n\u001b[0m\u001b[1;32m    613\u001b[0m     \u001b[0;32melif\u001b[0m \u001b[0mmeth\u001b[0m \u001b[0;34m==\u001b[0m \u001b[0;34m'newton-cg'\u001b[0m\u001b[0;34m:\u001b[0m\u001b[0;34m\u001b[0m\u001b[0;34m\u001b[0m\u001b[0m\n\u001b[1;32m    614\u001b[0m         return _minimize_newtoncg(fun, x0, args, jac, hess, hessp, callback,\n",
      "\u001b[0;32m~/anaconda3/envs/spylind/lib/python3.8/site-packages/scipy/optimize/optimize.py\u001b[0m in \u001b[0;36m_minimize_bfgs\u001b[0;34m(fun, x0, args, jac, callback, gtol, norm, eps, maxiter, disp, return_all, finite_diff_rel_step, **unknown_options)\u001b[0m\n\u001b[1;32m   1099\u001b[0m         \u001b[0mmaxiter\u001b[0m \u001b[0;34m=\u001b[0m \u001b[0mlen\u001b[0m\u001b[0;34m(\u001b[0m\u001b[0mx0\u001b[0m\u001b[0;34m)\u001b[0m \u001b[0;34m*\u001b[0m \u001b[0;36m200\u001b[0m\u001b[0;34m\u001b[0m\u001b[0;34m\u001b[0m\u001b[0m\n\u001b[1;32m   1100\u001b[0m \u001b[0;34m\u001b[0m\u001b[0m\n\u001b[0;32m-> 1101\u001b[0;31m     sf = _prepare_scalar_function(fun, x0, jac, args=args, epsilon=eps,\n\u001b[0m\u001b[1;32m   1102\u001b[0m                                   finite_diff_rel_step=finite_diff_rel_step)\n\u001b[1;32m   1103\u001b[0m \u001b[0;34m\u001b[0m\u001b[0m\n",
      "\u001b[0;32m~/anaconda3/envs/spylind/lib/python3.8/site-packages/scipy/optimize/optimize.py\u001b[0m in \u001b[0;36m_prepare_scalar_function\u001b[0;34m(fun, x0, jac, args, bounds, epsilon, finite_diff_rel_step, hess)\u001b[0m\n\u001b[1;32m    259\u001b[0m     \u001b[0;31m# ScalarFunction caches. Reuse of fun(x) during grad\u001b[0m\u001b[0;34m\u001b[0m\u001b[0;34m\u001b[0m\u001b[0;34m\u001b[0m\u001b[0m\n\u001b[1;32m    260\u001b[0m     \u001b[0;31m# calculation reduces overall function evaluations.\u001b[0m\u001b[0;34m\u001b[0m\u001b[0;34m\u001b[0m\u001b[0;34m\u001b[0m\u001b[0m\n\u001b[0;32m--> 261\u001b[0;31m     sf = ScalarFunction(fun, x0, args, grad, hess,\n\u001b[0m\u001b[1;32m    262\u001b[0m                         finite_diff_rel_step, bounds, epsilon=epsilon)\n\u001b[1;32m    263\u001b[0m \u001b[0;34m\u001b[0m\u001b[0m\n",
      "\u001b[0;32m~/anaconda3/envs/spylind/lib/python3.8/site-packages/scipy/optimize/_differentiable_functions.py\u001b[0m in \u001b[0;36m__init__\u001b[0;34m(self, fun, x0, args, grad, hess, finite_diff_rel_step, finite_diff_bounds, epsilon)\u001b[0m\n\u001b[1;32m     74\u001b[0m \u001b[0;34m\u001b[0m\u001b[0m\n\u001b[1;32m     75\u001b[0m         \u001b[0mself\u001b[0m\u001b[0;34m.\u001b[0m\u001b[0m_update_fun_impl\u001b[0m \u001b[0;34m=\u001b[0m \u001b[0mupdate_fun\u001b[0m\u001b[0;34m\u001b[0m\u001b[0;34m\u001b[0m\u001b[0m\n\u001b[0;32m---> 76\u001b[0;31m         \u001b[0mself\u001b[0m\u001b[0;34m.\u001b[0m\u001b[0m_update_fun\u001b[0m\u001b[0;34m(\u001b[0m\u001b[0;34m)\u001b[0m\u001b[0;34m\u001b[0m\u001b[0;34m\u001b[0m\u001b[0m\n\u001b[0m\u001b[1;32m     77\u001b[0m \u001b[0;34m\u001b[0m\u001b[0m\n\u001b[1;32m     78\u001b[0m         \u001b[0;31m# Gradient evaluation\u001b[0m\u001b[0;34m\u001b[0m\u001b[0;34m\u001b[0m\u001b[0;34m\u001b[0m\u001b[0m\n",
      "\u001b[0;32m~/anaconda3/envs/spylind/lib/python3.8/site-packages/scipy/optimize/_differentiable_functions.py\u001b[0m in \u001b[0;36m_update_fun\u001b[0;34m(self)\u001b[0m\n\u001b[1;32m    164\u001b[0m     \u001b[0;32mdef\u001b[0m \u001b[0m_update_fun\u001b[0m\u001b[0;34m(\u001b[0m\u001b[0mself\u001b[0m\u001b[0;34m)\u001b[0m\u001b[0;34m:\u001b[0m\u001b[0;34m\u001b[0m\u001b[0;34m\u001b[0m\u001b[0m\n\u001b[1;32m    165\u001b[0m         \u001b[0;32mif\u001b[0m \u001b[0;32mnot\u001b[0m \u001b[0mself\u001b[0m\u001b[0;34m.\u001b[0m\u001b[0mf_updated\u001b[0m\u001b[0;34m:\u001b[0m\u001b[0;34m\u001b[0m\u001b[0;34m\u001b[0m\u001b[0m\n\u001b[0;32m--> 166\u001b[0;31m             \u001b[0mself\u001b[0m\u001b[0;34m.\u001b[0m\u001b[0m_update_fun_impl\u001b[0m\u001b[0;34m(\u001b[0m\u001b[0;34m)\u001b[0m\u001b[0;34m\u001b[0m\u001b[0;34m\u001b[0m\u001b[0m\n\u001b[0m\u001b[1;32m    167\u001b[0m             \u001b[0mself\u001b[0m\u001b[0;34m.\u001b[0m\u001b[0mf_updated\u001b[0m \u001b[0;34m=\u001b[0m \u001b[0;32mTrue\u001b[0m\u001b[0;34m\u001b[0m\u001b[0;34m\u001b[0m\u001b[0m\n\u001b[1;32m    168\u001b[0m \u001b[0;34m\u001b[0m\u001b[0m\n",
      "\u001b[0;32m~/anaconda3/envs/spylind/lib/python3.8/site-packages/scipy/optimize/_differentiable_functions.py\u001b[0m in \u001b[0;36mupdate_fun\u001b[0;34m()\u001b[0m\n\u001b[1;32m     71\u001b[0m \u001b[0;34m\u001b[0m\u001b[0m\n\u001b[1;32m     72\u001b[0m         \u001b[0;32mdef\u001b[0m \u001b[0mupdate_fun\u001b[0m\u001b[0;34m(\u001b[0m\u001b[0;34m)\u001b[0m\u001b[0;34m:\u001b[0m\u001b[0;34m\u001b[0m\u001b[0;34m\u001b[0m\u001b[0m\n\u001b[0;32m---> 73\u001b[0;31m             \u001b[0mself\u001b[0m\u001b[0;34m.\u001b[0m\u001b[0mf\u001b[0m \u001b[0;34m=\u001b[0m \u001b[0mfun_wrapped\u001b[0m\u001b[0;34m(\u001b[0m\u001b[0mself\u001b[0m\u001b[0;34m.\u001b[0m\u001b[0mx\u001b[0m\u001b[0;34m)\u001b[0m\u001b[0;34m\u001b[0m\u001b[0;34m\u001b[0m\u001b[0m\n\u001b[0m\u001b[1;32m     74\u001b[0m \u001b[0;34m\u001b[0m\u001b[0m\n\u001b[1;32m     75\u001b[0m         \u001b[0mself\u001b[0m\u001b[0;34m.\u001b[0m\u001b[0m_update_fun_impl\u001b[0m \u001b[0;34m=\u001b[0m \u001b[0mupdate_fun\u001b[0m\u001b[0;34m\u001b[0m\u001b[0;34m\u001b[0m\u001b[0m\n",
      "\u001b[0;32m~/anaconda3/envs/spylind/lib/python3.8/site-packages/scipy/optimize/_differentiable_functions.py\u001b[0m in \u001b[0;36mfun_wrapped\u001b[0;34m(x)\u001b[0m\n\u001b[1;32m     68\u001b[0m         \u001b[0;32mdef\u001b[0m \u001b[0mfun_wrapped\u001b[0m\u001b[0;34m(\u001b[0m\u001b[0mx\u001b[0m\u001b[0;34m)\u001b[0m\u001b[0;34m:\u001b[0m\u001b[0;34m\u001b[0m\u001b[0;34m\u001b[0m\u001b[0m\n\u001b[1;32m     69\u001b[0m             \u001b[0mself\u001b[0m\u001b[0;34m.\u001b[0m\u001b[0mnfev\u001b[0m \u001b[0;34m+=\u001b[0m \u001b[0;36m1\u001b[0m\u001b[0;34m\u001b[0m\u001b[0;34m\u001b[0m\u001b[0m\n\u001b[0;32m---> 70\u001b[0;31m             \u001b[0;32mreturn\u001b[0m \u001b[0mfun\u001b[0m\u001b[0;34m(\u001b[0m\u001b[0mx\u001b[0m\u001b[0;34m,\u001b[0m \u001b[0;34m*\u001b[0m\u001b[0margs\u001b[0m\u001b[0;34m)\u001b[0m\u001b[0;34m\u001b[0m\u001b[0;34m\u001b[0m\u001b[0m\n\u001b[0m\u001b[1;32m     71\u001b[0m \u001b[0;34m\u001b[0m\u001b[0m\n\u001b[1;32m     72\u001b[0m         \u001b[0;32mdef\u001b[0m \u001b[0mupdate_fun\u001b[0m\u001b[0;34m(\u001b[0m\u001b[0;34m)\u001b[0m\u001b[0;34m:\u001b[0m\u001b[0;34m\u001b[0m\u001b[0;34m\u001b[0m\u001b[0m\n",
      "\u001b[0;32m~/anaconda3/envs/spylind/lib/python3.8/site-packages/scipy/optimize/optimize.py\u001b[0m in \u001b[0;36m__call__\u001b[0;34m(self, x, *args)\u001b[0m\n\u001b[1;32m     72\u001b[0m     \u001b[0;32mdef\u001b[0m \u001b[0m__call__\u001b[0m\u001b[0;34m(\u001b[0m\u001b[0mself\u001b[0m\u001b[0;34m,\u001b[0m \u001b[0mx\u001b[0m\u001b[0;34m,\u001b[0m \u001b[0;34m*\u001b[0m\u001b[0margs\u001b[0m\u001b[0;34m)\u001b[0m\u001b[0;34m:\u001b[0m\u001b[0;34m\u001b[0m\u001b[0;34m\u001b[0m\u001b[0m\n\u001b[1;32m     73\u001b[0m         \u001b[0;34m\"\"\" returns the the function value \"\"\"\u001b[0m\u001b[0;34m\u001b[0m\u001b[0;34m\u001b[0m\u001b[0m\n\u001b[0;32m---> 74\u001b[0;31m         \u001b[0mself\u001b[0m\u001b[0;34m.\u001b[0m\u001b[0m_compute_if_needed\u001b[0m\u001b[0;34m(\u001b[0m\u001b[0mx\u001b[0m\u001b[0;34m,\u001b[0m \u001b[0;34m*\u001b[0m\u001b[0margs\u001b[0m\u001b[0;34m)\u001b[0m\u001b[0;34m\u001b[0m\u001b[0;34m\u001b[0m\u001b[0m\n\u001b[0m\u001b[1;32m     75\u001b[0m         \u001b[0;32mreturn\u001b[0m \u001b[0mself\u001b[0m\u001b[0;34m.\u001b[0m\u001b[0m_value\u001b[0m\u001b[0;34m\u001b[0m\u001b[0;34m\u001b[0m\u001b[0m\n\u001b[1;32m     76\u001b[0m \u001b[0;34m\u001b[0m\u001b[0m\n",
      "\u001b[0;32m~/anaconda3/envs/spylind/lib/python3.8/site-packages/scipy/optimize/optimize.py\u001b[0m in \u001b[0;36m_compute_if_needed\u001b[0;34m(self, x, *args)\u001b[0m\n\u001b[1;32m     66\u001b[0m         \u001b[0;32mif\u001b[0m \u001b[0;32mnot\u001b[0m \u001b[0mnp\u001b[0m\u001b[0;34m.\u001b[0m\u001b[0mall\u001b[0m\u001b[0;34m(\u001b[0m\u001b[0mx\u001b[0m \u001b[0;34m==\u001b[0m \u001b[0mself\u001b[0m\u001b[0;34m.\u001b[0m\u001b[0mx\u001b[0m\u001b[0;34m)\u001b[0m \u001b[0;32mor\u001b[0m \u001b[0mself\u001b[0m\u001b[0;34m.\u001b[0m\u001b[0m_value\u001b[0m \u001b[0;32mis\u001b[0m \u001b[0;32mNone\u001b[0m \u001b[0;32mor\u001b[0m \u001b[0mself\u001b[0m\u001b[0;34m.\u001b[0m\u001b[0mjac\u001b[0m \u001b[0;32mis\u001b[0m \u001b[0;32mNone\u001b[0m\u001b[0;34m:\u001b[0m\u001b[0;34m\u001b[0m\u001b[0;34m\u001b[0m\u001b[0m\n\u001b[1;32m     67\u001b[0m             \u001b[0mself\u001b[0m\u001b[0;34m.\u001b[0m\u001b[0mx\u001b[0m \u001b[0;34m=\u001b[0m \u001b[0mnp\u001b[0m\u001b[0;34m.\u001b[0m\u001b[0masarray\u001b[0m\u001b[0;34m(\u001b[0m\u001b[0mx\u001b[0m\u001b[0;34m)\u001b[0m\u001b[0;34m.\u001b[0m\u001b[0mcopy\u001b[0m\u001b[0;34m(\u001b[0m\u001b[0;34m)\u001b[0m\u001b[0;34m\u001b[0m\u001b[0;34m\u001b[0m\u001b[0m\n\u001b[0;32m---> 68\u001b[0;31m             \u001b[0mfg\u001b[0m \u001b[0;34m=\u001b[0m \u001b[0mself\u001b[0m\u001b[0;34m.\u001b[0m\u001b[0mfun\u001b[0m\u001b[0;34m(\u001b[0m\u001b[0mx\u001b[0m\u001b[0;34m,\u001b[0m \u001b[0;34m*\u001b[0m\u001b[0margs\u001b[0m\u001b[0;34m)\u001b[0m\u001b[0;34m\u001b[0m\u001b[0;34m\u001b[0m\u001b[0m\n\u001b[0m\u001b[1;32m     69\u001b[0m             \u001b[0mself\u001b[0m\u001b[0;34m.\u001b[0m\u001b[0mjac\u001b[0m \u001b[0;34m=\u001b[0m \u001b[0mfg\u001b[0m\u001b[0;34m[\u001b[0m\u001b[0;36m1\u001b[0m\u001b[0;34m]\u001b[0m\u001b[0;34m\u001b[0m\u001b[0;34m\u001b[0m\u001b[0m\n\u001b[1;32m     70\u001b[0m             \u001b[0mself\u001b[0m\u001b[0;34m.\u001b[0m\u001b[0m_value\u001b[0m \u001b[0;34m=\u001b[0m \u001b[0mfg\u001b[0m\u001b[0;34m[\u001b[0m\u001b[0;36m0\u001b[0m\u001b[0;34m]\u001b[0m\u001b[0;34m\u001b[0m\u001b[0;34m\u001b[0m\u001b[0m\n",
      "\u001b[0;32m<ipython-input-3-00cfa6427428>\u001b[0m in \u001b[0;36mf\u001b[0;34m(yDrv)\u001b[0m\n\u001b[1;32m      2\u001b[0m \u001b[0;32mdef\u001b[0m \u001b[0mf\u001b[0m\u001b[0;34m(\u001b[0m\u001b[0myDrv\u001b[0m\u001b[0;34m)\u001b[0m\u001b[0;34m:\u001b[0m\u001b[0;34m\u001b[0m\u001b[0;34m\u001b[0m\u001b[0m\n\u001b[1;32m      3\u001b[0m     \u001b[0my\u001b[0m\u001b[0;34m,\u001b[0m \u001b[0mgrad\u001b[0m\u001b[0;34m,\u001b[0m \u001b[0mL\u001b[0m \u001b[0;34m=\u001b[0m\u001b[0mcalc_g\u001b[0m\u001b[0;34m(\u001b[0m\u001b[0myDrv\u001b[0m\u001b[0;34m)\u001b[0m\u001b[0;34m\u001b[0m\u001b[0;34m\u001b[0m\u001b[0m\n\u001b[0;32m----> 4\u001b[0;31m     \u001b[0;32mreturn\u001b[0m \u001b[0mL\u001b[0m\u001b[0;34m.\u001b[0m\u001b[0mnumpy\u001b[0m\u001b[0;34m(\u001b[0m\u001b[0;34m)\u001b[0m\u001b[0;34m.\u001b[0m\u001b[0msqueeze\u001b[0m\u001b[0;34m(\u001b[0m\u001b[0;34m)\u001b[0m\u001b[0;34m,\u001b[0m \u001b[0mgrad\u001b[0m\u001b[0;34m.\u001b[0m\u001b[0mnumpy\u001b[0m\u001b[0;34m(\u001b[0m\u001b[0;34m)\u001b[0m\u001b[0;34m\u001b[0m\u001b[0;34m\u001b[0m\u001b[0m\n\u001b[0m\u001b[1;32m      5\u001b[0m \u001b[0mres\u001b[0m\u001b[0;34m=\u001b[0m\u001b[0moptimize\u001b[0m\u001b[0;34m.\u001b[0m\u001b[0mminimize\u001b[0m\u001b[0;34m(\u001b[0m\u001b[0mf\u001b[0m\u001b[0;34m,\u001b[0m \u001b[0myDrv0\u001b[0m\u001b[0;34m,\u001b[0m \u001b[0mjac\u001b[0m\u001b[0;34m=\u001b[0m\u001b[0;32mTrue\u001b[0m\u001b[0;34m)\u001b[0m\u001b[0;34m\u001b[0m\u001b[0;34m\u001b[0m\u001b[0m\n\u001b[1;32m      6\u001b[0m \u001b[0;34m\u001b[0m\u001b[0m\n",
      "\u001b[0;31mAttributeError\u001b[0m: 'NoneType' object has no attribute 'numpy'"
     ]
    }
   ],
   "source": [
    "from scipy import optimize\n",
    "def f(yDrv):\n",
    "    y, grad, L =calc_g(yDrv)\n",
    "    return L.numpy().squeeze(), grad.numpy()\n",
    "res=optimize.minimize(f, yDrv0, jac=True)\n",
    " "
   ]
  },
  {
   "cell_type": "code",
   "execution_count": 75,
   "metadata": {},
   "outputs": [
    {
     "name": "stdout",
     "output_type": "stream",
     "text": [
      "Nevals: <tf.Variable 'Variable:0' shape=() dtype=int32, numpy=792>\n",
      "time taken:  -1.4418601989746094\n",
      "3.0830106257856106e-06\n"
     ]
    }
   ],
   "source": [
    "y,grad,L= calc_g(res.x)"
   ]
  },
  {
   "cell_type": "code",
   "execution_count": 76,
   "metadata": {},
   "outputs": [
    {
     "data": {
      "text/plain": [
       "[<matplotlib.lines.Line2D at 0x74b627e88e20>,\n",
       " <matplotlib.lines.Line2D at 0x74b640135a30>,\n",
       " <matplotlib.lines.Line2D at 0x74b6401351f0>,\n",
       " <matplotlib.lines.Line2D at 0x74b640135d60>,\n",
       " <matplotlib.lines.Line2D at 0x74b640135760>,\n",
       " <matplotlib.lines.Line2D at 0x74b640135220>,\n",
       " <matplotlib.lines.Line2D at 0x74b625f23dc0>,\n",
       " <matplotlib.lines.Line2D at 0x74b625f23610>,\n",
       " <matplotlib.lines.Line2D at 0x74b625f232e0>,\n",
       " <matplotlib.lines.Line2D at 0x74b625f238b0>]"
      ]
     },
     "execution_count": 76,
     "metadata": {},
     "output_type": "execute_result"
    },
    {
     "data": {
      "image/png": "[encoded data removed]",
      "text/plain": [
       "<Figure size 460.8x316.8 with 1 Axes>"
      ]
     },
     "metadata": {
      "needs_background": "light"
     },
     "output_type": "display_data"
    }
   ],
   "source": [
    "plot(y)"
   ]
  },
  {
   "cell_type": "code",
   "execution_count": 36,
   "metadata": {},
   "outputs": [
    {
     "name": "stdout",
     "output_type": "stream",
     "text": [
      "Nevals: <tf.Variable 'Variable:0' shape=() dtype=int32, numpy=152>\n",
      "time taken:  -0.5739936828613281\n",
      "322.4376731301938\n"
     ]
    },
    {
     "data": {
      "text/plain": [
       "[<matplotlib.lines.Line2D at 0x74b6402da970>]"
      ]
     },
     "execution_count": 36,
     "metadata": {},
     "output_type": "execute_result"
    },
    {
     "data": {
      "image/png": "[encoded data removed]",
      "text/plain": [
       "<Figure size 460.8x316.8 with 1 Axes>"
      ]
     },
     "metadata": {
      "needs_background": "light"
     },
     "output_type": "display_data"
    },
    {
     "data": {
      "image/png": "[encoded data removed]",
      "text/plain": [
       "<Figure size 460.8x316.8 with 1 Axes>"
      ]
     },
     "metadata": {
      "needs_background": "light"
     },
     "output_type": "display_data"
    }
   ],
   "source": [
    "grad, yVals =calc_g(1*yDrv0)\n",
    "plot(yVals)\n",
    "figure()\n",
    "plot(grad)"
   ]
  },
  {
   "cell_type": "code",
   "execution_count": 49,
   "metadata": {},
   "outputs": [
    {
     "name": "stdout",
     "output_type": "stream",
     "text": [
      "Nevals: <tf.Variable 'Variable:0' shape=() dtype=int32, numpy=152>\n",
      "time taken:  -0.6864047050476074\n",
      "0.4774245330185216\n",
      "Nevals: <tf.Variable 'Variable:0' shape=() dtype=int32, numpy=152>\n",
      "time taken:  -0.6651170253753662\n",
      "0.4710911934104487\n",
      "Nevals: <tf.Variable 'Variable:0' shape=() dtype=int32, numpy=152>\n",
      "time taken:  -0.5408155918121338\n",
      "0.46484233992072505\n",
      "Nevals: <tf.Variable 'Variable:0' shape=() dtype=int32, numpy=152>\n",
      "time taken:  -0.5213944911956787\n",
      "0.4586768453824449\n",
      "Nevals: <tf.Variable 'Variable:0' shape=() dtype=int32, numpy=152>\n",
      "time taken:  -0.5175118446350098\n",
      "0.45259359766677526\n",
      "Nevals: <tf.Variable 'Variable:0' shape=() dtype=int32, numpy=152>\n",
      "time taken:  -0.5104200839996338\n",
      "0.44659149948232646\n",
      "Nevals: <tf.Variable 'Variable:0' shape=() dtype=int32, numpy=152>\n",
      "time taken:  -0.5033252239227295\n",
      "0.4406694681771968\n",
      "Nevals: <tf.Variable 'Variable:0' shape=() dtype=int32, numpy=152>\n",
      "time taken:  -0.4954051971435547\n",
      "0.4348264355436618\n",
      "Nevals: <tf.Variable 'Variable:0' shape=() dtype=int32, numpy=152>\n",
      "time taken:  -0.5364322662353516\n",
      "0.42906134762546766\n"
     ]
    },
    {
     "ename": "KeyboardInterrupt",
     "evalue": "",
     "output_type": "error",
     "traceback": [
      "\u001b[0;31m---------------------------------------------------------------------------\u001b[0m",
      "\u001b[0;31mKeyboardInterrupt\u001b[0m                         Traceback (most recent call last)",
      "\u001b[0;32m<ipython-input-49-f44341c1579b>\u001b[0m in \u001b[0;36m<module>\u001b[0;34m\u001b[0m\n\u001b[1;32m      4\u001b[0m \u001b[0myValsL\u001b[0m \u001b[0;34m=\u001b[0m \u001b[0;34m[\u001b[0m\u001b[0;34m]\u001b[0m\u001b[0;34m\u001b[0m\u001b[0;34m\u001b[0m\u001b[0m\n\u001b[1;32m      5\u001b[0m \u001b[0;32mfor\u001b[0m \u001b[0mk\u001b[0m \u001b[0;32min\u001b[0m \u001b[0mrange\u001b[0m\u001b[0;34m(\u001b[0m\u001b[0;36m30\u001b[0m\u001b[0;34m)\u001b[0m\u001b[0;34m:\u001b[0m\u001b[0;34m\u001b[0m\u001b[0;34m\u001b[0m\u001b[0m\n\u001b[0;32m----> 6\u001b[0;31m     \u001b[0mgrad\u001b[0m\u001b[0;34m,\u001b[0m \u001b[0myVals\u001b[0m \u001b[0;34m=\u001b[0m\u001b[0mcalc_g\u001b[0m\u001b[0;34m(\u001b[0m\u001b[0myDrv\u001b[0m\u001b[0;34m)\u001b[0m\u001b[0;34m\u001b[0m\u001b[0;34m\u001b[0m\u001b[0m\n\u001b[0m\u001b[1;32m      7\u001b[0m     \u001b[0myDrv\u001b[0m \u001b[0;34m=\u001b[0m \u001b[0myDrv\u001b[0m \u001b[0;34m-\u001b[0m \u001b[0;36m4\u001b[0m\u001b[0;34m*\u001b[0m\u001b[0mgrad\u001b[0m\u001b[0;34m\u001b[0m\u001b[0;34m\u001b[0m\u001b[0m\n\u001b[1;32m      8\u001b[0m     \u001b[0myDrvL\u001b[0m\u001b[0;34m.\u001b[0m\u001b[0mappend\u001b[0m\u001b[0;34m(\u001b[0m\u001b[0myDrv\u001b[0m\u001b[0;34m)\u001b[0m\u001b[0;34m\u001b[0m\u001b[0;34m\u001b[0m\u001b[0m\n",
      "\u001b[0;32m<ipython-input-35-759a1614828c>\u001b[0m in \u001b[0;36mcalc_g\u001b[0;34m(yDrv)\u001b[0m\n\u001b[1;32m     34\u001b[0m             \u001b[0;31m#arr =ode_s.integrate(tSteps, 1.0)\u001b[0m\u001b[0;34m\u001b[0m\u001b[0;34m\u001b[0m\u001b[0;34m\u001b[0m\u001b[0m\n\u001b[1;32m     35\u001b[0m             \u001b[0mtStart\u001b[0m \u001b[0;34m=\u001b[0m \u001b[0mtime\u001b[0m\u001b[0;34m.\u001b[0m\u001b[0mtime\u001b[0m\u001b[0;34m(\u001b[0m\u001b[0;34m)\u001b[0m\u001b[0;34m\u001b[0m\u001b[0;34m\u001b[0m\u001b[0m\n\u001b[0;32m---> 36\u001b[0;31m             \u001b[0marr\u001b[0m \u001b[0;34m=\u001b[0m \u001b[0mode_s\u001b[0m\u001b[0;34m.\u001b[0m\u001b[0mintegrate\u001b[0m\u001b[0;34m(\u001b[0m\u001b[0mtDrv\u001b[0m\u001b[0;34m,\u001b[0m\u001b[0;36m1.0\u001b[0m\u001b[0;34m,\u001b[0m \u001b[0mmethod\u001b[0m\u001b[0;34m=\u001b[0m\u001b[0;34m'rk4'\u001b[0m\u001b[0;34m,\u001b[0m \u001b[0msolver_options\u001b[0m\u001b[0;34m=\u001b[0m\u001b[0mdict\u001b[0m\u001b[0;34m(\u001b[0m\u001b[0mstep_size\u001b[0m \u001b[0;34m=\u001b[0m \u001b[0;34m(\u001b[0m\u001b[0mtDrv\u001b[0m\u001b[0;34m[\u001b[0m\u001b[0;36m1\u001b[0m\u001b[0;34m]\u001b[0m\u001b[0;34m-\u001b[0m\u001b[0mtDrv\u001b[0m\u001b[0;34m[\u001b[0m\u001b[0;36m0\u001b[0m\u001b[0;34m]\u001b[0m\u001b[0;34m)\u001b[0m\u001b[0;34m/\u001b[0m\u001b[0;36m2\u001b[0m \u001b[0;34m)\u001b[0m \u001b[0;34m)\u001b[0m\u001b[0;34m\u001b[0m\u001b[0;34m\u001b[0m\u001b[0m\n\u001b[0m\u001b[1;32m     37\u001b[0m             \u001b[0mprint\u001b[0m\u001b[0;34m(\u001b[0m\u001b[0;34m\"time taken: \"\u001b[0m\u001b[0;34m,\u001b[0m \u001b[0mtStart\u001b[0m\u001b[0;34m-\u001b[0m\u001b[0mtime\u001b[0m\u001b[0;34m.\u001b[0m\u001b[0mtime\u001b[0m\u001b[0;34m(\u001b[0m\u001b[0;34m)\u001b[0m\u001b[0;34m)\u001b[0m\u001b[0;34m\u001b[0m\u001b[0;34m\u001b[0m\u001b[0m\n\u001b[1;32m     38\u001b[0m             \u001b[0;31m#print(arr.shape)\u001b[0m\u001b[0;34m\u001b[0m\u001b[0;34m\u001b[0m\u001b[0;34m\u001b[0m\u001b[0m\n",
      "\u001b[0;32m~/sd_base/home_dir/git/spylind/spylind/spyIVP.py\u001b[0m in \u001b[0;36mintegrate\u001b[0;34m(self, tSteps, max_step_size, atol, rtol, method, solver_options)\u001b[0m\n\u001b[1;32m    797\u001b[0m             \u001b[0;31m#dt(0.1, y_init)\u001b[0m\u001b[0;34m\u001b[0m\u001b[0;34m\u001b[0m\u001b[0;34m\u001b[0m\u001b[0m\n\u001b[1;32m    798\u001b[0m             \u001b[0mtf_model\u001b[0m \u001b[0;34m=\u001b[0m \u001b[0mTFdy_dt\u001b[0m\u001b[0;34m(\u001b[0m\u001b[0mf\u001b[0m\u001b[0;34m=\u001b[0m\u001b[0mself\u001b[0m\u001b[0;34m.\u001b[0m\u001b[0md_dt_fast\u001b[0m\u001b[0;34m.\u001b[0m\u001b[0m__call__\u001b[0m\u001b[0;34m)\u001b[0m\u001b[0;34m\u001b[0m\u001b[0;34m\u001b[0m\u001b[0m\n\u001b[0;32m--> 799\u001b[0;31m             \u001b[0msol\u001b[0m \u001b[0;34m=\u001b[0m \u001b[0mtfdiffeq\u001b[0m\u001b[0;34m.\u001b[0m\u001b[0modeint\u001b[0m\u001b[0;34m(\u001b[0m\u001b[0mtf_model\u001b[0m\u001b[0;34m,\u001b[0m \u001b[0my_init\u001b[0m\u001b[0;34m,\u001b[0m \u001b[0mtSteps_T\u001b[0m\u001b[0;34m,\u001b[0m \u001b[0mmethod\u001b[0m\u001b[0;34m=\u001b[0m\u001b[0mmethod\u001b[0m\u001b[0;34m,\u001b[0m \u001b[0matol\u001b[0m\u001b[0;34m=\u001b[0m\u001b[0matol\u001b[0m\u001b[0;34m,\u001b[0m \u001b[0mrtol\u001b[0m\u001b[0;34m=\u001b[0m\u001b[0mrtol\u001b[0m\u001b[0;34m,\u001b[0m \u001b[0moptions\u001b[0m\u001b[0;34m=\u001b[0m\u001b[0msolver_options\u001b[0m\u001b[0;34m)\u001b[0m\u001b[0;34m\u001b[0m\u001b[0;34m\u001b[0m\u001b[0m\n\u001b[0m\u001b[1;32m    800\u001b[0m             \u001b[0mprint\u001b[0m\u001b[0;34m(\u001b[0m\u001b[0;34m\"Nevals: {}\"\u001b[0m\u001b[0;34m.\u001b[0m\u001b[0mformat\u001b[0m\u001b[0;34m(\u001b[0m\u001b[0mtf_model\u001b[0m\u001b[0;34m.\u001b[0m\u001b[0mNevals\u001b[0m\u001b[0;34m)\u001b[0m\u001b[0;34m)\u001b[0m\u001b[0;34m\u001b[0m\u001b[0;34m\u001b[0m\u001b[0m\n\u001b[1;32m    801\u001b[0m             \u001b[0;31m#dErr_dIn = g.gradient(err_func, params )\u001b[0m\u001b[0;34m\u001b[0m\u001b[0;34m\u001b[0m\u001b[0;34m\u001b[0m\u001b[0m\n",
      "\u001b[0;32m~/sd_base/home_dir/git/tfdiffeq/tfdiffeq/odeint.py\u001b[0m in \u001b[0;36modeint\u001b[0;34m(func, y0, t, rtol, atol, method, options)\u001b[0m\n\u001b[1;32m     76\u001b[0m         \u001b[0mmethod\u001b[0m \u001b[0;34m=\u001b[0m \u001b[0;34m'dopri5'\u001b[0m\u001b[0;34m\u001b[0m\u001b[0;34m\u001b[0m\u001b[0m\n\u001b[1;32m     77\u001b[0m     \u001b[0msolver\u001b[0m \u001b[0;34m=\u001b[0m \u001b[0mSOLVERS\u001b[0m\u001b[0;34m[\u001b[0m\u001b[0mmethod\u001b[0m\u001b[0;34m]\u001b[0m\u001b[0;34m(\u001b[0m\u001b[0mfunc\u001b[0m\u001b[0;34m,\u001b[0m \u001b[0my0\u001b[0m\u001b[0;34m,\u001b[0m \u001b[0mrtol\u001b[0m\u001b[0;34m=\u001b[0m\u001b[0mrtol\u001b[0m\u001b[0;34m,\u001b[0m \u001b[0matol\u001b[0m\u001b[0;34m=\u001b[0m\u001b[0matol\u001b[0m\u001b[0;34m,\u001b[0m \u001b[0;34m**\u001b[0m\u001b[0moptions\u001b[0m\u001b[0;34m)\u001b[0m\u001b[0;34m\u001b[0m\u001b[0;34m\u001b[0m\u001b[0m\n\u001b[0;32m---> 78\u001b[0;31m     \u001b[0msolution\u001b[0m \u001b[0;34m=\u001b[0m \u001b[0msolver\u001b[0m\u001b[0;34m.\u001b[0m\u001b[0mintegrate\u001b[0m\u001b[0;34m(\u001b[0m\u001b[0mt\u001b[0m\u001b[0;34m)\u001b[0m\u001b[0;34m\u001b[0m\u001b[0;34m\u001b[0m\u001b[0m\n\u001b[0m\u001b[1;32m     79\u001b[0m     \u001b[0;32mif\u001b[0m \u001b[0mtensor_input\u001b[0m\u001b[0;34m:\u001b[0m\u001b[0;34m\u001b[0m\u001b[0;34m\u001b[0m\u001b[0m\n\u001b[1;32m     80\u001b[0m         \u001b[0msolution\u001b[0m \u001b[0;34m=\u001b[0m \u001b[0msolution\u001b[0m\u001b[0;34m[\u001b[0m\u001b[0;36m0\u001b[0m\u001b[0;34m]\u001b[0m\u001b[0;34m\u001b[0m\u001b[0;34m\u001b[0m\u001b[0m\n",
      "\u001b[0;32m~/sd_base/home_dir/git/tfdiffeq/tfdiffeq/solvers.py\u001b[0m in \u001b[0;36mintegrate\u001b[0;34m(self, t)\u001b[0m\n\u001b[1;32m     97\u001b[0m             \u001b[0my1\u001b[0m \u001b[0;34m=\u001b[0m \u001b[0mtuple\u001b[0m\u001b[0;34m(\u001b[0m\u001b[0my0_\u001b[0m \u001b[0;34m+\u001b[0m \u001b[0mdy_\u001b[0m \u001b[0;32mfor\u001b[0m \u001b[0my0_\u001b[0m\u001b[0;34m,\u001b[0m \u001b[0mdy_\u001b[0m \u001b[0;32min\u001b[0m \u001b[0mzip\u001b[0m\u001b[0;34m(\u001b[0m\u001b[0my0\u001b[0m\u001b[0;34m,\u001b[0m \u001b[0mdy\u001b[0m\u001b[0;34m)\u001b[0m\u001b[0;34m)\u001b[0m\u001b[0;34m\u001b[0m\u001b[0;34m\u001b[0m\u001b[0m\n\u001b[1;32m     98\u001b[0m \u001b[0;34m\u001b[0m\u001b[0m\n\u001b[0;32m---> 99\u001b[0;31m             \u001b[0;32mwhile\u001b[0m \u001b[0mj\u001b[0m \u001b[0;34m<\u001b[0m \u001b[0mt\u001b[0m\u001b[0;34m.\u001b[0m\u001b[0mshape\u001b[0m\u001b[0;34m[\u001b[0m\u001b[0;36m0\u001b[0m\u001b[0;34m]\u001b[0m \u001b[0;32mand\u001b[0m \u001b[0mt1\u001b[0m \u001b[0;34m>=\u001b[0m \u001b[0mt\u001b[0m\u001b[0;34m[\u001b[0m\u001b[0mj\u001b[0m\u001b[0;34m]\u001b[0m\u001b[0;34m:\u001b[0m\u001b[0;34m\u001b[0m\u001b[0;34m\u001b[0m\u001b[0m\n\u001b[0m\u001b[1;32m    100\u001b[0m                 \u001b[0my\u001b[0m \u001b[0;34m=\u001b[0m \u001b[0mself\u001b[0m\u001b[0;34m.\u001b[0m\u001b[0m_linear_interp\u001b[0m\u001b[0;34m(\u001b[0m\u001b[0mt0\u001b[0m\u001b[0;34m,\u001b[0m \u001b[0mt1\u001b[0m\u001b[0;34m,\u001b[0m \u001b[0my0\u001b[0m\u001b[0;34m,\u001b[0m \u001b[0my1\u001b[0m\u001b[0;34m,\u001b[0m \u001b[0mt\u001b[0m\u001b[0;34m[\u001b[0m\u001b[0mj\u001b[0m\u001b[0;34m]\u001b[0m\u001b[0;34m)\u001b[0m\u001b[0;34m\u001b[0m\u001b[0;34m\u001b[0m\u001b[0m\n\u001b[1;32m    101\u001b[0m                 \u001b[0msolution\u001b[0m\u001b[0;34m.\u001b[0m\u001b[0mappend\u001b[0m\u001b[0;34m(\u001b[0m\u001b[0my\u001b[0m\u001b[0;34m)\u001b[0m\u001b[0;34m\u001b[0m\u001b[0;34m\u001b[0m\u001b[0m\n",
      "\u001b[0;31mKeyboardInterrupt\u001b[0m: "
     ]
    }
   ],
   "source": [
    "#yDrv = tf.identity(yDrv0)\n",
    "yDrvL = []\n",
    "gradL = []\n",
    "yValsL = []\n",
    "for k in range(30):\n",
    "    grad, yVals =calc_g(yDrv)\n",
    "    yDrv = yDrv - 4*grad\n",
    "    yDrvL.append(yDrv)\n",
    "    gradL.append(grad)\n",
    "    yValsL.append(yVals)"
   ]
  },
  {
   "cell_type": "code",
   "execution_count": 51,
   "metadata": {},
   "outputs": [
    {
     "data": {
      "image/png": "[encoded data removed]",
      "text/plain": [
       "<Figure size 460.8x316.8 with 1 Axes>"
      ]
     },
     "metadata": {
      "needs_background": "light"
     },
     "output_type": "display_data"
    },
    {
     "data": {
      "image/png": "[encoded data removed]",
      "text/plain": [
       "<Figure size 460.8x316.8 with 1 Axes>"
      ]
     },
     "metadata": {
      "needs_background": "light"
     },
     "output_type": "display_data"
    },
    {
     "data": {
      "image/png": "[encoded data removed]",
      "text/plain": [
       "<Figure size 460.8x316.8 with 1 Axes>"
      ]
     },
     "metadata": {
      "needs_background": "light"
     },
     "output_type": "display_data"
    },
    {
     "data": {
      "image/png": "[encoded data removed]",
      "text/plain": [
       "<Figure size 460.8x316.8 with 1 Axes>"
      ]
     },
     "metadata": {
      "needs_background": "light"
     },
     "output_type": "display_data"
    }
   ],
   "source": [
    "#plot(yDrv0)\n",
    "slc = slice(0,30)\n",
    "for y in yDrvL[slc]:\n",
    "    plot(y)\n",
    "legend(arange(10))\n",
    "title('drv')\n",
    "figure()\n",
    "for y in gradL[slc]:\n",
    "    plot(y)\n",
    "legend(arange(10))\n",
    "title('grad')\n",
    "if 1:\n",
    "    figure()\n",
    "    for y in yValsL[slc]:\n",
    "        plot(tf.reduce_mean(y, axis=-1))\n",
    "    legend(arange(10))\n",
    "    title('val')\n",
    "    k =-1\n",
    "    figure()\n",
    "    plot(tf.reduce_mean(yValsL[-2], axis=-1)-tf.reduce_mean(yValsL[-1], axis=-1))\n",
    "    title('last')"
   ]
  },
  {
   "cell_type": "code",
   "execution_count": 45,
   "metadata": {},
   "outputs": [
    {
     "data": {
      "text/plain": [
       "[<matplotlib.lines.Line2D at 0x7b7f18952490>]"
      ]
     },
     "execution_count": 45,
     "metadata": {},
     "output_type": "execute_result"
    },
    {
     "data": {
      "image/png": "[encoded data removed]",
      "text/plain": [
       "<Figure size 460.8x316.8 with 1 Axes>"
      ]
     },
     "metadata": {
      "needs_background": "light"
     },
     "output_type": "display_data"
    }
   ],
   "source": [
    "plot(grad)"
   ]
  },
  {
   "cell_type": "code",
   "execution_count": 34,
   "metadata": {},
   "outputs": [
    {
     "data": {
      "text/plain": [
       "[<matplotlib.lines.Line2D at 0x7b7f12c03e50>,\n",
       " <matplotlib.lines.Line2D at 0x7b7f12c03280>,\n",
       " <matplotlib.lines.Line2D at 0x7b7f12c03670>,\n",
       " <matplotlib.lines.Line2D at 0x7b7f12c03340>]"
      ]
     },
     "execution_count": 34,
     "metadata": {},
     "output_type": "execute_result"
    },
    {
     "data": {
      "image/png": "[encoded data removed]",
      "text/plain": [
       "<Figure size 460.8x316.8 with 1 Axes>"
      ]
     },
     "metadata": {
      "needs_background": "light"
     },
     "output_type": "display_data"
    }
   ],
   "source": [
    "plot(tSteps, arr[:,:,50])"
   ]
  },
  {
   "cell_type": "code",
   "execution_count": 9,
   "metadata": {},
   "outputs": [
    {
     "data": {
      "text/plain": [
       "<tf.Tensor: shape=(1000,), dtype=float64, numpy=\n",
       "array([0.        , 0.001001  , 0.002002  , 0.003003  , 0.004004  ,\n",
       "       0.00500501, 0.00600601, 0.00700701, 0.00800801, 0.00900901,\n",
       "       0.01001001, 0.01101101, 0.01201201, 0.01301301, 0.01401401,\n",
       "       0.01501502, 0.01601602, 0.01701702, 0.01801802, 0.01901902,\n",
       "       0.02002002, 0.02102102, 0.02202202, 0.02302302, 0.02402402,\n",
       "       0.02502503, 0.02602603, 0.02702703, 0.02802803, 0.02902903,\n",
       "       0.03003003, 0.03103103, 0.03203203, 0.03303303, 0.03403403,\n",
       "       0.03503504, 0.03603604, 0.03703704, 0.03803804, 0.03903904,\n",
       "       0.04004004, 0.04104104, 0.04204204, 0.04304304, 0.04404404,\n",
       "       0.04504505, 0.04604605, 0.04704705, 0.04804805, 0.04904905,\n",
       "       0.05005005, 0.05105105, 0.05205205, 0.05305305, 0.05405405,\n",
       "       0.05505506, 0.05605606, 0.05705706, 0.05805806, 0.05905906,\n",
       "       0.06006006, 0.06106106, 0.06206206, 0.06306306, 0.06406406,\n",
       "       0.06506507, 0.06606607, 0.06706707, 0.06806807, 0.06906907,\n",
       "       0.07007007, 0.07107107, 0.07207207, 0.07307307, 0.07407407,\n",
       "       0.07507508, 0.07607608, 0.07707708, 0.07807808, 0.07907908,\n",
       "       0.08008008, 0.08108108, 0.08208208, 0.08308308, 0.08408408,\n",
       "       0.08508509, 0.08608609, 0.08708709, 0.08808809, 0.08908909,\n",
       "       0.09009009, 0.09109109, 0.09209209, 0.09309309, 0.09409409,\n",
       "       0.0950951 , 0.0960961 , 0.0970971 , 0.0980981 , 0.0990991 ,\n",
       "       0.1001001 , 0.1011011 , 0.1021021 , 0.1031031 , 0.1041041 ,\n",
       "       0.10510511, 0.10610611, 0.10710711, 0.10810811, 0.10910911,\n",
       "       0.11011011, 0.11111111, 0.11211211, 0.11311311, 0.11411411,\n",
       "       0.11511512, 0.11611612, 0.11711712, 0.11811812, 0.11911912,\n",
       "       0.12012012, 0.12112112, 0.12212212, 0.12312312, 0.12412412,\n",
       "       0.12512513, 0.12612613, 0.12712713, 0.12812813, 0.12912913,\n",
       "       0.13013013, 0.13113113, 0.13213213, 0.13313313, 0.13413413,\n",
       "       0.13513514, 0.13613614, 0.13713714, 0.13813814, 0.13913914,\n",
       "       0.14014014, 0.14114114, 0.14214214, 0.14314314, 0.14414414,\n",
       "       0.14514515, 0.14614615, 0.14714715, 0.14814815, 0.14914915,\n",
       "       0.15015015, 0.15115115, 0.15215215, 0.15315315, 0.15415415,\n",
       "       0.15515516, 0.15615616, 0.15715716, 0.15815816, 0.15915916,\n",
       "       0.16016016, 0.16116116, 0.16216216, 0.16316316, 0.16416416,\n",
       "       0.16516517, 0.16616617, 0.16716717, 0.16816817, 0.16916917,\n",
       "       0.17017017, 0.17117117, 0.17217217, 0.17317317, 0.17417417,\n",
       "       0.17517518, 0.17617618, 0.17717718, 0.17817818, 0.17917918,\n",
       "       0.18018018, 0.18118118, 0.18218218, 0.18318318, 0.18418418,\n",
       "       0.18518519, 0.18618619, 0.18718719, 0.18818819, 0.18918919,\n",
       "       0.19019019, 0.19119119, 0.19219219, 0.19319319, 0.19419419,\n",
       "       0.1951952 , 0.1961962 , 0.1971972 , 0.1981982 , 0.1991992 ,\n",
       "       0.2002002 , 0.2012012 , 0.2022022 , 0.2032032 , 0.2042042 ,\n",
       "       0.20520521, 0.20620621, 0.20720721, 0.20820821, 0.20920921,\n",
       "       0.21021021, 0.21121121, 0.21221221, 0.21321321, 0.21421421,\n",
       "       0.21521522, 0.21621622, 0.21721722, 0.21821822, 0.21921922,\n",
       "       0.22022022, 0.22122122, 0.22222222, 0.22322322, 0.22422422,\n",
       "       0.22522523, 0.22622623, 0.22722723, 0.22822823, 0.22922923,\n",
       "       0.23023023, 0.23123123, 0.23223223, 0.23323323, 0.23423423,\n",
       "       0.23523524, 0.23623624, 0.23723724, 0.23823824, 0.23923924,\n",
       "       0.24024024, 0.24124124, 0.24224224, 0.24324324, 0.24424424,\n",
       "       0.24524525, 0.24624625, 0.24724725, 0.24824825, 0.24924925,\n",
       "       0.25025025, 0.25125125, 0.25225225, 0.25325325, 0.25425425,\n",
       "       0.25525526, 0.25625626, 0.25725726, 0.25825826, 0.25925926,\n",
       "       0.26026026, 0.26126126, 0.26226226, 0.26326326, 0.26426426,\n",
       "       0.26526527, 0.26626627, 0.26726727, 0.26826827, 0.26926927,\n",
       "       0.27027027, 0.27127127, 0.27227227, 0.27327327, 0.27427427,\n",
       "       0.27527528, 0.27627628, 0.27727728, 0.27827828, 0.27927928,\n",
       "       0.28028028, 0.28128128, 0.28228228, 0.28328328, 0.28428428,\n",
       "       0.28528529, 0.28628629, 0.28728729, 0.28828829, 0.28928929,\n",
       "       0.29029029, 0.29129129, 0.29229229, 0.29329329, 0.29429429,\n",
       "       0.2952953 , 0.2962963 , 0.2972973 , 0.2982983 , 0.2992993 ,\n",
       "       0.3003003 , 0.3013013 , 0.3023023 , 0.3033033 , 0.3043043 ,\n",
       "       0.30530531, 0.30630631, 0.30730731, 0.30830831, 0.30930931,\n",
       "       0.31031031, 0.31131131, 0.31231231, 0.31331331, 0.31431431,\n",
       "       0.31531532, 0.31631632, 0.31731732, 0.31831832, 0.31931932,\n",
       "       0.32032032, 0.32132132, 0.32232232, 0.32332332, 0.32432432,\n",
       "       0.32532533, 0.32632633, 0.32732733, 0.32832833, 0.32932933,\n",
       "       0.33033033, 0.33133133, 0.33233233, 0.33333333, 0.33433433,\n",
       "       0.33533534, 0.33633634, 0.33733734, 0.33833834, 0.33933934,\n",
       "       0.34034034, 0.34134134, 0.34234234, 0.34334334, 0.34434434,\n",
       "       0.34534535, 0.34634635, 0.34734735, 0.34834835, 0.34934935,\n",
       "       0.35035035, 0.35135135, 0.35235235, 0.35335335, 0.35435435,\n",
       "       0.35535536, 0.35635636, 0.35735736, 0.35835836, 0.35935936,\n",
       "       0.36036036, 0.36136136, 0.36236236, 0.36336336, 0.36436436,\n",
       "       0.36536537, 0.36636637, 0.36736737, 0.36836837, 0.36936937,\n",
       "       0.37037037, 0.37137137, 0.37237237, 0.37337337, 0.37437437,\n",
       "       0.37537538, 0.37637638, 0.37737738, 0.37837838, 0.37937938,\n",
       "       0.38038038, 0.38138138, 0.38238238, 0.38338338, 0.38438438,\n",
       "       0.38538539, 0.38638639, 0.38738739, 0.38838839, 0.38938939,\n",
       "       0.39039039, 0.39139139, 0.39239239, 0.39339339, 0.39439439,\n",
       "       0.3953954 , 0.3963964 , 0.3973974 , 0.3983984 , 0.3993994 ,\n",
       "       0.4004004 , 0.4014014 , 0.4024024 , 0.4034034 , 0.4044044 ,\n",
       "       0.40540541, 0.40640641, 0.40740741, 0.40840841, 0.40940941,\n",
       "       0.41041041, 0.41141141, 0.41241241, 0.41341341, 0.41441441,\n",
       "       0.41541542, 0.41641642, 0.41741742, 0.41841842, 0.41941942,\n",
       "       0.42042042, 0.42142142, 0.42242242, 0.42342342, 0.42442442,\n",
       "       0.42542543, 0.42642643, 0.42742743, 0.42842843, 0.42942943,\n",
       "       0.43043043, 0.43143143, 0.43243243, 0.43343343, 0.43443443,\n",
       "       0.43543544, 0.43643644, 0.43743744, 0.43843844, 0.43943944,\n",
       "       0.44044044, 0.44144144, 0.44244244, 0.44344344, 0.44444444,\n",
       "       0.44544545, 0.44644645, 0.44744745, 0.44844845, 0.44944945,\n",
       "       0.45045045, 0.45145145, 0.45245245, 0.45345345, 0.45445445,\n",
       "       0.45545546, 0.45645646, 0.45745746, 0.45845846, 0.45945946,\n",
       "       0.46046046, 0.46146146, 0.46246246, 0.46346346, 0.46446446,\n",
       "       0.46546547, 0.46646647, 0.46746747, 0.46846847, 0.46946947,\n",
       "       0.47047047, 0.47147147, 0.47247247, 0.47347347, 0.47447447,\n",
       "       0.47547548, 0.47647648, 0.47747748, 0.47847848, 0.47947948,\n",
       "       0.48048048, 0.48148148, 0.48248248, 0.48348348, 0.48448448,\n",
       "       0.48548549, 0.48648649, 0.48748749, 0.48848849, 0.48948949,\n",
       "       0.49049049, 0.49149149, 0.49249249, 0.49349349, 0.49449449,\n",
       "       0.4954955 , 0.4964965 , 0.4974975 , 0.4984985 , 0.4994995 ,\n",
       "       0.5005005 , 0.5015015 , 0.5025025 , 0.5035035 , 0.5045045 ,\n",
       "       0.50550551, 0.50650651, 0.50750751, 0.50850851, 0.50950951,\n",
       "       0.51051051, 0.51151151, 0.51251251, 0.51351351, 0.51451451,\n",
       "       0.51551552, 0.51651652, 0.51751752, 0.51851852, 0.51951952,\n",
       "       0.52052052, 0.52152152, 0.52252252, 0.52352352, 0.52452452,\n",
       "       0.52552553, 0.52652653, 0.52752753, 0.52852853, 0.52952953,\n",
       "       0.53053053, 0.53153153, 0.53253253, 0.53353353, 0.53453453,\n",
       "       0.53553554, 0.53653654, 0.53753754, 0.53853854, 0.53953954,\n",
       "       0.54054054, 0.54154154, 0.54254254, 0.54354354, 0.54454454,\n",
       "       0.54554555, 0.54654655, 0.54754755, 0.54854855, 0.54954955,\n",
       "       0.55055055, 0.55155155, 0.55255255, 0.55355355, 0.55455455,\n",
       "       0.55555556, 0.55655656, 0.55755756, 0.55855856, 0.55955956,\n",
       "       0.56056056, 0.56156156, 0.56256256, 0.56356356, 0.56456456,\n",
       "       0.56556557, 0.56656657, 0.56756757, 0.56856857, 0.56956957,\n",
       "       0.57057057, 0.57157157, 0.57257257, 0.57357357, 0.57457457,\n",
       "       0.57557558, 0.57657658, 0.57757758, 0.57857858, 0.57957958,\n",
       "       0.58058058, 0.58158158, 0.58258258, 0.58358358, 0.58458458,\n",
       "       0.58558559, 0.58658659, 0.58758759, 0.58858859, 0.58958959,\n",
       "       0.59059059, 0.59159159, 0.59259259, 0.59359359, 0.59459459,\n",
       "       0.5955956 , 0.5965966 , 0.5975976 , 0.5985986 , 0.5995996 ,\n",
       "       0.6006006 , 0.6016016 , 0.6026026 , 0.6036036 , 0.6046046 ,\n",
       "       0.60560561, 0.60660661, 0.60760761, 0.60860861, 0.60960961,\n",
       "       0.61061061, 0.61161161, 0.61261261, 0.61361361, 0.61461461,\n",
       "       0.61561562, 0.61661662, 0.61761762, 0.61861862, 0.61961962,\n",
       "       0.62062062, 0.62162162, 0.62262262, 0.62362362, 0.62462462,\n",
       "       0.62562563, 0.62662663, 0.62762763, 0.62862863, 0.62962963,\n",
       "       0.63063063, 0.63163163, 0.63263263, 0.63363363, 0.63463463,\n",
       "       0.63563564, 0.63663664, 0.63763764, 0.63863864, 0.63963964,\n",
       "       0.64064064, 0.64164164, 0.64264264, 0.64364364, 0.64464464,\n",
       "       0.64564565, 0.64664665, 0.64764765, 0.64864865, 0.64964965,\n",
       "       0.65065065, 0.65165165, 0.65265265, 0.65365365, 0.65465465,\n",
       "       0.65565566, 0.65665666, 0.65765766, 0.65865866, 0.65965966,\n",
       "       0.66066066, 0.66166166, 0.66266266, 0.66366366, 0.66466466,\n",
       "       0.66566567, 0.66666667, 0.66766767, 0.66866867, 0.66966967,\n",
       "       0.67067067, 0.67167167, 0.67267267, 0.67367367, 0.67467467,\n",
       "       0.67567568, 0.67667668, 0.67767768, 0.67867868, 0.67967968,\n",
       "       0.68068068, 0.68168168, 0.68268268, 0.68368368, 0.68468468,\n",
       "       0.68568569, 0.68668669, 0.68768769, 0.68868869, 0.68968969,\n",
       "       0.69069069, 0.69169169, 0.69269269, 0.69369369, 0.69469469,\n",
       "       0.6956957 , 0.6966967 , 0.6976977 , 0.6986987 , 0.6996997 ,\n",
       "       0.7007007 , 0.7017017 , 0.7027027 , 0.7037037 , 0.7047047 ,\n",
       "       0.70570571, 0.70670671, 0.70770771, 0.70870871, 0.70970971,\n",
       "       0.71071071, 0.71171171, 0.71271271, 0.71371371, 0.71471471,\n",
       "       0.71571572, 0.71671672, 0.71771772, 0.71871872, 0.71971972,\n",
       "       0.72072072, 0.72172172, 0.72272272, 0.72372372, 0.72472472,\n",
       "       0.72572573, 0.72672673, 0.72772773, 0.72872873, 0.72972973,\n",
       "       0.73073073, 0.73173173, 0.73273273, 0.73373373, 0.73473473,\n",
       "       0.73573574, 0.73673674, 0.73773774, 0.73873874, 0.73973974,\n",
       "       0.74074074, 0.74174174, 0.74274274, 0.74374374, 0.74474474,\n",
       "       0.74574575, 0.74674675, 0.74774775, 0.74874875, 0.74974975,\n",
       "       0.75075075, 0.75175175, 0.75275275, 0.75375375, 0.75475475,\n",
       "       0.75575576, 0.75675676, 0.75775776, 0.75875876, 0.75975976,\n",
       "       0.76076076, 0.76176176, 0.76276276, 0.76376376, 0.76476476,\n",
       "       0.76576577, 0.76676677, 0.76776777, 0.76876877, 0.76976977,\n",
       "       0.77077077, 0.77177177, 0.77277277, 0.77377377, 0.77477477,\n",
       "       0.77577578, 0.77677678, 0.77777778, 0.77877878, 0.77977978,\n",
       "       0.78078078, 0.78178178, 0.78278278, 0.78378378, 0.78478478,\n",
       "       0.78578579, 0.78678679, 0.78778779, 0.78878879, 0.78978979,\n",
       "       0.79079079, 0.79179179, 0.79279279, 0.79379379, 0.79479479,\n",
       "       0.7957958 , 0.7967968 , 0.7977978 , 0.7987988 , 0.7997998 ,\n",
       "       0.8008008 , 0.8018018 , 0.8028028 , 0.8038038 , 0.8048048 ,\n",
       "       0.80580581, 0.80680681, 0.80780781, 0.80880881, 0.80980981,\n",
       "       0.81081081, 0.81181181, 0.81281281, 0.81381381, 0.81481481,\n",
       "       0.81581582, 0.81681682, 0.81781782, 0.81881882, 0.81981982,\n",
       "       0.82082082, 0.82182182, 0.82282282, 0.82382382, 0.82482482,\n",
       "       0.82582583, 0.82682683, 0.82782783, 0.82882883, 0.82982983,\n",
       "       0.83083083, 0.83183183, 0.83283283, 0.83383383, 0.83483483,\n",
       "       0.83583584, 0.83683684, 0.83783784, 0.83883884, 0.83983984,\n",
       "       0.84084084, 0.84184184, 0.84284284, 0.84384384, 0.84484484,\n",
       "       0.84584585, 0.84684685, 0.84784785, 0.84884885, 0.84984985,\n",
       "       0.85085085, 0.85185185, 0.85285285, 0.85385385, 0.85485485,\n",
       "       0.85585586, 0.85685686, 0.85785786, 0.85885886, 0.85985986,\n",
       "       0.86086086, 0.86186186, 0.86286286, 0.86386386, 0.86486486,\n",
       "       0.86586587, 0.86686687, 0.86786787, 0.86886887, 0.86986987,\n",
       "       0.87087087, 0.87187187, 0.87287287, 0.87387387, 0.87487487,\n",
       "       0.87587588, 0.87687688, 0.87787788, 0.87887888, 0.87987988,\n",
       "       0.88088088, 0.88188188, 0.88288288, 0.88388388, 0.88488488,\n",
       "       0.88588589, 0.88688689, 0.88788789, 0.88888889, 0.88988989,\n",
       "       0.89089089, 0.89189189, 0.89289289, 0.89389389, 0.89489489,\n",
       "       0.8958959 , 0.8968969 , 0.8978979 , 0.8988989 , 0.8998999 ,\n",
       "       0.9009009 , 0.9019019 , 0.9029029 , 0.9039039 , 0.9049049 ,\n",
       "       0.90590591, 0.90690691, 0.90790791, 0.90890891, 0.90990991,\n",
       "       0.91091091, 0.91191191, 0.91291291, 0.91391391, 0.91491491,\n",
       "       0.91591592, 0.91691692, 0.91791792, 0.91891892, 0.91991992,\n",
       "       0.92092092, 0.92192192, 0.92292292, 0.92392392, 0.92492492,\n",
       "       0.92592593, 0.92692693, 0.92792793, 0.92892893, 0.92992993,\n",
       "       0.93093093, 0.93193193, 0.93293293, 0.93393393, 0.93493493,\n",
       "       0.93593594, 0.93693694, 0.93793794, 0.93893894, 0.93993994,\n",
       "       0.94094094, 0.94194194, 0.94294294, 0.94394394, 0.94494494,\n",
       "       0.94594595, 0.94694695, 0.94794795, 0.94894895, 0.94994995,\n",
       "       0.95095095, 0.95195195, 0.95295295, 0.95395395, 0.95495495,\n",
       "       0.95595596, 0.95695696, 0.95795796, 0.95895896, 0.95995996,\n",
       "       0.96096096, 0.96196196, 0.96296296, 0.96396396, 0.96496496,\n",
       "       0.96596597, 0.96696697, 0.96796797, 0.96896897, 0.96996997,\n",
       "       0.97097097, 0.97197197, 0.97297297, 0.97397397, 0.97497497,\n",
       "       0.97597598, 0.97697698, 0.97797798, 0.97897898, 0.97997998,\n",
       "       0.98098098, 0.98198198, 0.98298298, 0.98398398, 0.98498498,\n",
       "       0.98598599, 0.98698699, 0.98798799, 0.98898899, 0.98998999,\n",
       "       0.99099099, 0.99199199, 0.99299299, 0.99399399, 0.99499499,\n",
       "       0.995996  , 0.996997  , 0.997998  , 0.998999  , 1.        ])>"
      ]
     },
     "execution_count": 9,
     "metadata": {},
     "output_type": "execute_result"
    }
   ],
   "source": [
    "tf.constant(tf.linspace(0,1,1000))"
   ]
  },
  {
   "cell_type": "code",
   "execution_count": null,
   "metadata": {},
   "outputs": [],
   "source": [
    "tf.math.interp_regular_1d_grid(\n",
    "    x, x_ref_min, x_ref_max, y_ref, axis=-1, fill_value='constant_extension',\n",
    "    fill_value_below=None, fill_value_above=None, grid_regularizing_transform=None,\n",
    "    name=None\n",
    ")"
   ]
  },
  {
   "cell_type": "code",
   "execution_count": 19,
   "metadata": {},
   "outputs": [],
   "source": [
    "mask=tf.concat([tf.constant([1,1], dtype='float64'), tf.zeros(98, dtype='float64') ], axis=0)"
   ]
  },
  {
   "cell_type": "code",
   "execution_count": 26,
   "metadata": {},
   "outputs": [
    {
     "data": {
      "text/plain": [
       "<tf.Tensor: shape=(), dtype=float64, numpy=2.0>"
      ]
     },
     "execution_count": 26,
     "metadata": {},
     "output_type": "execute_result"
    }
   ],
   "source": [
    "tf.reduce_sum(mask)"
   ]
  },
  {
   "cell_type": "markdown",
   "metadata": {},
   "source": [
    "# Scratch test"
   ]
  },
  {
   "cell_type": "code",
   "execution_count": 9,
   "metadata": {
    "collapsed": true
   },
   "outputs": [
    {
     "name": "stdout",
     "output_type": "stream",
     "text": [
      "CPU times: user 292 ms, sys: 13 ms, total: 305 ms\n",
      "Wall time: 276 ms\n"
     ]
    }
   ],
   "source": [
    "\n",
    "\n",
    "from tfdiffeq import odeint\n",
    "#from tfdiffeq import cast_double\n",
    "import tensorflow as tf\n",
    "tf.keras.backend.set_floatx('float64') # Presumably can get more speed, especially on a GPU, \n",
    "#if we used float32\n",
    "import numpy as np\n",
    "from matplotlib.pyplot import *\n",
    "#odeint(func, y0, t)\n",
    "import matplotlib.pyplot as plt\n",
    "tf.ceil=tf.math.ceil\n",
    "\n",
    "\n",
    "#def interpolator(xRef, yRef):\n",
    "    \n",
    "def tf_interpolator3(xOrig, yOrig):\n",
    "    #xOrig = tf.constant(tf.convert_to_tensor(xOrig, dtype=tf.float64))\n",
    "    #yOrig = tf.constant(tf.convert_to_tensor(yOrig, dtype=tf.float64))\n",
    "    \n",
    "    N = xOrig.shape[0]\n",
    "    dx = xOrig[1]-xOrig[0]\n",
    "    x0 = xOrig[0]\n",
    "    xMax = xOrig[-1]\n",
    "    zero = tf.constant(0, dtype=tf.float64)\n",
    "    #@tf.function(experimental_compile=True)\n",
    "    def f(x):\n",
    "        #pdb.set_trace()\n",
    "        #ind = tf.math.floormod((x-x0), dx)\n",
    "        \n",
    "        if x>=xMax or x<x0:\n",
    "            return zero#tf.constant(0., dtype=tf.float64);\n",
    "        else:\n",
    "            ind_f = tf.math.floordiv(x-x0, dx)\n",
    "            remainder = (x/dx- ind_f)\n",
    "            ind=tf.cast(ind_f, tf.int64)\n",
    "            w0 = (1.-remainder)\n",
    "            w1 = remainder\n",
    "            res=tf.reduce_sum(tf.stack([w0,w1])*tf.gather(yOrig, [ind,ind+1]))\n",
    "            #tf.print(res)\n",
    "            return res\n",
    "            #tf.print(remainder)\n",
    "            #return *yOrig[ind] + remainder*yOrig[ind+1]\n",
    "    return f\n",
    "\n",
    "\n",
    "class Lambda(tf.keras.Model):\n",
    "    \n",
    "    def __init__(self, tDrv, yDrv): #pars are parameters to the ode\n",
    "        #self.pars=pars\n",
    "        #self.Nevals = tf.Variable(0)#tf.convert_to_tensor(0, dtype=tf.int64)\n",
    "        #self.f = tf.function(f)\n",
    "        super().__init__()\n",
    "        \n",
    "        self.f = tf.function(tf_interpolator2(tDrv, yDrv), experimental_compile=False)\n",
    "    \n",
    "    @tf.function\n",
    "    def call(self, t, z):\n",
    "\n",
    "        y, vy= z[0], z[1]\n",
    "        d_y = vy\n",
    "        d_vy = self.f(t)\n",
    "        return tf.stack([d_y, d_vy])\n",
    "    \n",
    "\n",
    "with tf.device(\"/cpu:0\"):\n",
    "    with tf.GradientTape(watch_accessed_variables=False) as g:\n",
    "        tDrv = tf.cast(tf.linspace(0.,20.1, 100), dtype=tf.float64)\n",
    "        yDrv = tf.Variable(-3*tf.ones(tDrv.shape[0], dtype=tf.float64))\n",
    "        g.watch(yDrv)\n",
    "\n",
    "        tspan = tf.linspace(0.0, 20., 10) \n",
    "        z0 = tf.convert_to_tensor([0,10.], dtype=tf.float64)\n",
    "        #f = tf.function(lambda t: tf.constant(-1.0, dtype='float64') )\n",
    "        ode = Lambda(tDrv, yDrv)\n",
    "        #tspan =td.cast_double(tspan)\n",
    "        #ol = C( z0)\n",
    "        #sol = odeint(ode, z0, tspan, method='dopri5', options=dict(max_step_size=0.1 ) )\n",
    "        sol = odeint(ode, z0, tspan, method='rk4', options=dict(step_size=tDrv[1]-tDrv[0]))#, options=dict(step_size=0.08080808073282242 ) )\n",
    "\n",
    "        #%time sol = odeint(ode, z0, tspan, method='rk4')\n",
    "        #sol = odeint(f, z0, tspan)\n",
    "        L = sol[-1,0]\n",
    "    %time grad=g.gradient(L, yDrv)"
   ]
  },
  {
   "cell_type": "code",
   "execution_count": 61,
   "metadata": {},
   "outputs": [
    {
     "data": {
      "text/plain": [
       "[<matplotlib.lines.Line2D at 0x7549e36d6d60>]"
      ]
     },
     "execution_count": 61,
     "metadata": {},
     "output_type": "execute_result"
    },
    {
     "data": {
      "image/png": "[encoded data removed]",
      "text/plain": [
       "<Figure size 460.8x316.8 with 1 Axes>"
      ]
     },
     "metadata": {
      "needs_background": "light"
     },
     "output_type": "display_data"
    },
    {
     "data": {
      "image/png": "[encoded data removed]",
      "text/plain": [
       "<Figure size 460.8x316.8 with 1 Axes>"
      ]
     },
     "metadata": {
      "needs_background": "light"
     },
     "output_type": "display_data"
    }
   ],
   "source": [
    "\n",
    "plot(sol)\n",
    "figure()\n",
    "plot(grad)"
   ]
  },
  {
   "cell_type": "code",
   "execution_count": 63,
   "metadata": {},
   "outputs": [
    {
     "data": {
      "text/plain": [
       "[<matplotlib.lines.Line2D at 0x7549e3603640>]"
      ]
     },
     "execution_count": 63,
     "metadata": {},
     "output_type": "execute_result"
    },
    {
     "data": {
      "image/png": "[encoded data removed]",
      "text/plain": [
       "<Figure size 460.8x316.8 with 1 Axes>"
      ]
     },
     "metadata": {
      "needs_background": "light"
     },
     "output_type": "display_data"
    },
    {
     "data": {
      "image/png": "[encoded data removed]",
      "text/plain": [
       "<Figure size 460.8x316.8 with 1 Axes>"
      ]
     },
     "metadata": {
      "needs_background": "light"
     },
     "output_type": "display_data"
    }
   ],
   "source": [
    "\n",
    "plot(sol)\n",
    "figure()\n",
    "plot(grad)"
   ]
  },
  {
   "cell_type": "code",
   "execution_count": 63,
   "metadata": {},
   "outputs": [
    {
     "data": {
      "text/plain": [
       "[<matplotlib.lines.Line2D at 0x7a2731998520>]"
      ]
     },
     "execution_count": 63,
     "metadata": {},
     "output_type": "execute_result"
    },
    {
     "data": {
      "image/png": "[encoded data removed]",
      "text/plain": [
       "<Figure size 460.8x316.8 with 1 Axes>"
      ]
     },
     "metadata": {
      "needs_background": "light"
     },
     "output_type": "display_data"
    }
   ],
   "source": [
    "plot(grad.values)"
   ]
  },
  {
   "cell_type": "code",
   "execution_count": 54,
   "metadata": {},
   "outputs": [
    {
     "data": {
      "text/plain": [
       "<tf.Tensor: shape=(), dtype=float64, numpy=-3.0>"
      ]
     },
     "execution_count": 54,
     "metadata": {},
     "output_type": "execute_result"
    }
   ],
   "source": [
    "tf.gather(yDrv, 8)"
   ]
  },
  {
   "cell_type": "code",
   "execution_count": 55,
   "metadata": {},
   "outputs": [],
   "source": [
    "import tfdiffeq as tfd\n",
    "tfd.solvers.FixedGridODESolver?"
   ]
  },
  {
   "cell_type": "code",
   "execution_count": 91,
   "metadata": {},
   "outputs": [
    {
     "data": {
      "text/plain": [
       "[<matplotlib.lines.Line2D at 0x7a2730901460>]"
      ]
     },
     "execution_count": 91,
     "metadata": {},
     "output_type": "execute_result"
    },
    {
     "data": {
      "image/png": "[encoded data removed]",
      "text/plain": [
       "<Figure size 460.8x316.8 with 1 Axes>"
      ]
     },
     "metadata": {
      "needs_background": "light"
     },
     "output_type": "display_data"
    }
   ],
   "source": [
    "def lor(center):\n",
    "    return 1/(0.4+ (x-center)**2 )\n",
    "\n",
    "y = linspace(0,10,20)\n",
    "x = arange(20)\n",
    "msk = lor(5)\n",
    "#M = np.diag(  )\n",
    "plot([y.dot(lor(val)) for val in linspace(0,20,100) ])"
   ]
  },
  {
   "cell_type": "code",
   "execution_count": 93,
   "metadata": {},
   "outputs": [],
   "source": [
    "odeint"
   ]
  },
  {
   "cell_type": "code",
   "execution_count": 41,
   "metadata": {},
   "outputs": [
    {
     "data": {
      "text/plain": [
       "<tf.Tensor: shape=(5,), dtype=float32, numpy=array([0. , 1.5, 3. , 4.5, 0. ], dtype=float32)>"
      ]
     },
     "execution_count": 41,
     "metadata": {},
     "output_type": "execute_result"
    }
   ],
   "source": [
    "tf.concat([tf.range(0,5,1.5), [0]], axis=0)"
   ]
  },
  {
   "cell_type": "code",
   "execution_count": 10,
   "metadata": {},
   "outputs": [],
   "source": [
    "import qutip as q"
   ]
  },
  {
   "cell_type": "code",
   "execution_count": 24,
   "metadata": {},
   "outputs": [],
   "source": [
    "\n",
    "q.sigmax()\n",
    "K1, K2 = q.basis(2,0), q.basis(2,1)"
   ]
  },
  {
   "cell_type": "code",
   "execution_count": 12,
   "metadata": {},
   "outputs": [
    {
     "data": {
      "text/latex": [
       "Quantum object: dims = [[2], [2]], shape = (2, 2), type = oper, isherm = True\\begin{equation*}\\left(\\begin{array}{*{11}c}0.0 & -1.0j\\\\1.0j & 0.0\\\\\\end{array}\\right)\\end{equation*}"
      ],
      "text/plain": [
       "Quantum object: dims = [[2], [2]], shape = (2, 2), type = oper, isherm = True\n",
       "Qobj data =\n",
       "[[0.+0.j 0.-1.j]\n",
       " [0.+1.j 0.+0.j]]"
      ]
     },
     "execution_count": 12,
     "metadata": {},
     "output_type": "execute_result"
    }
   ],
   "source": [
    "q.sigmay()"
   ]
  },
  {
   "cell_type": "code",
   "execution_count": 23,
   "metadata": {},
   "outputs": [
    {
     "data": {
      "text/latex": [
       "Quantum object: dims = [[2], [2]], shape = (2, 2), type = oper, isherm = True\\begin{equation*}\\left(\\begin{array}{*{11}c}0.0 & -1.0j\\\\1.0j & 0.0\\\\\\end{array}\\right)\\end{equation*}"
      ],
      "text/plain": [
       "Quantum object: dims = [[2], [2]], shape = (2, 2), type = oper, isherm = True\n",
       "Qobj data =\n",
       "[[0.+0.j 0.-1.j]\n",
       " [0.+1.j 0.+0.j]]"
      ]
     },
     "execution_count": 23,
     "metadata": {},
     "output_type": "execute_result"
    }
   ],
   "source": [
    "a=q.destroy(2)\n",
    "1j*(a.dag()-a)"
   ]
  },
  {
   "cell_type": "code",
   "execution_count": 34,
   "metadata": {},
   "outputs": [
    {
     "data": {
      "text/plain": [
       "(Quantum object: dims = [[2], [2]], shape = (2, 2), type = oper, isherm = True\n",
       " Qobj data =\n",
       " [[0. 1.]\n",
       "  [1. 0.]],\n",
       " Quantum object: dims = [[2], [2]], shape = (2, 2), type = oper, isherm = True\n",
       " Qobj data =\n",
       " [[0.+0.j 0.-1.j]\n",
       "  [0.+1.j 0.+0.j]])"
      ]
     },
     "execution_count": 34,
     "metadata": {},
     "output_type": "execute_result"
    }
   ],
   "source": [
    "a = K1*K2.dag()# + K2*K1.dag()\n",
    "sx = a + a.dag()\n",
    "sy = 1j*(a.dag()-a)\n",
    "sx,sy"
   ]
  },
  {
   "cell_type": "code",
   "execution_count": 26,
   "metadata": {},
   "outputs": [
    {
     "data": {
      "text/latex": [
       "Quantum object: dims = [[2], [2]], shape = (2, 2), type = oper, isherm = False\\begin{equation*}\\left(\\begin{array}{*{11}c}0.0 & 0.0\\\\1.0 & 0.0\\\\\\end{array}\\right)\\end{equation*}"
      ],
      "text/plain": [
       "Quantum object: dims = [[2], [2]], shape = (2, 2), type = oper, isherm = False\n",
       "Qobj data =\n",
       "[[0. 0.]\n",
       " [1. 0.]]"
      ]
     },
     "execution_count": 26,
     "metadata": {},
     "output_type": "execute_result"
    }
   ],
   "source": [
    "a.dag()"
   ]
  },
  {
   "cell_type": "code",
   "execution_count": 30,
   "metadata": {},
   "outputs": [
    {
     "data": {
      "text/latex": [
       "Quantum object: dims = [[2], [2]], shape = (2, 2), type = oper, isherm = False\\begin{equation*}\\left(\\begin{array}{*{11}c}0.0 & 1.0\\\\0.0 & 0.0\\\\\\end{array}\\right)\\end{equation*}"
      ],
      "text/plain": [
       "Quantum object: dims = [[2], [2]], shape = (2, 2), type = oper, isherm = False\n",
       "Qobj data =\n",
       "[[0. 1.]\n",
       " [0. 0.]]"
      ]
     },
     "execution_count": 30,
     "metadata": {},
     "output_type": "execute_result"
    }
   ],
   "source": [
    "a"
   ]
  },
  {
   "cell_type": "markdown",
   "metadata": {},
   "source": [
    "# TFP Odeint"
   ]
  },
  {
   "cell_type": "code",
   "execution_count": 1,
   "metadata": {},
   "outputs": [],
   "source": [
    "%load_ext autoreload\n",
    "%autoreload 2\n",
    "import tensorflow as tf\n",
    "from spylind.tf_misc import tf_interpolator2\n",
    "tf.keras.backend.set_floatx('float64') # Presumably can get more speed, especially on a GPU, \n",
    "import tensorflow_probability as tfp\n",
    "\n",
    "import numpy as np\n",
    "import pylab as pl\n",
    "import matplotlib.pyplot as plt"
   ]
  },
  {
   "cell_type": "code",
   "execution_count": 2,
   "metadata": {},
   "outputs": [],
   "source": [
    "\n",
    "\n",
    "\n",
    "class Interpolator(tf.keras.Model):\n",
    "    \n",
    "    def __init__(self, xOrig, yOrig): #pars are parameters to the ode\n",
    "        super().__init__()\n",
    "        self.xOrig = tf.constant(tf.convert_to_tensor(xOrig, dtype=tf.float64))\n",
    "        self.yOrig = tf.Variable(tf.convert_to_tensor(yOrig, dtype=tf.float64))\n",
    "\n",
    "        self.N = xOrig.shape[0]\n",
    "        self.dx = xOrig[1]-xOrig[0]\n",
    "        self.x0 = xOrig[0]\n",
    "        self.xMax = xOrig[-1]\n",
    "        self.zero = tf.constant(0, dtype=tf.float64)\n",
    "        self.mask = tf.concat([tf.constant([0.5,0.5], dtype='float64'), tf.zeros(xOrig.shape[0]-2, dtype='float64') ], axis=0)\n",
    "    \n",
    "    def call(self, x):\n",
    "        #pdb.set_trace()\n",
    "        #ind = tf.math.floormod((x-x0), dx)\n",
    "        if x>=self.xMax or x<self.x0:\n",
    "            return self.zero#tf.constant(0., dtype=tf.float64);\n",
    "        else:\n",
    "            ind = tf.math.floordiv(x-self.x0, self.dx)\n",
    "            remainder = x- ind*self.dx\n",
    "            ind = tf.cast(ind, tf.int64)\n",
    "            res = tf.roll(self.mask, ind, axis=0)*self.yOrig\n",
    "            return tf.reduce_sum(res)\n",
    "        return f\n",
    "class Interpolator2(tf.keras.Model):\n",
    "    \n",
    "    def __init__(self, xOrig): #pars are parameters to the ode\n",
    "        super().__init__()\n",
    "        self.xOrig = tf.constant(tf.convert_to_tensor(xOrig, dtype=tf.float64))\n",
    "        self.N = xOrig.shape[0]\n",
    "        self.dx = xOrig[1]-xOrig[0]\n",
    "        self.x0 = xOrig[0]\n",
    "        self.xMax = xOrig[-1]\n",
    "        self.zero = tf.constant(0, dtype=tf.float64)\n",
    "        self.mask = tf.concat([tf.constant([0.5,0.5], dtype='float64'), tf.zeros(xOrig.shape[0]-2, dtype='float64') ], axis=0)\n",
    "    \n",
    "    def call(self, x, yOrig):\n",
    "        #pdb.set_trace()\n",
    "        #ind = tf.math.floormod((x-x0), dx)\n",
    "        if x>=self.xMax or x<self.x0:\n",
    "            return self.zero#tf.constant(0., dtype=tf.float64);\n",
    "        else:\n",
    "            ind = tf.math.floordiv(x-self.x0, self.dx)\n",
    "            remainder = x- ind*self.dx\n",
    "            ind = tf.cast(ind, tf.int64)\n",
    "            res = tf.roll(self.mask, ind, axis=0)*yOrig\n",
    "            return tf.reduce_sum(res)\n",
    "        return f\n",
    "\n",
    "    \n",
    "def interpolate(x, xOrig, yOrig):\n",
    "    dx = xOrig[1]-xOrig[0]\n",
    "    x0 = xOrig[0]\n",
    "    xMax = xOrig[-1]\n",
    "    zero = tf.constant(0, dtype=tf.float64)\n",
    "    mask = tf.concat([tf.constant([0.5,0.5], dtype='float64'), tf.zeros(xOrig.shape[0]-2, dtype='float64') ], axis=0)\n",
    "    if x>=xMax or x<x0:\n",
    "        return zero#tf.constant(0., dtype=tf.float64);\n",
    "    else:\n",
    "        ind = tf.math.floordiv(x- x0, dx)\n",
    "        remainder = x- ind*dx\n",
    "        ind = tf.cast(ind, tf.int64)\n",
    "        res = tf.roll(mask, ind, axis=0)*yOrig\n",
    "        return tf.reduce_sum(res)\n",
    "    return f\n",
    "\n",
    "t_init =0;#\n",
    "#, t0, t1 = 0., 0.5, 1.\n",
    "tSteps = tf.linspace(0,5,200) #= [t0, t1]\n",
    "y_init = tf.constant([1., 3.], dtype=tf.float64)\n",
    "#A = tf.constant([[-1., -2.], [-3., -4.]], dtype=tf.float64)\n",
    "\n",
    "#@tf.function\n",
    "#def ode_fn(t, y):\n",
    "#  return tf.linalg.matvec(A, y)\n",
    "tDrv = tf.convert_to_tensor(np.linspace(0,5.1, 100), dtype='float64')\n",
    "yDrv = -tf.ones(tDrv.shape[0], dtype='float64')\n",
    "#f = tf_interpolator2(tDrv, yDrv)\n",
    "f = Interpolator(tDrv, yDrv)\n",
    "@tf.function\n",
    "def ode_fn(t, z):\n",
    "    y, vy= z[0], z[1]\n",
    "    d_y = vy\n",
    "    d_vy =  f(t)\n",
    "    return tf.stack([d_y, d_vy])\n",
    "\n",
    "with tf.GradientTape(watch_accessed_variables=False) as tape:\n",
    "    tape.watch(yDrv)\n",
    "\n",
    "    results = tfp.math.ode.DormandPrince().solve(ode_fn, t_init, y_init, solution_times=tSteps)\n",
    "    y0 = results.states[0]  # == dot(matrix_exp(A * t0), y_init)\n",
    "    y1 = results.states[1]  # == dot(matrix_exp(A * t1), y_init)\n",
    "#tape.gradient(results.states[-1,0], yDrv)"
   ]
  },
  {
   "cell_type": "code",
   "execution_count": 3,
   "metadata": {},
   "outputs": [],
   "source": [
    "import sympy as sm\n",
    "from spylind.tf_misc import InterpolatorMask\n",
    "ES = sm.symbols(\"E\")\n",
    "\n",
    "yDrv = tf.Variable(yDrv, name='var', dtype='float64')\n",
    "class Lambda(tf.keras.Model):\n",
    "    \n",
    "    def __init__(self, tDrv,yDrv): #pars are parameters to the ode\n",
    "        super().__init__()\n",
    "        \n",
    "        #self.f = tf.function(tf_interpolator2(tDrv, yDrv), experimental_compile=False)\n",
    "        self.f = InterpolatorMask(tDrv, yDrv)\n",
    "        self.tDrv = tDrv;\n",
    "        #self.yDrv = yDrv\n",
    "        #self.yDrv = tf.Variable(yDrv)\n",
    "    @tf.function\n",
    "    def call(self, t, z, **kwargs):\n",
    "        #yDrv = kwargs[str(ES)][0]\n",
    "        #tf.print(t, z)\n",
    "        y, vy= z[0], z[1]\n",
    "        d_y = vy\n",
    "        #d_vy = interpolate(t, self.tDrv, yDrv)\n",
    "        d_vy = self.f(t) \n",
    "        \n",
    "        return tf.stack([d_y, d_vy])\n",
    "    \n",
    "ode_fn = Lambda(tDrv, yDrv)\n",
    "\n",
    "@tf.function(experimental_compile=True)\n",
    "def run(tSteps, yDrv):\n",
    "    with tf.GradientTape(watch_accessed_variables=False) as tape:\n",
    "        #ode_fn.f.yOrig.assign(yDrv)\n",
    "        ode_fn.f.set_y(yDrv)\n",
    "\n",
    "        #tape.watch(yDrv)\n",
    "        tape.watch(y_init)\n",
    "        #tape.watch(var)\n",
    "        #ode_fn.yDrv.assign(yDrv)\n",
    "        tape.watch(ode_fn.f.yOrig)\n",
    "        #ode_fn.f.yOrig.assign(yDrv)\n",
    "        #results = tfp.math.ode.DormandPrince().solve(ode_fn, t_init, y_init, solution_times=tSteps, constants={'yDrv': yDrv})\n",
    "        #results = tfp.math.ode.DormandPrince().solve(ode_fn, t_init, y_init, solution_times=tSteps)#, constants={str(ES):[yDrv]} )\n",
    "        results = tfp.math.ode.FixedStep(step_size=1e-4).solve(ode_fn, t_init, y_init, solution_times=tSteps)\n",
    "        y0 = results.states[:,0]  # == dot(matrix_exp(A * t0), y_init)\n",
    "        y1 = results.states[:,1]  # == dot(matrix_exp(A * t1), y_init)\n",
    "        L = y0[-2]\n",
    "        #L=\n",
    "    return results, tape.gradient(L, ode_fn.f.yOrig)"
   ]
  },
  {
   "cell_type": "code",
   "execution_count": 14,
   "metadata": {},
   "outputs": [
    {
     "data": {
      "text/plain": [
       "<tf.Tensor: shape=(11,), dtype=float32, numpy=\n",
       "array([0.        , 0.1       , 0.2       , 0.3       , 0.4       ,\n",
       "       0.5       , 0.6       , 0.70000005, 0.8000001 , 0.9000001 ,\n",
       "       1.0000001 ], dtype=float32)>"
      ]
     },
     "execution_count": 14,
     "metadata": {},
     "output_type": "execute_result"
    }
   ],
   "source": [
    "tf.range(0,1.05,0.1)"
   ]
  },
  {
   "cell_type": "code",
   "execution_count": 4,
   "metadata": {},
   "outputs": [],
   "source": [
    "ode_fn.f.set_y(yDrv*0.1)\n",
    "#tSteps = np.linspace(0,1, 20)\n",
    "tSteps = tfp.math.ode.ChosenBySolver(1.0)\n",
    "res=tfp.math.ode.FixedStep(step_size=1e-2).solve(ode_fn, t_init, y_init, solution_times= tSteps)"
   ]
  },
  {
   "cell_type": "code",
   "execution_count": 6,
   "metadata": {},
   "outputs": [],
   "source": [
    "res=tfp.math.ode.FixedStep(step_size=1e-2).solve(ode_fn, t_init, y_init, solution_times= tSteps)"
   ]
  },
  {
   "cell_type": "code",
   "execution_count": 5,
   "metadata": {},
   "outputs": [
    {
     "data": {
      "text/plain": [
       "[<matplotlib.lines.Line2D at 0x7bb95f979370>,\n",
       " <matplotlib.lines.Line2D at 0x7bb95f9798b0>]"
      ]
     },
     "execution_count": 5,
     "metadata": {},
     "output_type": "execute_result"
    },
    {
     "data": {
      "image/png": "[encoded data removed]",
      "text/plain": [
       "<Figure size 432x288 with 1 Axes>"
      ]
     },
     "metadata": {
      "needs_background": "light"
     },
     "output_type": "display_data"
    }
   ],
   "source": [
    "plt.plot(res.states[:-1])"
   ]
  },
  {
   "cell_type": "code",
   "execution_count": 9,
   "metadata": {
    "scrolled": false
   },
   "outputs": [
    {
     "name": "stdout",
     "output_type": "stream",
     "text": [
      "CPU times: user 128 ms, sys: 4 ms, total: 132 ms\n",
      "Wall time: 139 ms\n",
      "CPU times: user 126 ms, sys: 0 ns, total: 126 ms\n",
      "Wall time: 126 ms\n"
     ]
    }
   ],
   "source": [
    "#yDrvV = tf.Variable(yDrv)\n",
    "#tDrvV = tf.Variable(tDrv)\n",
    "tSteps = np.linspace(0,5,200) #= [t0, t1]\n",
    "tSteps2 = np.linspace(0,5,20) #= [t0, t1]\n",
    "\n",
    "\n",
    "drv= np.linspace(0,1, yDrv.shape[0])\n",
    "%time res1a= run(tSteps, drv[::-1])\n",
    "#var.assign(5)\n",
    "#%time res2a= run(tSteps2, 10*drv)\n",
    "\n",
    "#var.assign(3)\n",
    "%time res3a= run(tSteps, 100*-drv)\n",
    "#%time res3= run(1*yDrv)"
   ]
  },
  {
   "cell_type": "code",
   "execution_count": 10,
   "metadata": {},
   "outputs": [
    {
     "data": {
      "text/plain": [
       "[<matplotlib.lines.Line2D at 0x7bb95f4ef7f0>]"
      ]
     },
     "execution_count": 10,
     "metadata": {},
     "output_type": "execute_result"
    },
    {
     "data": {
      "image/png": "[encoded data removed]",
      "text/plain": [
       "<Figure size 432x288 with 1 Axes>"
      ]
     },
     "metadata": {
      "needs_background": "light"
     },
     "output_type": "display_data"
    }
   ],
   "source": [
    "plt.plot(res1a[1])"
   ]
  },
  {
   "cell_type": "code",
   "execution_count": 18,
   "metadata": {},
   "outputs": [
    {
     "name": "stdout",
     "output_type": "stream",
     "text": [
      "CPU times: user 5.27 s, sys: 31 ms, total: 5.3 s\n",
      "Wall time: 5.43 s\n",
      "CPU times: user 5.24 s, sys: 15 ms, total: 5.25 s\n",
      "Wall time: 5.36 s\n",
      "CPU times: user 7 ms, sys: 0 ns, total: 7 ms\n",
      "Wall time: 6.58 ms\n"
     ]
    }
   ],
   "source": [
    "#yDrvV = tf.Variable(yDrv)\n",
    "#tDrvV = tf.Variable(tDrv)\n",
    "tSteps = np.linspace(0,5,200) #= [t0, t1]\n",
    "tSteps2 = np.linspace(0,5,20) #= [t0, t1]\n",
    "\n",
    "\n",
    "drv= np.linspace(0,1, yDrv.shape[0])\n",
    "%time res1= run(tSteps, drv[::-1])\n",
    "#var.assign(5)\n",
    "%time res2= run(tSteps2, 10*drv)\n",
    "\n",
    "#var.assign(3)\n",
    "%time res3= run(tSteps, 100*-drv)\n",
    "#%time res3= run(1*yDrv)"
   ]
  },
  {
   "cell_type": "code",
   "execution_count": 132,
   "metadata": {},
   "outputs": [
    {
     "data": {
      "text/plain": [
       "[<matplotlib.lines.Line2D at 0x74d985a1b0d0>,\n",
       " <matplotlib.lines.Line2D at 0x74d985a1bc70>]"
      ]
     },
     "execution_count": 132,
     "metadata": {},
     "output_type": "execute_result"
    },
    {
     "data": {
      "image/png": "[encoded data removed]",
      "text/plain": [
       "<Figure size 432x288 with 1 Axes>"
      ]
     },
     "metadata": {
      "needs_background": "light"
     },
     "output_type": "display_data"
    }
   ],
   "source": [
    "plt.plot(res1a[0].states)"
   ]
  },
  {
   "cell_type": "code",
   "execution_count": 19,
   "metadata": {
    "scrolled": true
   },
   "outputs": [
    {
     "data": {
      "text/plain": [
       "[<matplotlib.lines.Line2D at 0x7f9550516d30>,\n",
       " <matplotlib.lines.Line2D at 0x7f9550516fa0>]"
      ]
     },
     "execution_count": 19,
     "metadata": {},
     "output_type": "execute_result"
    },
    {
     "data": {
      "image/png": "[encoded data removed]",
      "text/plain": [
       "<Figure size 432x288 with 1 Axes>"
      ]
     },
     "metadata": {
      "needs_background": "light"
     },
     "output_type": "display_data"
    },
    {
     "data": {
      "image/png": "[encoded data removed]",
      "text/plain": [
       "<Figure size 432x288 with 1 Axes>"
      ]
     },
     "metadata": {
      "needs_background": "light"
     },
     "output_type": "display_data"
    }
   ],
   "source": [
    "plt.plot(res1[0].states)\n",
    "plt.figure()\n",
    "plt.plot(res1a[0].states)"
   ]
  },
  {
   "cell_type": "code",
   "execution_count": 133,
   "metadata": {
    "scrolled": true
   },
   "outputs": [
    {
     "ename": "NameError",
     "evalue": "name 'res1' is not defined",
     "output_type": "error",
     "traceback": [
      "\u001b[0;31m---------------------------------------------------------------------------\u001b[0m",
      "\u001b[0;31mNameError\u001b[0m                                 Traceback (most recent call last)",
      "\u001b[0;32m<ipython-input-133-4ae468f27018>\u001b[0m in \u001b[0;36m<module>\u001b[0;34m\u001b[0m\n\u001b[0;32m----> 1\u001b[0;31m \u001b[0mplt\u001b[0m\u001b[0;34m.\u001b[0m\u001b[0mplot\u001b[0m\u001b[0;34m(\u001b[0m\u001b[0mres1\u001b[0m\u001b[0;34m[\u001b[0m\u001b[0;36m1\u001b[0m\u001b[0;34m]\u001b[0m\u001b[0;34m)\u001b[0m\u001b[0;34m\u001b[0m\u001b[0;34m\u001b[0m\u001b[0m\n\u001b[0m",
      "\u001b[0;31mNameError\u001b[0m: name 'res1' is not defined"
     ]
    }
   ],
   "source": [
    "plt.plot(res1[1])"
   ]
  },
  {
   "cell_type": "code",
   "execution_count": 35,
   "metadata": {},
   "outputs": [
    {
     "data": {
      "text/plain": [
       "6"
      ]
     },
     "execution_count": 35,
     "metadata": {},
     "output_type": "execute_result"
    }
   ],
   "source": [
    "dp.ODE_FN_EVALS_PER_STEP"
   ]
  },
  {
   "cell_type": "code",
   "execution_count": 121,
   "metadata": {},
   "outputs": [
    {
     "name": "stdout",
     "output_type": "stream",
     "text": [
      "CPU times: user 1.42 s, sys: 79 ms, total: 1.49 s\n",
      "Wall time: 1.2 s\n",
      "CPU times: user 1.45 s, sys: 75 ms, total: 1.53 s\n",
      "Wall time: 1.28 s\n"
     ]
    }
   ],
   "source": [
    "%time res1= run(tDrvV, yDrvV)\n",
    "%time res1= run(tDrvV, yDrvV)"
   ]
  },
  {
   "cell_type": "code",
   "execution_count": 152,
   "metadata": {},
   "outputs": [
    {
     "data": {
      "text/plain": [
       "[<matplotlib.lines.Line2D at 0x7e9d72334130>,\n",
       " <matplotlib.lines.Line2D at 0x7e9d723343d0>]"
      ]
     },
     "execution_count": 152,
     "metadata": {},
     "output_type": "execute_result"
    },
    {
     "data": {
      "image/png": "[encoded data removed]",
      "text/plain": [
       "<Figure size 432x288 with 1 Axes>"
      ]
     },
     "metadata": {
      "needs_background": "light"
     },
     "output_type": "display_data"
    }
   ],
   "source": [
    "plt.plot(res1[0].states)#"
   ]
  },
  {
   "cell_type": "code",
   "execution_count": 150,
   "metadata": {},
   "outputs": [
    {
     "data": {
      "text/plain": [
       "[<matplotlib.lines.Line2D at 0x7e9d72345f40>,\n",
       " <matplotlib.lines.Line2D at 0x7e9d723501c0>]"
      ]
     },
     "execution_count": 150,
     "metadata": {},
     "output_type": "execute_result"
    },
    {
     "data": {
      "image/png": "[encoded data removed]",
      "text/plain": [
       "<Figure size 432x288 with 1 Axes>"
      ]
     },
     "metadata": {
      "needs_background": "light"
     },
     "output_type": "display_data"
    }
   ],
   "source": [
    "plt.plot(res1[0].states)#"
   ]
  },
  {
   "cell_type": "code",
   "execution_count": 78,
   "metadata": {},
   "outputs": [
    {
     "name": "stdout",
     "output_type": "stream",
     "text": [
      "CPU times: user 1.04 s, sys: 3 ms, total: 1.04 s\n",
      "Wall time: 1.04 s\n",
      "CPU times: user 32 ms, sys: 1 ms, total: 33 ms\n",
      "Wall time: 30.1 ms\n",
      "CPU times: user 39 ms, sys: 1 ms, total: 40 ms\n",
      "Wall time: 57.6 ms\n"
     ]
    }
   ],
   "source": [
    "yDrvV = tf.Variable(yDrv)\n",
    "ode_fn = Lambda(tDrv, yDrvV)\n",
    "#yDrvV.assigna\n",
    "ode_fn2 = Lambda(tDrv, 2*yDrv)\n",
    "ode_fn3 = Lambda(tDrv, 3*yDrv)\n",
    "\n",
    "\n",
    "%time res1= run(yDrv, ode_fn)\n",
    "ode_fn.f.yOrig.assign_add(tf.ones(100, dtype='float64'))\n",
    "%time res2= run(yDrv, ode_fn)\n",
    "ode_fn.f.yOrig.assign_add(tf.ones(100, dtype='float64'))\n",
    "%time res3= run(yDrv, ode_fn)"
   ]
  },
  {
   "cell_type": "code",
   "execution_count": 15,
   "metadata": {},
   "outputs": [
    {
     "data": {
      "text/plain": [
       "<tf.Tensor: shape=(2,), dtype=float64, numpy=array([1.        , 5.00000006])>"
      ]
     },
     "execution_count": 15,
     "metadata": {},
     "output_type": "execute_result"
    }
   ],
   "source": [
    "res1[1]"
   ]
  },
  {
   "cell_type": "code",
   "execution_count": 74,
   "metadata": {},
   "outputs": [
    {
     "data": {
      "text/plain": [
       "[<matplotlib.lines.Line2D at 0x7e9d7592ed00>,\n",
       " <matplotlib.lines.Line2D at 0x7e9d7592e670>]"
      ]
     },
     "execution_count": 74,
     "metadata": {},
     "output_type": "execute_result"
    },
    {
     "data": {
      "image/png": "[encoded data removed]",
      "text/plain": [
       "<Figure size 432x288 with 1 Axes>"
      ]
     },
     "metadata": {
      "needs_background": "light"
     },
     "output_type": "display_data"
    }
   ],
   "source": [
    "plt.plot(res1.states)\n",
    "plt.plot(res2.states)\n",
    "plt.plot(res3.states)"
   ]
  },
  {
   "cell_type": "code",
   "execution_count": 32,
   "metadata": {},
   "outputs": [],
   "source": [
    "tf.GradientTape(watch_accessed_variables=False)"
   ]
  },
  {
   "cell_type": "code",
   "execution_count": 27,
   "metadata": {},
   "outputs": [
    {
     "data": {
      "text/plain": [
       "[<matplotlib.lines.Line2D at 0x7e9d75da5b20>,\n",
       " <matplotlib.lines.Line2D at 0x7e9d75c390d0>]"
      ]
     },
     "execution_count": 27,
     "metadata": {},
     "output_type": "execute_result"
    },
    {
     "data": {
      "image/png": "[encoded data removed]",
      "text/plain": [
       "<Figure size 432x288 with 1 Axes>"
      ]
     },
     "metadata": {
      "needs_background": "light"
     },
     "output_type": "display_data"
    }
   ],
   "source": [
    "plt.plot(results.states.numpy())"
   ]
  },
  {
   "cell_type": "code",
   "execution_count": null,
   "metadata": {},
   "outputs": [],
   "source": []
  }
 ],
 "metadata": {
  "kernelspec": {
   "display_name": "Python 3",
   "language": "python",
   "name": "python3"
  },
  "language_info": {
   "codemirror_mode": {
    "name": "ipython",
    "version": 3
   },
   "file_extension": ".py",
   "mimetype": "text/x-python",
   "name": "python",
   "nbconvert_exporter": "python",
   "pygments_lexer": "ipython3",
   "version": "3.8.5"
  },
  "toc": {
   "base_numbering": 1,
   "nav_menu": {
    "height": "191px",
    "width": "176px"
   },
   "number_sections": true,
   "sideBar": true,
   "skip_h1_title": false,
   "title_cell": "Table of Contents",
   "title_sidebar": "Contents",
   "toc_cell": false,
   "toc_position": {
    "height": "calc(100% - 180px)",
    "left": "10px",
    "top": "150px",
    "width": "165px"
   },
   "toc_section_display": true,
   "toc_window_display": true
  }
 },
 "nbformat": 4,
 "nbformat_minor": 4
}
