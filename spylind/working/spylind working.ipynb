{
 "cells": [
  {
   "cell_type": "markdown",
   "metadata": {},
   "source": [
    "Just some scrap paper"
   ]
  },
  {
   "cell_type": "code",
   "execution_count": 7,
   "metadata": {},
   "outputs": [
    {
     "name": "stdout",
     "output_type": "stream",
     "text": [
      "The autoreload extension is already loaded. To reload it, use:\n",
      "  %reload_ext autoreload\n"
     ]
    }
   ],
   "source": [
    "%matplotlib inline\n",
    "%load_ext autoreload\n",
    "%autoreload 2\n",
    "from pylab import *\n",
    "from spylind import spyIVP as sivp\n",
    "from spylind import spylind as spl\n",
    "import sympy as sm\n",
    "\n",
    "from spylind import spylind as spl # master equation useful bits\n",
    "import qutip as q\n",
    "sm.init_printing()\n",
    "\n",
    "# For testing/debuggin:\n",
    "if 1:\n",
    "    import MT \n",
    "    from MT import liouvillian as L\n",
    "    import pdb"
   ]
  },
  {
   "cell_type": "markdown",
   "metadata": {},
   "source": [
    "## Copying pyMBE"
   ]
  },
  {
   "cell_type": "code",
   "execution_count": 12,
   "metadata": {},
   "outputs": [],
   "source": [
    "#\n",
    "H0, [EinS, H1], [DeltaS, Hdet], c_opL=sld.makeBlochOperators(gsEnergies= [0,1], esEnergies=[0], osc_strengths=np.array([[1],[1]]) ,\n",
    "                        T1_opt=2)\n",
    "H_desc = [H0, (EinS, dest), (sm.conjugate(EinS), dest.H), (DeltaS, Hdet) ]\n"
   ]
  },
  {
   "cell_type": "code",
   "execution_count": 13,
   "metadata": {},
   "outputs": [
    {
     "data": {
      "text/plain": [
       "matrix([[0, 0, 0.5*conjugate(Ef)],\n",
       "        [0, 0, 0.5*conjugate(Ef)],\n",
       "        [0.5*Ef, 0.5*Ef, 0]], dtype=object)"
      ]
     },
     "execution_count": 13,
     "metadata": {},
     "output_type": "execute_result"
    }
   ],
   "source": [
    "H1"
   ]
  },
  {
   "cell_type": "code",
   "execution_count": 15,
   "metadata": {},
   "outputs": [
    {
     "data": {
      "text/plain": [
       "matrix([[0, 0, 0],\n",
       "        [0, 0, 0],\n",
       "        [0.500000000000000, 0.500000000000000, 0]], dtype=object)"
      ]
     },
     "execution_count": 15,
     "metadata": {},
     "output_type": "execute_result"
    }
   ],
   "source": [
    "H1a"
   ]
  },
  {
   "cell_type": "code",
   "execution_count": 18,
   "metadata": {},
   "outputs": [
    {
     "data": {
      "text/plain": [
       "matrix([[ 0.        +0.j,  0.        +0.j,  0.        +0.j],\n",
       "        [ 0.        +0.j, -6.28318531+0.j,  0.        +0.j],\n",
       "        [ 0.        +0.j,  0.        +0.j,  0.        +0.j]])"
      ]
     },
     "metadata": {},
     "output_type": "display_data"
    },
    {
     "data": {
      "text/plain": [
       "[matrix([[0, 0, 0.707106781186548],\n",
       "         [0, 0, 0],\n",
       "         [0, 0, 0]], dtype=object),\n",
       " matrix([[0, 0, 0],\n",
       "         [0, 0, 0.707106781186548],\n",
       "         [0, 0, 0]], dtype=object)]"
      ]
     },
     "metadata": {},
     "output_type": "display_data"
    },
    {
     "data": {
      "text/plain": [
       "matrix([[0, 0, 0],\n",
       "        [0, 0, 0],\n",
       "        [0.500000000000000, 0.500000000000000, 0]], dtype=object)"
      ]
     },
     "metadata": {},
     "output_type": "display_data"
    },
    {
     "data": {
      "text/plain": [
       "matrix([[0, 0, 0.500000000000000],\n",
       "        [0, 0, 0.500000000000000],\n",
       "        [0, 0, 0]], dtype=object)"
      ]
     },
     "metadata": {},
     "output_type": "display_data"
    }
   ],
   "source": [
    "zS = sm.symbols(\"z, \")\n",
    "H1a = np.matrix(sm.Matrix(np.tril(H1, 0)).subs(EinS,1))\n",
    "H1b = H1a.T.conj()\n",
    "H_desc = [H0, [EinS, H1a], [ sm.conjugate(EinS), H1b], (DeltaS, Hdet) ]\n",
    "display(H_desc[0], c_opL, H1a, H1b)"
   ]
  },
  {
   "cell_type": "code",
   "execution_count": 17,
   "metadata": {},
   "outputs": [
    {
     "data": {
      "text/latex": [
       "$\\displaystyle \\left[\\begin{matrix}\\rho_{0|0} & \\rho_{0|1} & \\rho_{0|2}\\\\\\overline{\\rho_{0|1}} & \\rho_{1|1} & \\rho_{1|2}\\\\\\overline{\\rho_{0|2}} & \\overline{\\rho_{1|2}} & \\rho_{2|2}\\end{matrix}\\right] = \\left[\\begin{matrix}0.5 i \\rho_{0|2} \\left(\\overline{E_{ex}} + \\overline{Ef}\\right) + 0.5 \\rho_{2|2} - 0.5 i \\left(E_{ex} + Ef\\right) \\overline{\\rho_{0|2}} & - 6.28318530717959 i \\rho_{0|1} + 0.5 i \\rho_{0|2} \\left(\\overline{E_{ex}} + \\overline{Ef}\\right) - 0.5 i \\left(E_{ex} + Ef\\right) \\overline{\\rho_{1|2}} & 0.5 i \\rho_{0|0} \\left(E_{ex} + Ef\\right) + 0.5 i \\rho_{0|1} \\left(E_{ex} + Ef\\right) + \\rho_{0|2} \\left(1.0 i \\Delta - 0.5\\right) - 0.5 i \\rho_{2|2} \\left(E_{ex} + Ef\\right)\\\\0.5 i \\rho_{1|2} \\left(\\overline{E_{ex}} + \\overline{Ef}\\right) - 0.5 i \\left(E_{ex} + Ef\\right) \\overline{\\rho_{0|2}} + 6.28318530717959 i \\overline{\\rho_{0|1}} & 0.5 i \\rho_{1|2} \\left(\\overline{E_{ex}} + \\overline{Ef}\\right) + 0.5 \\rho_{2|2} - 0.5 i \\left(E_{ex} + Ef\\right) \\overline{\\rho_{1|2}} & 0.5 i \\rho_{1|1} \\left(E_{ex} + Ef\\right) + \\rho_{1|2} \\left(1.0 i \\Delta - 0.5 + 6.28318530717959 i\\right) - 0.5 i \\rho_{2|2} \\left(E_{ex} + Ef\\right) + 0.5 i \\left(E_{ex} + Ef\\right) \\overline{\\rho_{0|1}}\\\\- 0.5 i \\rho_{0|0} \\left(\\overline{E_{ex}} + \\overline{Ef}\\right) + 0.5 i \\rho_{2|2} \\left(\\overline{E_{ex}} + \\overline{Ef}\\right) + \\left(- 1.0 i \\Delta - 0.5\\right) \\overline{\\rho_{0|2}} - 0.5 i \\left(\\overline{E_{ex}} + \\overline{Ef}\\right) \\overline{\\rho_{0|1}} & - 0.5 i \\rho_{0|1} \\left(\\overline{E_{ex}} + \\overline{Ef}\\right) - 0.5 i \\rho_{1|1} \\left(\\overline{E_{ex}} + \\overline{Ef}\\right) + 0.5 i \\rho_{2|2} \\left(\\overline{E_{ex}} + \\overline{Ef}\\right) + \\left(- 1.0 i \\Delta - 0.5 - 6.28318530717959 i\\right) \\overline{\\rho_{1|2}} & - 0.5 i \\rho_{0|2} \\left(\\overline{E_{ex}} + \\overline{Ef}\\right) - 0.5 i \\rho_{1|2} \\left(\\overline{E_{ex}} + \\overline{Ef}\\right) - 1.0 \\rho_{2|2} + 0.5 i \\left(E_{ex} + Ef\\right) \\overline{\\rho_{0|2}} + 0.5 i \\left(E_{ex} + Ef\\right) \\overline{\\rho_{1|2}}\\end{matrix}\\right]$"
      ],
      "text/plain": [
       "                                       ⎡                                      \n",
       "⎡\\rho_{0|0}  \\rho_{0|1}  \\rho_{0|2}⎤   ⎢                      0.5⋅ⅈ⋅\\rho_{0|2}\n",
       "⎢                                  ⎥   ⎢                                      \n",
       "⎢__________                        ⎥   ⎢                                ⎛___  \n",
       "⎢\\rho_{0|1}  \\rho_{1|1}  \\rho_{1|2}⎥ = ⎢               0.5⋅ⅈ⋅\\rho_{1|2}⋅⎝Eₑₓ +\n",
       "⎢                                  ⎥   ⎢                                      \n",
       "⎢__________  __________            ⎥   ⎢                   ⎛___   __⎞         \n",
       "⎣\\rho_{0|2}  \\rho_{1|2}  \\rho_{2|2}⎦   ⎣- 0.5⋅ⅈ⋅\\rho_{0|0}⋅⎝Eₑₓ + Ef⎠ + 0.5⋅ⅈ⋅\n",
       "\n",
       " ⎛___   __⎞                                     __________                    \n",
       "⋅⎝Eₑₓ + Ef⎠ + 0.5⋅\\rho_{2|2} - 0.5⋅ⅈ⋅(Eₑₓ + Ef)⋅\\rho_{0|2}                    \n",
       "                                                                              \n",
       " __⎞                    __________                      __________            \n",
       " Ef⎠ - 0.5⋅ⅈ⋅(Eₑₓ + Ef)⋅\\rho_{0|2} + 6.28318530717959⋅ⅈ⋅\\rho_{0|1}            \n",
       "                                                                              \n",
       "           ⎛___   __⎞                    __________         ⎛___   __⎞ _______\n",
       "\\rho_{2|2}⋅⎝Eₑₓ + Ef⎠ + (-1.0⋅ⅈ⋅Δ - 0.5)⋅\\rho_{0|2} - 0.5⋅ⅈ⋅⎝Eₑₓ + Ef⎠⋅\\rho_{0\n",
       "\n",
       "                                                                              \n",
       "                              -6.28318530717959⋅ⅈ⋅\\rho_{0|1} + 0.5⋅ⅈ⋅\\rho_{0|2\n",
       "                                                                              \n",
       "                                                       ⎛___   __⎞             \n",
       "                                      0.5⋅ⅈ⋅\\rho_{1|2}⋅⎝Eₑₓ + Ef⎠ + 0.5⋅\\rho_{\n",
       "                                                                              \n",
       "___                     ⎛___   __⎞                    ⎛___   __⎞              \n",
       "|1}  - 0.5⋅ⅈ⋅\\rho_{0|1}⋅⎝Eₑₓ + Ef⎠ - 0.5⋅ⅈ⋅\\rho_{1|1}⋅⎝Eₑₓ + Ef⎠ + 0.5⋅ⅈ⋅\\rho_\n",
       "\n",
       "  ⎛___   __⎞                    __________                                    \n",
       "}⋅⎝Eₑₓ + Ef⎠ - 0.5⋅ⅈ⋅(Eₑₓ + Ef)⋅\\rho_{1|2}                                    \n",
       "                                                                              \n",
       "                        __________                                            \n",
       "2|2} - 0.5⋅ⅈ⋅(Eₑₓ + Ef)⋅\\rho_{1|2}                                   0.5⋅ⅈ⋅\\rh\n",
       "                                                                              \n",
       "      ⎛___   __⎞                                         __________           \n",
       "{2|2}⋅⎝Eₑₓ + Ef⎠ + (-1.0⋅ⅈ⋅Δ - 0.5 - 6.28318530717959⋅ⅈ)⋅\\rho_{1|2}  - 0.5⋅ⅈ⋅\\\n",
       "\n",
       "                                                                              \n",
       " 0.5⋅ⅈ⋅\\rho_{0|0}⋅(Eₑₓ + Ef) + 0.5⋅ⅈ⋅\\rho_{0|1}⋅(Eₑₓ + Ef) + \\rho_{0|2}⋅(1.0⋅ⅈ\n",
       "                                                                              \n",
       "                                                                              \n",
       "o_{1|1}⋅(Eₑₓ + Ef) + \\rho_{1|2}⋅(1.0⋅ⅈ⋅Δ - 0.5 + 6.28318530717959⋅ⅈ) - 0.5⋅ⅈ⋅\\\n",
       "                                                                              \n",
       "          ⎛___   __⎞                    ⎛___   __⎞                            \n",
       "rho_{0|2}⋅⎝Eₑₓ + Ef⎠ - 0.5⋅ⅈ⋅\\rho_{1|2}⋅⎝Eₑₓ + Ef⎠ - 1.0⋅\\rho_{2|2} + 0.5⋅ⅈ⋅(E\n",
       "\n",
       "                                                  ⎤\n",
       "⋅Δ - 0.5) - 0.5⋅ⅈ⋅\\rho_{2|2}⋅(Eₑₓ + Ef)           ⎥\n",
       "                                                  ⎥\n",
       "                                        __________⎥\n",
       "rho_{2|2}⋅(Eₑₓ + Ef) + 0.5⋅ⅈ⋅(Eₑₓ + Ef)⋅\\rho_{0|1}⎥\n",
       "                                                  ⎥\n",
       "         __________                    __________ ⎥\n",
       "ₑₓ + Ef)⋅\\rho_{0|2} + 0.5⋅ⅈ⋅(Eₑₓ + Ef)⋅\\rho_{1|2} ⎦"
      ]
     },
     "metadata": {},
     "output_type": "display_data"
    },
    {
     "data": {
      "image/png": "[encoded data removed]",
      "text/latex": [
       "$\\displaystyle \\left[ 0.5 \\rho_{0|2} + 0.5 \\rho_{1|2}\\right]$"
      ],
      "text/plain": [
       "[0.5⋅\\rho_{0|2} + 0.5⋅\\rho_{1|2}]"
      ]
     },
     "metadata": {},
     "output_type": "display_data"
    }
   ],
   "source": [
    "eq, ex_vals=spl.makeMESymb(H_desc, c_opL=c_opL, e_opL = [H1a], bReturnMatrixEquation=True)\n",
    "display(eq, ex_vals)"
   ]
  },
  {
   "cell_type": "code",
   "execution_count": null,
   "metadata": {},
   "outputs": [],
   "source": []
  }
 ],
 "metadata": {
  "kernelspec": {
   "display_name": "Python 3",
   "language": "python",
   "name": "python3"
  },
  "language_info": {
   "codemirror_mode": {
    "name": "ipython",
    "version": 3
   },
   "file_extension": ".py",
   "mimetype": "text/x-python",
   "name": "python",
   "nbconvert_exporter": "python",
   "pygments_lexer": "ipython3",
   "version": "3.8.5"
  },
  "toc": {
   "base_numbering": 1,
   "nav_menu": {},
   "number_sections": true,
   "sideBar": true,
   "skip_h1_title": false,
   "title_cell": "Table of Contents",
   "title_sidebar": "Contents",
   "toc_cell": false,
   "toc_position": {},
   "toc_section_display": true,
   "toc_window_display": false
  }
 },
 "nbformat": 4,
 "nbformat_minor": 4
}
