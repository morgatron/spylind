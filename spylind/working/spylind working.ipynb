{
 "cells": [
  {
   "cell_type": "markdown",
   "metadata": {},
   "source": [
    "Just some scrap paper"
   ]
  },
  {
   "cell_type": "code",
   "execution_count": 20,
   "metadata": {},
   "outputs": [
    {
     "name": "stdout",
     "output_type": "stream",
     "text": [
      "The autoreload extension is already loaded. To reload it, use:\n",
      "  %reload_ext autoreload\n"
     ]
    }
   ],
   "source": [
    "%matplotlib inline\n",
    "%load_ext autoreload\n",
    "%autoreload 2\n",
    "from pylab import *\n",
    "from spylind import spyIVP as so\n",
    "import sympy as sm\n",
    "\n",
    "from spylind import spylind as spl # master equation useful bits\n",
    "import qutip as q\n",
    "sm.init_printing()\n",
    "\n",
    "# For testing/debuggin:\n",
    "if 1:\n",
    "    import MT \n",
    "    from MT import liouvillian as L\n",
    "    import pdb"
   ]
  },
  {
   "cell_type": "markdown",
   "metadata": {},
   "source": [
    "## Copying pyMBE"
   ]
  },
  {
   "cell_type": "code",
   "execution_count": 14,
   "metadata": {},
   "outputs": [],
   "source": [
    "H0, [Esym, H1], Hlst, c_opL = spl.constructBlochHamiltonian(gsEnergies=[-1,1], esEnergies=[0], osc_strengths=np.array([[1],[1]]),\n",
    "                        T1_opt=10)"
   ]
  },
  {
   "cell_type": "code",
   "execution_count": 18,
   "metadata": {},
   "outputs": [],
   "source": [
    "H0, [EinS, H1a], ([DeltaS, Hdet]), c_opL = h.constructBlochHamiltonian([0,1], [0], osc_strengths=1,\n",
    "                        T1_opt=1, br_ratio=[1,1])"
   ]
  },
  {
   "cell_type": "code",
   "execution_count": 22,
   "metadata": {},
   "outputs": [
    {
     "data": {
      "text/plain": [
       "matrix([[ 0.        +0.j,  0.        +0.j,  0.        +0.j],\n",
       "        [ 0.        +0.j, -6.28318531+0.j,  0.        +0.j],\n",
       "        [ 0.        +0.j,  0.        +0.j,  0.        +0.j]])"
      ]
     },
     "metadata": {},
     "output_type": "display_data"
    },
    {
     "data": {
      "text/plain": [
       "[matrix([[0, 0, 1.00000000000000],\n",
       "         [0, 0, 0],\n",
       "         [0, 0, 0]], dtype=object),\n",
       " matrix([[0, 0, 0],\n",
       "         [0, 0, 1.00000000000000],\n",
       "         [0, 0, 0]], dtype=object)]"
      ]
     },
     "metadata": {},
     "output_type": "display_data"
    },
    {
     "data": {
      "text/plain": [
       "matrix([[0, 0, 0],\n",
       "        [0, 0, 0],\n",
       "        [0.500000000000000, 0.500000000000000, 0]], dtype=object)"
      ]
     },
     "metadata": {},
     "output_type": "display_data"
    },
    {
     "data": {
      "text/plain": [
       "matrix([[0, 0, 0.500000000000000],\n",
       "        [0, 0, 0.500000000000000],\n",
       "        [0, 0, 0]], dtype=object)"
      ]
     },
     "metadata": {},
     "output_type": "display_data"
    }
   ],
   "source": [
    "zS, EexS = sm.symbols(\"z, E_ex\")\n",
    "H1a = np.matrix(sm.Matrix(np.tril(H1a, 0)).subs(EinS,1))\n",
    "H1b = H1a.T.conj()\n",
    "H_desc = [H0, [EexS+EinS, H1a], [sm.conjugate(EexS) + sm.conjugate(EinS), H1b], (DeltaS, Hdet) ]\n",
    "display(H_desc[0], c_opL, H1a, H1b)"
   ]
  },
  {
   "cell_type": "code",
   "execution_count": 23,
   "metadata": {},
   "outputs": [
    {
     "name": "stdout",
     "output_type": "stream",
     "text": [
      "makeMESymb enter\n"
     ]
    },
    {
     "data": {
      "text/latex": [
       "$\\displaystyle \\left[\\begin{matrix}\\rho_{0|0} & \\rho_{0|1} & \\rho_{0|2}\\\\\\overline{\\rho_{0|1}} & \\rho_{1|1} & \\rho_{1|2}\\\\\\overline{\\rho_{0|2}} & \\overline{\\rho_{1|2}} & \\rho_{2|2}\\end{matrix}\\right] = \\left[\\begin{matrix}- 0.5 i \\rho_{0|2} \\left(\\overline{E_{ex}} + \\overline{Ef}\\right) + 1.0 \\rho_{2|2} + 0.5 i \\left(E_{ex} + Ef\\right) \\overline{\\rho_{0|2}} & 6.28318530717959 i \\rho_{0|1} - 0.5 i \\rho_{0|2} \\left(\\overline{E_{ex}} + \\overline{Ef}\\right) + 0.5 i \\left(E_{ex} + Ef\\right) \\overline{\\rho_{1|2}} & - 0.5 i \\rho_{0|0} \\left(E_{ex} + Ef\\right) - 0.5 i \\rho_{0|1} \\left(E_{ex} + Ef\\right) + \\rho_{0|2} \\left(- 1.0 i \\Delta - 1.0\\right) + 0.5 i \\rho_{2|2} \\left(E_{ex} + Ef\\right)\\\\- 0.5 i \\rho_{1|2} \\left(\\overline{E_{ex}} + \\overline{Ef}\\right) + 0.5 i \\left(E_{ex} + Ef\\right) \\overline{\\rho_{0|2}} - 6.28318530717959 i \\overline{\\rho_{0|1}} & - 0.5 i \\rho_{1|2} \\left(\\overline{E_{ex}} + \\overline{Ef}\\right) + 1.0 \\rho_{2|2} + 0.5 i \\left(E_{ex} + Ef\\right) \\overline{\\rho_{1|2}} & - 0.5 i \\rho_{1|1} \\left(E_{ex} + Ef\\right) + \\rho_{1|2} \\left(- 1.0 i \\Delta - 1.0 - 6.28318530717959 i\\right) + 0.5 i \\rho_{2|2} \\left(E_{ex} + Ef\\right) - 0.5 i \\left(E_{ex} + Ef\\right) \\overline{\\rho_{0|1}}\\\\0.5 i \\rho_{0|0} \\left(\\overline{E_{ex}} + \\overline{Ef}\\right) - 0.5 i \\rho_{2|2} \\left(\\overline{E_{ex}} + \\overline{Ef}\\right) + \\left(1.0 i \\Delta - 1.0\\right) \\overline{\\rho_{0|2}} + 0.5 i \\left(\\overline{E_{ex}} + \\overline{Ef}\\right) \\overline{\\rho_{0|1}} & 0.5 i \\rho_{0|1} \\left(\\overline{E_{ex}} + \\overline{Ef}\\right) + 0.5 i \\rho_{1|1} \\left(\\overline{E_{ex}} + \\overline{Ef}\\right) - 0.5 i \\rho_{2|2} \\left(\\overline{E_{ex}} + \\overline{Ef}\\right) + \\left(1.0 i \\Delta - 1.0 + 6.28318530717959 i\\right) \\overline{\\rho_{1|2}} & 0.5 i \\rho_{0|2} \\left(\\overline{E_{ex}} + \\overline{Ef}\\right) + 0.5 i \\rho_{1|2} \\left(\\overline{E_{ex}} + \\overline{Ef}\\right) - 2.0 \\rho_{2|2} - 0.5 i \\left(E_{ex} + Ef\\right) \\overline{\\rho_{0|2}} - 0.5 i \\left(E_{ex} + Ef\\right) \\overline{\\rho_{1|2}}\\end{matrix}\\right]$"
      ],
      "text/plain": [
       "                                       ⎡                                      \n",
       "⎡\\rho_{0|0}  \\rho_{0|1}  \\rho_{0|2}⎤   ⎢                    - 0.5⋅ⅈ⋅\\rho_{0|2}\n",
       "⎢                                  ⎥   ⎢                                      \n",
       "⎢__________                        ⎥   ⎢                               ⎛___   \n",
       "⎢\\rho_{0|1}  \\rho_{1|1}  \\rho_{1|2}⎥ = ⎢            - 0.5⋅ⅈ⋅\\rho_{1|2}⋅⎝Eₑₓ + \n",
       "⎢                                  ⎥   ⎢                                      \n",
       "⎢__________  __________            ⎥   ⎢                 ⎛___   __⎞           \n",
       "⎣\\rho_{0|2}  \\rho_{1|2}  \\rho_{2|2}⎦   ⎣0.5⋅ⅈ⋅\\rho_{0|0}⋅⎝Eₑₓ + Ef⎠ - 0.5⋅ⅈ⋅\\r\n",
       "\n",
       " ⎛___   __⎞                                     __________                    \n",
       "⋅⎝Eₑₓ + Ef⎠ + 1.0⋅\\rho_{2|2} + 0.5⋅ⅈ⋅(Eₑₓ + Ef)⋅\\rho_{0|2}                    \n",
       "                                                                              \n",
       "__⎞                    __________                      __________             \n",
       "Ef⎠ + 0.5⋅ⅈ⋅(Eₑₓ + Ef)⋅\\rho_{0|2} - 6.28318530717959⋅ⅈ⋅\\rho_{0|1}             \n",
       "                                                                              \n",
       "         ⎛___   __⎞                   __________         ⎛___   __⎞ __________\n",
       "ho_{2|2}⋅⎝Eₑₓ + Ef⎠ + (1.0⋅ⅈ⋅Δ - 1.0)⋅\\rho_{0|2} + 0.5⋅ⅈ⋅⎝Eₑₓ + Ef⎠⋅\\rho_{0|1}\n",
       "\n",
       "                                                                           ⎛__\n",
       "                          6.28318530717959⋅ⅈ⋅\\rho_{0|1} - 0.5⋅ⅈ⋅\\rho_{0|2}⋅⎝Eₑ\n",
       "                                                                              \n",
       "                                                   ⎛___   __⎞                 \n",
       "                                - 0.5⋅ⅈ⋅\\rho_{1|2}⋅⎝Eₑₓ + Ef⎠ + 1.0⋅\\rho_{2|2}\n",
       "                                                                              \n",
       "                   ⎛___   __⎞                    ⎛___   __⎞                   \n",
       "  0.5⋅ⅈ⋅\\rho_{0|1}⋅⎝Eₑₓ + Ef⎠ + 0.5⋅ⅈ⋅\\rho_{1|1}⋅⎝Eₑₓ + Ef⎠ - 0.5⋅ⅈ⋅\\rho_{2|2}\n",
       "\n",
       "_   __⎞                    __________                                         \n",
       "ₓ + Ef⎠ + 0.5⋅ⅈ⋅(Eₑₓ + Ef)⋅\\rho_{1|2}                                    -0.5⋅\n",
       "                                                                              \n",
       "                    __________                                                \n",
       " + 0.5⋅ⅈ⋅(Eₑₓ + Ef)⋅\\rho_{1|2}                                 -0.5⋅ⅈ⋅\\rho_{1|\n",
       "                                                                              \n",
       " ⎛___   __⎞                                        __________                 \n",
       "⋅⎝Eₑₓ + Ef⎠ + (1.0⋅ⅈ⋅Δ - 1.0 + 6.28318530717959⋅ⅈ)⋅\\rho_{1|2}    0.5⋅ⅈ⋅\\rho_{0\n",
       "\n",
       "                                                                              \n",
       "ⅈ⋅\\rho_{0|0}⋅(Eₑₓ + Ef) - 0.5⋅ⅈ⋅\\rho_{0|1}⋅(Eₑₓ + Ef) + \\rho_{0|2}⋅(-1.0⋅ⅈ⋅Δ -\n",
       "                                                                              \n",
       "                                                                              \n",
       "1}⋅(Eₑₓ + Ef) + \\rho_{1|2}⋅(-1.0⋅ⅈ⋅Δ - 1.0 - 6.28318530717959⋅ⅈ) + 0.5⋅ⅈ⋅\\rho_\n",
       "                                                                              \n",
       "    ⎛___   __⎞                    ⎛___   __⎞                                  \n",
       "|2}⋅⎝Eₑₓ + Ef⎠ + 0.5⋅ⅈ⋅\\rho_{1|2}⋅⎝Eₑₓ + Ef⎠ - 2.0⋅\\rho_{2|2} - 0.5⋅ⅈ⋅(Eₑₓ + E\n",
       "\n",
       "                                              ⎤\n",
       " 1.0) + 0.5⋅ⅈ⋅\\rho_{2|2}⋅(Eₑₓ + Ef)           ⎥\n",
       "                                              ⎥\n",
       "                                    __________⎥\n",
       "{2|2}⋅(Eₑₓ + Ef) - 0.5⋅ⅈ⋅(Eₑₓ + Ef)⋅\\rho_{0|1}⎥\n",
       "                                              ⎥\n",
       "   __________                    __________   ⎥\n",
       "f)⋅\\rho_{0|2} - 0.5⋅ⅈ⋅(Eₑₓ + Ef)⋅\\rho_{1|2}   ⎦"
      ]
     },
     "metadata": {},
     "output_type": "display_data"
    },
    {
     "data": {
      "image/png": "[encoded data removed]",
      "text/latex": [
       "$\\displaystyle \\left[ 0.5 \\rho_{0|2} + 0.5 \\rho_{1|2}\\right]$"
      ],
      "text/plain": [
       "[0.5⋅\\rho_{0|2} + 0.5⋅\\rho_{1|2}]"
      ]
     },
     "metadata": {},
     "output_type": "display_data"
    }
   ],
   "source": [
    "eq, ex_vals=h.makeMESymb(H_desc, c_opL=c_opL, e_opL = [H1a], bReturnMatrixEquation=True)\n",
    "display(eq, ex_vals)"
   ]
  },
  {
   "cell_type": "code",
   "execution_count": null,
   "metadata": {},
   "outputs": [],
   "source": []
  }
 ],
 "metadata": {
  "kernelspec": {
   "display_name": "Python 3",
   "language": "python",
   "name": "python3"
  },
  "language_info": {
   "codemirror_mode": {
    "name": "ipython",
    "version": 3
   },
   "file_extension": ".py",
   "mimetype": "text/x-python",
   "name": "python",
   "nbconvert_exporter": "python",
   "pygments_lexer": "ipython3",
   "version": "3.8.5"
  }
 },
 "nbformat": 4,
 "nbformat_minor": 4
}
