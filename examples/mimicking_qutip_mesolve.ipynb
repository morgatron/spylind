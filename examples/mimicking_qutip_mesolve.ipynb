{
 "cells": [
  {
   "cell_type": "markdown",
   "metadata": {},
   "source": [
    "# Using analagous interface to qutips mesolve"
   ]
  },
  {
   "cell_type": "code",
   "execution_count": 11,
   "metadata": {},
   "outputs": [
    {
     "name": "stdout",
     "output_type": "stream",
     "text": [
      "The autoreload extension is already loaded. To reload it, use:\n",
      "  %reload_ext autoreload\n"
     ]
    }
   ],
   "source": [
    "import qutip as q\n",
    "from spylind import spylind as spl\n",
    "import sympy as sm\n",
    "import numpy as np\n",
    "from matplotlib import pyplot as plt\n",
    "%matplotlib inline\n",
    "%load_ext autoreload\n",
    "%autoreload 2"
   ]
  },
  {
   "cell_type": "code",
   "execution_count": 4,
   "metadata": {},
   "outputs": [
    {
     "data": {
      "text/plain": [
       "'/home/morgan/sd_base/home_dir/git/spylind/spylind/__init__.py'"
      ]
     },
     "execution_count": 4,
     "metadata": {},
     "output_type": "execute_result"
    }
   ],
   "source": [
    "spl.__file__ile__"
   ]
  },
  {
   "cell_type": "markdown",
   "metadata": {},
   "source": [
    "# Qubit dynamics"
   ]
  },
  {
   "cell_type": "markdown",
   "metadata": {},
   "source": [
    "## Single qubit"
   ]
  },
  {
   "cell_type": "markdown",
   "metadata": {},
   "source": [
    "### Qutip version"
   ]
  },
  {
   "cell_type": "code",
   "execution_count": 26,
   "metadata": {},
   "outputs": [
    {
     "name": "stdout",
     "output_type": "stream",
     "text": [
      "No pretty printing stuff (probably because no Pandas)\n"
     ]
    }
   ],
   "source": [
    "#def qubit_integrate(epsilon, delta, g1, g2, solver):\n",
    "epsilon = 0.0 * 2 * np.pi   # cavity frequency\n",
    "delta   = 1.0 * 2 * np.pi   # atom frequency\n",
    "g2 = 0.15\n",
    "g1 = 0.0\n",
    "\n",
    "# intial state\n",
    "psi0 = q.basis(2,0)\n",
    "H = epsilon / 2.0 * q.sigmaz() + delta / 2.0 * q.sigmax()\n",
    "# collapse operators\n",
    "c_ops = []\n",
    "if g1 > 0.0:\n",
    "    c_ops.append(np.sqrt(g1) * q.sigmam())\n",
    "if g2 > 0.0:\n",
    "    c_ops.append(np.sqrt(g2) * q.sigmaz())\n",
    "\n",
    "e_ops = [q.sigmax(), q.sigmay(), q.sigmaz()]\n",
    "tlist = np.linspace(0,2,100)\n",
    "output = q.mesolve(H, psi0, tlist, c_ops, e_ops) "
   ]
  },
  {
   "cell_type": "code",
   "execution_count": 27,
   "metadata": {},
   "outputs": [
    {
     "data": {
      "text/plain": [
       "[<matplotlib.lines.Line2D at 0x73009d71ae80>]"
      ]
     },
     "execution_count": 27,
     "metadata": {},
     "output_type": "execute_result"
    },
    {
     "data": {
      "image/png": "[encoded data removed]",
      "text/plain": [
       "<Figure size 432x288 with 1 Axes>"
      ]
     },
     "metadata": {
      "needs_background": "light"
     },
     "output_type": "display_data"
    }
   ],
   "source": [
    "plt.plot(output.expect[1])"
   ]
  },
  {
   "cell_type": "code",
   "execution_count": 28,
   "metadata": {
    "scrolled": true
   },
   "outputs": [
    {
     "name": "stdout",
     "output_type": "stream",
     "text": [
      "makeMESymb enter\n",
      "Munch({'tSym': t, 'dimSyms': [], 'prop_state_syms': [\\rho_{0|0}, \\rho_{1|1}, \\rho_{0|1}], 'stationary_state_syms': [], 'driving_syms': [], 'state_dep_syms': []})\n",
      "state dependent functions should have signature [t, \\rho_{0|0}, \\rho_{1|1}, \\rho_{0|1}]\n"
     ]
    },
    {
     "ename": "TypeError",
     "evalue": "object of type 'Qobj' has no len()",
     "output_type": "error",
     "traceback": [
      "\u001b[0;31m---------------------------------------------------------------------------\u001b[0m",
      "\u001b[0;31mTypeError\u001b[0m                                 Traceback (most recent call last)",
      "\u001b[0;32m<ipython-input-28-82fbed0de59b>\u001b[0m in \u001b[0;36m<module>\u001b[0;34m\u001b[0m\n\u001b[1;32m      1\u001b[0m \u001b[0;31m#output = spl.mesolve([(sm.symbols('H_0'),H) ], psi0, tlist, c_ops, e_ops)\u001b[0m\u001b[0;34m\u001b[0m\u001b[0;34m\u001b[0m\u001b[0;34m\u001b[0m\u001b[0m\n\u001b[0;32m----> 2\u001b[0;31m \u001b[0moutput\u001b[0m \u001b[0;34m=\u001b[0m \u001b[0mspl\u001b[0m\u001b[0;34m.\u001b[0m\u001b[0mmesolve\u001b[0m\u001b[0;34m(\u001b[0m\u001b[0;34m[\u001b[0m\u001b[0mH\u001b[0m\u001b[0;34m]\u001b[0m \u001b[0;34m,\u001b[0m \u001b[0mpsi0\u001b[0m\u001b[0;34m,\u001b[0m \u001b[0mtlist\u001b[0m\u001b[0;34m=\u001b[0m\u001b[0mtlist\u001b[0m\u001b[0;34m,\u001b[0m \u001b[0mc_ops\u001b[0m \u001b[0;34m=\u001b[0m \u001b[0mc_ops\u001b[0m\u001b[0;34m,\u001b[0m \u001b[0me_ops\u001b[0m\u001b[0;34m=\u001b[0m\u001b[0me_ops\u001b[0m \u001b[0;34m)\u001b[0m\u001b[0;34m\u001b[0m\u001b[0;34m\u001b[0m\u001b[0m\n\u001b[0m",
      "\u001b[0;32m~/sd_base/home_dir/git/spylind/spylind/spylind.py\u001b[0m in \u001b[0;36mmesolve\u001b[0;34m(H, rho0, tlist, c_ops, e_ops, dims, t_dep_fL, state_dep_fL, max_step_size, rtol, atol)\u001b[0m\n\u001b[1;32m    330\u001b[0m     \u001b[0mode_s\u001b[0m\u001b[0;34m.\u001b[0m\u001b[0mset_driving\u001b[0m\u001b[0;34m(\u001b[0m\u001b[0mt_dep_fL\u001b[0m\u001b[0;34m)\u001b[0m\u001b[0;34m\u001b[0m\u001b[0;34m\u001b[0m\u001b[0m\n\u001b[1;32m    331\u001b[0m \u001b[0;34m\u001b[0m\u001b[0m\n\u001b[0;32m--> 332\u001b[0;31m     \u001b[0mode_s\u001b[0m\u001b[0;34m.\u001b[0m\u001b[0mset_initial_conditions\u001b[0m\u001b[0;34m(\u001b[0m\u001b[0mrho0\u001b[0m \u001b[0;34m)\u001b[0m\u001b[0;34m\u001b[0m\u001b[0;34m\u001b[0m\u001b[0m\n\u001b[0m\u001b[1;32m    333\u001b[0m     \u001b[0mode_s\u001b[0m\u001b[0;34m.\u001b[0m\u001b[0msetup\u001b[0m\u001b[0;34m(\u001b[0m\u001b[0;34m)\u001b[0m\u001b[0;34m\u001b[0m\u001b[0;34m\u001b[0m\u001b[0m\n\u001b[1;32m    334\u001b[0m     out=ode_s.integrate(tlist, max_step_size=max_step_size, \n",
      "\u001b[0;32m~/sd_base/home_dir/git/spylind/spylind/spyIVP.py\u001b[0m in \u001b[0;36mset_initial_conditions\u001b[0;34m(self, par0, bRealified)\u001b[0m\n\u001b[1;32m    351\u001b[0m             \u001b[0mpar0\u001b[0m\u001b[0;34m,\u001b[0m \u001b[0m_\u001b[0m\u001b[0;34m,\u001b[0m \u001b[0m_\u001b[0m \u001b[0;34m=\u001b[0m \u001b[0mexpand_to_re_im\u001b[0m\u001b[0;34m(\u001b[0m\u001b[0mpar0\u001b[0m\u001b[0;34m,\u001b[0m \u001b[0mbNumericalRHS\u001b[0m\u001b[0;34m=\u001b[0m\u001b[0;32mTrue\u001b[0m\u001b[0;34m)\u001b[0m\u001b[0;34m\u001b[0m\u001b[0;34m\u001b[0m\u001b[0m\n\u001b[1;32m    352\u001b[0m             \u001b[0;31m#realified_par0 = []\u001b[0m\u001b[0;34m\u001b[0m\u001b[0;34m\u001b[0m\u001b[0;34m\u001b[0m\u001b[0m\n\u001b[0;32m--> 353\u001b[0;31m         \u001b[0mself\u001b[0m\u001b[0;34m.\u001b[0m\u001b[0mNpars\u001b[0m \u001b[0;34m=\u001b[0m \u001b[0mlen\u001b[0m\u001b[0;34m(\u001b[0m\u001b[0mpar0\u001b[0m\u001b[0;34m)\u001b[0m  \u001b[0;31m# Should make sure this matches dy_dtD\u001b[0m\u001b[0;34m\u001b[0m\u001b[0;34m\u001b[0m\u001b[0m\n\u001b[0m\u001b[1;32m    354\u001b[0m         \u001b[0;32mif\u001b[0m \u001b[0misinstance\u001b[0m\u001b[0;34m(\u001b[0m\u001b[0mpar0\u001b[0m\u001b[0;34m,\u001b[0m \u001b[0mMapping\u001b[0m\u001b[0;34m)\u001b[0m\u001b[0;34m:\u001b[0m\u001b[0;34m\u001b[0m\u001b[0;34m\u001b[0m\u001b[0m\n\u001b[1;32m    355\u001b[0m             par0 = np.array([par0[key]\n",
      "\u001b[0;31mTypeError\u001b[0m: object of type 'Qobj' has no len()"
     ]
    }
   ],
   "source": [
    "\n",
    "#output = spl.mesolve([(sm.symbols('H_0'),H) ], psi0, tlist, c_ops, e_ops) \n",
    "output = spl.mesolve([H] , psi0, tlist=tlist, c_ops = c_ops, e_ops=e_ops ) "
   ]
  },
  {
   "cell_type": "markdown",
   "metadata": {},
   "source": [
    "### Inhomogeneously broadened ensemble of qubits"
   ]
  },
  {
   "cell_type": "code",
   "execution_count": 30,
   "metadata": {},
   "outputs": [
    {
     "data": {
      "text/plain": [
       "matrix([[1.+0.j],\n",
       "        [0.+0.j]])"
      ]
     },
     "execution_count": 30,
     "metadata": {},
     "output_type": "execute_result"
    }
   ],
   "source": [
    "psi0.data.todense()"
   ]
  },
  {
   "cell_type": "code",
   "execution_count": null,
   "metadata": {},
   "outputs": [],
   "source": []
  }
 ],
 "metadata": {
  "kernelspec": {
   "display_name": "Python 3",
   "language": "python",
   "name": "python3"
  },
  "language_info": {
   "codemirror_mode": {
    "name": "ipython",
    "version": 3
   },
   "file_extension": ".py",
   "mimetype": "text/x-python",
   "name": "python",
   "nbconvert_exporter": "python",
   "pygments_lexer": "ipython3",
   "version": "3.8.5"
  },
  "toc": {
   "base_numbering": 1,
   "nav_menu": {},
   "number_sections": true,
   "sideBar": true,
   "skip_h1_title": false,
   "title_cell": "Table of Contents",
   "title_sidebar": "Contents",
   "toc_cell": false,
   "toc_position": {},
   "toc_section_display": true,
   "toc_window_display": false
  }
 },
 "nbformat": 4,
 "nbformat_minor": 4
}
