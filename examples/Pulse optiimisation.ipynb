{
 "cells": [
  {
   "cell_type": "code",
   "execution_count": 1,
   "metadata": {},
   "outputs": [
    {
     "ename": "SyntaxError",
     "evalue": "invalid syntax (<ipython-input-1-f8fbebaaa748>, line 42)",
     "output_type": "error",
     "traceback": [
      "\u001b[0;36m  File \u001b[0;32m\"<ipython-input-1-f8fbebaaa748>\"\u001b[0;36m, line \u001b[0;32m42\u001b[0m\n\u001b[0;31m    sim =ode_s.make_sim(tSteps, bForceStateDimensions=True, **solver_options, params =)\u001b[0m\n\u001b[0m                                                                                      ^\u001b[0m\n\u001b[0;31mSyntaxError\u001b[0m\u001b[0;31m:\u001b[0m invalid syntax\n"
     ]
    }
   ],
   "source": [
    "%load_ext autoreload\n",
    "%autoreload 2\n",
    "import tensorflow as tf\n",
    "import qutip as q\n",
    "from spylind import spylind as spl\n",
    "from spylind import spyIVP as spi\n",
    "from spylind.tf_misc import InterpolatorMask, InterpolatorMaskArgs\n",
    "\n",
    "from math import *\n",
    "import numpy as np\n",
    "import sympy as sm\n",
    "from matplotlib.pyplot import *\n",
    "\n",
    "\n",
    "#problem definition\n",
    "K1, K2  = q.basis(2,0), q.basis(2,1), \n",
    "tS, DeltaS = sm.symbols('t, Delta', real=True)\n",
    "ES_r, ES_i = sm.symbols(\"E_r, E_i\", real=True)\n",
    "H0 = 5*K2*K2.dag()\n",
    "c_opL = [sqrt(.1)*q.sigmap()]\n",
    "\n",
    "H_desc = [H0, [ES_r, q.sigmax()], [ES_i, q.sigmay()], [DeltaS, K2*K2.dag()] ]\n",
    "eq, ex_vals=spl.makeMESymb(H_desc, c_opL=c_opL, e_opL = [], bReturnMatrixEquation=True)\n",
    "lhsL, rhsL = spl.seperate_DM_equation(eq)\n",
    "\n",
    "ode_s = spi.ODESolver(dict(zip(lhsL, rhsL) ),  dims={DeltaS:np.linspace(-2,2,100)}, driving_syms=[ES_r, ES_i], bDecompose_to_re_im=True, backend='tensorflow')\n",
    "ode_s.set_initial_conditions(np.array([1,0,0]) )\n",
    "\n",
    "tDrv = np.linspace(0,2.1,100)\n",
    "tDrv -= (tDrv[1]-tDrv[0])/2\n",
    "\n",
    "drv_r = np.ones(tDrv.size)\n",
    "drv_i = drv_r*0\n",
    "f_driving_r = InterpolatorMaskArgs(tDrv)\n",
    "f_driving_i = InterpolatorMaskArgs(tDrv)\n",
    "\n",
    "ode_s.set_driving({ES_r:f_driving_r, ES_i:f_driving_i})\n",
    "#drivingD = {ES_r : [Interpolator2(tDrv), {\"yOrig\"=drv_r}], ES_i: [Interpolator2(tDrv), {'yOrig':drv_i}] }\n",
    "#ode_s.set_driving(drivingD)\n",
    "tSteps = np.linspace(0,1.99,50)\n",
    "solver_options = {}\n",
    "sim =ode_s.make_sim(tSteps, bForceStateDimensions=True, **solver_options, params =)\n",
    "%time arr = sim.integrate(tSteps, driving_argsD={str(ES_r): [drv_r], str(ES_i): [drv_i]} ) \n"
   ]
  },
  {
   "cell_type": "code",
   "execution_count": null,
   "metadata": {},
   "outputs": [],
   "source": []
  }
 ],
 "metadata": {
  "kernelspec": {
   "display_name": "Python 3",
   "language": "python",
   "name": "python3"
  },
  "language_info": {
   "codemirror_mode": {
    "name": "ipython",
    "version": 3
   },
   "file_extension": ".py",
   "mimetype": "text/x-python",
   "name": "python",
   "nbconvert_exporter": "python",
   "pygments_lexer": "ipython3",
   "version": "3.8.5"
  },
  "toc": {
   "base_numbering": 1,
   "nav_menu": {},
   "number_sections": true,
   "sideBar": true,
   "skip_h1_title": false,
   "title_cell": "Table of Contents",
   "title_sidebar": "Contents",
   "toc_cell": false,
   "toc_position": {},
   "toc_section_display": true,
   "toc_window_display": true
  }
 },
 "nbformat": 4,
 "nbformat_minor": 4
}
