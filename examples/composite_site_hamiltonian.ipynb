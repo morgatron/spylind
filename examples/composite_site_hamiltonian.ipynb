{
 "cells": [
  {
   "cell_type": "markdown",
   "id": "f7a01174-53c3-446b-a5f0-966a45a5c11b",
   "metadata": {},
   "source": [
    "# A complicated 'site'"
   ]
  },
  {
   "cell_type": "markdown",
   "id": "be435aaf-e78e-4766-9c38-6afa6efc72b5",
   "metadata": {},
   "source": [
    "One way light propagation with each site consisting of a pair of interacting atoms. For simplicity, each atom is just two-level. \n",
    "\n",
    "The ions at each site are identical except ion A has a with slightly lower energy optical transition than ion B. There is a diagonal interaction between the ions, i.e. the energy of the system increases when both atoms are excited at the same time. In this case, to get both atoms excited, we must first excite one, then the other, taking into account the energy due to the interaction.\n",
    "\n",
    "The base Hamiltonian is described pretty much the same way as in qutip, except it's also helpful to use different labelling for density matrix elements to keep track of what they correspond to.\n",
    "\n",
    "As a physics example, we'll aim to show that driving one atom can change the absorption frequency of the other."
   ]
  },
  {
   "cell_type": "markdown",
   "id": "0c76ffb7-0316-4e4a-a1a2-0ac16e7b2645",
   "metadata": {},
   "source": []
  },
  {
   "cell_type": "code",
   "execution_count": null,
   "id": "f07339b7-8489-4943-8524-2f5e68b47dbf",
   "metadata": {},
   "outputs": [],
   "source": []
  }
 ],
 "metadata": {
  "kernelspec": {
   "display_name": "Python 3 (ipykernel)",
   "language": "python",
   "name": "python3"
  },
  "language_info": {
   "codemirror_mode": {
    "name": "ipython",
    "version": 3
   },
   "file_extension": ".py",
   "mimetype": "text/x-python",
   "name": "python",
   "nbconvert_exporter": "python",
   "pygments_lexer": "ipython3",
   "version": "3.8.10"
  }
 },
 "nbformat": 4,
 "nbformat_minor": 5
}
