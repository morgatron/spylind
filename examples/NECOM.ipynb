{
 "cells": [
  {
   "cell_type": "code",
   "execution_count": 3,
   "id": "5da272eb-d738-48c9-8dff-69eda84f272e",
   "metadata": {},
   "outputs": [
    {
     "name": "stdout",
     "output_type": "stream",
     "text": [
      "The autoreload extension is already loaded. To reload it, use:\n",
      "  %reload_ext autoreload\n",
      "Tensorflow not accessible: No module named 'backend_tf'\n",
      "No pretty printing stuff (probably because no Pandas)\n"
     ]
    },
    {
     "data": {
      "text/latex": [
       "$\\displaystyle \\left[\\begin{matrix}0 & 1.0\\\\1.0 & 0\\end{matrix}\\right]$"
      ],
      "text/plain": [
       "⎡ 0   1.0⎤\n",
       "⎢        ⎥\n",
       "⎣1.0   0 ⎦"
      ]
     },
     "execution_count": 3,
     "metadata": {},
     "output_type": "execute_result"
    }
   ],
   "source": [
    "%matplotlib inline\n",
    "%load_ext autoreload\n",
    "%autoreload 2\n",
    "import numpy as np\n",
    "#import more_itertools as mit\n",
    "from pylab import *\n",
    "from builtins import sum\n",
    "from spylind import spyIVP as svp\n",
    "from spylind import spylind as spl \n",
    "from spylind import utils as ut\n",
    "import sympy as sm\n",
    "import qutip as q\n",
    "from functools import reduce\n",
    "\n",
    "def S(inp):\n",
    "    \"\"\"Make an object sympy friendly\n",
    "    \"\"\"\n",
    "    try:\n",
    "        obj = inp.full()\n",
    "    except:\n",
    "        obj = inp\n",
    "    return sm.sympify(obj)\n",
    "\n",
    "def dot(arr1, arr2):\n",
    "    return reduce(lambda x,y: x+y, map(lambda val: val[0]*val[1], zip(arr1, arr2)))\n",
    "sm.init_printing() # this is needed to display equations nicely\n",
    "\n",
    "S(q.sigmax())"
   ]
  },
  {
   "cell_type": "code",
   "execution_count": 4,
   "id": "fd8586d6-7a76-4f19-9311-3af9b3fe3b71",
   "metadata": {},
   "outputs": [
    {
     "data": {
      "text/latex": [
       "$\\displaystyle \\left[\\begin{matrix}R_{0|0} & R_{0|1}\\\\\\overline{R_{0|1}} & R_{1|1}\\end{matrix}\\right]$"
      ],
      "text/plain": [
       "⎡R_{0|0}  R_{0|1}⎤\n",
       "⎢                ⎥\n",
       "⎢_______         ⎥\n",
       "⎣R_{0|1}  R_{1|1}⎦"
      ]
     },
     "execution_count": 4,
     "metadata": {},
     "output_type": "execute_result"
    }
   ],
   "source": [
    "spl.getRhoS(2, base_symbol = \"R\")"
   ]
  },
  {
   "cell_type": "code",
   "execution_count": 12,
   "id": "7ed7e716-349c-49b7-bf06-82269cbf9d30",
   "metadata": {},
   "outputs": [
    {
     "ename": "NameError",
     "evalue": "name 'M' is not defined",
     "output_type": "error",
     "traceback": [
      "\u001b[0;31m---------------------------------------------------------------------------\u001b[0m",
      "\u001b[0;31mNameError\u001b[0m                                 Traceback (most recent call last)",
      "Cell \u001b[0;32mIn [12], line 2\u001b[0m\n\u001b[1;32m      1\u001b[0m BvS \u001b[38;5;241m=\u001b[39m [BxS, ByS, BzS]\n\u001b[0;32m----> 2\u001b[0m sigmavS \u001b[38;5;241m=\u001b[39m [M(op) \u001b[38;5;28;01mfor\u001b[39;00m op \u001b[38;5;129;01min\u001b[39;00m [q\u001b[38;5;241m.\u001b[39msigmax(), q\u001b[38;5;241m.\u001b[39msigmay(), q\u001b[38;5;241m.\u001b[39msigmaz()]]\n\u001b[1;32m      3\u001b[0m dot(BvS, sigmavS)\n",
      "Cell \u001b[0;32mIn [12], line 2\u001b[0m, in \u001b[0;36m<listcomp>\u001b[0;34m(.0)\u001b[0m\n\u001b[1;32m      1\u001b[0m BvS \u001b[38;5;241m=\u001b[39m [BxS, ByS, BzS]\n\u001b[0;32m----> 2\u001b[0m sigmavS \u001b[38;5;241m=\u001b[39m [\u001b[43mM\u001b[49m(op) \u001b[38;5;28;01mfor\u001b[39;00m op \u001b[38;5;129;01min\u001b[39;00m [q\u001b[38;5;241m.\u001b[39msigmax(), q\u001b[38;5;241m.\u001b[39msigmay(), q\u001b[38;5;241m.\u001b[39msigmaz()]]\n\u001b[1;32m      3\u001b[0m dot(BvS, sigmavS)\n",
      "\u001b[0;31mNameError\u001b[0m: name 'M' is not defined"
     ]
    }
   ],
   "source": [
    "\n",
    "BvS = [BxS, ByS, BzS]\n",
    "sigmavS = [M(op) for op in [q.sigmax(), q.sigmay(), q.sigmaz()]]\n",
    "dot(BvS, sigmavS)"
   ]
  },
  {
   "cell_type": "code",
   "execution_count": 6,
   "id": "443ac9b0-e993-4ad8-882c-b517db077a8c",
   "metadata": {},
   "outputs": [
    {
     "ename": "NameError",
     "evalue": "name 'BxS' is not defined",
     "output_type": "error",
     "traceback": [
      "\u001b[0;31m---------------------------------------------------------------------------\u001b[0m",
      "\u001b[0;31mNameError\u001b[0m                                 Traceback (most recent call last)",
      "Cell \u001b[0;32mIn [6], line 1\u001b[0m\n\u001b[0;32m----> 1\u001b[0m B_vS \u001b[38;5;241m=\u001b[39m sm\u001b[38;5;241m.\u001b[39mMatrix([\u001b[43mBxS\u001b[49m, ByS, BzS])\n\u001b[1;32m      2\u001b[0m B_vS\u001b[38;5;241m.\u001b[39mdot(Sig_vS)\n",
      "\u001b[0;31mNameError\u001b[0m: name 'BxS' is not defined"
     ]
    }
   ],
   "source": [
    "B_vS = sm.Matrix([BxS, ByS, BzS])\n",
    "B_vS.dot(Sig_vS)"
   ]
  },
  {
   "cell_type": "code",
   "execution_count": 15,
   "id": "ba432324-3511-4eba-952d-d5ae28f440fc",
   "metadata": {},
   "outputs": [
    {
     "data": {
      "text/plain": [
       "'Bloch equations:'"
      ]
     },
     "metadata": {},
     "output_type": "display_data"
    },
    {
     "data": {
      "image/png": "[encoded data removed]",
      "text/latex": [
       "$\\displaystyle \\left[ 1.0 \\rho_{0|1} + 1.0 \\overline{\\rho_{0|1}}, \\  1.0 i \\left(\\rho_{0|1} - \\overline{\\rho_{0|1}}\\right), \\  1.0 \\rho_{0|0} - 1.0 \\rho_{1|1}\\right]$"
      ],
      "text/plain": [
       "⎡                     __________        ⎛             __________⎞             \n",
       "⎣1.0⋅\\rho_{0|1} + 1.0⋅\\rho_{0|1}, 1.0⋅ⅈ⋅⎝\\rho_{0|1} - \\rho_{0|1}⎠, 1.0⋅\\rho_{0\n",
       "\n",
       "                ⎤\n",
       "|0} - \\rho_{1|1}⎦"
      ]
     },
     "metadata": {},
     "output_type": "display_data"
    }
   ],
   "source": [
    "# Symbols used. It's a good idea to define real=True if the symbols are in fact real\n",
    "BxS, ByS, BzS = sm.symbols(\"B_x, B_y, B_z\", real=True) # Real and imaginary parts of the driving field\n",
    "BvS = [BxS, ByS, BzS]\n",
    "tS, T1nS, gnS = sm.symbols('t, T_1n, g_n', real=True) # The symbol used for time\n",
    "rho_n_S = spl.getRhoS(2, \"\\\\rho\")\n",
    "\n",
    "K1 = q.basis(2,0)\n",
    "K2 = q.basis(2,1)\n",
    "\n",
    "\n",
    "sigmav = [q.sigmax(), q.sigmay(), q.sigmaz()]\n",
    "# Hamiltonian description. Qutip operators with sympy coeficients.\n",
    "H0 = K2*K2.dag() # Excited state is detuned from the ground state\n",
    "c_opL = [ [1/sm.sqrt(T1nS), q.sigmap() ],\n",
    "         [1, (BxS*sm.Matrix(q.sigmax()) + ByS*sm.Matrix(q.sigmay()) + BzS*sm.Matrix(q.sigmaz()) )/sm.sqrt(BxS**2 + ByS**2 + BzS**2)],\n",
    "        ] # 1/T1 * |1><2|, i.e. decay from state |2> -> |1> \n",
    "#\n",
    "H_desc = [H0, [BxS*gnS, q.sigmax()], [ByS*gnS, q.sigmay()], [BzS*gnS, q.sigmaz()] ] #H= H0 +  Er*sigmax + Ei*sigmay\n",
    "evoD_n, exMag_n=spl.makeMESymb(H_desc, c_opL=c_opL, \n",
    "                  e_opL = [q.sigmax(), q.sigmay(), q.sigmaz()], \n",
    "                  rhoS = rho_n_S\n",
    "                 )\n",
    "display(\"Bloch equations:\")\n",
    "#display(pretty_eq)\n",
    "display(exMag_n)\n",
    "#evoD"
   ]
  },
  {
   "cell_type": "code",
   "execution_count": 8,
   "id": "0294164d-f7dd-4264-b352-5d27c625d114",
   "metadata": {},
   "outputs": [
    {
     "ename": "TypeError",
     "evalue": "dot() missing 1 required positional argument: 'arr2'",
     "output_type": "error",
     "traceback": [
      "\u001b[0;31m---------------------------------------------------------------------------\u001b[0m",
      "\u001b[0;31mTypeError\u001b[0m                                 Traceback (most recent call last)",
      "Cell \u001b[0;32mIn [8], line 14\u001b[0m\n\u001b[1;32m      8\u001b[0m Pmp_dn_ops \u001b[38;5;241m=\u001b[39m [Kx_m\u001b[38;5;241m*\u001b[39mKx_p\u001b[38;5;241m.\u001b[39mdag(),\n\u001b[1;32m      9\u001b[0m        Ky_m\u001b[38;5;241m*\u001b[39mKy_p\u001b[38;5;241m.\u001b[39mdag(),\n\u001b[1;32m     10\u001b[0m        Kz_m\u001b[38;5;241m*\u001b[39mKz_p\u001b[38;5;241m.\u001b[39mdag()]\n\u001b[1;32m     12\u001b[0m MxS, MyS, MzS \u001b[38;5;241m=\u001b[39m sm\u001b[38;5;241m.\u001b[39msymbols(\u001b[38;5;124m\"\u001b[39m\u001b[38;5;124mMx, My, Mz\u001b[39m\u001b[38;5;124m\"\u001b[39m)\n\u001b[0;32m---> 14\u001b[0m \u001b[43mdot\u001b[49m\u001b[43m(\u001b[49m\u001b[43mMxS\u001b[49m\u001b[43m)\u001b[49m\n",
      "\u001b[0;31mTypeError\u001b[0m: dot() missing 1 required positional argument: 'arr2'"
     ]
    }
   ],
   "source": [
    "Kx_m, Kx_p = q.sigmax().eigenstates()[1]\n",
    "Ky_m, Ky_p = q.sigmay().eigenstates()[1]\n",
    "Kz_p, Kz_m = q.basis(2,0), q.basis(2,1)\n",
    "\n",
    "Pmp_up_ops = [Kx_p*Kx_m.dag(),\n",
    "       Ky_p*Ky_m.dag(),\n",
    "       Kz_p*Kz_m.dag()]\n",
    "Pmp_dn_ops = [Kx_m*Kx_p.dag(),\n",
    "       Ky_m*Ky_p.dag(),\n",
    "       Kz_m*Kz_p.dag()]\n",
    "\n",
    "MxS, MyS, MzS = sm.symbols(\"Mx, My, Mz\")\n",
    "\n",
    "dot(MxS)"
   ]
  },
  {
   "cell_type": "code",
   "execution_count": 9,
   "id": "94123667-f92a-4b15-be62-451883ab9bfc",
   "metadata": {},
   "outputs": [
    {
     "data": {
      "text/latex": [
       "Quantum object: dims = [[2], [1]], shape = (2, 1), type = ket\\begin{equation*}\\left(\\begin{array}{*{11}c}0.707\\\\0.707\\\\\\end{array}\\right)\\end{equation*}"
      ],
      "text/plain": [
       "Quantum object: dims = [[2], [1]], shape = (2, 1), type = ket\n",
       "Qobj data =\n",
       "[[0.70710678]\n",
       " [0.70710678]]"
      ]
     },
     "metadata": {},
     "output_type": "display_data"
    },
    {
     "data": {
      "text/latex": [
       "Quantum object: dims = [[2], [1]], shape = (2, 1), type = ket\\begin{equation*}\\left(\\begin{array}{*{11}c}-0.707\\\\-0.707j\\\\\\end{array}\\right)\\end{equation*}"
      ],
      "text/plain": [
       "Quantum object: dims = [[2], [1]], shape = (2, 1), type = ket\n",
       "Qobj data =\n",
       "[[-0.70710678+0.j        ]\n",
       " [ 0.        -0.70710678j]]"
      ]
     },
     "execution_count": 9,
     "metadata": {},
     "output_type": "execute_result"
    }
   ],
   "source": [
    "display(Kx_p)\n",
    "Ky_p"
   ]
  },
  {
   "cell_type": "code",
   "execution_count": 104,
   "id": "f7a0f0ac-804f-42d8-83f2-e9f7ea86a1c8",
   "metadata": {},
   "outputs": [
    {
     "data": {
      "text/latex": [
       "Quantum object: dims = [[2], [1]], shape = (2, 1), type = ket\\begin{equation*}\\left(\\begin{array}{*{11}c}0.707\\\\0.707\\\\\\end{array}\\right)\\end{equation*}"
      ],
      "text/plain": [
       "Quantum object: dims = [[2], [1]], shape = (2, 1), type = ket\n",
       "Qobj data =\n",
       "[[0.70710678]\n",
       " [0.70710678]]"
      ]
     },
     "metadata": {},
     "output_type": "display_data"
    },
    {
     "data": {
      "text/latex": [
       "Quantum object: dims = [[2], [1]], shape = (2, 1), type = ket\\begin{equation*}\\left(\\begin{array}{*{11}c}-0.707\\\\-0.707j\\\\\\end{array}\\right)\\end{equation*}"
      ],
      "text/plain": [
       "Quantum object: dims = [[2], [1]], shape = (2, 1), type = ket\n",
       "Qobj data =\n",
       "[[-0.70710678+0.j        ]\n",
       " [ 0.        -0.70710678j]]"
      ]
     },
     "metadata": {},
     "output_type": "display_data"
    }
   ],
   "source": [
    "display((q.sigmay() + 1j*q.sigmaz())/2*Kx_m*1j)\n",
    "display((q.sigmaz() + 1j*q.sigmax())/2*Ky_m)"
   ]
  },
  {
   "cell_type": "code",
   "execution_count": 92,
   "id": "094d96cf-59eb-4211-ad1e-dee77698a89d",
   "metadata": {},
   "outputs": [
    {
     "data": {
      "text/latex": [
       "Quantum object: dims = [[2], [2]], shape = (2, 2), type = oper, isherm = False\\begin{equation*}\\left(\\begin{array}{*{11}c}0.0 & 1.0\\\\0.0 & 0.0\\\\\\end{array}\\right)\\end{equation*}"
      ],
      "text/plain": [
       "Quantum object: dims = [[2], [2]], shape = (2, 2), type = oper, isherm = False\n",
       "Qobj data =\n",
       "[[0. 1.]\n",
       " [0. 0.]]"
      ]
     },
     "execution_count": 92,
     "metadata": {},
     "output_type": "execute_result"
    }
   ],
   "source": [
    "q.sigmap()"
   ]
  },
  {
   "cell_type": "code",
   "execution_count": 93,
   "id": "6deff07d-2538-4495-ac4b-082f807ceb5b",
   "metadata": {},
   "outputs": [
    {
     "data": {
      "text/latex": [
       "Quantum object: dims = [[2], [2]], shape = (2, 2), type = oper, isherm = False\\begin{equation*}\\left(\\begin{array}{*{11}c}0.0 & 1.0\\\\0.0 & 0.0\\\\\\end{array}\\right)\\end{equation*}"
      ],
      "text/plain": [
       "Quantum object: dims = [[2], [2]], shape = (2, 2), type = oper, isherm = False\n",
       "Qobj data =\n",
       "[[0. 1.]\n",
       " [0. 0.]]"
      ]
     },
     "metadata": {},
     "output_type": "display_data"
    },
    {
     "data": {
      "text/latex": [
       "Quantum object: dims = [[2], [2]], shape = (2, 2), type = oper, isherm = False\\begin{equation*}\\left(\\begin{array}{*{11}c}0.0 & 1.0\\\\0.0 & 0.0\\\\\\end{array}\\right)\\end{equation*}"
      ],
      "text/plain": [
       "Quantum object: dims = [[2], [2]], shape = (2, 2), type = oper, isherm = False\n",
       "Qobj data =\n",
       "[[0. 1.]\n",
       " [0. 0.]]"
      ]
     },
     "metadata": {},
     "output_type": "display_data"
    },
    {
     "data": {
      "text/latex": [
       "Quantum object: dims = [[2], [2]], shape = (2, 2), type = oper, isherm = False\\begin{equation*}\\left(\\begin{array}{*{11}c}0.0 & 0.0\\\\1.0 & 0.0\\\\\\end{array}\\right)\\end{equation*}"
      ],
      "text/plain": [
       "Quantum object: dims = [[2], [2]], shape = (2, 2), type = oper, isherm = False\n",
       "Qobj data =\n",
       "[[0. 0.]\n",
       " [1. 0.]]"
      ]
     },
     "metadata": {},
     "output_type": "display_data"
    }
   ],
   "source": [
    "display(K1*K2.dag())\n",
    "display((q.sigmax() + 1j*q.sigmay())/2 )\n",
    "display((q.sigmax() - 1j*q.sigmay())/2 )"
   ]
  },
  {
   "cell_type": "code",
   "execution_count": 73,
   "id": "009495a7-123f-432a-b03d-c0dba785d470",
   "metadata": {},
   "outputs": [
    {
     "data": {
      "text/plain": [
       "sympy.tensor.array.dense_ndim_array.ImmutableDenseNDimArray"
      ]
     },
     "execution_count": 73,
     "metadata": {},
     "output_type": "execute_result"
    }
   ],
   "source": [
    "obj=sm.sympify(K1.full())\n",
    "type(obj)"
   ]
  },
  {
   "cell_type": "code",
   "execution_count": 78,
   "id": "01bf7c35-91b3-4bdf-87e5-11c54431ab03",
   "metadata": {},
   "outputs": [
    {
     "data": {
      "text/plain": [
       "(Quantum object: dims = [[2], [2]], shape = (2, 2), type = oper, isherm = True\n",
       " Qobj data =\n",
       " [[0. 1.]\n",
       "  [1. 0.]],\n",
       " Quantum object: dims = [[2], [2]], shape = (2, 2), type = oper, isherm = True\n",
       " Qobj data =\n",
       " [[0.+0.j 0.-1.j]\n",
       "  [0.+1.j 0.+0.j]])"
      ]
     },
     "execution_count": 78,
     "metadata": {},
     "output_type": "execute_result"
    }
   ],
   "source": [
    "q.sigmax(), q.sigmay()"
   ]
  },
  {
   "cell_type": "code",
   "execution_count": 79,
   "id": "181e7d0b-9983-4bf2-a34b-3d3c220d4e8b",
   "metadata": {},
   "outputs": [
    {
     "data": {
      "text/latex": [
       "Quantum object: dims = [[2], [2]], shape = (2, 2), type = oper, isherm = False\\begin{equation*}\\left(\\begin{array}{*{11}c}0.0 & 1.0\\\\0.0 & 0.0\\\\\\end{array}\\right)\\end{equation*}"
      ],
      "text/plain": [
       "Quantum object: dims = [[2], [2]], shape = (2, 2), type = oper, isherm = False\n",
       "Qobj data =\n",
       "[[0. 1.]\n",
       " [0. 0.]]"
      ]
     },
     "execution_count": 79,
     "metadata": {},
     "output_type": "execute_result"
    }
   ],
   "source": [
    "q.sigmap()"
   ]
  },
  {
   "cell_type": "markdown",
   "id": "6543c47a-243a-4467-9fca-9376ac2fbea3",
   "metadata": {},
   "source": [
    "# Alkali\n",
    "\n",
    "## Interaction:\n",
    "* Magnetic: Magnetization makes a field seen by the other species\n",
    "* Spin-exchange: Chance of swapping spins between species. But due to different numbers of species, it looks more like a pumping along the polarisation axis. E.g. $<\\mathbf{\\sigma}> . <\\mathbf{S}>$\n",
    "\n",
    "$\\sigma^+_x"
   ]
  },
  {
   "cell_type": "code",
   "execution_count": 13,
   "id": "6ce781bb-903f-4e36-a56b-8c4c22eaa30a",
   "metadata": {},
   "outputs": [
    {
     "data": {
      "text/plain": [
       "'Bloch equations:'"
      ]
     },
     "metadata": {},
     "output_type": "display_data"
    },
    {
     "data": {
      "image/png": "[encoded data removed]",
      "text/latex": [
       "$\\displaystyle \\left[ 1.0 R_{0|1} + 1.0 \\overline{R_{0|1}}, \\  1.0 i \\left(R_{0|1} - \\overline{R_{0|1}}\\right), \\  1.0 R_{0|0} - 1.0 R_{1|1}\\right]$"
      ],
      "text/plain": [
       "⎡                  _______        ⎛          _______⎞                       ⎤\n",
       "⎣1.0⋅R_{0|1} + 1.0⋅R_{0|1}, 1.0⋅ⅈ⋅⎝R_{0|1} - R_{0|1}⎠, 1.0⋅R_{0|0} - R_{1|1}⎦"
      ]
     },
     "metadata": {},
     "output_type": "display_data"
    }
   ],
   "source": [
    "# Symbols used. It's a good idea to define real=True if the symbols are in fact real\n",
    "M = sm.Matrix\n",
    "tS, T1eS, T2eS, geS = sm.symbols('t, T_1e, T_2e, g_e', real=True) # The symbol used for time\n",
    "rho_e_S = spl.getRhoS(2, \"R\")\n",
    "\n",
    "K1 = q.basis(2,0)\n",
    "K2 = q.basis(2,1)\n",
    "\n",
    "# Hamiltonian description. Qutip operators with sympy coeficients.\n",
    "H0 = K2*K2.dag() # Excited state is detuned from the ground state\n",
    "c_opL = [ [1/sm.sqrt(T1nS), q.sigmap() ],\n",
    "         [1/sm.sqrt(T2eS), (BxS*M(q.sigmax()) + ByS*M(q.sigmay()) + BzS*M(q.sigmaz()) )/sm.sqrt(BxS**2 + ByS**2 + BzS**2)],\n",
    "        ] # 1/T1 * |1><2|, i.e. decay from state |2> -> |1> \n",
    "#\n",
    "H_desc = [H0, [BxS*geS, q.sigmax()], [ByS*geS, q.sigmay()], [BzS*geS, q.sigmaz()] ] #H= H0 +  Er*sigmax + Ei*sigmay\n",
    "evoD_e, exMag_e, pretty_eq=spl.makeMESymb(H_desc, c_opL=c_opL, e_opL = [q.sigmax(), q.sigmay(), q.sigmaz()], rhoS = spl.getRhoS(2, \"R\"), bReturnPrettyEquation=True)\n",
    "display(\"Bloch equations:\")\n",
    "#display(pretty_eq)\n",
    "#evoD_e\n",
    "display(exMag_e)"
   ]
  },
  {
   "cell_type": "code",
   "execution_count": 14,
   "id": "69165404-54ea-4dd6-9f33-26cfe1e7aec4",
   "metadata": {
    "tags": []
   },
   "outputs": [
    {
     "data": {
      "text/plain": [
       "'Bloch equations:'"
      ]
     },
     "metadata": {},
     "output_type": "display_data"
    },
    {
     "data": {
      "text/latex": [
       "$\\displaystyle \\frac{d}{dt}\\left[\\begin{matrix}\\rho_{0|0} & \\rho_{0|1}\\\\\\overline{\\rho_{0|1}} & \\rho_{1|1}\\end{matrix}\\right] = \\left[\\begin{matrix}\\frac{1.0 \\left(\\sqrt{T_{1}} \\left(- \\rho_{0|0} \\left(B_{x} - i B_{y}\\right) \\left(B_{x} + i B_{y}\\right) \\overline{\\frac{1}{\\sqrt{B_{x}^{2} + B_{y}^{2} + B_{z}^{2}}}} + \\rho_{0|1} \\left(B_{z} \\left(B_{x} - i B_{y}\\right) \\overline{\\frac{1}{\\sqrt{B_{x}^{2} + B_{y}^{2} + B_{z}^{2}}}} + \\left(i B_{x} + B_{y}\\right) \\sqrt{B_{x}^{2} + B_{y}^{2} + B_{z}^{2}}\\right) + \\left(B_{z} \\left(B_{x} + i B_{y}\\right) \\overline{\\frac{1}{\\sqrt{B_{x}^{2} + B_{y}^{2} + B_{z}^{2}}}} + \\left(- i B_{x} + B_{y}\\right) \\sqrt{B_{x}^{2} + B_{y}^{2} + B_{z}^{2}}\\right) \\overline{\\rho_{0|1}}\\right) + \\rho_{1|1} \\left(\\sqrt{T_{1}} \\left(B_{x} - i B_{y}\\right) \\left(B_{x} + i B_{y}\\right) \\overline{\\frac{1}{\\sqrt{B_{x}^{2} + B_{y}^{2} + B_{z}^{2}}}} + \\sqrt{B_{x}^{2} + B_{y}^{2} + B_{z}^{2}}\\right)\\right)}{\\sqrt{T_{1}} \\sqrt{B_{x}^{2} + B_{y}^{2} + B_{z}^{2}}} & \\frac{1.0 \\sqrt{T_{1}} \\left(\\rho_{0|0} \\left(B_{z} \\left(B_{x} + i B_{y}\\right) \\overline{\\frac{1}{\\sqrt{B_{x}^{2} + B_{y}^{2} + B_{z}^{2}}}} + \\left(i B_{x} - B_{y}\\right) \\sqrt{B_{x}^{2} + B_{y}^{2} + B_{z}^{2}}\\right) - \\rho_{1|1} \\left(B_{z} \\left(B_{x} + i B_{y}\\right) \\overline{\\frac{1}{\\sqrt{B_{x}^{2} + B_{y}^{2} + B_{z}^{2}}}} + \\left(i B_{x} - B_{y}\\right) \\sqrt{B_{x}^{2} + B_{y}^{2} + B_{z}^{2}}\\right) + \\left(B_{x} + i B_{y}\\right)^{2} \\overline{\\rho_{0|1}} \\overline{\\frac{1}{\\sqrt{B_{x}^{2} + B_{y}^{2} + B_{z}^{2}}}}\\right) - \\rho_{0|1} \\left(i \\sqrt{T_{1}} \\cdot \\left(2.0 B_{z} - 1.0\\right) \\sqrt{B_{x}^{2} + B_{y}^{2} + B_{z}^{2}} + \\sqrt{T_{1}} \\cdot \\left(2.0 B_{z}^{2} + 1.0 \\left(B_{x} - i B_{y}\\right) \\left(B_{x} + i B_{y}\\right)\\right) \\overline{\\frac{1}{\\sqrt{B_{x}^{2} + B_{y}^{2} + B_{z}^{2}}}} + 0.5 \\sqrt{B_{x}^{2} + B_{y}^{2} + B_{z}^{2}}\\right)}{\\sqrt{T_{1}} \\sqrt{B_{x}^{2} + B_{y}^{2} + B_{z}^{2}}}\\\\\\frac{1.0 \\sqrt{T_{1}} \\left(- \\rho_{0|0} \\left(- B_{z} \\left(B_{x} - i B_{y}\\right) \\overline{\\frac{1}{\\sqrt{B_{x}^{2} + B_{y}^{2} + B_{z}^{2}}}} + \\left(i B_{x} + B_{y}\\right) \\sqrt{B_{x}^{2} + B_{y}^{2} + B_{z}^{2}}\\right) + \\rho_{0|1} \\left(B_{x} - i B_{y}\\right)^{2} \\overline{\\frac{1}{\\sqrt{B_{x}^{2} + B_{y}^{2} + B_{z}^{2}}}} + \\rho_{1|1} \\left(- B_{z} \\left(B_{x} - i B_{y}\\right) \\overline{\\frac{1}{\\sqrt{B_{x}^{2} + B_{y}^{2} + B_{z}^{2}}}} + \\left(i B_{x} + B_{y}\\right) \\sqrt{B_{x}^{2} + B_{y}^{2} + B_{z}^{2}}\\right)\\right) - \\left(i \\sqrt{T_{1}} \\cdot \\left(1.0 - 2.0 B_{z}\\right) \\sqrt{B_{x}^{2} + B_{y}^{2} + B_{z}^{2}} + \\sqrt{T_{1}} \\cdot \\left(2.0 B_{z}^{2} + 1.0 \\left(B_{x} - i B_{y}\\right) \\left(B_{x} + i B_{y}\\right)\\right) \\overline{\\frac{1}{\\sqrt{B_{x}^{2} + B_{y}^{2} + B_{z}^{2}}}} + 0.5 \\sqrt{B_{x}^{2} + B_{y}^{2} + B_{z}^{2}}\\right) \\overline{\\rho_{0|1}}}{\\sqrt{T_{1}} \\sqrt{B_{x}^{2} + B_{y}^{2} + B_{z}^{2}}} & \\frac{1.0 \\left(\\sqrt{T_{1}} \\left(\\rho_{0|0} \\left(B_{x} - i B_{y}\\right) \\left(B_{x} + i B_{y}\\right) \\overline{\\frac{1}{\\sqrt{B_{x}^{2} + B_{y}^{2} + B_{z}^{2}}}} - \\rho_{0|1} \\left(B_{z} \\left(B_{x} - i B_{y}\\right) \\overline{\\frac{1}{\\sqrt{B_{x}^{2} + B_{y}^{2} + B_{z}^{2}}}} + \\left(i B_{x} + B_{y}\\right) \\sqrt{B_{x}^{2} + B_{y}^{2} + B_{z}^{2}}\\right) - \\left(B_{z} \\left(B_{x} + i B_{y}\\right) \\overline{\\frac{1}{\\sqrt{B_{x}^{2} + B_{y}^{2} + B_{z}^{2}}}} + \\left(- i B_{x} + B_{y}\\right) \\sqrt{B_{x}^{2} + B_{y}^{2} + B_{z}^{2}}\\right) \\overline{\\rho_{0|1}}\\right) - \\rho_{1|1} \\left(\\sqrt{T_{1}} \\left(B_{x} - i B_{y}\\right) \\left(B_{x} + i B_{y}\\right) \\overline{\\frac{1}{\\sqrt{B_{x}^{2} + B_{y}^{2} + B_{z}^{2}}}} + \\sqrt{B_{x}^{2} + B_{y}^{2} + B_{z}^{2}}\\right)\\right)}{\\sqrt{T_{1}} \\sqrt{B_{x}^{2} + B_{y}^{2} + B_{z}^{2}}}\\end{matrix}\\right]$"
      ],
      "text/plain": [
       "<IPython.core.display.Latex object>"
      ]
     },
     "metadata": {},
     "output_type": "display_data"
    }
   ],
   "source": [
    "T = q.tensor\n",
    "# Symbols used. It's a good idea to define real=True if the symbols are in fact real\n",
    "tS, T1S = sm.symbols('t, T_1', real=True) # The symbol used for time\n",
    "BxS, ByS, BzS = sm.symbols(\"B_x, B_y, B_z\", real=True) # Real and imaginary parts of the driving field\n",
    "ID_A,ID_B = q.identity(2), q.identity(2)\n",
    "K1_A = T(q.basis(2,0),ID_B)\n",
    "K2_A = T(q.basis(2,1),ID_B)\n",
    "\n",
    "K1_B = T(ID_A, q.basis(2,0))\n",
    "K2_B = T(ID_A, q.basis(2,1))\n",
    "\n",
    "H_Bx = T(q.sigmax(), ID_B)  + T(ID_A, q.sigmax())\n",
    "\n",
    "# Hamiltonian description. Qutip operators with sympy coeficients.\n",
    "H0 = K2*K2.dag() # Excited state is detuned from the ground state\n",
    "c_opL = [ [1/sm.sqrt(T1S), q.sigmap() ],\n",
    "         [1, (BxS*sm.Matrix(q.sigmax()) + ByS*sm.Matrix(q.sigmay()) + BzS*sm.Matrix(q.sigmaz()) )/sm.sqrt(BxS**2 + ByS**2 + BzS**2)],\n",
    "        ] # 1/T1 * |1><2|, i.e. decay from state |2> -> |1> \n",
    "#\n",
    "H_desc = [H0, [BxS, q.sigmax()], [ByS, q.sigmay()], [BzS, q.sigmaz()] ] #H= H0 +  Er*sigmax + Ei*sigmay\n",
    "evoD, ex_vals, pretty_eq=spl.makeMESymb(H_desc, c_opL=c_opL, e_opL = [], bReturnPrettyEquation=True)\n",
    "display(\"Bloch equations:\")\n",
    "display(pretty_eq)"
   ]
  },
  {
   "cell_type": "code",
   "execution_count": 15,
   "id": "b97a5871-4d2f-49b7-9a81-f647d0f8bfc5",
   "metadata": {},
   "outputs": [
    {
     "data": {
      "text/latex": [
       "$\\displaystyle \\left[\\begin{matrix}R_{0|0} & R_{0|1}\\\\\\overline{R_{0|1}} & R_{1|1}\\end{matrix}\\right]$"
      ],
      "text/plain": [
       "⎡R_{0|0}  R_{0|1}⎤\n",
       "⎢                ⎥\n",
       "⎢_______         ⎥\n",
       "⎣R_{0|1}  R_{1|1}⎦"
      ]
     },
     "execution_count": 15,
     "metadata": {},
     "output_type": "execute_result"
    }
   ],
   "source": [
    "spl.getRhoS(2, \"R\")"
   ]
  },
  {
   "cell_type": "code",
   "execution_count": 16,
   "id": "f507bcb7-e389-4783-85f4-3feed3378ed0",
   "metadata": {},
   "outputs": [
    {
     "name": "stdout",
     "output_type": "stream",
     "text": [
      "Object `sys.set_initial_state` not found.\n"
     ]
    }
   ],
   "source": [
    "sys.set_initial_state?"
   ]
  },
  {
   "cell_type": "code",
   "execution_count": 17,
   "id": "9a0a6087-a567-4beb-880c-b8212da91a88",
   "metadata": {},
   "outputs": [
    {
     "data": {
      "text/plain": [
       "<matplotlib.legend.Legend at 0x7f152f659e10>"
      ]
     },
     "execution_count": 17,
     "metadata": {},
     "output_type": "execute_result"
    },
    {
     "data": {
      "image/png": "[encoded data removed]",
      "text/plain": [
       "<Figure size 640x480 with 1 Axes>"
      ]
     },
     "metadata": {},
     "output_type": "display_data"
    }
   ],
   "source": [
    "\n",
    "sys = svp.ODESys(evoD, trans_dims ={}, driving_syms=[BxS, ByS, BzS], tSym=tS)\n",
    "sys.set_driving({BxS: lambda t: 0.0 if t<4 else 1, \n",
    "                 ByS: lambda t: .1 if t<10 and t>6 else 0.0001,\n",
    "                 BzS: lambda t: 1 }\n",
    "               ) #\n",
    "sys.set_initial_state(np.array([1,0,0]) )\n",
    "model = sys.setup_model({T1S: 10}) # can substitute in any undefined parameters here\n",
    "\n",
    "# And finally run it\n",
    "tSteps = linspace(0,10,1000)\n",
    "out = model.integrate(tSteps)\n",
    "\n",
    "#Plot results (with nice legend)\n",
    "figure()\n",
    "for arr, sym in zip(out.swapaxes(0,1), sys.symsD.state):\n",
    "    if sym.is_real:\n",
    "        plot(tSteps,  arr.real, label =f\"${sym}$\" )\n",
    "    else:\n",
    "        plot(tSteps,  arr.real, label =f\"$\\Re({sym})$\" )\n",
    "        plot(tSteps,  arr.imag, label =f\"$\\Im({sym})$\" )\n",
    "legend()"
   ]
  },
  {
   "cell_type": "code",
   "execution_count": null,
   "id": "7be7cef5-19a0-4449-bbe2-fbc9bc936069",
   "metadata": {},
   "outputs": [],
   "source": []
  }
 ],
 "metadata": {
  "kernelspec": {
   "display_name": "Python 3 (ipykernel)",
   "language": "python",
   "name": "python3"
  },
  "language_info": {
   "codemirror_mode": {
    "name": "ipython",
    "version": 3
   },
   "file_extension": ".py",
   "mimetype": "text/x-python",
   "name": "python",
   "nbconvert_exporter": "python",
   "pygments_lexer": "ipython3",
   "version": "3.10.6"
  }
 },
 "nbformat": 4,
 "nbformat_minor": 5
}
