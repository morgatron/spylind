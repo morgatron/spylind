{
 "cells": [
  {
   "cell_type": "markdown",
   "id": "86386959-e571-4847-9fec-5b90ae2e6aa1",
   "metadata": {},
   "source": [
    "# Solving the MBE proble"
   ]
  }
 ],
 "metadata": {
  "kernelspec": {
   "display_name": "Python 3",
   "language": "python",
   "name": "python3"
  },
  "language_info": {
   "codemirror_mode": {
    "name": "ipython",
    "version": 3
   },
   "file_extension": ".py",
   "mimetype": "text/x-python",
   "name": "python",
   "nbconvert_exporter": "python",
   "pygments_lexer": "ipython3",
   "version": "3.8.8"
  }
 },
 "nbformat": 4,
 "nbformat_minor": 5
}
